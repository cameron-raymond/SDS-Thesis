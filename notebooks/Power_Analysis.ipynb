{
 "cells": [
  {
   "cell_type": "markdown",
   "id": "front-console",
   "metadata": {},
   "source": [
    "# Power Analysis\n",
    "\n",
    "Using a 2factor ANOVA, what sample size do we need to achive $\\beta=0.8$?\n",
    "\n",
    "> power is simply the proportion of times that we are able to reject the null hypothesis (remembering that we control the population means and we know that there is a true difference)"
   ]
  },
  {
   "cell_type": "code",
   "execution_count": 3,
   "id": "excess-adaptation",
   "metadata": {},
   "outputs": [],
   "source": [
    "import pandas as pd\n",
    "import numpy as np\n",
    "import seaborn as sns\n",
    "\n",
    "sns.set_style(\"whitegrid\",{'axes.spines.left' : False,\n",
    "                           'axes.spines.right': False,\n",
    "                           'axes.spines.top': False,\n",
    "                           'grid.linestyle': ':'})\n",
    "sns.set_context(\"talk\")\n",
    "fp = \"../data/artifacts/power_simulation-alpha=0.05.csv\""
   ]
  },
  {
   "cell_type": "code",
   "execution_count": 14,
   "id": "orange-return",
   "metadata": {},
   "outputs": [
    {
     "data": {
      "text/html": [
       "<div>\n",
       "<style scoped>\n",
       "    .dataframe tbody tr th:only-of-type {\n",
       "        vertical-align: middle;\n",
       "    }\n",
       "\n",
       "    .dataframe tbody tr th {\n",
       "        vertical-align: top;\n",
       "    }\n",
       "\n",
       "    .dataframe thead th {\n",
       "        text-align: right;\n",
       "    }\n",
       "</style>\n",
       "<table border=\"1\" class=\"dataframe\">\n",
       "  <thead>\n",
       "    <tr style=\"text-align: right;\">\n",
       "      <th></th>\n",
       "      <th>sample_size</th>\n",
       "      <th>power</th>\n",
       "      <th>avg_eta_sqr</th>\n",
       "    </tr>\n",
       "  </thead>\n",
       "  <tbody>\n",
       "    <tr>\n",
       "      <th>0</th>\n",
       "      <td>15</td>\n",
       "      <td>0.100000</td>\n",
       "      <td>0.146470</td>\n",
       "    </tr>\n",
       "    <tr>\n",
       "      <th>1</th>\n",
       "      <td>15</td>\n",
       "      <td>0.166667</td>\n",
       "      <td>0.428379</td>\n",
       "    </tr>\n",
       "    <tr>\n",
       "      <th>2</th>\n",
       "      <td>15</td>\n",
       "      <td>0.033333</td>\n",
       "      <td>0.514556</td>\n",
       "    </tr>\n",
       "    <tr>\n",
       "      <th>3</th>\n",
       "      <td>15</td>\n",
       "      <td>0.033333</td>\n",
       "      <td>0.714745</td>\n",
       "    </tr>\n",
       "    <tr>\n",
       "      <th>4</th>\n",
       "      <td>15</td>\n",
       "      <td>0.100000</td>\n",
       "      <td>0.863468</td>\n",
       "    </tr>\n",
       "  </tbody>\n",
       "</table>\n",
       "</div>"
      ],
      "text/plain": [
       "   sample_size     power  avg_eta_sqr\n",
       "0           15  0.100000     0.146470\n",
       "1           15  0.166667     0.428379\n",
       "2           15  0.033333     0.514556\n",
       "3           15  0.033333     0.714745\n",
       "4           15  0.100000     0.863468"
      ]
     },
     "execution_count": 14,
     "metadata": {},
     "output_type": "execute_result"
    }
   ],
   "source": [
    "power_sim = pd.read_csv(fp)\n",
    "power_sim.head()"
   ]
  },
  {
   "cell_type": "code",
   "execution_count": null,
   "id": "sweet-sculpture",
   "metadata": {},
   "outputs": [],
   "source": [
    "g = sns.lineplot(data=power_sim,\n",
    "                 x=\"sample_size\",\n",
    "                 y=\"power\")\n",
    "thresh = power_sim.groupby(\"sample_size\")[\"power\"].mean()\n",
    "sample_size = thresh[thresh >= 0.8].head(1).index[0]\n",
    "g.set(xlabel=\"Sample Size\",\n",
    "      ylabel=\"Power\")\n",
    "# g.axhline(y=0.8,ls=':',c='red',linewidth=0.5)\n",
    "g.axvline(x=sample_size,c='red',linewidth=0.5)\n",
    "g.text(sample_size-10,\n",
    "       0.83,\n",
    "       f\"Min Sample: {sample_size}\",\n",
    "       color='red',\n",
    "       fontsize=\"small\",\n",
    "       horizontalalignment=\"right\")\n",
    "g.figure.savefig(\"../figures/artifacts/power_simulation-alpha=0.05-2.pdf\")"
   ]
  },
  {
   "cell_type": "markdown",
   "id": "viral-office",
   "metadata": {},
   "source": [
    "## Simulation"
   ]
  },
  {
   "cell_type": "code",
   "execution_count": null,
   "id": "similar-update",
   "metadata": {},
   "outputs": [],
   "source": [
    "participants = pd.read_csv(\"../data/processed/mock_data/participant-schema.csv\",index_col=0)\n",
    "posts = pd.read_csv(\"../data/processed/mock_data/posts-schema.csv\",index_col=0)\n",
    "group_cols = [\"PROLIFIC_ID\",\"SESSION_ID\",\"treatment\",\"warning\",\"evidence\",\"code\"]\n",
    "reshare_rates = pd.DataFrame(posts.groupby(group_cols)[\"reshared\"].sum() / posts.groupby(group_cols)[\"reshared\"].count()).reset_index()\n",
    "# Nicely format labels\n",
    "reshare_rates['treatment'] = reshare_rates['treatment'].replace({False: 'Control',\n",
    "                                                                 True: 'Treatment'})\n",
    "reshare_rates['code'] = reshare_rates['code'].str.title()\n",
    "reshare_rates[\"evidence\"] = reshare_rates[\"evidence\"].str.title()\n",
    "affirmation_rates = reshare_rates[reshare_rates[\"code\"]==\"Affirms\"]\n",
    "affirmation_rates"
   ]
  },
  {
   "cell_type": "code",
   "execution_count": null,
   "id": "prompt-supervision",
   "metadata": {},
   "outputs": [],
   "source": [
    "import statsmodels.api as sm\n",
    "from statsmodels.formula.api import ols\n",
    "from tqdm.notebook import tqdm\n",
    "\n",
    "def get_effect(df):\n",
    "    \"\"\"\n",
    "        Gets the effect size, and significance, \n",
    "        \n",
    "        Effect size, eta squared, is derived from this pdf: https://stardock.cs.virginia.edu/empirical/resources/Brown28.pdf\n",
    "    \"\"\"\n",
    "    moore_lm = ols('reshared ~ C(treatment)*C(evidence)',data=df).fit()\n",
    "    table = sm.stats.anova_lm(moore_lm, typ=2)\n",
    "    pval = table.iloc[2,3]\n",
    "    eta_sqr = table.iloc[2,0]/table.iloc[3,0]\n",
    "    return eta_sqr,pval\n",
    "\n",
    "sample_sizes = np.linspace(15,300,10,dtype=int)\n",
    "num_trials = 10\n",
    "trial_size = 2\n",
    "\n",
    "def power_simulation(df,sample_sizes,num_trials,trial_size,alpha=0.05):\n",
    "    res = {\"sample_size\": [],\n",
    "           \"power\": [],\n",
    "           \"avg_eta_sqr\": []}\n",
    "    for ss in tqdm(sample_sizes):\n",
    "#         assert len(df) > ss, f\"Sample size ({ss}) larger than dataframe ({len(df)})\"\n",
    "        effect_size = 0\n",
    "        for _ in range(num_trials):\n",
    "            num_rejections = 0\n",
    "            for _ in range(trial_size):\n",
    "                sampled_df = df.sample(n=ss)\n",
    "                try:\n",
    "                    eta_sqr, pval = get_effect(sampled_df)\n",
    "                    effect_size += eta_sqr\n",
    "                    if pval < alpha: num_rejections +=1\n",
    "                except:\n",
    "                    trial_size-=1\n",
    "            res[\"sample_size\"].append(ss)\n",
    "            res[\"power\"].append(num_rejections/trial_size)\n",
    "            res[\"avg_eta_sqr\"].append(effect_size/trial_size)\n",
    "    res = pd.DataFrame(res)\n",
    "    return pd.DataFrame(res)\n",
    "\n",
    "power_sim = power_simulation(affirmation_rates,\n",
    "                             sample_sizes,\n",
    "                             num_trials,\n",
    "                             trial_size)"
   ]
  },
  {
   "cell_type": "code",
   "execution_count": null,
   "id": "developing-fountain",
   "metadata": {},
   "outputs": [],
   "source": [
    "sample_sizes = np.linspace(15,300,100,dtype=int)\n",
    "num_trials = 50\n",
    "trial_size = 30\n",
    "\n",
    "power_sim = power_simulation(affirmation_rates,\n",
    "                             sample_sizes,\n",
    "                             num_trials,\n",
    "                             trial_size)\n",
    "power_sim.to_csv(fp,index=False)"
   ]
  },
  {
   "cell_type": "code",
   "execution_count": null,
   "id": "contained-baseball",
   "metadata": {},
   "outputs": [],
   "source": []
  }
 ],
 "metadata": {
  "kernelspec": {
   "display_name": "Python (Thesis)",
   "language": "python",
   "name": "python3"
  },
  "language_info": {
   "codemirror_mode": {
    "name": "ipython",
    "version": 3
   },
   "file_extension": ".py",
   "mimetype": "text/x-python",
   "name": "python",
   "nbconvert_exporter": "python",
   "pygments_lexer": "ipython3",
   "version": "3.9.0"
  }
 },
 "nbformat": 4,
 "nbformat_minor": 5
}
