{
 "cells": [
  {
   "cell_type": "markdown",
   "id": "983107ef-426d-4ae1-be5c-2bb4c540c00e",
   "metadata": {},
   "source": [
    "# To JSON\n",
    "\n",
    "What is used in the experimental environment\n"
   ]
  },
  {
   "cell_type": "code",
   "execution_count": 10,
   "id": "d1325e1b-0b80-4bb6-8c90-65193b749d3a",
   "metadata": {},
   "outputs": [],
   "source": [
    "from tqdm.auto import tqdm \n",
    "from glob import glob\n",
    "import pandas as pd\n",
    "import numpy as np\n",
    "import json\n",
    "import os"
   ]
  },
  {
   "cell_type": "code",
   "execution_count": 15,
   "id": "63b92776-e4ee-489d-9843-b31fd364d409",
   "metadata": {},
   "outputs": [],
   "source": [
    "codebook = {\n",
    "    1: \"affirms\",\n",
    "    2: \"denies\",\n",
    "    3: \"neutral\",\n",
    "    4: \"questions\",\n",
    "    'R1': \"high\",\n",
    "    'R2': \"low\"\n",
    "}"
   ]
  },
  {
   "cell_type": "code",
   "execution_count": 30,
   "id": "81267fca-b5f4-430b-8675-21b74cb46894",
   "metadata": {},
   "outputs": [
    {
     "name": "stdout",
     "output_type": "stream",
     "text": [
      "174x7\n"
     ]
    }
   ],
   "source": [
    "csvs = glob(\"../data/processed/coded-*.csv\")\n",
    "frames = [pd.read_csv(fp) for fp in csvs]\n",
    "coded_tweets = pd.concat(frames, axis=0, ignore_index=True)\n",
    "coded_tweets = coded_tweets[coded_tweets['code'] > 0]\n",
    "print(\"{}x{}\".format(*coded_tweets.shape))"
   ]
  },
  {
   "cell_type": "code",
   "execution_count": 31,
   "id": "2f1c3cce-cfc2-495f-893f-f57fb4ff1492",
   "metadata": {},
   "outputs": [
    {
     "data": {
      "text/html": [
       "<div>\n",
       "<style scoped>\n",
       "    .dataframe tbody tr th:only-of-type {\n",
       "        vertical-align: middle;\n",
       "    }\n",
       "\n",
       "    .dataframe tbody tr th {\n",
       "        vertical-align: top;\n",
       "    }\n",
       "\n",
       "    .dataframe thead th {\n",
       "        text-align: right;\n",
       "    }\n",
       "</style>\n",
       "<table border=\"1\" class=\"dataframe\">\n",
       "  <thead>\n",
       "    <tr style=\"text-align: right;\">\n",
       "      <th></th>\n",
       "      <th>id</th>\n",
       "      <th>rumour</th>\n",
       "      <th>text</th>\n",
       "      <th>code</th>\n",
       "      <th>evidence</th>\n",
       "    </tr>\n",
       "  </thead>\n",
       "  <tbody>\n",
       "    <tr>\n",
       "      <th>3</th>\n",
       "      <td>1283336306228031488</td>\n",
       "      <td>R1</td>\n",
       "      <td>That was so weird and happened so fast. They d...</td>\n",
       "      <td>questions</td>\n",
       "      <td>high</td>\n",
       "    </tr>\n",
       "    <tr>\n",
       "      <th>4</th>\n",
       "      <td>1283337938013569025</td>\n",
       "      <td>R1</td>\n",
       "      <td>After seeing a video that started from the beg...</td>\n",
       "      <td>neutral</td>\n",
       "      <td>high</td>\n",
       "    </tr>\n",
       "    <tr>\n",
       "      <th>8</th>\n",
       "      <td>1283347350354890752</td>\n",
       "      <td>R1</td>\n",
       "      <td>Where is this happening at? Is that a rental c...</td>\n",
       "      <td>questions</td>\n",
       "      <td>high</td>\n",
       "    </tr>\n",
       "    <tr>\n",
       "      <th>9</th>\n",
       "      <td>1283347652382298113</td>\n",
       "      <td>R1</td>\n",
       "      <td>The guy didn’t question it at all. Almost like...</td>\n",
       "      <td>denies</td>\n",
       "      <td>high</td>\n",
       "    </tr>\n",
       "    <tr>\n",
       "      <th>10</th>\n",
       "      <td>1283347980620378112</td>\n",
       "      <td>R1</td>\n",
       "      <td>Arrest junkies needed a fix. They had not made...</td>\n",
       "      <td>neutral</td>\n",
       "      <td>high</td>\n",
       "    </tr>\n",
       "  </tbody>\n",
       "</table>\n",
       "</div>"
      ],
      "text/plain": [
       "                     id rumour  \\\n",
       "3   1283336306228031488     R1   \n",
       "4   1283337938013569025     R1   \n",
       "8   1283347350354890752     R1   \n",
       "9   1283347652382298113     R1   \n",
       "10  1283347980620378112     R1   \n",
       "\n",
       "                                                 text       code evidence  \n",
       "3   That was so weird and happened so fast. They d...  questions     high  \n",
       "4   After seeing a video that started from the beg...    neutral     high  \n",
       "8   Where is this happening at? Is that a rental c...  questions     high  \n",
       "9   The guy didn’t question it at all. Almost like...     denies     high  \n",
       "10  Arrest junkies needed a fix. They had not made...    neutral     high  "
      ]
     },
     "execution_count": 31,
     "metadata": {},
     "output_type": "execute_result"
    }
   ],
   "source": [
    "# to normalized coding\n",
    "coded_tweets['code'] = coded_tweets['code'].map(codebook)\n",
    "# to normalized evidence\n",
    "coded_tweets['evidence'] = coded_tweets['rumour'].map(codebook)\n",
    "# Drop old text\n",
    "coded_tweets = coded_tweets.drop([\"text\",\"created_at\",\"author_id\"],axis=1)\n",
    "coded_tweets = coded_tweets.rename({\"clean_text\": \"text\"},axis=1)\n",
    "coded_tweets.head()"
   ]
  },
  {
   "cell_type": "code",
   "execution_count": 34,
   "id": "88527d98-8ea1-4206-b485-15488936018a",
   "metadata": {},
   "outputs": [],
   "source": [
    "coded_tweets.to_json(\"../data/processed/posts.json\",orient=\"records\")"
   ]
  },
  {
   "cell_type": "code",
   "execution_count": null,
   "id": "bb0bf2e8-60cc-4c52-9bc3-2ae6df741370",
   "metadata": {},
   "outputs": [],
   "source": []
  }
 ],
 "metadata": {
  "kernelspec": {
   "display_name": "Python (Thesis)",
   "language": "python",
   "name": "python3"
  },
  "language_info": {
   "codemirror_mode": {
    "name": "ipython",
    "version": 3
   },
   "file_extension": ".py",
   "mimetype": "text/x-python",
   "name": "python",
   "nbconvert_exporter": "python",
   "pygments_lexer": "ipython3",
   "version": "3.9.0"
  }
 },
 "nbformat": 4,
 "nbformat_minor": 5
}
