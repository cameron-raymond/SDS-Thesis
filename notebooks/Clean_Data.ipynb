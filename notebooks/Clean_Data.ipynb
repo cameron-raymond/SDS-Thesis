{
 "cells": [
  {
   "cell_type": "markdown",
   "id": "defined-semester",
   "metadata": {},
   "source": [
    "# Data Cleaning\n",
    "\n",
    "Exclusion critera:\n",
    "1. Don't use social media\n",
    "2. Was aware of one of the rumours\n",
    "3. Failed either attention check\n",
    "2. An outlier in completion time (>3 std devs below the mean)\n"
   ]
  },
  {
   "cell_type": "markdown",
   "id": "07c68f25-7847-4d30-8e68-2fd5af267d31",
   "metadata": {},
   "source": [
    "## Get data from Azure"
   ]
  },
  {
   "cell_type": "code",
   "execution_count": 1,
   "id": "c1eaa5a5-c083-402b-a6c6-292c14fb6dec",
   "metadata": {},
   "outputs": [],
   "source": [
    "from pymongo import MongoClient\n",
    "from secret import URI\n",
    "import json\n",
    "client = MongoClient(URI)\n",
    "db = client[\"thesis-db\"]"
   ]
  },
  {
   "cell_type": "code",
   "execution_count": 2,
   "id": "behavioral-assessment",
   "metadata": {},
   "outputs": [
    {
     "name": "stdout",
     "output_type": "stream",
     "text": [
      "Original number of participants: 11\n"
     ]
    }
   ],
   "source": [
    "import pandas as pd\n",
    "import numpy as np\n",
    "participants = pd.DataFrame.from_records(list(db[\"participants\"].find()))\n",
    "num_participants = len(participants[\"PROLIFIC_PID\"].unique())\n",
    "dummies = [\"gender\",\"affiliatedMovements\",\"socialMedias\"]\n",
    "for col in dummies:\n",
    "    participants = participants.explode(col)\n",
    "participants = pd.get_dummies(participants,columns=dummies).max(level=0)\n",
    "assert len(participants) == num_participants, \"Number of participants changed\"\n",
    "num_participants = len(participants[\"PROLIFIC_PID\"].unique())\n",
    "print(f\"Original number of participants: {num_participants}\")"
   ]
  },
  {
   "cell_type": "code",
   "execution_count": 3,
   "id": "falling-breach",
   "metadata": {},
   "outputs": [],
   "source": [
    "to_drop = pd.Series(None,name=\"PROLIFIC_ID\",dtype=str)"
   ]
  },
  {
   "cell_type": "markdown",
   "id": "received-confusion",
   "metadata": {},
   "source": [
    "### 1. Drop participants who don't use social media"
   ]
  },
  {
   "cell_type": "code",
   "execution_count": 4,
   "id": "green-antenna",
   "metadata": {},
   "outputs": [
    {
     "name": "stdout",
     "output_type": "stream",
     "text": [
      "0 don't have social media, 11 remaining participants.\n"
     ]
    }
   ],
   "source": [
    "sm_cols = [c for c in participants.columns if \"socialMedias\" in c and not \"none\" in c]\n",
    "# TO TEST: Uncomment the \"none\" category to see if there is anyone who ticked it\n",
    "no_sm = (participants[sm_cols] == 0).T.all()#| participants[\"socialMedias_none\"].astype(bool))\n",
    "no_sm = pd.Series(participants[no_sm][\"PROLIFIC_PID\"].unique())\n",
    "to_drop = pd.Series(to_drop.append(no_sm))\n",
    "num_no_sm = len(no_sm)\n",
    "num_participants -= num_no_sm\n",
    "print(f\"{num_no_sm} don't have social media, {num_participants} remaining participants.\")"
   ]
  },
  {
   "cell_type": "markdown",
   "id": "overhead-outdoors",
   "metadata": {},
   "source": [
    "### 2. Drop participants who were aware of either rumour"
   ]
  },
  {
   "cell_type": "code",
   "execution_count": 5,
   "id": "857b802f-4476-4cad-860c-b4a4b95b8021",
   "metadata": {},
   "outputs": [],
   "source": [
    "mappings = {\n",
    "    \"pass\": True,\n",
    "    \"fail\": False,\n",
    "    \"true\": True,\n",
    "    \"false\": False\n",
    "}"
   ]
  },
  {
   "cell_type": "code",
   "execution_count": 6,
   "id": "naughty-authorization",
   "metadata": {},
   "outputs": [
    {
     "name": "stdout",
     "output_type": "stream",
     "text": [
      "2 aware of a rumour, 9 remaining participants.\n"
     ]
    }
   ],
   "source": [
    "r1_check = pd.DataFrame.from_records(list(db[\"rumour-one-check\"].find()))\n",
    "r2_check = pd.DataFrame.from_records(list(db[\"rumour-two-check\"].find()))\n",
    "rumour_check = r1_check.merge(r2_check,\n",
    "                              left_on=\"PROLIFIC_PID\",\n",
    "                              right_on=\"PROLIFIC_PID\",\n",
    "                              suffixes=(\"R1\",\"R2\"),\n",
    "                              how=\"left\")\n",
    "for col in list([\"awareR1\",\"awareR2\",\"attentionCheckR1\",\"attentionCheckR2\"]):\n",
    "      rumour_check[col] = rumour_check[col].map(mappings)\n",
    "assert len(rumour_check) == len(participants), \"Dataframes have different row lengths\"\n",
    "aware = rumour_check[\"awareR1\"].astype(bool) | rumour_check[\"awareR2\"].astype(bool)\n",
    "aware = pd.Series(rumour_check[aware][\"PROLIFIC_PID\"].unique())\n",
    "to_drop = pd.Series(to_drop.append(aware))\n",
    "num_aware = len(aware)\n",
    "num_participants -= num_aware\n",
    "print(f\"{num_aware} aware of a rumour, {num_participants} remaining participants.\")"
   ]
  },
  {
   "cell_type": "markdown",
   "id": "9213d5b6-5c8e-4c57-8088-9e187e253ea2",
   "metadata": {},
   "source": [
    "### 3. Drop participants who failed either attention check"
   ]
  },
  {
   "cell_type": "code",
   "execution_count": 7,
   "id": "cd894ac2-becf-4de4-b771-5200fe35d5c8",
   "metadata": {},
   "outputs": [
    {
     "name": "stdout",
     "output_type": "stream",
     "text": [
      "0 failed attention check, 9 remaining participants.\n"
     ]
    }
   ],
   "source": [
    "no_attention = ~(rumour_check[\"attentionCheckR1\"].astype(bool) & rumour_check[\"attentionCheckR2\"].astype(bool))\n",
    "no_attention = pd.Series(rumour_check[no_attention][\"PROLIFIC_PID\"].unique())\n",
    "to_drop = pd.Series(to_drop.append(no_attention))\n",
    "num_no_attention = len(no_attention)\n",
    "num_participants -= num_no_attention\n",
    "print(f\"{num_no_attention} failed attention check, {num_participants} remaining participants.\")"
   ]
  },
  {
   "cell_type": "markdown",
   "id": "leading-speaker",
   "metadata": {},
   "source": [
    "### 4. Drop participants who were outliers in the amount of time taken\n",
    "\n",
    "Outlier: participants who the amount of time taken is more than 3 standard deviations below the mean \n",
    "- not above as we put a time cap on the time taken"
   ]
  },
  {
   "cell_type": "code",
   "execution_count": 8,
   "id": "stuffed-castle",
   "metadata": {},
   "outputs": [
    {
     "data": {
      "text/html": [
       "<div>\n",
       "<style scoped>\n",
       "    .dataframe tbody tr th:only-of-type {\n",
       "        vertical-align: middle;\n",
       "    }\n",
       "\n",
       "    .dataframe tbody tr th {\n",
       "        vertical-align: top;\n",
       "    }\n",
       "\n",
       "    .dataframe thead th {\n",
       "        text-align: right;\n",
       "    }\n",
       "</style>\n",
       "<table border=\"1\" class=\"dataframe\">\n",
       "  <thead>\n",
       "    <tr style=\"text-align: right;\">\n",
       "      <th></th>\n",
       "      <th>_id</th>\n",
       "      <th>PROLIFIC_PID</th>\n",
       "      <th>SESSION_ID</th>\n",
       "      <th>STUDY_ID</th>\n",
       "      <th>condition</th>\n",
       "      <th>timeSubmitted</th>\n",
       "      <th>secondsTaken</th>\n",
       "      <th>id</th>\n",
       "      <th>rumour</th>\n",
       "      <th>code</th>\n",
       "      <th>evidence</th>\n",
       "      <th>warning</th>\n",
       "      <th>reshared</th>\n",
       "      <th>clickedWarning</th>\n",
       "      <th>timestamp</th>\n",
       "      <th>mockGender</th>\n",
       "    </tr>\n",
       "  </thead>\n",
       "  <tbody>\n",
       "    <tr>\n",
       "      <th>0</th>\n",
       "      <td>5fd298b32f6cb7062fd9aea0</td>\n",
       "      <td>5fd298b32f6cb7062fd9aea0</td>\n",
       "      <td>60ab7df49f963cdf8ba1feac</td>\n",
       "      <td>607d6b3929befce813fe5ba2</td>\n",
       "      <td>control</td>\n",
       "      <td>2021-05-24T10:25:24.883Z</td>\n",
       "      <td>120</td>\n",
       "      <td>1.283764e+18</td>\n",
       "      <td>R1</td>\n",
       "      <td>denies</td>\n",
       "      <td>high</td>\n",
       "      <td>False</td>\n",
       "      <td>False</td>\n",
       "      <td>False</td>\n",
       "      <td>1</td>\n",
       "      <td>male</td>\n",
       "    </tr>\n",
       "    <tr>\n",
       "      <th>0</th>\n",
       "      <td>5fd298b32f6cb7062fd9aea0</td>\n",
       "      <td>5fd298b32f6cb7062fd9aea0</td>\n",
       "      <td>60ab7df49f963cdf8ba1feac</td>\n",
       "      <td>607d6b3929befce813fe5ba2</td>\n",
       "      <td>control</td>\n",
       "      <td>2021-05-24T10:25:24.883Z</td>\n",
       "      <td>120</td>\n",
       "      <td>1.283974e+18</td>\n",
       "      <td>R1</td>\n",
       "      <td>affirms</td>\n",
       "      <td>high</td>\n",
       "      <td>False</td>\n",
       "      <td>False</td>\n",
       "      <td>False</td>\n",
       "      <td>3</td>\n",
       "      <td>female</td>\n",
       "    </tr>\n",
       "    <tr>\n",
       "      <th>0</th>\n",
       "      <td>5fd298b32f6cb7062fd9aea0</td>\n",
       "      <td>5fd298b32f6cb7062fd9aea0</td>\n",
       "      <td>60ab7df49f963cdf8ba1feac</td>\n",
       "      <td>607d6b3929befce813fe5ba2</td>\n",
       "      <td>control</td>\n",
       "      <td>2021-05-24T10:25:24.883Z</td>\n",
       "      <td>120</td>\n",
       "      <td>1.283527e+18</td>\n",
       "      <td>R1</td>\n",
       "      <td>neutral</td>\n",
       "      <td>high</td>\n",
       "      <td>False</td>\n",
       "      <td>True</td>\n",
       "      <td>False</td>\n",
       "      <td>4</td>\n",
       "      <td>male</td>\n",
       "    </tr>\n",
       "    <tr>\n",
       "      <th>0</th>\n",
       "      <td>5fd298b32f6cb7062fd9aea0</td>\n",
       "      <td>5fd298b32f6cb7062fd9aea0</td>\n",
       "      <td>60ab7df49f963cdf8ba1feac</td>\n",
       "      <td>607d6b3929befce813fe5ba2</td>\n",
       "      <td>control</td>\n",
       "      <td>2021-05-24T10:25:24.883Z</td>\n",
       "      <td>120</td>\n",
       "      <td>1.283352e+18</td>\n",
       "      <td>R1</td>\n",
       "      <td>affirms</td>\n",
       "      <td>high</td>\n",
       "      <td>False</td>\n",
       "      <td>False</td>\n",
       "      <td>False</td>\n",
       "      <td>13</td>\n",
       "      <td>male</td>\n",
       "    </tr>\n",
       "    <tr>\n",
       "      <th>0</th>\n",
       "      <td>5fd298b32f6cb7062fd9aea0</td>\n",
       "      <td>5fd298b32f6cb7062fd9aea0</td>\n",
       "      <td>60ab7df49f963cdf8ba1feac</td>\n",
       "      <td>607d6b3929befce813fe5ba2</td>\n",
       "      <td>control</td>\n",
       "      <td>2021-05-24T10:25:24.883Z</td>\n",
       "      <td>120</td>\n",
       "      <td>1.283704e+18</td>\n",
       "      <td>R1</td>\n",
       "      <td>affirms</td>\n",
       "      <td>high</td>\n",
       "      <td>False</td>\n",
       "      <td>True</td>\n",
       "      <td>False</td>\n",
       "      <td>13</td>\n",
       "      <td>male</td>\n",
       "    </tr>\n",
       "    <tr>\n",
       "      <th>...</th>\n",
       "      <td>...</td>\n",
       "      <td>...</td>\n",
       "      <td>...</td>\n",
       "      <td>...</td>\n",
       "      <td>...</td>\n",
       "      <td>...</td>\n",
       "      <td>...</td>\n",
       "      <td>...</td>\n",
       "      <td>...</td>\n",
       "      <td>...</td>\n",
       "      <td>...</td>\n",
       "      <td>...</td>\n",
       "      <td>...</td>\n",
       "      <td>...</td>\n",
       "      <td>...</td>\n",
       "      <td>...</td>\n",
       "    </tr>\n",
       "    <tr>\n",
       "      <th>10</th>\n",
       "      <td>5e311dd7a390be11ebfc23c3</td>\n",
       "      <td>5e311dd7a390be11ebfc23c3</td>\n",
       "      <td>60ab98d49d1b33da74d7f9a0</td>\n",
       "      <td>607d6b3929befce813fe5ba2</td>\n",
       "      <td>treatment</td>\n",
       "      <td>2021-05-24T12:23:29.324Z</td>\n",
       "      <td>93</td>\n",
       "      <td>1.267059e+18</td>\n",
       "      <td>R2</td>\n",
       "      <td>affirms</td>\n",
       "      <td>low</td>\n",
       "      <td>True</td>\n",
       "      <td>False</td>\n",
       "      <td>True</td>\n",
       "      <td>54</td>\n",
       "      <td>female</td>\n",
       "    </tr>\n",
       "    <tr>\n",
       "      <th>10</th>\n",
       "      <td>5e311dd7a390be11ebfc23c3</td>\n",
       "      <td>5e311dd7a390be11ebfc23c3</td>\n",
       "      <td>60ab98d49d1b33da74d7f9a0</td>\n",
       "      <td>607d6b3929befce813fe5ba2</td>\n",
       "      <td>treatment</td>\n",
       "      <td>2021-05-24T12:23:29.324Z</td>\n",
       "      <td>93</td>\n",
       "      <td>1.266798e+18</td>\n",
       "      <td>R2</td>\n",
       "      <td>neutral</td>\n",
       "      <td>low</td>\n",
       "      <td>False</td>\n",
       "      <td>False</td>\n",
       "      <td>False</td>\n",
       "      <td>54</td>\n",
       "      <td>male</td>\n",
       "    </tr>\n",
       "    <tr>\n",
       "      <th>10</th>\n",
       "      <td>5e311dd7a390be11ebfc23c3</td>\n",
       "      <td>5e311dd7a390be11ebfc23c3</td>\n",
       "      <td>60ab98d49d1b33da74d7f9a0</td>\n",
       "      <td>607d6b3929befce813fe5ba2</td>\n",
       "      <td>treatment</td>\n",
       "      <td>2021-05-24T12:23:29.324Z</td>\n",
       "      <td>93</td>\n",
       "      <td>1.267251e+18</td>\n",
       "      <td>R2</td>\n",
       "      <td>denies</td>\n",
       "      <td>low</td>\n",
       "      <td>False</td>\n",
       "      <td>False</td>\n",
       "      <td>False</td>\n",
       "      <td>57</td>\n",
       "      <td>female</td>\n",
       "    </tr>\n",
       "    <tr>\n",
       "      <th>10</th>\n",
       "      <td>5e311dd7a390be11ebfc23c3</td>\n",
       "      <td>5e311dd7a390be11ebfc23c3</td>\n",
       "      <td>60ab98d49d1b33da74d7f9a0</td>\n",
       "      <td>607d6b3929befce813fe5ba2</td>\n",
       "      <td>treatment</td>\n",
       "      <td>2021-05-24T12:23:29.324Z</td>\n",
       "      <td>93</td>\n",
       "      <td>1.267218e+18</td>\n",
       "      <td>R2</td>\n",
       "      <td>denies</td>\n",
       "      <td>low</td>\n",
       "      <td>False</td>\n",
       "      <td>False</td>\n",
       "      <td>False</td>\n",
       "      <td>57</td>\n",
       "      <td>male</td>\n",
       "    </tr>\n",
       "    <tr>\n",
       "      <th>10</th>\n",
       "      <td>5e311dd7a390be11ebfc23c3</td>\n",
       "      <td>5e311dd7a390be11ebfc23c3</td>\n",
       "      <td>60ab98d49d1b33da74d7f9a0</td>\n",
       "      <td>607d6b3929befce813fe5ba2</td>\n",
       "      <td>treatment</td>\n",
       "      <td>2021-05-24T12:23:29.324Z</td>\n",
       "      <td>93</td>\n",
       "      <td>1.266882e+18</td>\n",
       "      <td>R2</td>\n",
       "      <td>denies</td>\n",
       "      <td>low</td>\n",
       "      <td>False</td>\n",
       "      <td>False</td>\n",
       "      <td>False</td>\n",
       "      <td>59</td>\n",
       "      <td>female</td>\n",
       "    </tr>\n",
       "  </tbody>\n",
       "</table>\n",
       "<p>616 rows × 16 columns</p>\n",
       "</div>"
      ],
      "text/plain": [
       "                         _id              PROLIFIC_PID  \\\n",
       "0   5fd298b32f6cb7062fd9aea0  5fd298b32f6cb7062fd9aea0   \n",
       "0   5fd298b32f6cb7062fd9aea0  5fd298b32f6cb7062fd9aea0   \n",
       "0   5fd298b32f6cb7062fd9aea0  5fd298b32f6cb7062fd9aea0   \n",
       "0   5fd298b32f6cb7062fd9aea0  5fd298b32f6cb7062fd9aea0   \n",
       "0   5fd298b32f6cb7062fd9aea0  5fd298b32f6cb7062fd9aea0   \n",
       "..                       ...                       ...   \n",
       "10  5e311dd7a390be11ebfc23c3  5e311dd7a390be11ebfc23c3   \n",
       "10  5e311dd7a390be11ebfc23c3  5e311dd7a390be11ebfc23c3   \n",
       "10  5e311dd7a390be11ebfc23c3  5e311dd7a390be11ebfc23c3   \n",
       "10  5e311dd7a390be11ebfc23c3  5e311dd7a390be11ebfc23c3   \n",
       "10  5e311dd7a390be11ebfc23c3  5e311dd7a390be11ebfc23c3   \n",
       "\n",
       "                  SESSION_ID                  STUDY_ID  condition  \\\n",
       "0   60ab7df49f963cdf8ba1feac  607d6b3929befce813fe5ba2    control   \n",
       "0   60ab7df49f963cdf8ba1feac  607d6b3929befce813fe5ba2    control   \n",
       "0   60ab7df49f963cdf8ba1feac  607d6b3929befce813fe5ba2    control   \n",
       "0   60ab7df49f963cdf8ba1feac  607d6b3929befce813fe5ba2    control   \n",
       "0   60ab7df49f963cdf8ba1feac  607d6b3929befce813fe5ba2    control   \n",
       "..                       ...                       ...        ...   \n",
       "10  60ab98d49d1b33da74d7f9a0  607d6b3929befce813fe5ba2  treatment   \n",
       "10  60ab98d49d1b33da74d7f9a0  607d6b3929befce813fe5ba2  treatment   \n",
       "10  60ab98d49d1b33da74d7f9a0  607d6b3929befce813fe5ba2  treatment   \n",
       "10  60ab98d49d1b33da74d7f9a0  607d6b3929befce813fe5ba2  treatment   \n",
       "10  60ab98d49d1b33da74d7f9a0  607d6b3929befce813fe5ba2  treatment   \n",
       "\n",
       "               timeSubmitted  secondsTaken            id rumour     code  \\\n",
       "0   2021-05-24T10:25:24.883Z           120  1.283764e+18     R1   denies   \n",
       "0   2021-05-24T10:25:24.883Z           120  1.283974e+18     R1  affirms   \n",
       "0   2021-05-24T10:25:24.883Z           120  1.283527e+18     R1  neutral   \n",
       "0   2021-05-24T10:25:24.883Z           120  1.283352e+18     R1  affirms   \n",
       "0   2021-05-24T10:25:24.883Z           120  1.283704e+18     R1  affirms   \n",
       "..                       ...           ...           ...    ...      ...   \n",
       "10  2021-05-24T12:23:29.324Z            93  1.267059e+18     R2  affirms   \n",
       "10  2021-05-24T12:23:29.324Z            93  1.266798e+18     R2  neutral   \n",
       "10  2021-05-24T12:23:29.324Z            93  1.267251e+18     R2   denies   \n",
       "10  2021-05-24T12:23:29.324Z            93  1.267218e+18     R2   denies   \n",
       "10  2021-05-24T12:23:29.324Z            93  1.266882e+18     R2   denies   \n",
       "\n",
       "   evidence  warning  reshared  clickedWarning  timestamp mockGender  \n",
       "0      high    False     False           False          1       male  \n",
       "0      high    False     False           False          3     female  \n",
       "0      high    False      True           False          4       male  \n",
       "0      high    False     False           False         13       male  \n",
       "0      high    False      True           False         13       male  \n",
       "..      ...      ...       ...             ...        ...        ...  \n",
       "10      low     True     False            True         54     female  \n",
       "10      low    False     False           False         54       male  \n",
       "10      low    False     False           False         57     female  \n",
       "10      low    False     False           False         57       male  \n",
       "10      low    False     False           False         59     female  \n",
       "\n",
       "[616 rows x 16 columns]"
      ]
     },
     "execution_count": 8,
     "metadata": {},
     "output_type": "execute_result"
    }
   ],
   "source": [
    "r1_posts = pd.DataFrame.from_records(list(db[\"rumour-one-results\"].find()))\n",
    "r1_posts = r1_posts.explode(\"posts\")\n",
    "r1_posts = pd.concat([r1_posts.drop(['posts'], axis=1), r1_posts['posts'].apply(pd.Series)], axis=1)\n",
    "\n",
    "r2_posts = pd.DataFrame.from_records(list(db[\"rumour-two-results\"].find()))\n",
    "r2_posts = r2_posts.explode(\"posts\")\n",
    "r2_posts = pd.concat([r2_posts.drop(['posts'], axis=1), r2_posts['posts'].apply(pd.Series)], axis=1)\n",
    "posts = pd.concat([r1_posts,r2_posts])\n",
    "assert (posts.groupby(\"PROLIFIC_PID\").count()[\"id\"] == 56).all(), \"Some people have a different number of posts\"\n",
    "posts"
   ]
  },
  {
   "cell_type": "code",
   "execution_count": 9,
   "id": "208ce8ad-610b-41a1-a58c-da290f435dc0",
   "metadata": {},
   "outputs": [
    {
     "data": {
      "text/plain": [
       "<AxesSubplot:ylabel='Frequency'>"
      ]
     },
     "execution_count": 9,
     "metadata": {},
     "output_type": "execute_result"
    },
    {
     "data": {
      "image/png": "[encoded data removed]",
      "text/plain": [
       "<Figure size 432x288 with 1 Axes>"
      ]
     },
     "metadata": {
      "needs_background": "light"
     },
     "output_type": "display_data"
    }
   ],
   "source": [
    "from scipy.stats import zscore\n",
    "posts.secondsTaken.plot.hist(alpha=0.5)\n",
    "z_scores = zscore(posts[\"secondsTaken\"])\n",
    "outliers = posts[z_scores < -3]\n",
    "outliers.secondsTaken.plot.hist(alpha=0.5)"
   ]
  },
  {
   "cell_type": "code",
   "execution_count": 10,
   "id": "906cbc76-3232-4b52-8d03-195131a54ea1",
   "metadata": {},
   "outputs": [
    {
     "name": "stdout",
     "output_type": "stream",
     "text": [
      "               PROLIFIC_PID  secondsTaken\n",
      "2  60a8bc614a7de0fb24b5f91f            23\n"
     ]
    },
    {
     "name": "stdin",
     "output_type": "stream",
     "text": [
      "Drop these? (YES/NO) YES\n"
     ]
    },
    {
     "name": "stdout",
     "output_type": "stream",
     "text": [
      "1 outlier(s) in completion time, 7 remaining participants.\n"
     ]
    }
   ],
   "source": [
    "print(outliers[[\"PROLIFIC_PID\",\"secondsTaken\"]].drop_duplicates())\n",
    "drop = input(\"Drop these? (YES/NO)\")\n",
    "if drop == \"YES\":\n",
    "    outliers = pd.Series(outliers[\"PROLIFIC_PID\"].unique())\n",
    "    num_outliers = len(outliers)\n",
    "    to_drop = pd.Series(to_drop.append(outliers))\n",
    "    num_participants -= num_outliers\n",
    "    print(f\"{num_outliers} outlier(s) in completion time, {num_participants-num_outliers} remaining participants.\")\n",
    "else:\n",
    "    print(f\"Not dropping. {num_participants} remaining participants.\")"
   ]
  },
  {
   "cell_type": "markdown",
   "id": "f2e27f6f-0d61-4c32-8db0-2c0feaac3090",
   "metadata": {},
   "source": [
    "### Post study questionairre"
   ]
  },
  {
   "cell_type": "code",
   "execution_count": 11,
   "id": "974f0ff4-ffee-4c97-9f3d-d753d4a96f52",
   "metadata": {},
   "outputs": [
    {
     "data": {
      "text/html": [
       "<div>\n",
       "<style scoped>\n",
       "    .dataframe tbody tr th:only-of-type {\n",
       "        vertical-align: middle;\n",
       "    }\n",
       "\n",
       "    .dataframe tbody tr th {\n",
       "        vertical-align: top;\n",
       "    }\n",
       "\n",
       "    .dataframe thead th {\n",
       "        text-align: right;\n",
       "    }\n",
       "</style>\n",
       "<table border=\"1\" class=\"dataframe\">\n",
       "  <thead>\n",
       "    <tr style=\"text-align: right;\">\n",
       "      <th></th>\n",
       "      <th>_id</th>\n",
       "      <th>PROLIFIC_PID</th>\n",
       "      <th>SESSION_ID</th>\n",
       "      <th>STUDY_ID</th>\n",
       "      <th>timeSubmitted</th>\n",
       "      <th>decisionProcess</th>\n",
       "      <th>interventionFactor</th>\n",
       "      <th>issues</th>\n",
       "      <th>comments</th>\n",
       "      <th>veracityR1</th>\n",
       "      <th>veracityR2</th>\n",
       "    </tr>\n",
       "  </thead>\n",
       "  <tbody>\n",
       "    <tr>\n",
       "      <th>0</th>\n",
       "      <td>5fd298b32f6cb7062fd9aea0</td>\n",
       "      <td>5fd298b32f6cb7062fd9aea0</td>\n",
       "      <td>60ab7df49f963cdf8ba1feac</td>\n",
       "      <td>607d6b3929befce813fe5ba2</td>\n",
       "      <td>2021-05-24T10:29:53.576Z</td>\n",
       "      <td>I tried to share the posts that would contribu...</td>\n",
       "      <td>control</td>\n",
       "      <td>No</td>\n",
       "      <td>No</td>\n",
       "      <td>7</td>\n",
       "      <td>6</td>\n",
       "    </tr>\n",
       "    <tr>\n",
       "      <th>1</th>\n",
       "      <td>60a4be6fadc76f91266bbe20</td>\n",
       "      <td>60a4be6fadc76f91266bbe20</td>\n",
       "      <td>60ab8556c256acc2965a6cb3</td>\n",
       "      <td>607d6b3929befce813fe5ba2</td>\n",
       "      <td>2021-05-24T11:02:28.691Z</td>\n",
       "      <td>The posts I reshared were the ones that made v...</td>\n",
       "      <td>it did not affect my decision.</td>\n",
       "      <td>no</td>\n",
       "      <td>no</td>\n",
       "      <td>1</td>\n",
       "      <td>1</td>\n",
       "    </tr>\n",
       "    <tr>\n",
       "      <th>2</th>\n",
       "      <td>60a8bc614a7de0fb24b5f91f</td>\n",
       "      <td>60a8bc614a7de0fb24b5f91f</td>\n",
       "      <td>60ab88c25c3f48e6927ce403</td>\n",
       "      <td>607d6b3929befce813fe5ba2</td>\n",
       "      <td>2021-05-24T11:25:37.214Z</td>\n",
       "      <td>I resharded based on the content that tells po...</td>\n",
       "      <td></td>\n",
       "      <td>No</td>\n",
       "      <td>No thanks</td>\n",
       "      <td>NaN</td>\n",
       "      <td>NaN</td>\n",
       "    </tr>\n",
       "    <tr>\n",
       "      <th>3</th>\n",
       "      <td>60a8a2d017e9f4c917341788</td>\n",
       "      <td>60a8a2d017e9f4c917341788</td>\n",
       "      <td>60ab8b5c52c36c5156425695</td>\n",
       "      <td>607d6b3929befce813fe5ba2</td>\n",
       "      <td>2021-05-24T11:30:05.907Z</td>\n",
       "      <td>Just went off what opinions I agreed with even...</td>\n",
       "      <td>control</td>\n",
       "      <td>Nope</td>\n",
       "      <td>Nope</td>\n",
       "      <td>5</td>\n",
       "      <td>3</td>\n",
       "    </tr>\n",
       "    <tr>\n",
       "      <th>4</th>\n",
       "      <td>5c7ff19c9c3fc00016f4ecb5</td>\n",
       "      <td>5c7ff19c9c3fc00016f4ecb5</td>\n",
       "      <td>60ab8c3d7298e6cb34a7efe3</td>\n",
       "      <td>607d6b3929befce813fe5ba2</td>\n",
       "      <td>2021-05-24T11:31:04.587Z</td>\n",
       "      <td>Based on what I wanted to communicate</td>\n",
       "      <td>control</td>\n",
       "      <td>No</td>\n",
       "      <td>No</td>\n",
       "      <td>10</td>\n",
       "      <td>1</td>\n",
       "    </tr>\n",
       "  </tbody>\n",
       "</table>\n",
       "</div>"
      ],
      "text/plain": [
       "                        _id              PROLIFIC_PID  \\\n",
       "0  5fd298b32f6cb7062fd9aea0  5fd298b32f6cb7062fd9aea0   \n",
       "1  60a4be6fadc76f91266bbe20  60a4be6fadc76f91266bbe20   \n",
       "2  60a8bc614a7de0fb24b5f91f  60a8bc614a7de0fb24b5f91f   \n",
       "3  60a8a2d017e9f4c917341788  60a8a2d017e9f4c917341788   \n",
       "4  5c7ff19c9c3fc00016f4ecb5  5c7ff19c9c3fc00016f4ecb5   \n",
       "\n",
       "                 SESSION_ID                  STUDY_ID  \\\n",
       "0  60ab7df49f963cdf8ba1feac  607d6b3929befce813fe5ba2   \n",
       "1  60ab8556c256acc2965a6cb3  607d6b3929befce813fe5ba2   \n",
       "2  60ab88c25c3f48e6927ce403  607d6b3929befce813fe5ba2   \n",
       "3  60ab8b5c52c36c5156425695  607d6b3929befce813fe5ba2   \n",
       "4  60ab8c3d7298e6cb34a7efe3  607d6b3929befce813fe5ba2   \n",
       "\n",
       "              timeSubmitted  \\\n",
       "0  2021-05-24T10:29:53.576Z   \n",
       "1  2021-05-24T11:02:28.691Z   \n",
       "2  2021-05-24T11:25:37.214Z   \n",
       "3  2021-05-24T11:30:05.907Z   \n",
       "4  2021-05-24T11:31:04.587Z   \n",
       "\n",
       "                                     decisionProcess  \\\n",
       "0  I tried to share the posts that would contribu...   \n",
       "1  The posts I reshared were the ones that made v...   \n",
       "2  I resharded based on the content that tells po...   \n",
       "3  Just went off what opinions I agreed with even...   \n",
       "4              Based on what I wanted to communicate   \n",
       "\n",
       "               interventionFactor issues   comments veracityR1 veracityR2  \n",
       "0                         control     No         No          7          6  \n",
       "1  it did not affect my decision.     no         no          1          1  \n",
       "2                                     No  No thanks        NaN        NaN  \n",
       "3                         control   Nope       Nope          5          3  \n",
       "4                         control     No         No         10          1  "
      ]
     },
     "execution_count": 11,
     "metadata": {},
     "output_type": "execute_result"
    }
   ],
   "source": [
    "post_study = pd.DataFrame.from_records(list(db[\"post-study-responses\"].find()))\n",
    "post_study.head()"
   ]
  },
  {
   "cell_type": "markdown",
   "id": "c9f3f4fc-13ab-4c5d-8ae4-1fe9d8218f58",
   "metadata": {},
   "source": [
    "#### Data type conversions"
   ]
  },
  {
   "cell_type": "code",
   "execution_count": 12,
   "id": "dbd30e81-c56f-43f9-9a28-e5902918c3d4",
   "metadata": {},
   "outputs": [],
   "source": [
    "participants[\"timeSubmitted\"] = pd.to_datetime(participants[\"timeSubmitted\"], infer_datetime_format=True)  \n",
    "participants[\"age\"] = participants[\"age\"].astype(int)\n",
    "participants[\"attendsProtests\"] = participants[\"attendsProtests\"].map(mappings)\n",
    "posts[\"timeSubmitted\"] = pd.to_datetime(posts[\"timeSubmitted\"], infer_datetime_format=True)  \n",
    "posts[\"id\"] = posts[\"id\"].astype(int)\n",
    "rumour_check[\"timeSubmittedR1\"] = pd.to_datetime(rumour_check[\"timeSubmittedR1\"], infer_datetime_format=True)  \n",
    "rumour_check[\"timeSubmittedR2\"] = pd.to_datetime(rumour_check[\"timeSubmittedR2\"], infer_datetime_format=True) \n",
    "post_study[\"veracityR1\"] = post_study[\"veracityR1\"].astype(float)\n",
    "post_study[\"veracityR2\"] = post_study[\"veracityR2\"].astype(float)"
   ]
  },
  {
   "cell_type": "markdown",
   "id": "949b6ae6-ab80-414e-87ce-4786b3396f70",
   "metadata": {},
   "source": [
    "#### Drop uneccessary columns"
   ]
  },
  {
   "cell_type": "code",
   "execution_count": 13,
   "id": "006c9ee7-2aca-42a8-aad0-5d936e56708b",
   "metadata": {},
   "outputs": [
    {
     "name": "stdout",
     "output_type": "stream",
     "text": [
      "607d6b3929befce813fe5ba2\n"
     ]
    }
   ],
   "source": [
    "study_id = participants.loc[1,\"STUDY_ID\"]\n",
    "print(study_id)"
   ]
  },
  {
   "cell_type": "code",
   "execution_count": 14,
   "id": "9f716788-b958-4c8b-a337-a99e2236ef41",
   "metadata": {},
   "outputs": [],
   "source": [
    "participants = participants[[\"PROLIFIC_PID\",'consent',\n",
    "       'timeSubmitted', 'educationLevel', 'attendsProtests',\n",
    "       'politicalAffiliation', 'age', 'gender_man', 'gender_woman',\n",
    "       'affiliatedMovements_climate', 'affiliatedMovements_freeSpeech',\n",
    "       'affiliatedMovements_gender', 'affiliatedMovements_indigenous',\n",
    "       'affiliatedMovements_labour', 'affiliatedMovements_lgbtqa',\n",
    "       'affiliatedMovements_race', 'affiliatedMovements_religion',\n",
    "       'affiliatedMovements_smallGov', 'socialMedias_None',\n",
    "       'socialMedias_facebook', 'socialMedias_instagram',\n",
    "       'socialMedias_reddit', 'socialMedias_snapchat', 'socialMedias_tiktok',\n",
    "       'socialMedias_twitter']]\n",
    "\n",
    "rumour_check = rumour_check[[\"PROLIFIC_PID\",\n",
    "                             \"timeSubmittedR1\",\n",
    "                             \"timeSubmittedR2\",\n",
    "                             \"awareR1\",\n",
    "                             \"awareR2\",\n",
    "                             \"attentionCheckR1\",\n",
    "                             \"attentionCheckR2\"]]\n",
    "posts = posts[['PROLIFIC_PID',\n",
    "               'condition', \n",
    "               'timeSubmitted', \n",
    "               'secondsTaken', \n",
    "               'id',\n",
    "               'rumour', \n",
    "               'code', \n",
    "               'evidence', \n",
    "               'warning', \n",
    "               'reshared', \n",
    "               'clickedWarning',\n",
    "               'timestamp', \n",
    "               'mockGender']]\n",
    "\n",
    "post_study = post_study[[\"PROLIFIC_PID\",\n",
    "                         'timeSubmitted',\n",
    "                         'decisionProcess', \n",
    "                         'interventionFactor', \n",
    "                         'issues', \n",
    "                         'comments',\n",
    "                         'veracityR1', \n",
    "                         'veracityR2']]"
   ]
  },
  {
   "cell_type": "markdown",
   "id": "c3098f5b-de93-4d8a-8a7b-ca82dee67b6a",
   "metadata": {},
   "source": [
    "#### Convert all empty strings to None"
   ]
  },
  {
   "cell_type": "code",
   "execution_count": 15,
   "id": "8fa9b7df-d9eb-47f8-ad2a-dd9fa043e22d",
   "metadata": {},
   "outputs": [],
   "source": [
    "participants = participants.replace(r'^\\s*$', np.NaN, regex=True)\n",
    "rumour_check = rumour_check.replace(r'^\\s*$', np.NaN, regex=True)\n",
    "posts = posts.replace(r'^\\s*$', np.NaN, regex=True)\n",
    "post_study = post_study.replace(r'^\\s*$', np.NaN, regex=True)\n",
    "None"
   ]
  },
  {
   "cell_type": "markdown",
   "id": "562a1e36-d29d-40af-8a21-5e1d7105bb34",
   "metadata": {},
   "source": [
    "#### Convert all negative numbers to None"
   ]
  },
  {
   "cell_type": "code",
   "execution_count": 16,
   "id": "0da445ee-5e39-4588-b451-3af4c05826a0",
   "metadata": {
    "tags": []
   },
   "outputs": [],
   "source": [
    "num_cols = participants.select_dtypes(include=['number']).columns\n",
    "for c in num_cols:\n",
    "    participants[participants[c] < 0][c] = np.NaN\n",
    "    \n",
    "num_cols = rumour_check.select_dtypes(include=['number']).columns\n",
    "for c in num_cols:\n",
    "    rumour_check[rumour_check[c] < 0][c] = np.NaN\n",
    "    \n",
    "num_cols = posts.select_dtypes(include=['number']).columns\n",
    "for c in num_cols:\n",
    "    posts[posts[c] < 0][c] = np.NaN\n",
    "    \n",
    "num_cols = post_study.select_dtypes(include=['number']).columns\n",
    "for c in num_cols:\n",
    "    post_study[post_study[c] < 0][c] = np.NaN"
   ]
  },
  {
   "cell_type": "markdown",
   "id": "934fb1fa-5c9a-4843-862d-2927d7fa3b48",
   "metadata": {},
   "source": [
    "#### Drop users that failed exclusion criteria"
   ]
  },
  {
   "cell_type": "code",
   "execution_count": 17,
   "id": "41de86e8-5f39-4511-93dc-d085c1a93ed9",
   "metadata": {},
   "outputs": [],
   "source": [
    "participants = participants[~participants[\"PROLIFIC_PID\"].isin(to_drop)]\n",
    "rumour_check = rumour_check[~rumour_check[\"PROLIFIC_PID\"].isin(to_drop)]\n",
    "posts = posts[~posts[\"PROLIFIC_PID\"].isin(to_drop)]\n",
    "post_study = post_study[~post_study[\"PROLIFIC_PID\"].isin(to_drop)]"
   ]
  },
  {
   "cell_type": "markdown",
   "id": "7832f7e9-b700-4e8e-b3ae-905296e232f6",
   "metadata": {},
   "source": [
    "#### Hash user ID"
   ]
  },
  {
   "cell_type": "code",
   "execution_count": 18,
   "id": "5b448c0e-1375-465a-a814-3a29169dd58c",
   "metadata": {},
   "outputs": [],
   "source": [
    "participants['user_id'] = participants['PROLIFIC_PID'].apply(hash)\n",
    "rumour_check = rumour_check.merge(participants[['PROLIFIC_PID',\"user_id\"]],\n",
    "                                  left_on=\"PROLIFIC_PID\",\n",
    "                                  right_on=\"PROLIFIC_PID\",\n",
    "                                  how=\"left\")\n",
    "posts = posts.merge(participants[['PROLIFIC_PID',\"user_id\"]],\n",
    "                                  left_on=\"PROLIFIC_PID\",\n",
    "                                  right_on=\"PROLIFIC_PID\",\n",
    "                                  how=\"left\")\n",
    "post_study = post_study.merge(participants[['PROLIFIC_PID',\"user_id\"]],\n",
    "                                  left_on=\"PROLIFIC_PID\",\n",
    "                                  right_on=\"PROLIFIC_PID\",\n",
    "                                  how=\"left\")"
   ]
  },
  {
   "cell_type": "code",
   "execution_count": 19,
   "id": "cb9bdc95-0c0f-448b-9b65-b2ab210548c9",
   "metadata": {},
   "outputs": [],
   "source": [
    "participants.drop(\"PROLIFIC_PID\",axis=1,inplace=True)\n",
    "rumour_check.drop(\"PROLIFIC_PID\",axis=1,inplace=True)\n",
    "posts.drop(\"PROLIFIC_PID\",axis=1,inplace=True)\n",
    "post_study.drop(\"PROLIFIC_PID\",axis=1,inplace=True)"
   ]
  },
  {
   "cell_type": "code",
   "execution_count": 20,
   "id": "c7842230-1df7-453e-b699-f0bde8c54b8b",
   "metadata": {},
   "outputs": [],
   "source": [
    "participants = participants[list(participants.columns[-1:])+list(participants.columns[:-1])]\n",
    "rumour_check = rumour_check[list(rumour_check.columns[-1:])+list(rumour_check.columns[:-1])]\n",
    "posts = posts[list(posts.columns[-1:])+list(posts.columns[:-1])]\n",
    "post_study = post_study[list(post_study.columns[-1:])+list(post_study.columns[:-1])]"
   ]
  },
  {
   "cell_type": "markdown",
   "id": "growing-covering",
   "metadata": {},
   "source": [
    "### Write to file"
   ]
  },
  {
   "cell_type": "code",
   "execution_count": 21,
   "id": "altered-concern",
   "metadata": {},
   "outputs": [],
   "source": [
    "participants.to_csv(f\"../data/processed/{study_id}-participants.csv\",index=False)\n",
    "rumour_check.to_csv(f\"../data/processed/{study_id}-rumour-checks.csv\",index=False)\n",
    "posts.to_csv(f\"../data/processed/{study_id}-rumour-results.csv\",index=False)\n",
    "post_study.to_csv(f\"../data/processed/{study_id}-post-study-responses.csv\",index=False)"
   ]
  },
  {
   "cell_type": "markdown",
   "id": "otherwise-klein",
   "metadata": {},
   "source": [
    "## Merge data\n",
    "\n",
    "1. System level data\n",
    "2. post level data\n",
    "\n",
    "### System level data"
   ]
  },
  {
   "cell_type": "code",
   "execution_count": 22,
   "id": "confident-valentine",
   "metadata": {},
   "outputs": [],
   "source": [
    "from collections import OrderedDict\n",
    "group_cols = [\"user_id\",\"condition\",\"evidence\",\"code\"]\n",
    "reshare_rates = pd.DataFrame(posts.groupby(group_cols)[\"reshared\"].sum() / posts.groupby(group_cols)[\"reshared\"].count()).reset_index()\n",
    "# Nicely format labels\n",
    "reshare_rates['treatment'] = reshare_rates['condition'].str.title()\n",
    "reshare_rates['code'] = reshare_rates['code'].str.title()\n",
    "reshare_rates[\"evidence\"] = reshare_rates[\"evidence\"].str.title()\n",
    "reshare_rates = reshare_rates.pivot(index=[\"user_id\",\"condition\",\"evidence\"],\n",
    "                                    columns=\"code\",\n",
    "                                    values=\"reshared\").reset_index()\n",
    "cols = list(OrderedDict.fromkeys(list(participants.columns[1:])+list(reshare_rates.columns)))\n",
    "reshare_rates = reshare_rates.merge(participants,how=\"left\",left_on=\"user_id\",right_on=\"user_id\")\n",
    "reshare_rates = reshare_rates.fillna(0)[cols]"
   ]
  },
  {
   "cell_type": "markdown",
   "id": "single-raise",
   "metadata": {},
   "source": [
    "$rumour proportion = \\frac{affirms}{affirms + denies}$"
   ]
  },
  {
   "cell_type": "code",
   "execution_count": 23,
   "id": "specialized-progress",
   "metadata": {},
   "outputs": [],
   "source": [
    "rumour_prop_col = pd.DataFrame(posts.groupby(group_cols)[\"reshared\"].sum()).reset_index()\n",
    "rumour_prop_col = rumour_prop_col.pivot(index=[\"user_id\",\"condition\",\"evidence\"],\n",
    "                                    columns=\"code\",\n",
    "                                    values=\"reshared\").reset_index().set_index(\"user_id\")\n",
    "\n",
    "rumour_prop_col = rumour_prop_col[\"affirms\"] /(rumour_prop_col[\"affirms\"]+rumour_prop_col[\"denies\"])\n",
    "reshare_rates = reshare_rates.assign(rumour_proportion=rumour_prop_col.values)\n",
    "reshare_rates.to_csv(f\"../data/processed/{study_id}-reshare_rates.csv\",index=False)"
   ]
  },
  {
   "cell_type": "markdown",
   "id": "7799064f-4dbd-46de-9a1b-2a5bd2bc5841",
   "metadata": {},
   "source": [
    "**write copies to file**"
   ]
  },
  {
   "cell_type": "code",
   "execution_count": 24,
   "id": "17ab3bc4-546b-49e9-bf39-78107938faf6",
   "metadata": {},
   "outputs": [],
   "source": [
    "for collection in db.list_collection_names():\n",
    "    items = list(db[collection].find())\n",
    "    fp = f\"../data/raw/{study_id}-{collection}.json\"\n",
    "    with open(fp, 'w') as outfile:\n",
    "        json.dump(items, outfile, sort_keys=True, indent=4)"
   ]
  },
  {
   "cell_type": "code",
   "execution_count": null,
   "id": "3bf97a25-262c-4ffb-a5c8-87187d1211db",
   "metadata": {},
   "outputs": [],
   "source": []
  }
 ],
 "metadata": {
  "kernelspec": {
   "display_name": "Python (Thesis)",
   "language": "python",
   "name": "thesis"
  },
  "language_info": {
   "codemirror_mode": {
    "name": "ipython",
    "version": 3
   },
   "file_extension": ".py",
   "mimetype": "text/x-python",
   "name": "python",
   "nbconvert_exporter": "python",
   "pygments_lexer": "ipython3",
   "version": "3.9.0"
  }
 },
 "nbformat": 4,
 "nbformat_minor": 5
}
