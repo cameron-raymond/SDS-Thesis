{
 "cells": [
  {
   "cell_type": "markdown",
   "id": "defined-semester",
   "metadata": {},
   "source": [
    "# Data Cleaning\n",
    "\n",
    "Exclusion critera:\n",
    "1. Don't use social media\n",
    "2. Was aware of one of the rumours\n",
    "3. Failed either attention check\n",
    "2. An outlier in completion time (>3 std devs below the mean)\n"
   ]
  },
  {
   "cell_type": "markdown",
   "id": "07c68f25-7847-4d30-8e68-2fd5af267d31",
   "metadata": {},
   "source": [
    "## Get data from Azure"
   ]
  },
  {
   "cell_type": "code",
   "execution_count": 1,
   "id": "c1eaa5a5-c083-402b-a6c6-292c14fb6dec",
   "metadata": {},
   "outputs": [],
   "source": [
    "from pymongo import MongoClient\n",
    "from secret import URI\n",
    "import json\n",
    "STUDY_ID =\"60b37265a9f60881975de69e\"\n",
    "client = MongoClient(URI)\n",
    "db = client[\"thesis-db\"]"
   ]
  },
  {
   "cell_type": "markdown",
   "id": "a4949b0b-46f7-4f98-9f1d-8a81e6dee105",
   "metadata": {},
   "source": [
    "**write copies to file**"
   ]
  },
  {
   "cell_type": "code",
   "execution_count": 2,
   "id": "d218ae11-0cb1-439b-98f4-193930b4c55c",
   "metadata": {},
   "outputs": [],
   "source": [
    "for collection in db.list_collection_names():\n",
    "    items = list(db[collection].find({\"STUDY_ID\": STUDY_ID}))\n",
    "    fp = f\"../data/raw/{STUDY_ID}-{collection}.json\"\n",
    "    with open(fp, 'w') as outfile:\n",
    "        json.dump(items, outfile, sort_keys=True, indent=4)"
   ]
  },
  {
   "cell_type": "code",
   "execution_count": 3,
   "id": "behavioral-assessment",
   "metadata": {},
   "outputs": [
    {
     "name": "stdout",
     "output_type": "stream",
     "text": [
      "Original number of participants: 189\n"
     ]
    }
   ],
   "source": [
    "import pandas as pd\n",
    "import numpy as np\n",
    "participants = pd.DataFrame.from_records(list(db[\"participants\"].find({\"STUDY_ID\": STUDY_ID})))\n",
    "num_participants = len(participants[\"PROLIFIC_PID\"].unique())\n",
    "dummies = [\"gender\",\"affiliatedMovements\",\"socialMedias\"]\n",
    "for col in dummies:\n",
    "    participants = participants.explode(col)\n",
    "participants = pd.get_dummies(participants,columns=dummies).max(level=0)\n",
    "# assert len(participants) == num_participants, \"Number of participants changed\"\n",
    "og_num_participants = len(participants[\"PROLIFIC_PID\"].unique())\n",
    "num_participants = og_num_participants\n",
    "print(f\"Original number of participants: {num_participants}\")"
   ]
  },
  {
   "cell_type": "code",
   "execution_count": 4,
   "id": "falling-breach",
   "metadata": {},
   "outputs": [],
   "source": [
    "to_drop = pd.Series(None,name=\"PROLIFIC_PID\",dtype=str)"
   ]
  },
  {
   "cell_type": "markdown",
   "id": "received-confusion",
   "metadata": {},
   "source": [
    "### 1. Drop participants who don't use social media"
   ]
  },
  {
   "cell_type": "code",
   "execution_count": 5,
   "id": "green-antenna",
   "metadata": {},
   "outputs": [
    {
     "name": "stdout",
     "output_type": "stream",
     "text": [
      "2 don't have social media, 187 remaining participants.\n"
     ]
    }
   ],
   "source": [
    "sm_cols = [c for c in participants.columns if \"socialMedias\" in c and not \"none\" in c]\n",
    "# TO TEST: Uncomment the \"none\" category to see if there is anyone who ticked it\n",
    "no_sm = (participants[sm_cols] == 0).T.all()\n",
    "if \"socialMedias_None\" in participants.columns:\n",
    "    no_sm = no_sm | participants[\"socialMedias_None\"].astype(bool)\n",
    "no_sm = pd.Series(participants[no_sm][\"PROLIFIC_PID\"].unique())\n",
    "to_drop = pd.Series(to_drop.append(no_sm))\n",
    "num_no_sm = len(no_sm)\n",
    "num_participants -= num_no_sm\n",
    "print(f\"{num_no_sm} don't have social media, {num_participants} remaining participants.\")"
   ]
  },
  {
   "cell_type": "markdown",
   "id": "overhead-outdoors",
   "metadata": {},
   "source": [
    "### 2. Drop participants who were aware of either rumour"
   ]
  },
  {
   "cell_type": "code",
   "execution_count": 6,
   "id": "857b802f-4476-4cad-860c-b4a4b95b8021",
   "metadata": {},
   "outputs": [],
   "source": [
    "mappings = {\n",
    "    \"pass\": True,\n",
    "    \"fail\": False,\n",
    "    \"true\": True,\n",
    "    \"false\": False\n",
    "}"
   ]
  },
  {
   "cell_type": "code",
   "execution_count": 7,
   "id": "78fd0a1f-37e2-4654-be1b-2f49b96aab06",
   "metadata": {},
   "outputs": [],
   "source": [
    "r1_check = pd.DataFrame.from_records(list(db[\"rumour-one-check\"].find({\"STUDY_ID\": STUDY_ID})))\n",
    "r2_check = pd.DataFrame.from_records(list(db[\"rumour-two-check\"].find({\"STUDY_ID\": STUDY_ID})))\n",
    "rumour_check = r1_check.merge(r2_check,\n",
    "                              left_on=\"PROLIFIC_PID\",\n",
    "                              right_on=\"PROLIFIC_PID\",\n",
    "                              suffixes=(\"R1\",\"R2\"),\n",
    "                              how=\"inner\")\n",
    "\n",
    "for col in list([\"awareR1\",\"awareR2\",\"attentionCheckR1\",\"attentionCheckR2\"]):\n",
    "      rumour_check[col] = rumour_check[col].map(mappings)\n",
    "# assert len(rumour_check) == len(participants), f\"rumour check (n={len(rumour_check)}) has different row length from participants (n={len(participants)})\""
   ]
  },
  {
   "cell_type": "code",
   "execution_count": 8,
   "id": "9770d315-8b35-453a-ac1e-4c8d516c51bb",
   "metadata": {},
   "outputs": [
    {
     "name": "stdout",
     "output_type": "stream",
     "text": [
      "61 aware of a rumour, 126 remaining participants.\n"
     ]
    }
   ],
   "source": [
    "aware = rumour_check[\"awareR1\"].astype(bool) | rumour_check[\"awareR2\"].astype(bool)\n",
    "aware = pd.Series(rumour_check[aware][\"PROLIFIC_PID\"].unique())\n",
    "to_drop = pd.Series(to_drop.append(aware))\n",
    "num_aware = len(aware)\n",
    "num_participants -= num_aware\n",
    "print(f\"{num_aware} aware of a rumour, {num_participants} remaining participants.\")"
   ]
  },
  {
   "cell_type": "markdown",
   "id": "9213d5b6-5c8e-4c57-8088-9e187e253ea2",
   "metadata": {},
   "source": [
    "### 3. Drop participants who failed either attention check"
   ]
  },
  {
   "cell_type": "code",
   "execution_count": 9,
   "id": "cd894ac2-becf-4de4-b771-5200fe35d5c8",
   "metadata": {},
   "outputs": [
    {
     "name": "stdout",
     "output_type": "stream",
     "text": [
      "3 failed attention check, 123 remaining participants.\n"
     ]
    }
   ],
   "source": [
    "no_attention = ~(rumour_check[\"attentionCheckR1\"].astype(bool) & rumour_check[\"attentionCheckR2\"].astype(bool))\n",
    "no_attention = pd.Series(rumour_check[no_attention][\"PROLIFIC_PID\"].unique())\n",
    "to_drop = pd.Series(to_drop.append(no_attention))\n",
    "num_no_attention = len(no_attention)\n",
    "num_participants -= num_no_attention\n",
    "print(f\"{num_no_attention} failed attention check, {num_participants} remaining participants.\")"
   ]
  },
  {
   "cell_type": "markdown",
   "id": "leading-speaker",
   "metadata": {},
   "source": [
    "### 5. Drop participants who were outliers in the amount of time taken\n",
    "\n",
    "Outlier: participants who the amount of time taken is more than 3 standard deviations below the mean \n",
    "- not above as we put a time cap on the time taken"
   ]
  },
  {
   "cell_type": "code",
   "execution_count": 10,
   "id": "4e95aa84-f520-4a1a-975b-89ad22993875",
   "metadata": {},
   "outputs": [],
   "source": [
    "r1_posts = pd.DataFrame.from_records(list(db[\"rumour-one-results\"].find({\"STUDY_ID\": STUDY_ID})))\n",
    "r1_posts = r1_posts.explode(\"posts\")\n",
    "r1_posts = pd.concat([r1_posts.drop(['posts'], axis=1), r1_posts['posts'].apply(pd.Series)], axis=1)\n",
    "\n",
    "r2_posts = pd.DataFrame.from_records(list(db[\"rumour-two-results\"].find({\"STUDY_ID\": STUDY_ID})))\n",
    "r2_posts = r2_posts.explode(\"posts\")\n",
    "r2_posts = pd.concat([r2_posts.drop(['posts'], axis=1), r2_posts['posts'].apply(pd.Series)], axis=1)\n",
    "posts = pd.concat([r1_posts,r2_posts])"
   ]
  },
  {
   "cell_type": "code",
   "execution_count": 11,
   "id": "208ce8ad-610b-41a1-a58c-da290f435dc0",
   "metadata": {},
   "outputs": [
    {
     "data": {
      "text/plain": [
       "<AxesSubplot:ylabel='Frequency'>"
      ]
     },
     "execution_count": 11,
     "metadata": {},
     "output_type": "execute_result"
    },
    {
     "data": {
      "image/png": "[encoded data removed]",
      "text/plain": [
       "<Figure size 432x288 with 1 Axes>"
      ]
     },
     "metadata": {
      "needs_background": "light"
     },
     "output_type": "display_data"
    }
   ],
   "source": [
    "from scipy.stats import zscore\n",
    "posts.secondsTaken.plot.hist(alpha=0.5)\n",
    "z_scores = zscore(posts[\"secondsTaken\"])\n",
    "outliers = posts[z_scores < -3]\n",
    "outliers.secondsTaken.plot.hist(alpha=0.5)"
   ]
  },
  {
   "cell_type": "code",
   "execution_count": 12,
   "id": "906cbc76-3232-4b52-8d03-195131a54ea1",
   "metadata": {},
   "outputs": [
    {
     "name": "stdin",
     "output_type": "stream",
     "text": [
      "Drop every participant who took 18 seconds or fewer (mean=102.22)? (YES/NO) YES\n"
     ]
    },
    {
     "name": "stdout",
     "output_type": "stream",
     "text": [
      "2 outlier(s) in completion time, 121 remaining participants.\n"
     ]
    }
   ],
   "source": [
    "if len(outliers[\"PROLIFIC_PID\"].unique()):\n",
    "    thresh, mean = outliers[\"secondsTaken\"].max(), posts[\"secondsTaken\"].mean()\n",
    "    drop = input(f\"Drop every participant who took {thresh} seconds or fewer (mean={mean:.2f})? (YES/NO)\")\n",
    "    if drop.lower() == \"yes\":\n",
    "        outliers = pd.Series(outliers[\"PROLIFIC_PID\"].unique())\n",
    "        num_outliers = len(outliers)\n",
    "        to_drop = pd.Series(to_drop.append(outliers))\n",
    "        num_participants -= num_outliers\n",
    "        print(f\"{num_outliers} outlier(s) in completion time, {num_participants} remaining participants.\")\n",
    "    else:\n",
    "        print(f\"Not dropping. {num_participants} remaining participants.\")\n",
    "else:\n",
    "    print(\"No outliers\")"
   ]
  },
  {
   "cell_type": "markdown",
   "id": "10b69d2f-4d06-4145-8231-d1e026f5c2b6",
   "metadata": {},
   "source": [
    "> Instead, we analyze our data at the level of the posts (a boolean variable indicating whether the participant shared that specific post; 56 observations per partcipant using a single binomial logistic regression with a random effect on the participant ID and post ID standard errors clustered on both participant and headline and including experimental session dummies. Our regression takes the control condition as the baseline and tests for a warning effect (or, potentially, a bacfire effect if the warning hurts rather than helps) with a Warned dummy that indicates a headline being in the warning treatment and having a warning, and tests for an implied truth effect with an Untagged dummy that indicates a headline being in the warning treatment and not having a warning"
   ]
  },
  {
   "cell_type": "code",
   "execution_count": 13,
   "id": "8bf9b6d6-cb51-4267-9d9f-54368f698199",
   "metadata": {},
   "outputs": [
    {
     "data": {
      "text/html": [
       "<div>\n",
       "<style scoped>\n",
       "    .dataframe tbody tr th:only-of-type {\n",
       "        vertical-align: middle;\n",
       "    }\n",
       "\n",
       "    .dataframe tbody tr th {\n",
       "        vertical-align: top;\n",
       "    }\n",
       "\n",
       "    .dataframe thead th {\n",
       "        text-align: right;\n",
       "    }\n",
       "</style>\n",
       "<table border=\"1\" class=\"dataframe\">\n",
       "  <thead>\n",
       "    <tr style=\"text-align: right;\">\n",
       "      <th></th>\n",
       "      <th>_id</th>\n",
       "      <th>PROLIFIC_PID</th>\n",
       "      <th>SESSION_ID</th>\n",
       "      <th>STUDY_ID</th>\n",
       "      <th>condition</th>\n",
       "      <th>timeSubmitted</th>\n",
       "      <th>secondsTaken</th>\n",
       "      <th>id</th>\n",
       "      <th>rumour</th>\n",
       "      <th>code</th>\n",
       "      <th>evidence</th>\n",
       "      <th>warning</th>\n",
       "      <th>reshared</th>\n",
       "      <th>clickedWarning</th>\n",
       "      <th>timestamp</th>\n",
       "      <th>posterGender</th>\n",
       "      <th>posterId</th>\n",
       "      <th>misleading</th>\n",
       "      <th>untagged</th>\n",
       "    </tr>\n",
       "  </thead>\n",
       "  <tbody>\n",
       "    <tr>\n",
       "      <th>0</th>\n",
       "      <td>5dd365ac670d1a36abffcea1</td>\n",
       "      <td>5dd365ac670d1a36abffcea1</td>\n",
       "      <td>60b8a3e5d3c4976eb8c2cba9</td>\n",
       "      <td>60b37265a9f60881975de69e</td>\n",
       "      <td>treatment</td>\n",
       "      <td>2021-06-03T09:50:15.953Z</td>\n",
       "      <td>120</td>\n",
       "      <td>1.283849e+18</td>\n",
       "      <td>R1</td>\n",
       "      <td>neutral</td>\n",
       "      <td>high</td>\n",
       "      <td>False</td>\n",
       "      <td>False</td>\n",
       "      <td>False</td>\n",
       "      <td>3</td>\n",
       "      <td>male</td>\n",
       "      <td>RnJlZGVyaWNrIFdvb2RodHRwczovL3JhbmRvbXVzZXIubW...</td>\n",
       "      <td>False</td>\n",
       "      <td>False</td>\n",
       "    </tr>\n",
       "    <tr>\n",
       "      <th>0</th>\n",
       "      <td>5dd365ac670d1a36abffcea1</td>\n",
       "      <td>5dd365ac670d1a36abffcea1</td>\n",
       "      <td>60b8a3e5d3c4976eb8c2cba9</td>\n",
       "      <td>60b37265a9f60881975de69e</td>\n",
       "      <td>treatment</td>\n",
       "      <td>2021-06-03T09:50:15.953Z</td>\n",
       "      <td>120</td>\n",
       "      <td>1.283767e+18</td>\n",
       "      <td>R1</td>\n",
       "      <td>neutral</td>\n",
       "      <td>high</td>\n",
       "      <td>False</td>\n",
       "      <td>False</td>\n",
       "      <td>False</td>\n",
       "      <td>4</td>\n",
       "      <td>female</td>\n",
       "      <td>S2F0aWUgTXVycGh5aHR0cHM6Ly9yYW5kb211c2VyLm1lL2...</td>\n",
       "      <td>False</td>\n",
       "      <td>False</td>\n",
       "    </tr>\n",
       "    <tr>\n",
       "      <th>0</th>\n",
       "      <td>5dd365ac670d1a36abffcea1</td>\n",
       "      <td>5dd365ac670d1a36abffcea1</td>\n",
       "      <td>60b8a3e5d3c4976eb8c2cba9</td>\n",
       "      <td>60b37265a9f60881975de69e</td>\n",
       "      <td>treatment</td>\n",
       "      <td>2021-06-03T09:50:15.953Z</td>\n",
       "      <td>120</td>\n",
       "      <td>1.283508e+18</td>\n",
       "      <td>R1</td>\n",
       "      <td>denies</td>\n",
       "      <td>high</td>\n",
       "      <td>True</td>\n",
       "      <td>False</td>\n",
       "      <td>False</td>\n",
       "      <td>11</td>\n",
       "      <td>male</td>\n",
       "      <td>R2FyeSBIb3BraW5zaHR0cHM6Ly9yYW5kb211c2VyLm1lL2...</td>\n",
       "      <td>True</td>\n",
       "      <td>False</td>\n",
       "    </tr>\n",
       "    <tr>\n",
       "      <th>0</th>\n",
       "      <td>5dd365ac670d1a36abffcea1</td>\n",
       "      <td>5dd365ac670d1a36abffcea1</td>\n",
       "      <td>60b8a3e5d3c4976eb8c2cba9</td>\n",
       "      <td>60b37265a9f60881975de69e</td>\n",
       "      <td>treatment</td>\n",
       "      <td>2021-06-03T09:50:15.953Z</td>\n",
       "      <td>120</td>\n",
       "      <td>1.283371e+18</td>\n",
       "      <td>R1</td>\n",
       "      <td>affirms</td>\n",
       "      <td>high</td>\n",
       "      <td>False</td>\n",
       "      <td>False</td>\n",
       "      <td>False</td>\n",
       "      <td>11</td>\n",
       "      <td>female</td>\n",
       "      <td>V2lsbGllIENsYXJraHR0cHM6Ly9yYW5kb211c2VyLm1lL2...</td>\n",
       "      <td>False</td>\n",
       "      <td>False</td>\n",
       "    </tr>\n",
       "    <tr>\n",
       "      <th>0</th>\n",
       "      <td>5dd365ac670d1a36abffcea1</td>\n",
       "      <td>5dd365ac670d1a36abffcea1</td>\n",
       "      <td>60b8a3e5d3c4976eb8c2cba9</td>\n",
       "      <td>60b37265a9f60881975de69e</td>\n",
       "      <td>treatment</td>\n",
       "      <td>2021-06-03T09:50:15.953Z</td>\n",
       "      <td>120</td>\n",
       "      <td>1.283538e+18</td>\n",
       "      <td>R1</td>\n",
       "      <td>affirms</td>\n",
       "      <td>high</td>\n",
       "      <td>False</td>\n",
       "      <td>True</td>\n",
       "      <td>False</td>\n",
       "      <td>13</td>\n",
       "      <td>female</td>\n",
       "      <td>TWVsaW5kYSBCYXJyZXR0aHR0cHM6Ly9yYW5kb211c2VyLm...</td>\n",
       "      <td>False</td>\n",
       "      <td>False</td>\n",
       "    </tr>\n",
       "  </tbody>\n",
       "</table>\n",
       "</div>"
      ],
      "text/plain": [
       "                        _id              PROLIFIC_PID  \\\n",
       "0  5dd365ac670d1a36abffcea1  5dd365ac670d1a36abffcea1   \n",
       "0  5dd365ac670d1a36abffcea1  5dd365ac670d1a36abffcea1   \n",
       "0  5dd365ac670d1a36abffcea1  5dd365ac670d1a36abffcea1   \n",
       "0  5dd365ac670d1a36abffcea1  5dd365ac670d1a36abffcea1   \n",
       "0  5dd365ac670d1a36abffcea1  5dd365ac670d1a36abffcea1   \n",
       "\n",
       "                 SESSION_ID                  STUDY_ID  condition  \\\n",
       "0  60b8a3e5d3c4976eb8c2cba9  60b37265a9f60881975de69e  treatment   \n",
       "0  60b8a3e5d3c4976eb8c2cba9  60b37265a9f60881975de69e  treatment   \n",
       "0  60b8a3e5d3c4976eb8c2cba9  60b37265a9f60881975de69e  treatment   \n",
       "0  60b8a3e5d3c4976eb8c2cba9  60b37265a9f60881975de69e  treatment   \n",
       "0  60b8a3e5d3c4976eb8c2cba9  60b37265a9f60881975de69e  treatment   \n",
       "\n",
       "              timeSubmitted  secondsTaken            id rumour     code  \\\n",
       "0  2021-06-03T09:50:15.953Z           120  1.283849e+18     R1  neutral   \n",
       "0  2021-06-03T09:50:15.953Z           120  1.283767e+18     R1  neutral   \n",
       "0  2021-06-03T09:50:15.953Z           120  1.283508e+18     R1   denies   \n",
       "0  2021-06-03T09:50:15.953Z           120  1.283371e+18     R1  affirms   \n",
       "0  2021-06-03T09:50:15.953Z           120  1.283538e+18     R1  affirms   \n",
       "\n",
       "  evidence  warning  reshared  clickedWarning  timestamp posterGender  \\\n",
       "0     high    False     False           False          3         male   \n",
       "0     high    False     False           False          4       female   \n",
       "0     high     True     False           False         11         male   \n",
       "0     high    False     False           False         11       female   \n",
       "0     high    False      True           False         13       female   \n",
       "\n",
       "                                            posterId  misleading  untagged  \n",
       "0  RnJlZGVyaWNrIFdvb2RodHRwczovL3JhbmRvbXVzZXIubW...       False     False  \n",
       "0  S2F0aWUgTXVycGh5aHR0cHM6Ly9yYW5kb211c2VyLm1lL2...       False     False  \n",
       "0  R2FyeSBIb3BraW5zaHR0cHM6Ly9yYW5kb211c2VyLm1lL2...        True     False  \n",
       "0  V2lsbGllIENsYXJraHR0cHM6Ly9yYW5kb211c2VyLm1lL2...       False     False  \n",
       "0  TWVsaW5kYSBCYXJyZXR0aHR0cHM6Ly9yYW5kb211c2VyLm...       False     False  "
      ]
     },
     "execution_count": 13,
     "metadata": {},
     "output_type": "execute_result"
    }
   ],
   "source": [
    "posts[\"misleading\"] = ((posts[\"code\"] == \"affirms\") & (posts[\"evidence\"] == \"low\")) | ((posts[\"code\"] == \"denies\") & (posts[\"evidence\"] == \"high\"))\n",
    "posts[\"untagged\"] = (posts[\"condition\"] == \"treatment\") & posts[\"misleading\"] & (~posts[\"warning\"])\n",
    "posts.head()"
   ]
  },
  {
   "cell_type": "markdown",
   "id": "f2e27f6f-0d61-4c32-8db0-2c0feaac3090",
   "metadata": {},
   "source": [
    "### Post study questionairre"
   ]
  },
  {
   "cell_type": "code",
   "execution_count": 14,
   "id": "974f0ff4-ffee-4c97-9f3d-d753d4a96f52",
   "metadata": {},
   "outputs": [
    {
     "name": "stdout",
     "output_type": "stream",
     "text": [
      "186x12\n"
     ]
    }
   ],
   "source": [
    "post_study = pd.DataFrame.from_records(list(db[\"post-study-responses\"].find({\"STUDY_ID\": STUDY_ID})))\n",
    "print(\"{}x{}\".format(*post_study.shape))"
   ]
  },
  {
   "cell_type": "markdown",
   "id": "c9f3f4fc-13ab-4c5d-8ae4-1fe9d8218f58",
   "metadata": {},
   "source": [
    "#### Data type conversions"
   ]
  },
  {
   "cell_type": "code",
   "execution_count": 15,
   "id": "dbd30e81-c56f-43f9-9a28-e5902918c3d4",
   "metadata": {},
   "outputs": [],
   "source": [
    "participants[\"timeSubmitted\"] = pd.to_datetime(participants[\"timeSubmitted\"], infer_datetime_format=True)  \n",
    "participants[\"age\"] = participants[\"age\"].astype(int)\n",
    "participants[\"attendsProtests\"] = participants[\"attendsProtests\"].map(mappings)\n",
    "posts[\"timeSubmitted\"] = pd.to_datetime(posts[\"timeSubmitted\"], infer_datetime_format=True)  \n",
    "posts[\"id\"] = posts[\"id\"].astype(int)\n",
    "rumour_check[\"timeSubmittedR1\"] = pd.to_datetime(rumour_check[\"timeSubmittedR1\"], infer_datetime_format=True)  \n",
    "rumour_check[\"timeSubmittedR2\"] = pd.to_datetime(rumour_check[\"timeSubmittedR2\"], infer_datetime_format=True) \n",
    "post_study[\"veracityR1\"] = post_study[\"veracityR1\"].astype(float)\n",
    "post_study[\"veracityR2\"] = post_study[\"veracityR2\"].astype(float)"
   ]
  },
  {
   "cell_type": "markdown",
   "id": "949b6ae6-ab80-414e-87ce-4786b3396f70",
   "metadata": {},
   "source": [
    "#### Drop uneccessary columns"
   ]
  },
  {
   "cell_type": "code",
   "execution_count": 16,
   "id": "9f716788-b958-4c8b-a337-a99e2236ef41",
   "metadata": {},
   "outputs": [
    {
     "name": "stdout",
     "output_type": "stream",
     "text": [
      "Index(['_id', 'PROLIFIC_PID', 'SESSION_ID', 'STUDY_ID', 'consent',\n",
      "       'timeSubmitted', 'educationLevel', 'politicalAffiliation',\n",
      "       'attendsProtests', 'age', 'gender_man', 'gender_nonBinary',\n",
      "       'gender_woman', 'affiliatedMovements_ Land Back',\n",
      "       'affiliatedMovements_ women's equity (not \"Gender\")',\n",
      "       'affiliatedMovements_Animal Welfare',\n",
      "       'affiliatedMovements_Animal rights',\n",
      "       'affiliatedMovements_Anti-Extradition Law Amendment Bill Movement',\n",
      "       'affiliatedMovements_Change animal cruelty laws ',\n",
      "       'affiliatedMovements_Environmental',\n",
      "       'affiliatedMovements_LGB rights (none of that other alphabet-soup nonsense)',\n",
      "       'affiliatedMovements_Pro-choice',\n",
      "       'affiliatedMovements_Socioeconomic inequalities (healthcare retirement...)',\n",
      "       'affiliatedMovements_Stop AAPI Hate', 'affiliatedMovements_climate',\n",
      "       'affiliatedMovements_free apartheid of Palestinians ',\n",
      "       'affiliatedMovements_freeSpeech', 'affiliatedMovements_gender',\n",
      "       'affiliatedMovements_indigenous', 'affiliatedMovements_labour',\n",
      "       'affiliatedMovements_lgbtqa', 'affiliatedMovements_none',\n",
      "       'affiliatedMovements_race', 'affiliatedMovements_religion',\n",
      "       'affiliatedMovements_smallGov', 'socialMedias_ WhatsApp',\n",
      "       'socialMedias_Clubhouse', 'socialMedias_Discord',\n",
      "       'socialMedias_Linkedin', 'socialMedias_None', 'socialMedias_Telegram',\n",
      "       'socialMedias_Tumblr', 'socialMedias_Whatsapp', 'socialMedias_facebook',\n",
      "       'socialMedias_instagram', 'socialMedias_reddit',\n",
      "       'socialMedias_snapchat', 'socialMedias_tiktok', 'socialMedias_tumblr',\n",
      "       'socialMedias_twitter'],\n",
      "      dtype='object')\n",
      "Index(['_id', 'PROLIFIC_PID', 'SESSION_ID', 'STUDY_ID', 'condition',\n",
      "       'timeSubmitted', 'secondsTaken', 'id', 'rumour', 'code', 'evidence',\n",
      "       'warning', 'reshared', 'clickedWarning', 'timestamp', 'posterGender',\n",
      "       'posterId', 'misleading', 'untagged'],\n",
      "      dtype='object')\n",
      "Index(['_id', 'PROLIFIC_PID', 'SESSION_ID', 'STUDY_ID', 'timeSubmitted',\n",
      "       'decisionProcess', 'interventionFactor', 'issues', 'comments',\n",
      "       'canShareData', 'veracityR1', 'veracityR2'],\n",
      "      dtype='object')\n"
     ]
    }
   ],
   "source": [
    "print(participants.columns)\n",
    "participants.drop(['_id', 'SESSION_ID', 'STUDY_ID'],axis=1,inplace=True)\n",
    "\n",
    "rumour_check = rumour_check[[\"PROLIFIC_PID\",\n",
    "                             \"timeSubmittedR1\",\n",
    "                             \"timeSubmittedR2\",\n",
    "                             \"awareR1\",\n",
    "                             \"awareR2\",\n",
    "                             \"attentionCheckR1\",\n",
    "                             \"attentionCheckR2\"]]\n",
    "\n",
    "print(posts.columns)\n",
    "posts.drop(['_id', 'SESSION_ID', 'STUDY_ID'],axis=1,inplace=True)\n",
    "\n",
    "print(post_study.columns)\n",
    "post_study.drop(['_id', 'SESSION_ID', 'STUDY_ID'],axis=1,inplace=True)"
   ]
  },
  {
   "cell_type": "markdown",
   "id": "c3098f5b-de93-4d8a-8a7b-ca82dee67b6a",
   "metadata": {},
   "source": [
    "#### Convert all empty strings to None"
   ]
  },
  {
   "cell_type": "code",
   "execution_count": 17,
   "id": "8fa9b7df-d9eb-47f8-ad2a-dd9fa043e22d",
   "metadata": {},
   "outputs": [],
   "source": [
    "participants = participants.replace(r'^\\s*$', np.NaN, regex=True)\n",
    "rumour_check = rumour_check.replace(r'^\\s*$', np.NaN, regex=True)\n",
    "posts = posts.replace(r'^\\s*$', np.NaN, regex=True)\n",
    "post_study = post_study.replace(r'^\\s*$', np.NaN, regex=True)\n",
    "None"
   ]
  },
  {
   "cell_type": "markdown",
   "id": "562a1e36-d29d-40af-8a21-5e1d7105bb34",
   "metadata": {},
   "source": [
    "#### Convert all negative numbers to None"
   ]
  },
  {
   "cell_type": "code",
   "execution_count": 18,
   "id": "0da445ee-5e39-4588-b451-3af4c05826a0",
   "metadata": {
    "tags": []
   },
   "outputs": [
    {
     "name": "stderr",
     "output_type": "stream",
     "text": [
      "<ipython-input-18-0e488cc4420e>:15: SettingWithCopyWarning: \n",
      "A value is trying to be set on a copy of a slice from a DataFrame.\n",
      "Try using .loc[row_indexer,col_indexer] = value instead\n",
      "\n",
      "See the caveats in the documentation: https://pandas.pydata.org/pandas-docs/stable/user_guide/indexing.html#returning-a-view-versus-a-copy\n",
      "  post_study[post_study[c] < 0][c] = np.NaN\n",
      "<ipython-input-18-0e488cc4420e>:15: SettingWithCopyWarning: \n",
      "A value is trying to be set on a copy of a slice from a DataFrame.\n",
      "Try using .loc[row_indexer,col_indexer] = value instead\n",
      "\n",
      "See the caveats in the documentation: https://pandas.pydata.org/pandas-docs/stable/user_guide/indexing.html#returning-a-view-versus-a-copy\n",
      "  post_study[post_study[c] < 0][c] = np.NaN\n"
     ]
    }
   ],
   "source": [
    "num_cols = participants.select_dtypes(include=['number']).columns\n",
    "for c in num_cols:\n",
    "    participants[participants[c] < 0][c] = np.NaN\n",
    "    \n",
    "num_cols = rumour_check.select_dtypes(include=['number']).columns\n",
    "for c in num_cols:\n",
    "    rumour_check[rumour_check[c] < 0][c] = np.NaN\n",
    "    \n",
    "num_cols = posts.select_dtypes(include=['number']).columns\n",
    "for c in num_cols:\n",
    "    posts[posts[c] < 0][c] = np.NaN\n",
    "    \n",
    "num_cols = post_study.select_dtypes(include=['number']).columns\n",
    "for c in num_cols:\n",
    "    post_study[post_study[c] < 0][c] = np.NaN"
   ]
  },
  {
   "cell_type": "markdown",
   "id": "934fb1fa-5c9a-4843-862d-2927d7fa3b48",
   "metadata": {},
   "source": [
    "#### Drop users that failed exclusion criteria"
   ]
  },
  {
   "cell_type": "code",
   "execution_count": 19,
   "id": "41de86e8-5f39-4511-93dc-d085c1a93ed9",
   "metadata": {},
   "outputs": [
    {
     "name": "stdout",
     "output_type": "stream",
     "text": [
      "189\n",
      "124\n",
      "----\n",
      "183\n",
      "118\n",
      "----\n",
      "10472\n",
      "6888\n",
      "----\n",
      "186\n",
      "123\n",
      "----\n"
     ]
    }
   ],
   "source": [
    "print(len(participants))\n",
    "participants = participants[~participants[\"PROLIFIC_PID\"].isin(to_drop)]\n",
    "print(len(participants))\n",
    "print(\"----\")\n",
    "\n",
    "print(len(rumour_check))\n",
    "rumour_check = rumour_check[~rumour_check[\"PROLIFIC_PID\"].isin(to_drop)]\n",
    "print(len(rumour_check))\n",
    "print(\"----\")\n",
    "\n",
    "print(len(posts))\n",
    "posts = posts[~posts[\"PROLIFIC_PID\"].isin(to_drop)]\n",
    "print(len(posts))\n",
    "print(\"----\")\n",
    "\n",
    "print(len(post_study))\n",
    "post_study = post_study[~post_study[\"PROLIFIC_PID\"].isin(to_drop)]\n",
    "print(len(post_study))\n",
    "print(\"----\")"
   ]
  },
  {
   "cell_type": "markdown",
   "id": "7832f7e9-b700-4e8e-b3ae-905296e232f6",
   "metadata": {},
   "source": [
    "#### Hash user ID"
   ]
  },
  {
   "cell_type": "code",
   "execution_count": 20,
   "id": "9c828b81-6dce-4a3f-aee9-f451579993a6",
   "metadata": {},
   "outputs": [],
   "source": [
    "participants['user_id'] = participants['PROLIFIC_PID'].apply(hash).astype('str')\n",
    "prolific_pids = pd.Series(pd.concat([participants[\"PROLIFIC_PID\"],\n",
    "                           rumour_check[\"PROLIFIC_PID\"],\n",
    "                           posts[\"PROLIFIC_PID\"],\n",
    "                           post_study[\"PROLIFIC_PID\"]]).unique())\n",
    "hashed_ids = prolific_pids.apply(hash).astype('str')\n",
    "mapping = pd.concat([prolific_pids, hashed_ids], axis=1).set_index(0)[1].to_dict()"
   ]
  },
  {
   "cell_type": "code",
   "execution_count": 21,
   "id": "3e9afb17-d03a-406b-baab-90ea29fdfe4c",
   "metadata": {},
   "outputs": [],
   "source": [
    "rumour_check['user_id'] = rumour_check[\"PROLIFIC_PID\"].map(mapping)\n",
    "posts['user_id'] = posts[\"PROLIFIC_PID\"].map(mapping)\n",
    "post_study['user_id'] = post_study[\"PROLIFIC_PID\"].map(mapping)"
   ]
  },
  {
   "cell_type": "code",
   "execution_count": 22,
   "id": "cb9bdc95-0c0f-448b-9b65-b2ab210548c9",
   "metadata": {},
   "outputs": [],
   "source": [
    "participants.drop(\"PROLIFIC_PID\",axis=1,inplace=True)\n",
    "rumour_check.drop(\"PROLIFIC_PID\",axis=1,inplace=True)\n",
    "posts.drop(\"PROLIFIC_PID\",axis=1,inplace=True)\n",
    "post_study.drop(\"PROLIFIC_PID\",axis=1,inplace=True)"
   ]
  },
  {
   "cell_type": "code",
   "execution_count": 23,
   "id": "c7842230-1df7-453e-b699-f0bde8c54b8b",
   "metadata": {},
   "outputs": [],
   "source": [
    "participants = participants[list(participants.columns[-1:])+list(participants.columns[:-1])]\n",
    "rumour_check = rumour_check[list(rumour_check.columns[-1:])+list(rumour_check.columns[:-1])]\n",
    "posts = posts[list(posts.columns[-1:])+list(posts.columns[:-1])]\n",
    "post_study = post_study[list(post_study.columns[-1:])+list(post_study.columns[:-1])]"
   ]
  },
  {
   "cell_type": "code",
   "execution_count": 24,
   "id": "b2796b69-5571-4d92-85d2-2c9412b58baa",
   "metadata": {},
   "outputs": [
    {
     "name": "stdout",
     "output_type": "stream",
     "text": [
      "Dropped 34.39% of participants (65/189)\n"
     ]
    }
   ],
   "source": [
    "prec_dop = 100*(og_num_participants-len(participants))/og_num_participants\n",
    "print(f\"Dropped {prec_dop:.2f}% of participants ({og_num_participants-len(participants)}/{og_num_participants})\")"
   ]
  },
  {
   "cell_type": "markdown",
   "id": "growing-covering",
   "metadata": {},
   "source": [
    "### Write to file"
   ]
  },
  {
   "cell_type": "code",
   "execution_count": 25,
   "id": "altered-concern",
   "metadata": {},
   "outputs": [],
   "source": [
    "participants.to_csv(f\"../data/processed/{STUDY_ID}-participants.csv\",index=False)\n",
    "rumour_check.to_csv(f\"../data/processed/{STUDY_ID}-rumour-checks.csv\",index=False)\n",
    "posts.to_csv(f\"../data/processed/{STUDY_ID}-rumour-results.csv\",index=False)\n",
    "post_study.to_csv(f\"../data/processed/{STUDY_ID}-post-study-responses.csv\",index=False)"
   ]
  },
  {
   "cell_type": "markdown",
   "id": "otherwise-klein",
   "metadata": {},
   "source": [
    "## Merge data\n",
    "\n",
    "1. System level data\n",
    "2. post level data\n",
    "\n",
    "### System level data"
   ]
  },
  {
   "cell_type": "code",
   "execution_count": 26,
   "id": "confident-valentine",
   "metadata": {},
   "outputs": [],
   "source": [
    "from collections import OrderedDict\n",
    "group_cols = [\"user_id\",\"condition\",\"evidence\",\"code\"]\n",
    "reshare_rates = pd.DataFrame(posts.groupby(group_cols)[\"reshared\"].sum() / posts.groupby(group_cols)[\"reshared\"].count()).reset_index()\n",
    "# Nicely format labels\n",
    "reshare_rates['condition'] = reshare_rates['condition'].str.title()\n",
    "reshare_rates['code'] = reshare_rates['code'].str.title()\n",
    "reshare_rates[\"evidence\"] = reshare_rates[\"evidence\"].str.title()\n",
    "reshare_rates = reshare_rates.pivot(index=[\"user_id\",\"condition\",\"evidence\"],\n",
    "                                    columns=\"code\",\n",
    "                                    values=\"reshared\").reset_index()\n",
    "cols = list(OrderedDict.fromkeys(list(participants.columns[1:])+list(reshare_rates.columns)))\n",
    "reshare_rates = reshare_rates.merge(participants,how=\"left\",left_on=\"user_id\",right_on=\"user_id\")\n",
    "reshare_rates = reshare_rates.fillna(0)[cols]"
   ]
  },
  {
   "cell_type": "markdown",
   "id": "e4af7a9e-09b9-4300-a731-b4954b4d6328",
   "metadata": {},
   "source": [
    "### Add veracity estimates to post"
   ]
  },
  {
   "cell_type": "code",
   "execution_count": 27,
   "id": "093b4b81-9618-48b8-997b-6c436b576dbe",
   "metadata": {},
   "outputs": [
    {
     "data": {
      "text/html": [
       "<div>\n",
       "<style scoped>\n",
       "    .dataframe tbody tr th:only-of-type {\n",
       "        vertical-align: middle;\n",
       "    }\n",
       "\n",
       "    .dataframe tbody tr th {\n",
       "        vertical-align: top;\n",
       "    }\n",
       "\n",
       "    .dataframe thead th {\n",
       "        text-align: right;\n",
       "    }\n",
       "</style>\n",
       "<table border=\"1\" class=\"dataframe\">\n",
       "  <thead>\n",
       "    <tr style=\"text-align: right;\">\n",
       "      <th></th>\n",
       "      <th>consent</th>\n",
       "      <th>timeSubmitted</th>\n",
       "      <th>educationLevel</th>\n",
       "      <th>politicalAffiliation</th>\n",
       "      <th>attendsProtests</th>\n",
       "      <th>age</th>\n",
       "      <th>gender_man</th>\n",
       "      <th>gender_nonBinary</th>\n",
       "      <th>gender_woman</th>\n",
       "      <th>affiliatedMovements_ Land Back</th>\n",
       "      <th>...</th>\n",
       "      <th>socialMedias_tumblr</th>\n",
       "      <th>socialMedias_twitter</th>\n",
       "      <th>user_id</th>\n",
       "      <th>condition</th>\n",
       "      <th>evidence</th>\n",
       "      <th>Affirms</th>\n",
       "      <th>Denies</th>\n",
       "      <th>Neutral</th>\n",
       "      <th>Questions</th>\n",
       "      <th>veracityEstimate</th>\n",
       "    </tr>\n",
       "  </thead>\n",
       "  <tbody>\n",
       "    <tr>\n",
       "      <th>0</th>\n",
       "      <td>1.0</td>\n",
       "      <td>2021-06-04 13:39:52.944000+00:00</td>\n",
       "      <td>highSchool</td>\n",
       "      <td>left</td>\n",
       "      <td>True</td>\n",
       "      <td>49.0</td>\n",
       "      <td>1.0</td>\n",
       "      <td>0.0</td>\n",
       "      <td>0.0</td>\n",
       "      <td>0.0</td>\n",
       "      <td>...</td>\n",
       "      <td>0.0</td>\n",
       "      <td>1.0</td>\n",
       "      <td>-1186290623666797382</td>\n",
       "      <td>Control</td>\n",
       "      <td>High</td>\n",
       "      <td>0.1</td>\n",
       "      <td>0.1</td>\n",
       "      <td>0.50</td>\n",
       "      <td>0.00</td>\n",
       "      <td>5.0</td>\n",
       "    </tr>\n",
       "    <tr>\n",
       "      <th>1</th>\n",
       "      <td>1.0</td>\n",
       "      <td>2021-06-04 13:39:52.944000+00:00</td>\n",
       "      <td>highSchool</td>\n",
       "      <td>left</td>\n",
       "      <td>True</td>\n",
       "      <td>49.0</td>\n",
       "      <td>1.0</td>\n",
       "      <td>0.0</td>\n",
       "      <td>0.0</td>\n",
       "      <td>0.0</td>\n",
       "      <td>...</td>\n",
       "      <td>0.0</td>\n",
       "      <td>1.0</td>\n",
       "      <td>-1186290623666797382</td>\n",
       "      <td>Control</td>\n",
       "      <td>Low</td>\n",
       "      <td>0.3</td>\n",
       "      <td>0.4</td>\n",
       "      <td>0.25</td>\n",
       "      <td>0.00</td>\n",
       "      <td>2.0</td>\n",
       "    </tr>\n",
       "    <tr>\n",
       "      <th>2</th>\n",
       "      <td>1.0</td>\n",
       "      <td>2021-06-03 10:37:02.686000+00:00</td>\n",
       "      <td>undergrad</td>\n",
       "      <td>centreRight</td>\n",
       "      <td>False</td>\n",
       "      <td>30.0</td>\n",
       "      <td>1.0</td>\n",
       "      <td>0.0</td>\n",
       "      <td>0.0</td>\n",
       "      <td>0.0</td>\n",
       "      <td>...</td>\n",
       "      <td>0.0</td>\n",
       "      <td>1.0</td>\n",
       "      <td>-1238775770300907459</td>\n",
       "      <td>Control</td>\n",
       "      <td>High</td>\n",
       "      <td>0.0</td>\n",
       "      <td>0.0</td>\n",
       "      <td>0.00</td>\n",
       "      <td>0.00</td>\n",
       "      <td>4.0</td>\n",
       "    </tr>\n",
       "    <tr>\n",
       "      <th>3</th>\n",
       "      <td>1.0</td>\n",
       "      <td>2021-06-03 10:37:02.686000+00:00</td>\n",
       "      <td>undergrad</td>\n",
       "      <td>centreRight</td>\n",
       "      <td>False</td>\n",
       "      <td>30.0</td>\n",
       "      <td>1.0</td>\n",
       "      <td>0.0</td>\n",
       "      <td>0.0</td>\n",
       "      <td>0.0</td>\n",
       "      <td>...</td>\n",
       "      <td>0.0</td>\n",
       "      <td>1.0</td>\n",
       "      <td>-1238775770300907459</td>\n",
       "      <td>Control</td>\n",
       "      <td>Low</td>\n",
       "      <td>0.0</td>\n",
       "      <td>0.0</td>\n",
       "      <td>0.00</td>\n",
       "      <td>0.00</td>\n",
       "      <td>4.0</td>\n",
       "    </tr>\n",
       "    <tr>\n",
       "      <th>4</th>\n",
       "      <td>1.0</td>\n",
       "      <td>2021-06-04 13:48:40.369000+00:00</td>\n",
       "      <td>communityCollege</td>\n",
       "      <td>centreRight</td>\n",
       "      <td>False</td>\n",
       "      <td>37.0</td>\n",
       "      <td>1.0</td>\n",
       "      <td>0.0</td>\n",
       "      <td>0.0</td>\n",
       "      <td>0.0</td>\n",
       "      <td>...</td>\n",
       "      <td>0.0</td>\n",
       "      <td>0.0</td>\n",
       "      <td>-1335854995932370720</td>\n",
       "      <td>Treatment</td>\n",
       "      <td>Low</td>\n",
       "      <td>0.1</td>\n",
       "      <td>0.0</td>\n",
       "      <td>0.00</td>\n",
       "      <td>0.00</td>\n",
       "      <td>6.0</td>\n",
       "    </tr>\n",
       "    <tr>\n",
       "      <th>...</th>\n",
       "      <td>...</td>\n",
       "      <td>...</td>\n",
       "      <td>...</td>\n",
       "      <td>...</td>\n",
       "      <td>...</td>\n",
       "      <td>...</td>\n",
       "      <td>...</td>\n",
       "      <td>...</td>\n",
       "      <td>...</td>\n",
       "      <td>...</td>\n",
       "      <td>...</td>\n",
       "      <td>...</td>\n",
       "      <td>...</td>\n",
       "      <td>...</td>\n",
       "      <td>...</td>\n",
       "      <td>...</td>\n",
       "      <td>...</td>\n",
       "      <td>...</td>\n",
       "      <td>...</td>\n",
       "      <td>...</td>\n",
       "      <td>...</td>\n",
       "    </tr>\n",
       "    <tr>\n",
       "      <th>241</th>\n",
       "      <td>1.0</td>\n",
       "      <td>2021-06-07 20:08:04.760000+00:00</td>\n",
       "      <td>graduateSchool</td>\n",
       "      <td>right</td>\n",
       "      <td>False</td>\n",
       "      <td>70.0</td>\n",
       "      <td>0.0</td>\n",
       "      <td>0.0</td>\n",
       "      <td>1.0</td>\n",
       "      <td>0.0</td>\n",
       "      <td>...</td>\n",
       "      <td>0.0</td>\n",
       "      <td>0.0</td>\n",
       "      <td>9003681027987348461</td>\n",
       "      <td>Treatment</td>\n",
       "      <td>High</td>\n",
       "      <td>0.0</td>\n",
       "      <td>0.0</td>\n",
       "      <td>0.00</td>\n",
       "      <td>0.00</td>\n",
       "      <td>3.0</td>\n",
       "    </tr>\n",
       "    <tr>\n",
       "      <th>242</th>\n",
       "      <td>1.0</td>\n",
       "      <td>2021-06-07 20:08:04.760000+00:00</td>\n",
       "      <td>graduateSchool</td>\n",
       "      <td>right</td>\n",
       "      <td>False</td>\n",
       "      <td>70.0</td>\n",
       "      <td>0.0</td>\n",
       "      <td>0.0</td>\n",
       "      <td>1.0</td>\n",
       "      <td>0.0</td>\n",
       "      <td>...</td>\n",
       "      <td>0.0</td>\n",
       "      <td>0.0</td>\n",
       "      <td>9003681027987348461</td>\n",
       "      <td>Treatment</td>\n",
       "      <td>Low</td>\n",
       "      <td>0.2</td>\n",
       "      <td>0.3</td>\n",
       "      <td>0.00</td>\n",
       "      <td>0.25</td>\n",
       "      <td>1.0</td>\n",
       "    </tr>\n",
       "    <tr>\n",
       "      <th>243</th>\n",
       "      <td>1.0</td>\n",
       "      <td>2021-06-03 14:34:50.118000+00:00</td>\n",
       "      <td>graduateSchool</td>\n",
       "      <td>centreRight</td>\n",
       "      <td>False</td>\n",
       "      <td>36.0</td>\n",
       "      <td>1.0</td>\n",
       "      <td>0.0</td>\n",
       "      <td>0.0</td>\n",
       "      <td>0.0</td>\n",
       "      <td>...</td>\n",
       "      <td>0.0</td>\n",
       "      <td>1.0</td>\n",
       "      <td>9021272692552123315</td>\n",
       "      <td>Control</td>\n",
       "      <td>High</td>\n",
       "      <td>0.5</td>\n",
       "      <td>0.0</td>\n",
       "      <td>0.25</td>\n",
       "      <td>0.00</td>\n",
       "      <td>7.0</td>\n",
       "    </tr>\n",
       "    <tr>\n",
       "      <th>244</th>\n",
       "      <td>1.0</td>\n",
       "      <td>2021-06-03 14:34:50.118000+00:00</td>\n",
       "      <td>graduateSchool</td>\n",
       "      <td>centreRight</td>\n",
       "      <td>False</td>\n",
       "      <td>36.0</td>\n",
       "      <td>1.0</td>\n",
       "      <td>0.0</td>\n",
       "      <td>0.0</td>\n",
       "      <td>0.0</td>\n",
       "      <td>...</td>\n",
       "      <td>0.0</td>\n",
       "      <td>1.0</td>\n",
       "      <td>9021272692552123315</td>\n",
       "      <td>Control</td>\n",
       "      <td>Low</td>\n",
       "      <td>0.5</td>\n",
       "      <td>0.4</td>\n",
       "      <td>0.25</td>\n",
       "      <td>0.25</td>\n",
       "      <td>7.0</td>\n",
       "    </tr>\n",
       "    <tr>\n",
       "      <th>245</th>\n",
       "      <td>1.0</td>\n",
       "      <td>2021-06-04 13:40:10.695000+00:00</td>\n",
       "      <td>highSchool</td>\n",
       "      <td>centreLeft</td>\n",
       "      <td>False</td>\n",
       "      <td>19.0</td>\n",
       "      <td>0.0</td>\n",
       "      <td>0.0</td>\n",
       "      <td>1.0</td>\n",
       "      <td>0.0</td>\n",
       "      <td>...</td>\n",
       "      <td>0.0</td>\n",
       "      <td>0.0</td>\n",
       "      <td>9082493559145914071</td>\n",
       "      <td>Control</td>\n",
       "      <td>Low</td>\n",
       "      <td>0.1</td>\n",
       "      <td>0.4</td>\n",
       "      <td>0.00</td>\n",
       "      <td>0.25</td>\n",
       "      <td>8.0</td>\n",
       "    </tr>\n",
       "  </tbody>\n",
       "</table>\n",
       "<p>246 rows × 54 columns</p>\n",
       "</div>"
      ],
      "text/plain": [
       "     consent                     timeSubmitted    educationLevel  \\\n",
       "0        1.0  2021-06-04 13:39:52.944000+00:00        highSchool   \n",
       "1        1.0  2021-06-04 13:39:52.944000+00:00        highSchool   \n",
       "2        1.0  2021-06-03 10:37:02.686000+00:00         undergrad   \n",
       "3        1.0  2021-06-03 10:37:02.686000+00:00         undergrad   \n",
       "4        1.0  2021-06-04 13:48:40.369000+00:00  communityCollege   \n",
       "..       ...                               ...               ...   \n",
       "241      1.0  2021-06-07 20:08:04.760000+00:00    graduateSchool   \n",
       "242      1.0  2021-06-07 20:08:04.760000+00:00    graduateSchool   \n",
       "243      1.0  2021-06-03 14:34:50.118000+00:00    graduateSchool   \n",
       "244      1.0  2021-06-03 14:34:50.118000+00:00    graduateSchool   \n",
       "245      1.0  2021-06-04 13:40:10.695000+00:00        highSchool   \n",
       "\n",
       "    politicalAffiliation attendsProtests   age  gender_man  gender_nonBinary  \\\n",
       "0                   left            True  49.0         1.0               0.0   \n",
       "1                   left            True  49.0         1.0               0.0   \n",
       "2            centreRight           False  30.0         1.0               0.0   \n",
       "3            centreRight           False  30.0         1.0               0.0   \n",
       "4            centreRight           False  37.0         1.0               0.0   \n",
       "..                   ...             ...   ...         ...               ...   \n",
       "241                right           False  70.0         0.0               0.0   \n",
       "242                right           False  70.0         0.0               0.0   \n",
       "243          centreRight           False  36.0         1.0               0.0   \n",
       "244          centreRight           False  36.0         1.0               0.0   \n",
       "245           centreLeft           False  19.0         0.0               0.0   \n",
       "\n",
       "     gender_woman  affiliatedMovements_ Land Back  ...  socialMedias_tumblr  \\\n",
       "0             0.0                             0.0  ...                  0.0   \n",
       "1             0.0                             0.0  ...                  0.0   \n",
       "2             0.0                             0.0  ...                  0.0   \n",
       "3             0.0                             0.0  ...                  0.0   \n",
       "4             0.0                             0.0  ...                  0.0   \n",
       "..            ...                             ...  ...                  ...   \n",
       "241           1.0                             0.0  ...                  0.0   \n",
       "242           1.0                             0.0  ...                  0.0   \n",
       "243           0.0                             0.0  ...                  0.0   \n",
       "244           0.0                             0.0  ...                  0.0   \n",
       "245           1.0                             0.0  ...                  0.0   \n",
       "\n",
       "     socialMedias_twitter               user_id  condition  evidence  Affirms  \\\n",
       "0                     1.0  -1186290623666797382    Control      High      0.1   \n",
       "1                     1.0  -1186290623666797382    Control       Low      0.3   \n",
       "2                     1.0  -1238775770300907459    Control      High      0.0   \n",
       "3                     1.0  -1238775770300907459    Control       Low      0.0   \n",
       "4                     0.0  -1335854995932370720  Treatment       Low      0.1   \n",
       "..                    ...                   ...        ...       ...      ...   \n",
       "241                   0.0   9003681027987348461  Treatment      High      0.0   \n",
       "242                   0.0   9003681027987348461  Treatment       Low      0.2   \n",
       "243                   1.0   9021272692552123315    Control      High      0.5   \n",
       "244                   1.0   9021272692552123315    Control       Low      0.5   \n",
       "245                   0.0   9082493559145914071    Control       Low      0.1   \n",
       "\n",
       "     Denies  Neutral  Questions  veracityEstimate  \n",
       "0       0.1     0.50       0.00               5.0  \n",
       "1       0.4     0.25       0.00               2.0  \n",
       "2       0.0     0.00       0.00               4.0  \n",
       "3       0.0     0.00       0.00               4.0  \n",
       "4       0.0     0.00       0.00               6.0  \n",
       "..      ...      ...        ...               ...  \n",
       "241     0.0     0.00       0.00               3.0  \n",
       "242     0.3     0.00       0.25               1.0  \n",
       "243     0.0     0.25       0.00               7.0  \n",
       "244     0.4     0.25       0.25               7.0  \n",
       "245     0.4     0.00       0.25               8.0  \n",
       "\n",
       "[246 rows x 54 columns]"
      ]
     },
     "execution_count": 27,
     "metadata": {},
     "output_type": "execute_result"
    }
   ],
   "source": [
    "verEstimates = post_study[[\"user_id\",\"veracityR1\",\"veracityR2\"]].rename({\"veracityR1\": \"High\",\n",
    "                                                          \"veracityR2\": \"Low\"},\n",
    "                                                         axis=1).melt(id_vars=['user_id'], \n",
    "                                                                      value_vars=['High', 'Low'],\n",
    "                                                                      var_name='evidence', \n",
    "                                                                      value_name='veracityEstimate')\n",
    "reshare_rates = reshare_rates.merge(verEstimates,\n",
    "                                    how=\"left\",\n",
    "                                    left_on=[\"user_id\",\"evidence\"],\n",
    "                                    right_on=[\"user_id\",\"evidence\"])\n",
    "\n",
    "reshare_rates"
   ]
  },
  {
   "cell_type": "code",
   "execution_count": 28,
   "id": "4bc3cabb-b0fe-4adf-bbea-7ff62a3923f0",
   "metadata": {},
   "outputs": [],
   "source": [
    "cols = list(reshare_rates.columns)\n",
    "reordering = [cols[cols.index('user_id')]] + cols[:cols.index('user_id')] + cols[cols.index('user_id')+1:]\n",
    "reshare_rates = reshare_rates[reordering]"
   ]
  },
  {
   "cell_type": "markdown",
   "id": "44f2ff56-08e6-4923-9a37-da6613e69f4c",
   "metadata": {},
   "source": [
    "### Drop people who didn't share anything\n",
    "\n",
    "These people indicated that they never share things on social media, an unforseen omission on the part of my exclusion criteria that social media users != those who post on social media"
   ]
  },
  {
   "cell_type": "code",
   "execution_count": 29,
   "id": "43d44fd1-5230-448a-a679-e44684742111",
   "metadata": {},
   "outputs": [
    {
     "name": "stdout",
     "output_type": "stream",
     "text": [
      "Shape: 202x54\n"
     ]
    }
   ],
   "source": [
    "mask = (reshare_rates[['Affirms','Denies','Neutral','Questions']] == 0).T.all()\n",
    "reshare_rates = reshare_rates[~mask]\n",
    "print(\"Shape: {}x{}\".format(*reshare_rates.shape))\n"
   ]
  },
  {
   "cell_type": "code",
   "execution_count": 30,
   "id": "c893098d-2b5d-4d96-869b-327c19656e07",
   "metadata": {},
   "outputs": [],
   "source": [
    "reshare_rates.to_csv(f\"../data/processed/{STUDY_ID}-reshare_rates.csv\",index=False)"
   ]
  },
  {
   "cell_type": "code",
   "execution_count": null,
   "id": "3bf97a25-262c-4ffb-a5c8-87187d1211db",
   "metadata": {},
   "outputs": [],
   "source": []
  }
 ],
 "metadata": {
  "kernelspec": {
   "display_name": "Python (Thesis)",
   "language": "python",
   "name": "thesis"
  },
  "language_info": {
   "codemirror_mode": {
    "name": "ipython",
    "version": 3
   },
   "file_extension": ".py",
   "mimetype": "text/x-python",
   "name": "python",
   "nbconvert_exporter": "python",
   "pygments_lexer": "ipython3",
   "version": "3.9.0"
  }
 },
 "nbformat": 4,
 "nbformat_minor": 5
}
