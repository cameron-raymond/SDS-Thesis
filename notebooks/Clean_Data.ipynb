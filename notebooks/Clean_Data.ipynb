{
 "cells": [
  {
   "cell_type": "markdown",
   "id": "wireless-oasis",
   "metadata": {},
   "source": [
    "# Data Cleaning\n",
    "\n",
    "Exclusion critera:\n",
    "1. Don't use social media\n",
    "2. Was aware of one of the rumours\n",
    "2. An outlier in completion time (>3 std devs below the mean)"
   ]
  },
  {
   "cell_type": "markdown",
   "id": "announced-greensboro",
   "metadata": {},
   "source": [
    "### 1. Drop participants who were aware of either rumour"
   ]
  },
  {
   "cell_type": "code",
   "execution_count": 1,
   "id": "hollow-adelaide",
   "metadata": {},
   "outputs": [],
   "source": [
    "import pandas as pd\n",
    "import numpy as np"
   ]
  },
  {
   "cell_type": "code",
   "execution_count": 2,
   "id": "compatible-wagner",
   "metadata": {},
   "outputs": [
    {
     "name": "stdout",
     "output_type": "stream",
     "text": [
      "Original number of participants: 499\n"
     ]
    }
   ],
   "source": [
    "participants = pd.read_json(\"../data/raw/mock_data/participant-schema.json\",orient=\"records\")\n",
    "num_participants = len(participants[\"PROLIFIC_ID\"].unique())\n",
    "dummies = [\"gender\",\"affiliatedMovements\",\"socialMedias\"]\n",
    "for col in dummies:\n",
    "    participants = participants.explode(col)\n",
    "participants = pd.get_dummies(participants,columns=dummies).max(level=0)\n",
    "assert len(participants) == num_participants, \"Number of participants changed\"\n",
    "num_participants = len(participants[\"PROLIFIC_ID\"].unique())\n",
    "print(f\"Original number of participants: {num_participants}\")"
   ]
  },
  {
   "cell_type": "code",
   "execution_count": 3,
   "id": "irish-appearance",
   "metadata": {},
   "outputs": [
    {
     "name": "stdout",
     "output_type": "stream",
     "text": [
      "58 aware of a rumour, 441 remaining participants.\n"
     ]
    }
   ],
   "source": [
    "post_study = pd.read_json(\"../data/raw/mock_data/post-study-schema.json\",orient=\"records\")\n",
    "assert len(post_study) == len(participants), \"Dataframes have different row lengths\"\n",
    "not_aware = post_study[~(post_study[\"awareR1\"].astype(bool) | post_study[\"awareR2\"].astype(bool))][\"PROLIFIC_ID\"]\n",
    "num_not_aware = len(not_aware.unique())\n",
    "print(f\"{num_participants-num_not_aware} aware of a rumour, {num_not_aware} remaining participants.\")"
   ]
  },
  {
   "cell_type": "markdown",
   "id": "unknown-letters",
   "metadata": {},
   "source": [
    "Drop those participants"
   ]
  },
  {
   "cell_type": "code",
   "execution_count": 4,
   "id": "square-formula",
   "metadata": {},
   "outputs": [],
   "source": [
    "participants = participants[participants[\"PROLIFIC_ID\"].isin(not_aware)]\n",
    "num_participants = len(participants[\"PROLIFIC_ID\"].unique())\n",
    "assert len(participants) == num_not_aware, \"Dropped extras?\""
   ]
  },
  {
   "cell_type": "markdown",
   "id": "designing-launch",
   "metadata": {},
   "source": [
    "### 2. Drop participants who were outliers in the amount of time taken\n",
    "\n",
    "Outlier: participants who the amount of time taken is more than 3 standard deviations below the mean \n",
    "- not above as we put a time cap on the time taken"
   ]
  },
  {
   "cell_type": "code",
   "execution_count": 5,
   "id": "rental-puzzle",
   "metadata": {},
   "outputs": [
    {
     "data": {
      "text/html": [
       "<div>\n",
       "<style scoped>\n",
       "    .dataframe tbody tr th:only-of-type {\n",
       "        vertical-align: middle;\n",
       "    }\n",
       "\n",
       "    .dataframe tbody tr th {\n",
       "        vertical-align: top;\n",
       "    }\n",
       "\n",
       "    .dataframe thead th {\n",
       "        text-align: right;\n",
       "    }\n",
       "</style>\n",
       "<table border=\"1\" class=\"dataframe\">\n",
       "  <thead>\n",
       "    <tr style=\"text-align: right;\">\n",
       "      <th></th>\n",
       "      <th>id</th>\n",
       "      <th>PROLIFIC_ID</th>\n",
       "      <th>STUDY_ID</th>\n",
       "      <th>SESSION_ID</th>\n",
       "      <th>treatment</th>\n",
       "      <th>secondsTaken</th>\n",
       "      <th>rumour</th>\n",
       "      <th>rumourId</th>\n",
       "      <th>evidence</th>\n",
       "      <th>code</th>\n",
       "      <th>mockGender</th>\n",
       "      <th>timestamp</th>\n",
       "      <th>warning</th>\n",
       "      <th>reshared</th>\n",
       "    </tr>\n",
       "  </thead>\n",
       "  <tbody>\n",
       "    <tr>\n",
       "      <th>0</th>\n",
       "      <td>1</td>\n",
       "      <td>1</td>\n",
       "      <td>1</td>\n",
       "      <td>1</td>\n",
       "      <td>True</td>\n",
       "      <td>93.87</td>\n",
       "      <td>R1</td>\n",
       "      <td>R1-1</td>\n",
       "      <td>high</td>\n",
       "      <td>questions</td>\n",
       "      <td>Female</td>\n",
       "      <td>57</td>\n",
       "      <td>False</td>\n",
       "      <td>True</td>\n",
       "    </tr>\n",
       "    <tr>\n",
       "      <th>0</th>\n",
       "      <td>1</td>\n",
       "      <td>1</td>\n",
       "      <td>1</td>\n",
       "      <td>1</td>\n",
       "      <td>True</td>\n",
       "      <td>93.87</td>\n",
       "      <td>R2</td>\n",
       "      <td>R2-1</td>\n",
       "      <td>low</td>\n",
       "      <td>questions</td>\n",
       "      <td>Female</td>\n",
       "      <td>9</td>\n",
       "      <td>False</td>\n",
       "      <td>True</td>\n",
       "    </tr>\n",
       "    <tr>\n",
       "      <th>0</th>\n",
       "      <td>1</td>\n",
       "      <td>1</td>\n",
       "      <td>1</td>\n",
       "      <td>1</td>\n",
       "      <td>True</td>\n",
       "      <td>93.87</td>\n",
       "      <td>R1</td>\n",
       "      <td>R1-2</td>\n",
       "      <td>high</td>\n",
       "      <td>affirms</td>\n",
       "      <td>Male</td>\n",
       "      <td>48</td>\n",
       "      <td>False</td>\n",
       "      <td>True</td>\n",
       "    </tr>\n",
       "    <tr>\n",
       "      <th>0</th>\n",
       "      <td>1</td>\n",
       "      <td>1</td>\n",
       "      <td>1</td>\n",
       "      <td>1</td>\n",
       "      <td>True</td>\n",
       "      <td>93.87</td>\n",
       "      <td>R2</td>\n",
       "      <td>R2-2</td>\n",
       "      <td>low</td>\n",
       "      <td>affirms</td>\n",
       "      <td>Female</td>\n",
       "      <td>21</td>\n",
       "      <td>True</td>\n",
       "      <td>False</td>\n",
       "    </tr>\n",
       "    <tr>\n",
       "      <th>0</th>\n",
       "      <td>1</td>\n",
       "      <td>1</td>\n",
       "      <td>1</td>\n",
       "      <td>1</td>\n",
       "      <td>True</td>\n",
       "      <td>93.87</td>\n",
       "      <td>R1</td>\n",
       "      <td>R1-3</td>\n",
       "      <td>high</td>\n",
       "      <td>affirms</td>\n",
       "      <td>Male</td>\n",
       "      <td>23</td>\n",
       "      <td>False</td>\n",
       "      <td>True</td>\n",
       "    </tr>\n",
       "    <tr>\n",
       "      <th>...</th>\n",
       "      <td>...</td>\n",
       "      <td>...</td>\n",
       "      <td>...</td>\n",
       "      <td>...</td>\n",
       "      <td>...</td>\n",
       "      <td>...</td>\n",
       "      <td>...</td>\n",
       "      <td>...</td>\n",
       "      <td>...</td>\n",
       "      <td>...</td>\n",
       "      <td>...</td>\n",
       "      <td>...</td>\n",
       "      <td>...</td>\n",
       "      <td>...</td>\n",
       "    </tr>\n",
       "    <tr>\n",
       "      <th>498</th>\n",
       "      <td>499</td>\n",
       "      <td>499</td>\n",
       "      <td>1</td>\n",
       "      <td>499</td>\n",
       "      <td>False</td>\n",
       "      <td>93.32</td>\n",
       "      <td>R2</td>\n",
       "      <td>R2-8</td>\n",
       "      <td>low</td>\n",
       "      <td>neutral</td>\n",
       "      <td>Male</td>\n",
       "      <td>43</td>\n",
       "      <td>False</td>\n",
       "      <td>True</td>\n",
       "    </tr>\n",
       "    <tr>\n",
       "      <th>498</th>\n",
       "      <td>499</td>\n",
       "      <td>499</td>\n",
       "      <td>1</td>\n",
       "      <td>499</td>\n",
       "      <td>False</td>\n",
       "      <td>93.32</td>\n",
       "      <td>R1</td>\n",
       "      <td>R1-9</td>\n",
       "      <td>high</td>\n",
       "      <td>questions</td>\n",
       "      <td>Male</td>\n",
       "      <td>1</td>\n",
       "      <td>False</td>\n",
       "      <td>True</td>\n",
       "    </tr>\n",
       "    <tr>\n",
       "      <th>498</th>\n",
       "      <td>499</td>\n",
       "      <td>499</td>\n",
       "      <td>1</td>\n",
       "      <td>499</td>\n",
       "      <td>False</td>\n",
       "      <td>93.32</td>\n",
       "      <td>R2</td>\n",
       "      <td>R2-9</td>\n",
       "      <td>low</td>\n",
       "      <td>affirms</td>\n",
       "      <td>Female</td>\n",
       "      <td>2</td>\n",
       "      <td>False</td>\n",
       "      <td>False</td>\n",
       "    </tr>\n",
       "    <tr>\n",
       "      <th>498</th>\n",
       "      <td>499</td>\n",
       "      <td>499</td>\n",
       "      <td>1</td>\n",
       "      <td>499</td>\n",
       "      <td>False</td>\n",
       "      <td>93.32</td>\n",
       "      <td>R1</td>\n",
       "      <td>R1-10</td>\n",
       "      <td>high</td>\n",
       "      <td>denies</td>\n",
       "      <td>Male</td>\n",
       "      <td>40</td>\n",
       "      <td>False</td>\n",
       "      <td>True</td>\n",
       "    </tr>\n",
       "    <tr>\n",
       "      <th>498</th>\n",
       "      <td>499</td>\n",
       "      <td>499</td>\n",
       "      <td>1</td>\n",
       "      <td>499</td>\n",
       "      <td>False</td>\n",
       "      <td>93.32</td>\n",
       "      <td>R2</td>\n",
       "      <td>R2-10</td>\n",
       "      <td>low</td>\n",
       "      <td>denies</td>\n",
       "      <td>Female</td>\n",
       "      <td>25</td>\n",
       "      <td>False</td>\n",
       "      <td>False</td>\n",
       "    </tr>\n",
       "  </tbody>\n",
       "</table>\n",
       "<p>8820 rows × 14 columns</p>\n",
       "</div>"
      ],
      "text/plain": [
       "      id  PROLIFIC_ID  STUDY_ID  SESSION_ID  treatment  secondsTaken rumour  \\\n",
       "0      1            1         1           1       True         93.87     R1   \n",
       "0      1            1         1           1       True         93.87     R2   \n",
       "0      1            1         1           1       True         93.87     R1   \n",
       "0      1            1         1           1       True         93.87     R2   \n",
       "0      1            1         1           1       True         93.87     R1   \n",
       "..   ...          ...       ...         ...        ...           ...    ...   \n",
       "498  499          499         1         499      False         93.32     R2   \n",
       "498  499          499         1         499      False         93.32     R1   \n",
       "498  499          499         1         499      False         93.32     R2   \n",
       "498  499          499         1         499      False         93.32     R1   \n",
       "498  499          499         1         499      False         93.32     R2   \n",
       "\n",
       "    rumourId evidence       code mockGender  timestamp  warning  reshared  \n",
       "0       R1-1     high  questions     Female         57    False      True  \n",
       "0       R2-1      low  questions     Female          9    False      True  \n",
       "0       R1-2     high    affirms       Male         48    False      True  \n",
       "0       R2-2      low    affirms     Female         21     True     False  \n",
       "0       R1-3     high    affirms       Male         23    False      True  \n",
       "..       ...      ...        ...        ...        ...      ...       ...  \n",
       "498     R2-8      low    neutral       Male         43    False      True  \n",
       "498     R1-9     high  questions       Male          1    False      True  \n",
       "498     R2-9      low    affirms     Female          2    False     False  \n",
       "498    R1-10     high     denies       Male         40    False      True  \n",
       "498    R2-10      low     denies     Female         25    False     False  \n",
       "\n",
       "[8820 rows x 14 columns]"
      ]
     },
     "execution_count": 5,
     "metadata": {},
     "output_type": "execute_result"
    }
   ],
   "source": [
    "posts = pd.read_json(\"../data/raw/mock_data/posts-schema.json\",orient=\"records\")\n",
    "posts = posts[posts[\"PROLIFIC_ID\"].isin(not_aware)]\n",
    "assert len(posts) == num_not_aware, \"Dropped extras?\"\n",
    "posts = posts.explode(\"posts\")\n",
    "posts = pd.concat([posts.drop(['posts'], axis=1), posts['posts'].apply(pd.Series)], axis=1)\n",
    "assert (posts.groupby(\"PROLIFIC_ID\").count()[\"id\"] == 20).all(), \"Some people have a different number of posts\"\n",
    "posts"
   ]
  },
  {
   "cell_type": "code",
   "execution_count": 6,
   "id": "light-affairs",
   "metadata": {},
   "outputs": [
    {
     "name": "stdout",
     "output_type": "stream",
     "text": [
      "1 outlier(s) in completion time, 440 remaining participants.\n"
     ]
    },
    {
     "data": {
      "image/png": "[encoded data removed]",
      "text/plain": [
       "<Figure size 432x288 with 1 Axes>"
      ]
     },
     "metadata": {
      "needs_background": "light"
     },
     "output_type": "display_data"
    }
   ],
   "source": [
    "from scipy.stats import zscore\n",
    "posts.secondsTaken.plot.hist(alpha=0.5)\n",
    "z_scores = zscore(posts[\"secondsTaken\"])\n",
    "not_outliers = posts[z_scores > -3]\n",
    "not_outliers.secondsTaken.plot.hist(alpha=0.5)\n",
    "num_not_outliers = len(not_outliers[\"PROLIFIC_ID\"].unique())\n",
    "not_outliers = not_outliers[\"PROLIFIC_ID\"]\n",
    "print(f\"{num_participants-num_not_outliers} outlier(s) in completion time, {num_not_outliers} remaining participants.\")"
   ]
  },
  {
   "cell_type": "code",
   "execution_count": 7,
   "id": "perceived-immigration",
   "metadata": {},
   "outputs": [],
   "source": [
    "participants = participants[participants[\"PROLIFIC_ID\"].isin(not_outliers)]\n",
    "posts = posts[posts[\"PROLIFIC_ID\"].isin(not_outliers)]\n",
    "num_participants = len(participants[\"PROLIFIC_ID\"].unique())\n",
    "assert num_participants == num_not_outliers, \"Dropped extras?\"\n",
    "assert num_participants == len(posts.groupby(\"PROLIFIC_ID\").count()), \"participant counts don't match in between participants and posts df\""
   ]
  },
  {
   "cell_type": "markdown",
   "id": "center-chapel",
   "metadata": {},
   "source": [
    "Write to file"
   ]
  },
  {
   "cell_type": "code",
   "execution_count": 8,
   "id": "exact-receptor",
   "metadata": {},
   "outputs": [],
   "source": [
    "participants.to_csv(\"../data/processed/mock_data/participant-schema.csv\",index=False)\n",
    "posts.to_csv(\"../data/processed/mock_data/posts-schema.csv\",index=False)\n",
    "post_study.to_csv(\"../data/processed/mock_data/post-study-schema.csv\",index=False)"
   ]
  },
  {
   "cell_type": "code",
   "execution_count": null,
   "id": "stainless-warning",
   "metadata": {},
   "outputs": [],
   "source": []
  }
 ],
 "metadata": {
  "kernelspec": {
   "display_name": "Python (Thesis)",
   "language": "python",
   "name": "python3"
  },
  "language_info": {
   "codemirror_mode": {
    "name": "ipython",
    "version": 3
   },
   "file_extension": ".py",
   "mimetype": "text/x-python",
   "name": "python",
   "nbconvert_exporter": "python",
   "pygments_lexer": "ipython3",
   "version": "3.9.0"
  }
 },
 "nbformat": 4,
 "nbformat_minor": 5
}
