{
 "cells": [
  {
   "cell_type": "markdown",
   "id": "defined-semester",
   "metadata": {},
   "source": [
    "# Data Cleaning\n",
    "\n",
    "Exclusion critera:\n",
    "1. Don't use social media\n",
    "2. Was aware of one of the rumours\n",
    "2. An outlier in completion time (>3 std devs below the mean)"
   ]
  },
  {
   "cell_type": "code",
   "execution_count": 8,
   "id": "behavioral-assessment",
   "metadata": {},
   "outputs": [
    {
     "name": "stdout",
     "output_type": "stream",
     "text": [
      "Original number of participants: 499\n"
     ]
    }
   ],
   "source": [
    "import pandas as pd\n",
    "import numpy as np\n",
    "participants = pd.read_json(\"../data/raw/mock_data/participant-schema.json\",orient=\"records\")\n",
    "num_participants = len(participants[\"PROLIFIC_ID\"].unique())\n",
    "dummies = [\"gender\",\"affiliatedMovements\",\"socialMedias\"]\n",
    "for col in dummies:\n",
    "    participants = participants.explode(col)\n",
    "participants = pd.get_dummies(participants,columns=dummies).max(level=0)\n",
    "assert len(participants) == num_participants, \"Number of participants changed\"\n",
    "num_participants = len(participants[\"PROLIFIC_ID\"].unique())\n",
    "print(f\"Original number of participants: {num_participants}\")"
   ]
  },
  {
   "cell_type": "code",
   "execution_count": 9,
   "id": "falling-breach",
   "metadata": {},
   "outputs": [],
   "source": [
    "to_drop = pd.Series(None,name=\"PROLIFIC_ID\",dtype=str)"
   ]
  },
  {
   "cell_type": "markdown",
   "id": "received-confusion",
   "metadata": {},
   "source": [
    "### 1. Drop participants who don't use social media"
   ]
  },
  {
   "cell_type": "code",
   "execution_count": 10,
   "id": "green-antenna",
   "metadata": {},
   "outputs": [
    {
     "name": "stdout",
     "output_type": "stream",
     "text": [
      "50 don't have social media, 449 remaining participants.\n"
     ]
    }
   ],
   "source": [
    "sm_cols = [c for c in participants.columns if \"socialMedias\" in c and not \"none\" in c]\n",
    "# TODO: when you actually have a none option (which hopefully people won't click as much) uncomment the rest\n",
    "# of the line\n",
    "no_sm = (participants[sm_cols] == 0).T.all()#| participants[\"socialMedias_none\"].astype(bool))\n",
    "no_sm = pd.Series(participants[no_sm][\"PROLIFIC_ID\"].unique())\n",
    "to_drop = pd.Series(to_drop.append(no_sm))\n",
    "num_no_sm = len(no_sm)\n",
    "num_participants -= num_no_sm\n",
    "print(f\"{num_no_sm} don't have social media, {num_participants} remaining participants.\")"
   ]
  },
  {
   "cell_type": "markdown",
   "id": "overhead-outdoors",
   "metadata": {},
   "source": [
    "### 2. Drop participants who were aware of either rumour"
   ]
  },
  {
   "cell_type": "code",
   "execution_count": 11,
   "id": "naughty-authorization",
   "metadata": {},
   "outputs": [
    {
     "name": "stdout",
     "output_type": "stream",
     "text": [
      "58 aware of a rumour, 391 remaining participants.\n"
     ]
    }
   ],
   "source": [
    "post_study = pd.read_json(\"../data/raw/mock_data/post-study-schema.json\",orient=\"records\")\n",
    "assert len(post_study) == len(participants), \"Dataframes have different row lengths\"\n",
    "aware = post_study[\"awareR1\"].astype(bool) | post_study[\"awareR2\"].astype(bool)\n",
    "aware = pd.Series(post_study[aware][\"PROLIFIC_ID\"].unique())\n",
    "to_drop = pd.Series(to_drop.append(aware))\n",
    "num_aware = len(aware)\n",
    "num_participants -= num_aware\n",
    "print(f\"{num_aware} aware of a rumour, {num_participants} remaining participants.\")"
   ]
  },
  {
   "cell_type": "markdown",
   "id": "leading-speaker",
   "metadata": {},
   "source": [
    "### 2. Drop participants who were outliers in the amount of time taken\n",
    "\n",
    "Outlier: participants who the amount of time taken is more than 3 standard deviations below the mean \n",
    "- not above as we put a time cap on the time taken"
   ]
  },
  {
   "cell_type": "code",
   "execution_count": 12,
   "id": "stuffed-castle",
   "metadata": {},
   "outputs": [
    {
     "data": {
      "text/html": [
       "<div>\n",
       "<style scoped>\n",
       "    .dataframe tbody tr th:only-of-type {\n",
       "        vertical-align: middle;\n",
       "    }\n",
       "\n",
       "    .dataframe tbody tr th {\n",
       "        vertical-align: top;\n",
       "    }\n",
       "\n",
       "    .dataframe thead th {\n",
       "        text-align: right;\n",
       "    }\n",
       "</style>\n",
       "<table border=\"1\" class=\"dataframe\">\n",
       "  <thead>\n",
       "    <tr style=\"text-align: right;\">\n",
       "      <th></th>\n",
       "      <th>id</th>\n",
       "      <th>PROLIFIC_ID</th>\n",
       "      <th>STUDY_ID</th>\n",
       "      <th>SESSION_ID</th>\n",
       "      <th>treatment</th>\n",
       "      <th>secondsTaken</th>\n",
       "      <th>rumour</th>\n",
       "      <th>rumourId</th>\n",
       "      <th>evidence</th>\n",
       "      <th>code</th>\n",
       "      <th>mockGender</th>\n",
       "      <th>timestamp</th>\n",
       "      <th>warning</th>\n",
       "      <th>reshared</th>\n",
       "    </tr>\n",
       "  </thead>\n",
       "  <tbody>\n",
       "    <tr>\n",
       "      <th>0</th>\n",
       "      <td>1</td>\n",
       "      <td>1</td>\n",
       "      <td>1</td>\n",
       "      <td>1</td>\n",
       "      <td>True</td>\n",
       "      <td>93.87</td>\n",
       "      <td>R1</td>\n",
       "      <td>R1-1</td>\n",
       "      <td>high</td>\n",
       "      <td>questions</td>\n",
       "      <td>Female</td>\n",
       "      <td>57</td>\n",
       "      <td>False</td>\n",
       "      <td>True</td>\n",
       "    </tr>\n",
       "    <tr>\n",
       "      <th>0</th>\n",
       "      <td>1</td>\n",
       "      <td>1</td>\n",
       "      <td>1</td>\n",
       "      <td>1</td>\n",
       "      <td>True</td>\n",
       "      <td>93.87</td>\n",
       "      <td>R2</td>\n",
       "      <td>R2-1</td>\n",
       "      <td>low</td>\n",
       "      <td>questions</td>\n",
       "      <td>Female</td>\n",
       "      <td>9</td>\n",
       "      <td>False</td>\n",
       "      <td>True</td>\n",
       "    </tr>\n",
       "    <tr>\n",
       "      <th>0</th>\n",
       "      <td>1</td>\n",
       "      <td>1</td>\n",
       "      <td>1</td>\n",
       "      <td>1</td>\n",
       "      <td>True</td>\n",
       "      <td>93.87</td>\n",
       "      <td>R1</td>\n",
       "      <td>R1-2</td>\n",
       "      <td>high</td>\n",
       "      <td>affirms</td>\n",
       "      <td>Male</td>\n",
       "      <td>48</td>\n",
       "      <td>False</td>\n",
       "      <td>True</td>\n",
       "    </tr>\n",
       "    <tr>\n",
       "      <th>0</th>\n",
       "      <td>1</td>\n",
       "      <td>1</td>\n",
       "      <td>1</td>\n",
       "      <td>1</td>\n",
       "      <td>True</td>\n",
       "      <td>93.87</td>\n",
       "      <td>R2</td>\n",
       "      <td>R2-2</td>\n",
       "      <td>low</td>\n",
       "      <td>affirms</td>\n",
       "      <td>Female</td>\n",
       "      <td>21</td>\n",
       "      <td>True</td>\n",
       "      <td>False</td>\n",
       "    </tr>\n",
       "    <tr>\n",
       "      <th>0</th>\n",
       "      <td>1</td>\n",
       "      <td>1</td>\n",
       "      <td>1</td>\n",
       "      <td>1</td>\n",
       "      <td>True</td>\n",
       "      <td>93.87</td>\n",
       "      <td>R1</td>\n",
       "      <td>R1-3</td>\n",
       "      <td>high</td>\n",
       "      <td>affirms</td>\n",
       "      <td>Male</td>\n",
       "      <td>23</td>\n",
       "      <td>False</td>\n",
       "      <td>True</td>\n",
       "    </tr>\n",
       "    <tr>\n",
       "      <th>...</th>\n",
       "      <td>...</td>\n",
       "      <td>...</td>\n",
       "      <td>...</td>\n",
       "      <td>...</td>\n",
       "      <td>...</td>\n",
       "      <td>...</td>\n",
       "      <td>...</td>\n",
       "      <td>...</td>\n",
       "      <td>...</td>\n",
       "      <td>...</td>\n",
       "      <td>...</td>\n",
       "      <td>...</td>\n",
       "      <td>...</td>\n",
       "      <td>...</td>\n",
       "    </tr>\n",
       "    <tr>\n",
       "      <th>498</th>\n",
       "      <td>499</td>\n",
       "      <td>499</td>\n",
       "      <td>1</td>\n",
       "      <td>499</td>\n",
       "      <td>False</td>\n",
       "      <td>93.32</td>\n",
       "      <td>R2</td>\n",
       "      <td>R2-8</td>\n",
       "      <td>low</td>\n",
       "      <td>neutral</td>\n",
       "      <td>Male</td>\n",
       "      <td>43</td>\n",
       "      <td>False</td>\n",
       "      <td>True</td>\n",
       "    </tr>\n",
       "    <tr>\n",
       "      <th>498</th>\n",
       "      <td>499</td>\n",
       "      <td>499</td>\n",
       "      <td>1</td>\n",
       "      <td>499</td>\n",
       "      <td>False</td>\n",
       "      <td>93.32</td>\n",
       "      <td>R1</td>\n",
       "      <td>R1-9</td>\n",
       "      <td>high</td>\n",
       "      <td>questions</td>\n",
       "      <td>Male</td>\n",
       "      <td>1</td>\n",
       "      <td>False</td>\n",
       "      <td>True</td>\n",
       "    </tr>\n",
       "    <tr>\n",
       "      <th>498</th>\n",
       "      <td>499</td>\n",
       "      <td>499</td>\n",
       "      <td>1</td>\n",
       "      <td>499</td>\n",
       "      <td>False</td>\n",
       "      <td>93.32</td>\n",
       "      <td>R2</td>\n",
       "      <td>R2-9</td>\n",
       "      <td>low</td>\n",
       "      <td>affirms</td>\n",
       "      <td>Female</td>\n",
       "      <td>2</td>\n",
       "      <td>False</td>\n",
       "      <td>False</td>\n",
       "    </tr>\n",
       "    <tr>\n",
       "      <th>498</th>\n",
       "      <td>499</td>\n",
       "      <td>499</td>\n",
       "      <td>1</td>\n",
       "      <td>499</td>\n",
       "      <td>False</td>\n",
       "      <td>93.32</td>\n",
       "      <td>R1</td>\n",
       "      <td>R1-10</td>\n",
       "      <td>high</td>\n",
       "      <td>denies</td>\n",
       "      <td>Male</td>\n",
       "      <td>40</td>\n",
       "      <td>False</td>\n",
       "      <td>True</td>\n",
       "    </tr>\n",
       "    <tr>\n",
       "      <th>498</th>\n",
       "      <td>499</td>\n",
       "      <td>499</td>\n",
       "      <td>1</td>\n",
       "      <td>499</td>\n",
       "      <td>False</td>\n",
       "      <td>93.32</td>\n",
       "      <td>R2</td>\n",
       "      <td>R2-10</td>\n",
       "      <td>low</td>\n",
       "      <td>denies</td>\n",
       "      <td>Female</td>\n",
       "      <td>25</td>\n",
       "      <td>False</td>\n",
       "      <td>False</td>\n",
       "    </tr>\n",
       "  </tbody>\n",
       "</table>\n",
       "<p>9980 rows × 14 columns</p>\n",
       "</div>"
      ],
      "text/plain": [
       "      id  PROLIFIC_ID  STUDY_ID  SESSION_ID  treatment  secondsTaken rumour  \\\n",
       "0      1            1         1           1       True         93.87     R1   \n",
       "0      1            1         1           1       True         93.87     R2   \n",
       "0      1            1         1           1       True         93.87     R1   \n",
       "0      1            1         1           1       True         93.87     R2   \n",
       "0      1            1         1           1       True         93.87     R1   \n",
       "..   ...          ...       ...         ...        ...           ...    ...   \n",
       "498  499          499         1         499      False         93.32     R2   \n",
       "498  499          499         1         499      False         93.32     R1   \n",
       "498  499          499         1         499      False         93.32     R2   \n",
       "498  499          499         1         499      False         93.32     R1   \n",
       "498  499          499         1         499      False         93.32     R2   \n",
       "\n",
       "    rumourId evidence       code mockGender  timestamp  warning  reshared  \n",
       "0       R1-1     high  questions     Female         57    False      True  \n",
       "0       R2-1      low  questions     Female          9    False      True  \n",
       "0       R1-2     high    affirms       Male         48    False      True  \n",
       "0       R2-2      low    affirms     Female         21     True     False  \n",
       "0       R1-3     high    affirms       Male         23    False      True  \n",
       "..       ...      ...        ...        ...        ...      ...       ...  \n",
       "498     R2-8      low    neutral       Male         43    False      True  \n",
       "498     R1-9     high  questions       Male          1    False      True  \n",
       "498     R2-9      low    affirms     Female          2    False     False  \n",
       "498    R1-10     high     denies       Male         40    False      True  \n",
       "498    R2-10      low     denies     Female         25    False     False  \n",
       "\n",
       "[9980 rows x 14 columns]"
      ]
     },
     "execution_count": 12,
     "metadata": {},
     "output_type": "execute_result"
    }
   ],
   "source": [
    "posts = pd.read_json(\"../data/raw/mock_data/posts-schema.json\",orient=\"records\")\n",
    "posts = posts.explode(\"posts\")\n",
    "posts = pd.concat([posts.drop(['posts'], axis=1), posts['posts'].apply(pd.Series)], axis=1)\n",
    "assert (posts.groupby(\"PROLIFIC_ID\").count()[\"id\"] == 20).all(), \"Some people have a different number of posts\"\n",
    "posts"
   ]
  },
  {
   "cell_type": "code",
   "execution_count": 13,
   "id": "abstract-advocate",
   "metadata": {},
   "outputs": [
    {
     "name": "stdout",
     "output_type": "stream",
     "text": [
      "1 outlier(s) in completion time, 389 remaining participants.\n"
     ]
    },
    {
     "data": {
      "image/png": "[encoded data removed]",
      "text/plain": [
       "<Figure size 432x288 with 1 Axes>"
      ]
     },
     "metadata": {
      "needs_background": "light"
     },
     "output_type": "display_data"
    }
   ],
   "source": [
    "from scipy.stats import zscore\n",
    "posts.secondsTaken.plot.hist(alpha=0.5)\n",
    "z_scores = zscore(posts[\"secondsTaken\"])\n",
    "outliers = posts[z_scores < -3]\n",
    "outliers.secondsTaken.plot.hist(alpha=0.5)\n",
    "outliers = pd.Series(outliers[\"PROLIFIC_ID\"].unique())\n",
    "num_outliers = len(outliers)\n",
    "to_drop = pd.Series(to_drop.append(outliers))\n",
    "num_participants -= num_outliers\n",
    "print(f\"{num_outliers} outlier(s) in completion time, {num_participants-num_outliers} remaining participants.\")"
   ]
  },
  {
   "cell_type": "markdown",
   "id": "growing-covering",
   "metadata": {},
   "source": [
    "Write to file"
   ]
  },
  {
   "cell_type": "code",
   "execution_count": 14,
   "id": "little-franklin",
   "metadata": {},
   "outputs": [],
   "source": [
    "participants = participants[~participants[\"PROLIFIC_ID\"].isin(to_drop)]\n",
    "posts = posts[~posts[\"PROLIFIC_ID\"].isin(to_drop)]\n",
    "post_study = post_study[~post_study[\"PROLIFIC_ID\"].isin(to_drop)]"
   ]
  },
  {
   "cell_type": "code",
   "execution_count": 8,
   "id": "altered-concern",
   "metadata": {},
   "outputs": [],
   "source": [
    "participants.to_csv(\"../data/processed/mock_data/participant-schema.csv\",index=False)\n",
    "posts.to_csv(\"../data/processed/mock_data/posts-schema.csv\",index=False)\n",
    "post_study.to_csv(\"../data/processed/mock_data/post-study-schema.csv\",index=False)"
   ]
  },
  {
   "cell_type": "markdown",
   "id": "otherwise-klein",
   "metadata": {},
   "source": [
    "## Merge data\n",
    "\n",
    "1. System level data\n",
    "2. post level data\n",
    "\n",
    "### System level data"
   ]
  },
  {
   "cell_type": "code",
   "execution_count": 37,
   "id": "confident-valentine",
   "metadata": {},
   "outputs": [],
   "source": [
    "from collections import OrderedDict\n",
    "group_cols = [\"PROLIFIC_ID\",\"treatment\",\"evidence\",\"code\"]\n",
    "reshare_rates = pd.DataFrame(posts.groupby(group_cols)[\"reshared\"].sum() / posts.groupby(group_cols)[\"reshared\"].count()).reset_index()\n",
    "# Nicely format labels\n",
    "reshare_rates['treatment'] = reshare_rates['treatment'].replace({False: 'Control',\n",
    "                                                                 True: 'Treatment'})\n",
    "reshare_rates['code'] = reshare_rates['code'].str.title()\n",
    "reshare_rates[\"evidence\"] = reshare_rates[\"evidence\"].str.title()\n",
    "reshare_rates = reshare_rates.pivot(index=[\"PROLIFIC_ID\",\"treatment\",\"evidence\"],\n",
    "                                    columns=\"code\",\n",
    "                                    values=\"reshared\").reset_index()\n",
    "cols = list(OrderedDict.fromkeys(list(participants.columns[1:])+list(reshare_rates.columns)))\n",
    "reshare_rates = reshare_rates.merge(participants,how=\"left\",left_on=\"PROLIFIC_ID\",right_on=\"PROLIFIC_ID\")\n",
    "reshare_rates = reshare_rates.fillna(0)[cols]"
   ]
  },
  {
   "cell_type": "markdown",
   "id": "single-raise",
   "metadata": {},
   "source": [
    "$rumour proportion = \\frac{affirms}{affirms + denies}$"
   ]
  },
  {
   "cell_type": "code",
   "execution_count": 38,
   "id": "specialized-progress",
   "metadata": {},
   "outputs": [],
   "source": [
    "rumour_prop_col = pd.DataFrame(posts.groupby(group_cols)[\"reshared\"].sum()).reset_index()\n",
    "rumour_prop_col = rumour_prop_col.pivot(index=[\"PROLIFIC_ID\",\"treatment\",\"evidence\"],\n",
    "                                    columns=\"code\",\n",
    "                                    values=\"reshared\").reset_index().set_index(\"PROLIFIC_ID\")\n",
    "\n",
    "rumour_prop_col = rumour_prop_col[\"affirms\"] /(rumour_prop_col[\"affirms\"]+rumour_prop_col[\"denies\"])\n",
    "reshare_rates = reshare_rates.assign(rumour_proportion=rumour_prop_col.values)\n",
    "reshare_rates.to_csv(\"../data/processed/mock_data/reshare_rates.csv\",index=False)"
   ]
  },
  {
   "cell_type": "code",
   "execution_count": null,
   "id": "israeli-brazilian",
   "metadata": {},
   "outputs": [],
   "source": []
  }
 ],
 "metadata": {
  "kernelspec": {
   "display_name": "Python (Thesis)",
   "language": "python",
   "name": "python3"
  },
  "language_info": {
   "codemirror_mode": {
    "name": "ipython",
    "version": 3
   },
   "file_extension": ".py",
   "mimetype": "text/x-python",
   "name": "python",
   "nbconvert_exporter": "python",
   "pygments_lexer": "ipython3",
   "version": "3.9.0"
  }
 },
 "nbformat": 4,
 "nbformat_minor": 5
}
