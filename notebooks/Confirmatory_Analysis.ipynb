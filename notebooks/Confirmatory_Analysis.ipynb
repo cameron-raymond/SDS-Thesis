{
 "cells": [
  {
   "cell_type": "markdown",
   "id": "private-lunch",
   "metadata": {},
   "source": [
    "# System Level Analysis\n",
    "\n",
    "Validate assumptions for mixed-effects model with [this](https://ademos.people.uic.edu/Chapter18.html).\n",
    "\n",
    "The presence of credibility indicators in the system will:\n",
    "\n",
    "- $H_1$: *decrease* the *affirmation rate* for rumours with lower evidence levels.\n",
    "- $H_2$: *increase* the *denial rate* for rumours with lower evidence levels.\n",
    "- $H_3$: *increase* the *affirmation rate* for rumours with higher evidence levels.\n",
    "- $H_4$: *decrease* the *denial rate* for rumours with higher evidence levels.\n",
    "\n",
    "**or if focusing just on rumour proportions**\n",
    "\n",
    "The presence of credibility indicators in the system will:\n",
    "\n",
    "- $H_{1b}$: increase the rumour proportion for high evidence rumours\n",
    "- $H_{2b}$: decrease the rumour proportion for low evidence rumours"
   ]
  },
  {
   "cell_type": "code",
   "execution_count": 2,
   "id": "centered-research",
   "metadata": {},
   "outputs": [
    {
     "output_type": "stream",
     "name": "stdout",
     "text": [
      "Shape: 165x49\n"
     ]
    },
    {
     "output_type": "execute_result",
     "data": {
      "text/plain": [
       "               user_id  consent                     timeSubmitted  \\\n",
       "0 -1091051618337871317        1  2021-06-03 14:35:53.721000+00:00   \n",
       "1 -1091051618337871317        1  2021-06-03 14:35:53.721000+00:00   \n",
       "2 -1363632287012916703        1  2021-06-03 14:35:28.980000+00:00   \n",
       "3 -1363632287012916703        1  2021-06-03 14:35:28.980000+00:00   \n",
       "4 -1782714510727608207        1  2021-06-03 14:34:50.118000+00:00   \n",
       "\n",
       "   educationLevel politicalAffiliation attendsProtests  age  gender_man  \\\n",
       "0       undergrad               centre           False   22           0   \n",
       "1       undergrad               centre           False   22           0   \n",
       "2      highSchool                 left           False   31           1   \n",
       "3      highSchool                 left           False   31           1   \n",
       "4  graduateSchool          centreRight           False   36           1   \n",
       "\n",
       "   gender_nonBinary  gender_woman  ...  socialMedias_snapchat  \\\n",
       "0                 0             1  ...                      1   \n",
       "1                 0             1  ...                      1   \n",
       "2                 0             0  ...                      1   \n",
       "3                 0             0  ...                      1   \n",
       "4                 0             0  ...                      0   \n",
       "\n",
       "   socialMedias_tiktok  socialMedias_twitter  condition  evidence  Affirms  \\\n",
       "0                    1                     1  Treatment      High      0.1   \n",
       "1                    1                     1  Treatment       Low      0.1   \n",
       "2                    1                     0  Treatment      High      0.2   \n",
       "3                    1                     0  Treatment       Low      0.3   \n",
       "4                    0                     1    Control      High      0.5   \n",
       "\n",
       "   Denies  Neutral  Questions  rumour_proportion  \n",
       "0     0.0     0.00       0.25           1.000000  \n",
       "1     0.1     0.50       0.50           0.500000  \n",
       "2     0.2     0.25       0.50           0.500000  \n",
       "3     0.6     0.25       0.00           0.333333  \n",
       "4     0.0     0.25       0.00           1.000000  \n",
       "\n",
       "[5 rows x 49 columns]"
      ],
      "text/html": "<div>\n<style scoped>\n    .dataframe tbody tr th:only-of-type {\n        vertical-align: middle;\n    }\n\n    .dataframe tbody tr th {\n        vertical-align: top;\n    }\n\n    .dataframe thead th {\n        text-align: right;\n    }\n</style>\n<table border=\"1\" class=\"dataframe\">\n  <thead>\n    <tr style=\"text-align: right;\">\n      <th></th>\n      <th>user_id</th>\n      <th>consent</th>\n      <th>timeSubmitted</th>\n      <th>educationLevel</th>\n      <th>politicalAffiliation</th>\n      <th>attendsProtests</th>\n      <th>age</th>\n      <th>gender_man</th>\n      <th>gender_nonBinary</th>\n      <th>gender_woman</th>\n      <th>...</th>\n      <th>socialMedias_snapchat</th>\n      <th>socialMedias_tiktok</th>\n      <th>socialMedias_twitter</th>\n      <th>condition</th>\n      <th>evidence</th>\n      <th>Affirms</th>\n      <th>Denies</th>\n      <th>Neutral</th>\n      <th>Questions</th>\n      <th>rumour_proportion</th>\n    </tr>\n  </thead>\n  <tbody>\n    <tr>\n      <th>0</th>\n      <td>-1091051618337871317</td>\n      <td>1</td>\n      <td>2021-06-03 14:35:53.721000+00:00</td>\n      <td>undergrad</td>\n      <td>centre</td>\n      <td>False</td>\n      <td>22</td>\n      <td>0</td>\n      <td>0</td>\n      <td>1</td>\n      <td>...</td>\n      <td>1</td>\n      <td>1</td>\n      <td>1</td>\n      <td>Treatment</td>\n      <td>High</td>\n      <td>0.1</td>\n      <td>0.0</td>\n      <td>0.00</td>\n      <td>0.25</td>\n      <td>1.000000</td>\n    </tr>\n    <tr>\n      <th>1</th>\n      <td>-1091051618337871317</td>\n      <td>1</td>\n      <td>2021-06-03 14:35:53.721000+00:00</td>\n      <td>undergrad</td>\n      <td>centre</td>\n      <td>False</td>\n      <td>22</td>\n      <td>0</td>\n      <td>0</td>\n      <td>1</td>\n      <td>...</td>\n      <td>1</td>\n      <td>1</td>\n      <td>1</td>\n      <td>Treatment</td>\n      <td>Low</td>\n      <td>0.1</td>\n      <td>0.1</td>\n      <td>0.50</td>\n      <td>0.50</td>\n      <td>0.500000</td>\n    </tr>\n    <tr>\n      <th>2</th>\n      <td>-1363632287012916703</td>\n      <td>1</td>\n      <td>2021-06-03 14:35:28.980000+00:00</td>\n      <td>highSchool</td>\n      <td>left</td>\n      <td>False</td>\n      <td>31</td>\n      <td>1</td>\n      <td>0</td>\n      <td>0</td>\n      <td>...</td>\n      <td>1</td>\n      <td>1</td>\n      <td>0</td>\n      <td>Treatment</td>\n      <td>High</td>\n      <td>0.2</td>\n      <td>0.2</td>\n      <td>0.25</td>\n      <td>0.50</td>\n      <td>0.500000</td>\n    </tr>\n    <tr>\n      <th>3</th>\n      <td>-1363632287012916703</td>\n      <td>1</td>\n      <td>2021-06-03 14:35:28.980000+00:00</td>\n      <td>highSchool</td>\n      <td>left</td>\n      <td>False</td>\n      <td>31</td>\n      <td>1</td>\n      <td>0</td>\n      <td>0</td>\n      <td>...</td>\n      <td>1</td>\n      <td>1</td>\n      <td>0</td>\n      <td>Treatment</td>\n      <td>Low</td>\n      <td>0.3</td>\n      <td>0.6</td>\n      <td>0.25</td>\n      <td>0.00</td>\n      <td>0.333333</td>\n    </tr>\n    <tr>\n      <th>4</th>\n      <td>-1782714510727608207</td>\n      <td>1</td>\n      <td>2021-06-03 14:34:50.118000+00:00</td>\n      <td>graduateSchool</td>\n      <td>centreRight</td>\n      <td>False</td>\n      <td>36</td>\n      <td>1</td>\n      <td>0</td>\n      <td>0</td>\n      <td>...</td>\n      <td>0</td>\n      <td>0</td>\n      <td>1</td>\n      <td>Control</td>\n      <td>High</td>\n      <td>0.5</td>\n      <td>0.0</td>\n      <td>0.25</td>\n      <td>0.00</td>\n      <td>1.000000</td>\n    </tr>\n  </tbody>\n</table>\n<p>5 rows × 49 columns</p>\n</div>"
     },
     "metadata": {},
     "execution_count": 2
    }
   ],
   "source": [
    "import pandas as pd\n",
    "import numpy as np\n",
    "import seaborn as sns\n",
    "\n",
    "sns.set_style(\"whitegrid\",{'axes.spines.left' : False,\n",
    "                           'axes.spines.right': False,\n",
    "                           'axes.spines.top': False,\n",
    "                           'grid.linestyle': ':'})\n",
    "sns.set_context(\"talk\")\n",
    "participants = pd.read_csv(\"../data/processed/60b37265a9f60881975de69e-participants.csv\",index_col=0)\n",
    "posts = pd.read_csv(\"../data/processed/60b37265a9f60881975de69e-rumour-results.csv\",index_col=0)\n",
    "reshare_rates = pd.read_csv(\"../data/processed/60b37265a9f60881975de69e-reshare_rates.csv\")\n",
    "print(\"Shape: {}x{}\".format(*reshare_rates.shape))\n",
    "reshare_rates.head()"
   ]
  },
  {
   "cell_type": "markdown",
   "id": "adjusted-namibia",
   "metadata": {},
   "source": [
    "## Hypothesis Testing\n",
    "\n",
    "**Two-/Three-way ANOVA**\n",
    "\n",
    "- check if there exists statistically significant differences in the reshare rates in the treatment in control groups (by evidence level and post-code)\n",
    "- To simplify limit results to analysis of affirmations (most important for the rumour framework)\n",
    "\n",
    "Done following [this](https://www.reneshbedre.com/blog/anova.html) tutorial"
   ]
  },
  {
   "cell_type": "code",
   "execution_count": 3,
   "id": "descending-whole",
   "metadata": {},
   "outputs": [
    {
     "output_type": "execute_result",
     "data": {
      "text/plain": [
       "        Source        SS  DF1  DF2        MS         F     p-unc       np2  \\\n",
       "0    condition  0.013077    1   84  0.013077  0.292477  0.590069  0.003470   \n",
       "1     evidence  0.079484    1   84  0.079484  7.800410  0.006467  0.084971   \n",
       "2  Interaction  0.004994    1   84  0.004994  0.490089  0.485822  0.005801   \n",
       "\n",
       "   eps  \n",
       "0  NaN  \n",
       "1  1.0  \n",
       "2  NaN  "
      ],
      "text/html": "<div>\n<style scoped>\n    .dataframe tbody tr th:only-of-type {\n        vertical-align: middle;\n    }\n\n    .dataframe tbody tr th {\n        vertical-align: top;\n    }\n\n    .dataframe thead th {\n        text-align: right;\n    }\n</style>\n<table border=\"1\" class=\"dataframe\">\n  <thead>\n    <tr style=\"text-align: right;\">\n      <th></th>\n      <th>Source</th>\n      <th>SS</th>\n      <th>DF1</th>\n      <th>DF2</th>\n      <th>MS</th>\n      <th>F</th>\n      <th>p-unc</th>\n      <th>np2</th>\n      <th>eps</th>\n    </tr>\n  </thead>\n  <tbody>\n    <tr>\n      <th>0</th>\n      <td>condition</td>\n      <td>0.013077</td>\n      <td>1</td>\n      <td>84</td>\n      <td>0.013077</td>\n      <td>0.292477</td>\n      <td>0.590069</td>\n      <td>0.003470</td>\n      <td>NaN</td>\n    </tr>\n    <tr>\n      <th>1</th>\n      <td>evidence</td>\n      <td>0.079484</td>\n      <td>1</td>\n      <td>84</td>\n      <td>0.079484</td>\n      <td>7.800410</td>\n      <td>0.006467</td>\n      <td>0.084971</td>\n      <td>1.0</td>\n    </tr>\n    <tr>\n      <th>2</th>\n      <td>Interaction</td>\n      <td>0.004994</td>\n      <td>1</td>\n      <td>84</td>\n      <td>0.004994</td>\n      <td>0.490089</td>\n      <td>0.485822</td>\n      <td>0.005801</td>\n      <td>NaN</td>\n    </tr>\n  </tbody>\n</table>\n</div>"
     },
     "metadata": {},
     "execution_count": 3
    }
   ],
   "source": [
    "from pingouin import mixed_anova\n",
    "\n",
    "reshare_rates.mixed_anova(dv='Affirms',\n",
    "                          between='condition',\n",
    "                          within='evidence',\n",
    "                          subject='user_id')"
   ]
  },
  {
   "cell_type": "code",
   "execution_count": 4,
   "id": "relevant-commission",
   "metadata": {},
   "outputs": [
    {
     "output_type": "execute_result",
     "data": {
      "text/plain": [
       "        Source        SS  DF1  DF2        MS          F         p-unc  \\\n",
       "0    condition  0.201140    1   74  0.201140   1.298453  2.581711e-01   \n",
       "1     evidence  4.921391    1   74  4.921391  64.327434  1.185034e-11   \n",
       "2  Interaction  0.026244    1   74  0.026244   0.343029  5.598679e-01   \n",
       "\n",
       "        np2  eps  \n",
       "0  0.017244  NaN  \n",
       "1  0.465037  1.0  \n",
       "2  0.004614  NaN  "
      ],
      "text/html": "<div>\n<style scoped>\n    .dataframe tbody tr th:only-of-type {\n        vertical-align: middle;\n    }\n\n    .dataframe tbody tr th {\n        vertical-align: top;\n    }\n\n    .dataframe thead th {\n        text-align: right;\n    }\n</style>\n<table border=\"1\" class=\"dataframe\">\n  <thead>\n    <tr style=\"text-align: right;\">\n      <th></th>\n      <th>Source</th>\n      <th>SS</th>\n      <th>DF1</th>\n      <th>DF2</th>\n      <th>MS</th>\n      <th>F</th>\n      <th>p-unc</th>\n      <th>np2</th>\n      <th>eps</th>\n    </tr>\n  </thead>\n  <tbody>\n    <tr>\n      <th>0</th>\n      <td>condition</td>\n      <td>0.201140</td>\n      <td>1</td>\n      <td>74</td>\n      <td>0.201140</td>\n      <td>1.298453</td>\n      <td>2.581711e-01</td>\n      <td>0.017244</td>\n      <td>NaN</td>\n    </tr>\n    <tr>\n      <th>1</th>\n      <td>evidence</td>\n      <td>4.921391</td>\n      <td>1</td>\n      <td>74</td>\n      <td>4.921391</td>\n      <td>64.327434</td>\n      <td>1.185034e-11</td>\n      <td>0.465037</td>\n      <td>1.0</td>\n    </tr>\n    <tr>\n      <th>2</th>\n      <td>Interaction</td>\n      <td>0.026244</td>\n      <td>1</td>\n      <td>74</td>\n      <td>0.026244</td>\n      <td>0.343029</td>\n      <td>5.598679e-01</td>\n      <td>0.004614</td>\n      <td>NaN</td>\n    </tr>\n  </tbody>\n</table>\n</div>"
     },
     "metadata": {},
     "execution_count": 4
    }
   ],
   "source": [
    "reshare_rates.mixed_anova(dv='rumour_proportion',\n",
    "                          between='condition',\n",
    "                          within='evidence',\n",
    "                          subject='user_id')"
   ]
  },
  {
   "cell_type": "markdown",
   "id": "breathing-gregory",
   "metadata": {},
   "source": [
    "### Regression Framework\n",
    "\n",
    "Regress the dependent variable (reshare rate or rumour proportion) as a function of the treatment ($x_t$), the rumours' evidence levels ($x_e$) and their interaction ($x_tx_e$). Since there are two repeated measures for each participant add a random effect on the participant ID ($u_j$)\n",
    "\n",
    "$y = \\beta_0 + \\beta_1x_t + \\beta_2x_e + \\beta_3x_tx_e + u_j + \\epsilon$\n",
    "\n",
    "$u_j \\thicksim N(0,\\sigma^2_u)$\n",
    "\n",
    "$e \\thicksim N(0,\\sigma^2_e)$"
   ]
  },
  {
   "cell_type": "code",
   "execution_count": 5,
   "id": "inappropriate-machine",
   "metadata": {},
   "outputs": [
    {
     "data": {
      "text/plain": [
       "'age + C(educationLevel) + C(affiliatedMovements_climate) + C(affiliatedMovements...'"
      ]
     },
     "execution_count": 5,
     "metadata": {},
     "output_type": "execute_result"
    }
   ],
   "source": [
    "# Control variables\n",
    "affil_columns = \" + \".join([f\"C({i})\" for i in reshare_rates.columns if \"affiliatedMovements\" in i and not \"none\" in i])\n",
    "sm_cols = \" + \".join([f\"C({i})\" for i in reshare_rates.columns if \"gender\" in i and not \"none\" in i])\n",
    "gender_cols = \" + \".join([f\"C({i})\" for i in reshare_rates.columns if \"socialMedias\" in i and not \"none\" in i])\n",
    "controls = f\"age + C(educationLevel) + {affil_columns} + {sm_cols} + {gender_cols}\"\n",
    "controls[:80]+\"...\""
   ]
  },
  {
   "cell_type": "code",
   "execution_count": null,
   "id": "tamil-flush",
   "metadata": {},
   "outputs": [],
   "source": []
  }
 ],
 "metadata": {
  "kernelspec": {
   "name": "python3",
   "display_name": "Python 3.9.0 64-bit ('code-3gDjSy3u': venv)"
  },
  "language_info": {
   "codemirror_mode": {
    "name": "ipython",
    "version": 3
   },
   "file_extension": ".py",
   "mimetype": "text/x-python",
   "name": "python",
   "nbconvert_exporter": "python",
   "pygments_lexer": "ipython3",
   "version": "3.9.0"
  }
 },
 "nbformat": 4,
 "nbformat_minor": 5
}