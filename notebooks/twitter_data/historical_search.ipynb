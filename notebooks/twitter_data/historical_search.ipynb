{
 "cells": [
  {
   "cell_type": "markdown",
   "metadata": {},
   "source": [
    "# Data Mining ⛏\n",
    "\n",
    "**Purpose:** Collect all relevant Tweet's pertaining to the reopening of schools in the COVID-19 pandemic between Jan. 1, 2020 and Sept. 15, 2020.\n",
    "\n",
    "**Twitter Threads**\n",
    "* Thread showing original video of protestor being detained by [federal agents](https://twitter.com/matcha_chai/status/1283328232033411072)\n",
    "* Thread showing video of police saying they're using [contact tracing](https://twitter.com/NBCNews/status/1266758240018276352)\n",
    "\n",
    "**Pipeline:**\n",
    "1.  Connect to Twitter's Search Tweets API (v2), to the `full archive` endpoint using the academic research track\n",
    "2. *for each thread* \n",
    "    1. Take that tweets conversation ID\n",
    "    2. Collect the tweet's entire thread by matching the conversation ID\n",
    "        1. Only collect english tweets with no external links/media that are in direct reply to the original post (deeper tweets are too specific)\n",
    "    3. Store collection of tweets in Pandas dataframe, and only keep relevant features (text, author, *etc.*)\n",
    "    4. Add an extra column that is the cleaned tweet text.\n",
    "    5. Save dataframe to CSV\n",
    "    6. Solve the pandemic"
   ]
  },
  {
   "cell_type": "code",
   "execution_count": 149,
   "metadata": {},
   "outputs": [],
   "source": [
    "from searchtweets import collect_results, gen_request_parameters, load_credentials, ResultStream\n",
    "from tqdm.auto import tqdm \n",
    "import pandas as pd\n",
    "import numpy as np\n",
    "import os\n",
    "\n",
    "# Load api credentials\n",
    "search_args = load_credentials(filename=\"./api-secret.yaml\",\n",
    "                               yaml_key=\"search_tweets_v2\",\n",
    "                               env_overwrite=False)\n"
   ]
  },
  {
   "cell_type": "markdown",
   "metadata": {},
   "source": [
    "## 1. Tweet Conversation ID"
   ]
  },
  {
   "cell_type": "code",
   "execution_count": 215,
   "metadata": {},
   "outputs": [],
   "source": [
    "t_details = { \"contact_tracing\": {\n",
    "                            \"author_id\": \"NBCNews\",\n",
    "                            \"conversation_id\": \"1266741567961825284\",\n",
    "                            \"start_time\": \"2020-05-29\",\n",
    "                            \"end_time\": \"2020-06-02\"\n",
    "                        },\n",
    "                        \"kidnapping\": {\n",
    "                            \"author_id\": \"matcha_chai\",\n",
    "                            \"conversation_id\": \"1283328232033411072\",\n",
    "                            \"start_time\": \"2020-07-14\",\n",
    "                            \"end_time\": \"2020-07-18\"\n",
    "                        }\n",
    "                }\n"
   ]
  },
  {
   "cell_type": "code",
   "execution_count": 216,
   "metadata": {},
   "outputs": [],
   "source": [
    "t_name = 'contact_tracing'\n",
    "thread_object = t_details[t_name]"
   ]
  },
  {
   "cell_type": "markdown",
   "metadata": {},
   "source": [
    "## 2. Collect Twitter Thread"
   ]
  },
  {
   "cell_type": "code",
   "execution_count": 217,
   "metadata": {},
   "outputs": [],
   "source": [
    "def build_request(t_obj,**kwargs):\n",
    "    c_id,a_id = t_obj['conversation_id'],t_obj['author_id']\n",
    "    s_time,e_time = t_obj['start_time'],t_obj['end_time']\n",
    "    query = f\"conversation_id:{c_id} to:{a_id} lang:en -has:links -has:media\"\n",
    "    tweet_fields = 'author_id,created_at,conversation_id'\n",
    "    return gen_request_parameters(query,\n",
    "                                  start_time=s_time,\n",
    "                                  end_time=e_time,\n",
    "                                  tweet_fields=tweet_fields)\n",
    "\n",
    "request = build_request(thread_object)"
   ]
  },
  {
   "cell_type": "code",
   "execution_count": null,
   "metadata": {},
   "outputs": [],
   "source": [
    "def return_tweets(request,name=None,max_requests=1):\n",
    "    fp = \"../../data/raw/tweets/{}.json\".format(name)\n",
    "    # If we've already made this request just load the data and return\n",
    "    if os.path.isfile(fp):\n",
    "        with open(fp) as fin:\n",
    "            return json.load(fin),name\n",
    "    print(f\"Making request: {name}\")\n",
    "    rs = ResultStream(request_parameters=request,\n",
    "                      max_requests=max_requests,\n",
    "                      max_tweets=10**7,\n",
    "                      **search_args)\n",
    "    tweets = list(rs.stream())\n",
    "    print(f\"Writing {len(tweets)} tweets for request: {name}\")\n",
    "    with open(fp, 'w') as fout:\n",
    "        json.dump(tweets,fout,indent=4)\n",
    "    return tweets,name\n",
    "\n",
    "tweets,f_name = return_tweets(request,t_name,max_requests=200)"
   ]
  },
  {
   "cell_type": "markdown",
   "metadata": {},
   "source": [
    "## 2. To Dataframe"
   ]
  },
  {
   "cell_type": "code",
   "execution_count": 219,
   "metadata": {},
   "outputs": [],
   "source": [
    "tweets_df = pd.DataFrame.from_records(tweets).set_index('id')\n",
    "tweets_df = tweets_df.dropna(how='any',\n",
    "                             subset=['text','created_at','author_id'])\n",
    "tweets_df = tweets_df[['created_at','author_id','text']]\n",
    "tweets_df['created_at'] = pd.to_datetime(tweets_df['created_at'])\n",
    "tweets_df = tweets_df.sort_values('created_at')"
   ]
  },
  {
   "cell_type": "markdown",
   "metadata": {},
   "source": [
    "### 2.a Clean Text"
   ]
  },
  {
   "cell_type": "code",
   "execution_count": 220,
   "metadata": {},
   "outputs": [
    {
     "data": {
      "text/html": [
       "<div>\n",
       "<style scoped>\n",
       "    .dataframe tbody tr th:only-of-type {\n",
       "        vertical-align: middle;\n",
       "    }\n",
       "\n",
       "    .dataframe tbody tr th {\n",
       "        vertical-align: top;\n",
       "    }\n",
       "\n",
       "    .dataframe thead th {\n",
       "        text-align: right;\n",
       "    }\n",
       "</style>\n",
       "<table border=\"1\" class=\"dataframe\">\n",
       "  <thead>\n",
       "    <tr style=\"text-align: right;\">\n",
       "      <th></th>\n",
       "      <th>created_at</th>\n",
       "      <th>author_id</th>\n",
       "      <th>text</th>\n",
       "      <th>clean_text</th>\n",
       "      <th>code</th>\n",
       "    </tr>\n",
       "    <tr>\n",
       "      <th>id</th>\n",
       "      <th></th>\n",
       "      <th></th>\n",
       "      <th></th>\n",
       "      <th></th>\n",
       "      <th></th>\n",
       "    </tr>\n",
       "  </thead>\n",
       "  <tbody>\n",
       "    <tr>\n",
       "      <th>1266741784681553925</th>\n",
       "      <td>2020-05-30 14:42:31+00:00</td>\n",
       "      <td>1217146898550788096</td>\n",
       "      <td>@NBCNews We’re they from Florida, down Mar-a-L...</td>\n",
       "      <td>We’re they from Florida, down Mar-a-Lago way?</td>\n",
       "      <td>-1</td>\n",
       "    </tr>\n",
       "    <tr>\n",
       "      <th>1266741969474256897</th>\n",
       "      <td>2020-05-30 14:43:15+00:00</td>\n",
       "      <td>2823277837</td>\n",
       "      <td>@NBCNews Don't buy it.</td>\n",
       "      <td>Don't buy it.</td>\n",
       "      <td>-1</td>\n",
       "    </tr>\n",
       "    <tr>\n",
       "      <th>1266742066681438208</th>\n",
       "      <td>2020-05-30 14:43:38+00:00</td>\n",
       "      <td>1103416958345728000</td>\n",
       "      <td>@NBCNews Anyone notice these recent riots have...</td>\n",
       "      <td>Anyone notice these recent riots have a ton of...</td>\n",
       "      <td>-1</td>\n",
       "    </tr>\n",
       "    <tr>\n",
       "      <th>1266742241609031685</th>\n",
       "      <td>2020-05-30 14:44:19+00:00</td>\n",
       "      <td>2878684237</td>\n",
       "      <td>@NBCNews @WillieGeist And this is what makes i...</td>\n",
       "      <td>And this is what makes it worse and even  sadder</td>\n",
       "      <td>-1</td>\n",
       "    </tr>\n",
       "    <tr>\n",
       "      <th>1266742379568037888</th>\n",
       "      <td>2020-05-30 14:44:52+00:00</td>\n",
       "      <td>813184790945898496</td>\n",
       "      <td>@NBCNews Who cares</td>\n",
       "      <td>Who cares</td>\n",
       "      <td>-1</td>\n",
       "    </tr>\n",
       "  </tbody>\n",
       "</table>\n",
       "</div>"
      ],
      "text/plain": [
       "                                   created_at            author_id  \\\n",
       "id                                                                   \n",
       "1266741784681553925 2020-05-30 14:42:31+00:00  1217146898550788096   \n",
       "1266741969474256897 2020-05-30 14:43:15+00:00           2823277837   \n",
       "1266742066681438208 2020-05-30 14:43:38+00:00  1103416958345728000   \n",
       "1266742241609031685 2020-05-30 14:44:19+00:00           2878684237   \n",
       "1266742379568037888 2020-05-30 14:44:52+00:00   813184790945898496   \n",
       "\n",
       "                                                                  text  \\\n",
       "id                                                                       \n",
       "1266741784681553925  @NBCNews We’re they from Florida, down Mar-a-L...   \n",
       "1266741969474256897                             @NBCNews Don't buy it.   \n",
       "1266742066681438208  @NBCNews Anyone notice these recent riots have...   \n",
       "1266742241609031685  @NBCNews @WillieGeist And this is what makes i...   \n",
       "1266742379568037888                                 @NBCNews Who cares   \n",
       "\n",
       "                                                            clean_text  code  \n",
       "id                                                                            \n",
       "1266741784681553925      We’re they from Florida, down Mar-a-Lago way?    -1  \n",
       "1266741969474256897                                      Don't buy it.    -1  \n",
       "1266742066681438208  Anyone notice these recent riots have a ton of...    -1  \n",
       "1266742241609031685   And this is what makes it worse and even  sadder    -1  \n",
       "1266742379568037888                                          Who cares    -1  "
      ]
     },
     "execution_count": 220,
     "metadata": {},
     "output_type": "execute_result"
    }
   ],
   "source": [
    "# Remove mentions\n",
    "import html\n",
    "import re\n",
    "import ast\n",
    "def clean_text(text):\n",
    "    #unescape html\n",
    "    text = html.unescape(text)\n",
    "    #remove mentions\n",
    "    text = re.sub(\"@[A-Za-z0-9]\\w+\",\"\",text)\n",
    "    return text.strip()\n",
    "\n",
    "tweets_df['clean_text'] = tweets_df['text'].apply(clean_text)\n",
    "tweets_df['code'] = -1\n",
    "tweets_df.head()"
   ]
  },
  {
   "cell_type": "markdown",
   "metadata": {},
   "source": [
    "## 3. To CSV"
   ]
  },
  {
   "cell_type": "code",
   "execution_count": 221,
   "metadata": {},
   "outputs": [],
   "source": [
    "tweets_df.to_csv(\"../../data/processed/tweets/{}.csv\".format(t_name))"
   ]
  },
  {
   "cell_type": "code",
   "execution_count": null,
   "metadata": {},
   "outputs": [],
   "source": []
  }
 ],
 "metadata": {
  "kernelspec": {
   "display_name": "Python (Thesis)",
   "language": "python",
   "name": "python3"
  },
  "language_info": {
   "codemirror_mode": {
    "name": "ipython",
    "version": 3
   },
   "file_extension": ".py",
   "mimetype": "text/x-python",
   "name": "python",
   "nbconvert_exporter": "python",
   "pygments_lexer": "ipython3",
   "version": "3.9.0"
  }
 },
 "nbformat": 4,
 "nbformat_minor": 4
}
