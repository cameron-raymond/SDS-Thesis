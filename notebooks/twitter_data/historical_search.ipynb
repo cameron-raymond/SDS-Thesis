{
 "cells": [
  {
   "cell_type": "markdown",
   "metadata": {},
   "source": [
    "# Data Mining ⛏\n",
    "\n",
    "**Purpose:** Collect all relevant Tweet's pertaining to the reopening of schools in the COVID-19 pandemic between Jan. 1, 2020 and Sept. 15, 2020.\n",
    "\n",
    "**Pipeline:**\n",
    "1.  Connect to Twitter's Search Tweets API (v2), to the `full archive` endpoint using the academic research track\n",
    "2. *for each rumour* \n",
    "    1. Collect all tweets that contain a link to the rumour fact-checking website \n",
    "3. *for each of the linking tweets*\n",
    "    1. Take that tweets conversation ID\n",
    "    2. Collect the tweets entire thread by matching the conversation ID\n",
    "    3. Store collection of tweets in Pandas dataframe, and only keep relevant features (text, author, *etc.*)\n",
    "    4. Add an extra column that is the cleaned tweet text.\n",
    "    5. Save dataframe to CSV\n",
    "    6. Solve the pandemic"
   ]
  },
  {
   "cell_type": "code",
   "execution_count": 19,
   "metadata": {},
   "outputs": [],
   "source": [
    "import pandas as pd\n",
    "import numpy as np\n",
    "from tqdm.auto import tqdm \n",
    "from searchtweets import collect_results, gen_request_parameters, load_credentials, ResultStream\n",
    "\n",
    "search_args = load_credentials(filename=\"./api-secret.yaml\",yaml_key=\"search_tweets_v2\",env_overwrite=False)"
   ]
  },
  {
   "cell_type": "code",
   "execution_count": 2,
   "metadata": {},
   "outputs": [
    {
     "name": "stdout",
     "output_type": "stream",
     "text": [
      "{\"query\": \"from:twitterdev\"}\n"
     ]
    }
   ],
   "source": [
    "query = gen_request_parameters(\"from:twitterdev\")\n",
    "print(query)"
   ]
  },
  {
   "cell_type": "code",
   "execution_count": 3,
   "metadata": {},
   "outputs": [],
   "source": [
    "tweets = collect_results(query,\n",
    "                         max_tweets=10,\n",
    "                         result_stream_args=search_args)"
   ]
  },
  {
   "cell_type": "code",
   "execution_count": 20,
   "metadata": {},
   "outputs": [
    {
     "name": "stdout",
     "output_type": "stream",
     "text": [
      "Introducing the manage Likes endpoints to the #TwitterAPI v2. Liking Tweets is one of the core aspects of the Twitter experience. Developers can now use these endpoints to like or unlike a specified Tweet on behalf of an authenticated account.\n",
      "\n",
      "https://t.co/VCWYEHN8Bf\n",
      "We will be starting soon. \n",
      "\n",
      "Join us on https://t.co/SQziibOD9P https://t.co/kGGfrrh52a\n",
      "Join us next Thursday, April 22nd at 10 am PT for our next livestream 🚨\n",
      "\n",
      "Getting started with the #TwitterAPI v2 and the new Academic Research product track using the twarc2 library in Python\n",
      "\n",
      "We will be live on Twitch https://t.co/SQziibOD9P\n",
      "Introducing the manage blocks endpoints to the #TwitterAPI v2. These endpoints are crucial for developers who want to help maintain and improve the health of the public conversation on Twitter.  Learn more \n",
      "https://t.co/8ayivhifZE\n",
      "Interested in how our engineers tackled the challenge? Get a peek under the hood over at the @TwitterEng  blog 👇\n",
      "\n",
      "Link 🔗 https://t.co/KexZ69tsye\n",
      "Over a year ago, we released the COVID-19 stream to help people build resources for the public good.\n",
      "\n",
      "Now we're sharing more about how people used this data to study everything from misinformation, to how attitudes about the virus evolved over time. 💡\n",
      "\n",
      "https://t.co/ANU9rza3l4\n",
      "In just two months, thousands of people have been reviewed and approved to our Academic Research product track. 🤓 \n",
      "\n",
      "Want to know what the buzz is all about? @SuhemParack gives a quick overview of what’s available, and how you can get started 👇 https://t.co/SWlnUivybZ\n"
     ]
    }
   ],
   "source": [
    "for tweet in tweets:\n",
    "    if \"text\" in tweet: print(tweet[\"text\"])"
   ]
  },
  {
   "cell_type": "code",
   "execution_count": null,
   "metadata": {},
   "outputs": [],
   "source": []
  }
 ],
 "metadata": {
  "kernelspec": {
   "display_name": "Python (Thesis)",
   "language": "python",
   "name": "python3"
  },
  "language_info": {
   "codemirror_mode": {
    "name": "ipython",
    "version": 3
   },
   "file_extension": ".py",
   "mimetype": "text/x-python",
   "name": "python",
   "nbconvert_exporter": "python",
   "pygments_lexer": "ipython3",
   "version": "3.9.0"
  }
 },
 "nbformat": 4,
 "nbformat_minor": 4
}
