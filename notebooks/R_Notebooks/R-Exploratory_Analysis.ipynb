{
 "cells": [
  {
   "cell_type": "markdown",
   "id": "5bdfba21-a0b7-41b8-bf0f-c9c2c97f1cd1",
   "metadata": {},
   "source": [
    "# Exploratory Analysis\n",
    "\n",
    "* $RQ_1$: How does temporal proximity affect sharing behaviour during protest demonstrations?\n",
    "* $RQ_2$: How do source attributes like the poster's gender affect sharing behaviour during protest demonstrations?\n",
    "* $RQ_3$: Is there evidence of a \"backfire effect\" where misleading posts that *don't* have a credibility indicator are assumed to be true and more likely to be reshared.\n"
   ]
  },
  {
   "cell_type": "code",
   "execution_count": 16,
   "id": "3d6d0972-cde5-4472-85f7-4fd2f78ee803",
   "metadata": {},
   "outputs": [
    {
     "name": "stderr",
     "output_type": "stream",
     "text": [
      "Loading required package: moonBook\n",
      "\n",
      "Warning message in library(package, lib.loc = lib.loc, character.only = TRUE, logical.return = TRUE, :\n",
      "“there is no package called ‘moonBook’”\n"
     ]
    },
    {
     "data": {
      "text/html": [
       "<table>\n",
       "<caption>A data.frame: 6 × 13</caption>\n",
       "<thead>\n",
       "\t<tr><th></th><th scope=col>user_id</th><th scope=col>condition</th><th scope=col>timeSubmitted</th><th scope=col>secondsTaken</th><th scope=col>id</th><th scope=col>rumour</th><th scope=col>code</th><th scope=col>evidence</th><th scope=col>warning</th><th scope=col>reshared</th><th scope=col>clickedWarning</th><th scope=col>timestamp</th><th scope=col>mockGender</th></tr>\n",
       "\t<tr><th></th><th scope=col>&lt;dbl&gt;</th><th scope=col>&lt;chr&gt;</th><th scope=col>&lt;chr&gt;</th><th scope=col>&lt;int&gt;</th><th scope=col>&lt;dbl&gt;</th><th scope=col>&lt;chr&gt;</th><th scope=col>&lt;chr&gt;</th><th scope=col>&lt;chr&gt;</th><th scope=col>&lt;chr&gt;</th><th scope=col>&lt;int&gt;</th><th scope=col>&lt;chr&gt;</th><th scope=col>&lt;int&gt;</th><th scope=col>&lt;chr&gt;</th></tr>\n",
       "</thead>\n",
       "<tbody>\n",
       "\t<tr><th scope=row>1</th><td>7.057603e+18</td><td>treatment</td><td>2021-05-24 10:57:41.980000+00:00</td><td>120</td><td>1.283487e+18</td><td>R1</td><td>denies   </td><td>high</td><td>True </td><td>1</td><td>False</td><td>2</td><td>female</td></tr>\n",
       "\t<tr><th scope=row>2</th><td>7.057603e+18</td><td>treatment</td><td>2021-05-24 10:57:41.980000+00:00</td><td>120</td><td>1.284272e+18</td><td>R1</td><td>neutral  </td><td>high</td><td>False</td><td>0</td><td>False</td><td>2</td><td>female</td></tr>\n",
       "\t<tr><th scope=row>3</th><td>7.057603e+18</td><td>treatment</td><td>2021-05-24 10:57:41.980000+00:00</td><td>120</td><td>1.283527e+18</td><td>R1</td><td>questions</td><td>high</td><td>False</td><td>1</td><td>False</td><td>4</td><td>female</td></tr>\n",
       "\t<tr><th scope=row>4</th><td>7.057603e+18</td><td>treatment</td><td>2021-05-24 10:57:41.980000+00:00</td><td>120</td><td>1.283565e+18</td><td>R1</td><td>denies   </td><td>high</td><td>True </td><td>1</td><td>True </td><td>5</td><td>female</td></tr>\n",
       "\t<tr><th scope=row>5</th><td>7.057603e+18</td><td>treatment</td><td>2021-05-24 10:57:41.980000+00:00</td><td>120</td><td>1.283799e+18</td><td>R1</td><td>questions</td><td>high</td><td>False</td><td>0</td><td>False</td><td>6</td><td>male  </td></tr>\n",
       "\t<tr><th scope=row>6</th><td>7.057603e+18</td><td>treatment</td><td>2021-05-24 10:57:41.980000+00:00</td><td>120</td><td>1.283523e+18</td><td>R1</td><td>affirms  </td><td>high</td><td>False</td><td>1</td><td>False</td><td>7</td><td>male  </td></tr>\n",
       "</tbody>\n",
       "</table>\n"
      ],
      "text/latex": [
       "A data.frame: 6 × 13\n",
       "\\begin{tabular}{r|lllllllllllll}\n",
       "  & user\\_id & condition & timeSubmitted & secondsTaken & id & rumour & code & evidence & warning & reshared & clickedWarning & timestamp & mockGender\\\\\n",
       "  & <dbl> & <chr> & <chr> & <int> & <dbl> & <chr> & <chr> & <chr> & <chr> & <int> & <chr> & <int> & <chr>\\\\\n",
       "\\hline\n",
       "\t1 & 7.057603e+18 & treatment & 2021-05-24 10:57:41.980000+00:00 & 120 & 1.283487e+18 & R1 & denies    & high & True  & 1 & False & 2 & female\\\\\n",
       "\t2 & 7.057603e+18 & treatment & 2021-05-24 10:57:41.980000+00:00 & 120 & 1.284272e+18 & R1 & neutral   & high & False & 0 & False & 2 & female\\\\\n",
       "\t3 & 7.057603e+18 & treatment & 2021-05-24 10:57:41.980000+00:00 & 120 & 1.283527e+18 & R1 & questions & high & False & 1 & False & 4 & female\\\\\n",
       "\t4 & 7.057603e+18 & treatment & 2021-05-24 10:57:41.980000+00:00 & 120 & 1.283565e+18 & R1 & denies    & high & True  & 1 & True  & 5 & female\\\\\n",
       "\t5 & 7.057603e+18 & treatment & 2021-05-24 10:57:41.980000+00:00 & 120 & 1.283799e+18 & R1 & questions & high & False & 0 & False & 6 & male  \\\\\n",
       "\t6 & 7.057603e+18 & treatment & 2021-05-24 10:57:41.980000+00:00 & 120 & 1.283523e+18 & R1 & affirms   & high & False & 1 & False & 7 & male  \\\\\n",
       "\\end{tabular}\n"
      ],
      "text/markdown": [
       "\n",
       "A data.frame: 6 × 13\n",
       "\n",
       "| <!--/--> | user_id &lt;dbl&gt; | condition &lt;chr&gt; | timeSubmitted &lt;chr&gt; | secondsTaken &lt;int&gt; | id &lt;dbl&gt; | rumour &lt;chr&gt; | code &lt;chr&gt; | evidence &lt;chr&gt; | warning &lt;chr&gt; | reshared &lt;int&gt; | clickedWarning &lt;chr&gt; | timestamp &lt;int&gt; | mockGender &lt;chr&gt; |\n",
       "|---|---|---|---|---|---|---|---|---|---|---|---|---|---|\n",
       "| 1 | 7.057603e+18 | treatment | 2021-05-24 10:57:41.980000+00:00 | 120 | 1.283487e+18 | R1 | denies    | high | True  | 1 | False | 2 | female |\n",
       "| 2 | 7.057603e+18 | treatment | 2021-05-24 10:57:41.980000+00:00 | 120 | 1.284272e+18 | R1 | neutral   | high | False | 0 | False | 2 | female |\n",
       "| 3 | 7.057603e+18 | treatment | 2021-05-24 10:57:41.980000+00:00 | 120 | 1.283527e+18 | R1 | questions | high | False | 1 | False | 4 | female |\n",
       "| 4 | 7.057603e+18 | treatment | 2021-05-24 10:57:41.980000+00:00 | 120 | 1.283565e+18 | R1 | denies    | high | True  | 1 | True  | 5 | female |\n",
       "| 5 | 7.057603e+18 | treatment | 2021-05-24 10:57:41.980000+00:00 | 120 | 1.283799e+18 | R1 | questions | high | False | 0 | False | 6 | male   |\n",
       "| 6 | 7.057603e+18 | treatment | 2021-05-24 10:57:41.980000+00:00 | 120 | 1.283523e+18 | R1 | affirms   | high | False | 1 | False | 7 | male   |\n",
       "\n"
      ],
      "text/plain": [
       "  user_id      condition timeSubmitted                    secondsTaken\n",
       "1 7.057603e+18 treatment 2021-05-24 10:57:41.980000+00:00 120         \n",
       "2 7.057603e+18 treatment 2021-05-24 10:57:41.980000+00:00 120         \n",
       "3 7.057603e+18 treatment 2021-05-24 10:57:41.980000+00:00 120         \n",
       "4 7.057603e+18 treatment 2021-05-24 10:57:41.980000+00:00 120         \n",
       "5 7.057603e+18 treatment 2021-05-24 10:57:41.980000+00:00 120         \n",
       "6 7.057603e+18 treatment 2021-05-24 10:57:41.980000+00:00 120         \n",
       "  id           rumour code      evidence warning reshared clickedWarning\n",
       "1 1.283487e+18 R1     denies    high     True    1        False         \n",
       "2 1.284272e+18 R1     neutral   high     False   0        False         \n",
       "3 1.283527e+18 R1     questions high     False   1        False         \n",
       "4 1.283565e+18 R1     denies    high     True    1        True          \n",
       "5 1.283799e+18 R1     questions high     False   0        False         \n",
       "6 1.283523e+18 R1     affirms   high     False   1        False         \n",
       "  timestamp mockGender\n",
       "1 2         female    \n",
       "2 2         female    \n",
       "3 4         female    \n",
       "4 5         female    \n",
       "5 6         male      \n",
       "6 7         male      "
      ]
     },
     "metadata": {},
     "output_type": "display_data"
    }
   ],
   "source": [
    "library(lme4)\n",
    "library(AER)\n",
    "library(dplyr)\n",
    "library(purrr)\n",
    "library(magrittr)\n",
    "library(ggplot2)\n",
    "require(ggiraph)\n",
    "require(plyr)\n",
    "require(moonBook)   # for use of data radial\n",
    "require(GGally)\n",
    "require(reshape2)\n",
    "require(compiler)\n",
    "require(parallel)\n",
    "require(boot)\n",
    "require(lattice)\n",
    "\n",
    "data <- read.csv(\"../../data/processed/607d6b3929befce813fe5ba2-rumour-results.csv\")\n",
    "data$reshared <- as.integer(as.logical(data$reshared))\n",
    "head(data)"
   ]
  },
  {
   "cell_type": "markdown",
   "id": "4adbc5d2-6f9f-4ea9-a45c-c3e05180a733",
   "metadata": {},
   "source": [
    "### Logistic regression\n",
    "\n",
    "Alt add an interaction between warning and evidence (if we expect there to be different effects for putting a cred indicator on a post denying a high evidence rumour vs affirming a low evidence rumour."
   ]
  },
  {
   "cell_type": "code",
   "execution_count": 28,
   "id": "6649a776-9b3a-46ec-95a7-9e17b1cbe6ac",
   "metadata": {},
   "outputs": [
    {
     "data": {
      "text/plain": [
       "Generalized linear mixed model fit by maximum likelihood (Laplace\n",
       "  Approximation) [glmerMod]\n",
       " Family: binomial  ( logit )\n",
       "Formula: reshared ~ mockGender + timestamp + warning + code * evidence +  \n",
       "    (1 | user_id) + (1 | id)\n",
       "   Data: data\n",
       "Control: glmerControl(optimizer = \"bobyqa\", optCtrl = list(maxfun = 2e+05))\n",
       "\n",
       "     AIC      BIC   logLik deviance df.resid \n",
       "   323.3    376.6   -148.6    297.3      435 \n",
       "\n",
       "Scaled residuals: \n",
       "    Min      1Q  Median      3Q     Max \n",
       "-1.2526 -0.3520 -0.2235 -0.1111  8.2647 \n",
       "\n",
       "Random effects:\n",
       " Groups  Name        Variance Std.Dev.\n",
       " id      (Intercept) 0.4643   0.6814  \n",
       " user_id (Intercept) 0.8819   0.9391  \n",
       "Number of obs: 448, groups:  id, 153; user_id, 8\n",
       "\n",
       "Fixed effects:\n",
       "                          Estimate Std. Error z value Pr(>|z|)    \n",
       "(Intercept)               -0.66269    0.58463  -1.134  0.25700    \n",
       "mockGendermale            -0.16318    0.33972  -0.480  0.63099    \n",
       "timestamp                 -0.04493    0.01123  -4.002 6.27e-05 ***\n",
       "warningTrue                0.29555    0.73525   0.402  0.68770    \n",
       "codedenies                -1.69865    0.75634  -2.246  0.02471 *  \n",
       "codeneutral               -1.38406    0.90499  -1.529  0.12617    \n",
       "codequestions              0.66566    0.62787   1.060  0.28906    \n",
       "evidencelow               -1.04545    0.65724  -1.591  0.11169    \n",
       "codedenies:evidencelow     3.51012    1.12034   3.133  0.00173 ** \n",
       "codeneutral:evidencelow    1.06785    1.34145   0.796  0.42601    \n",
       "codequestions:evidencelow -0.81141    1.17260  -0.692  0.48895    \n",
       "---\n",
       "Signif. codes:  0 ‘***’ 0.001 ‘**’ 0.01 ‘*’ 0.05 ‘.’ 0.1 ‘ ’ 1\n",
       "\n",
       "Correlation of Fixed Effects:\n",
       "            (Intr) mckGnd tmstmp wrnngT coddns cdntrl cdqstn evdncl cddns:\n",
       "mockGendrml -0.318                                                        \n",
       "timestamp   -0.373  0.103                                                 \n",
       "warningTrue -0.016  0.018  0.078                                          \n",
       "codedenies  -0.305  0.053  0.061 -0.422                                   \n",
       "codeneutral -0.277  0.131  0.089  0.019  0.220                            \n",
       "codequestns -0.358 -0.049 -0.009  0.001  0.264  0.214                     \n",
       "evidencelow -0.376  0.088  0.089 -0.462  0.495  0.252  0.306              \n",
       "cddns:vdncl  0.234 -0.094 -0.146  0.554 -0.819 -0.177 -0.167 -0.751       \n",
       "cdntrl:vdnc  0.193 -0.109 -0.056  0.230 -0.255 -0.676 -0.143 -0.503  0.388\n",
       "cdqstns:vdn  0.208  0.023 -0.022  0.266 -0.259 -0.114 -0.535 -0.542  0.392\n",
       "            cdntr:\n",
       "mockGendrml       \n",
       "timestamp         \n",
       "warningTrue       \n",
       "codedenies        \n",
       "codeneutral       \n",
       "codequestns       \n",
       "evidencelow       \n",
       "cddns:vdncl       \n",
       "cdntrl:vdnc       \n",
       "cdqstns:vdn  0.262"
      ]
     },
     "metadata": {},
     "output_type": "display_data"
    }
   ],
   "source": [
    "md <- glmer(reshared ~ mockGender + timestamp + warning + code * evidence + (1 | user_id) + (1 | id),\n",
    "            data = data,\n",
    "            family = binomial, \n",
    "            control=glmerControl(optimizer=\"bobyqa\",optCtrl=list(maxfun=2e5))\n",
    "           )\n",
    "summary(md)"
   ]
  }
 ],
 "metadata": {
  "kernelspec": {
   "display_name": "R",
   "language": "R",
   "name": "r"
  },
  "language_info": {
   "codemirror_mode": "r",
   "file_extension": ".r",
   "mimetype": "text/x-r-source",
   "name": "R",
   "pygments_lexer": "r",
   "version": "4.0.3"
  }
 },
 "nbformat": 4,
 "nbformat_minor": 5
}
