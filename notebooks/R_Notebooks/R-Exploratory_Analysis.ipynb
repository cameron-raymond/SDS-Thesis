{
 "cells": [
  {
   "cell_type": "markdown",
   "id": "5bdfba21-a0b7-41b8-bf0f-c9c2c97f1cd1",
   "metadata": {},
   "source": [
    "# Exploratory Analysis\n",
    "\n",
    "* $RQ_1$: How does temporal proximity affect sharing behaviour during protest demonstrations?\n",
    "* $RQ_2$: How do source attributes like the poster's gender affect sharing behaviour during protest demonstrations?\n",
    "* $RQ_3$: Is there evidence of a \"backfire effect\" where misleading posts that *don't* have a credibility indicator are assumed to be true and more likely to be reshared.\n"
   ]
  },
  {
   "cell_type": "code",
   "execution_count": 2,
   "id": "3d6d0972-cde5-4472-85f7-4fd2f78ee803",
   "metadata": {},
   "outputs": [
    {
     "name": "stderr",
     "output_type": "stream",
     "text": [
      "Loading required package: moonBook\n",
      "\n",
      "Warning message in library(package, lib.loc = lib.loc, character.only = TRUE, logical.return = TRUE, :\n",
      "“there is no package called ‘moonBook’”\n"
     ]
    },
    {
     "data": {
      "text/html": [
       "<table>\n",
       "<caption>A data.frame: 6 × 14</caption>\n",
       "<thead>\n",
       "\t<tr><th></th><th scope=col>user_id</th><th scope=col>condition</th><th scope=col>timeSubmitted</th><th scope=col>secondsTaken</th><th scope=col>id</th><th scope=col>rumour</th><th scope=col>code</th><th scope=col>evidence</th><th scope=col>warning</th><th scope=col>reshared</th><th scope=col>clickedWarning</th><th scope=col>timestamp</th><th scope=col>posterGender</th><th scope=col>posterId</th></tr>\n",
       "\t<tr><th></th><th scope=col>&lt;dbl&gt;</th><th scope=col>&lt;chr&gt;</th><th scope=col>&lt;chr&gt;</th><th scope=col>&lt;int&gt;</th><th scope=col>&lt;dbl&gt;</th><th scope=col>&lt;chr&gt;</th><th scope=col>&lt;chr&gt;</th><th scope=col>&lt;chr&gt;</th><th scope=col>&lt;chr&gt;</th><th scope=col>&lt;int&gt;</th><th scope=col>&lt;chr&gt;</th><th scope=col>&lt;int&gt;</th><th scope=col>&lt;chr&gt;</th><th scope=col>&lt;chr&gt;</th></tr>\n",
       "</thead>\n",
       "<tbody>\n",
       "\t<tr><th scope=row>1</th><td>-3.349881e+18</td><td>treatment</td><td>2021-06-03 09:50:15.953000+00:00</td><td>120</td><td>1.283849e+18</td><td>R1</td><td>neutral  </td><td>high</td><td>False</td><td>0</td><td>False</td><td> 3</td><td>male  </td><td>RnJlZGVyaWNrIFdvb2RodHRwczovL3JhbmRvbXVzZXIubWUvYXBpL3BvcnRyYWl0cy90aHVtYi9tZW4vMTkuanBn    </td></tr>\n",
       "\t<tr><th scope=row>2</th><td>-3.349881e+18</td><td>treatment</td><td>2021-06-03 09:50:15.953000+00:00</td><td>120</td><td>1.283767e+18</td><td>R1</td><td>neutral  </td><td>high</td><td>False</td><td>0</td><td>False</td><td> 4</td><td>female</td><td>S2F0aWUgTXVycGh5aHR0cHM6Ly9yYW5kb211c2VyLm1lL2FwaS9wb3J0cmFpdHMvdGh1bWIvd29tZW4vNjQuanBn    </td></tr>\n",
       "\t<tr><th scope=row>3</th><td>-3.349881e+18</td><td>treatment</td><td>2021-06-03 09:50:15.953000+00:00</td><td>120</td><td>1.283508e+18</td><td>R1</td><td>denies   </td><td>high</td><td>True </td><td>0</td><td>False</td><td>11</td><td>male  </td><td>R2FyeSBIb3BraW5zaHR0cHM6Ly9yYW5kb211c2VyLm1lL2FwaS9wb3J0cmFpdHMvdGh1bWIvbWVuLzc4LmpwZw==    </td></tr>\n",
       "\t<tr><th scope=row>4</th><td>-3.349881e+18</td><td>treatment</td><td>2021-06-03 09:50:15.953000+00:00</td><td>120</td><td>1.283371e+18</td><td>R1</td><td>affirms  </td><td>high</td><td>False</td><td>0</td><td>False</td><td>11</td><td>female</td><td>V2lsbGllIENsYXJraHR0cHM6Ly9yYW5kb211c2VyLm1lL2FwaS9wb3J0cmFpdHMvdGh1bWIvd29tZW4vNy5qcGc=    </td></tr>\n",
       "\t<tr><th scope=row>5</th><td>-3.349881e+18</td><td>treatment</td><td>2021-06-03 09:50:15.953000+00:00</td><td>120</td><td>1.283538e+18</td><td>R1</td><td>affirms  </td><td>high</td><td>False</td><td>1</td><td>False</td><td>13</td><td>female</td><td>TWVsaW5kYSBCYXJyZXR0aHR0cHM6Ly9yYW5kb211c2VyLm1lL2FwaS9wb3J0cmFpdHMvdGh1bWIvd29tZW4vNjIuanBn</td></tr>\n",
       "\t<tr><th scope=row>6</th><td>-3.349881e+18</td><td>treatment</td><td>2021-06-03 09:50:15.953000+00:00</td><td>120</td><td>1.283492e+18</td><td>R1</td><td>questions</td><td>high</td><td>False</td><td>1</td><td>False</td><td>14</td><td>male  </td><td>TG9ubmllIE1pbGVzaHR0cHM6Ly9yYW5kb211c2VyLm1lL2FwaS9wb3J0cmFpdHMvdGh1bWIvbWVuLzEwLmpwZw==    </td></tr>\n",
       "</tbody>\n",
       "</table>\n"
      ],
      "text/latex": [
       "A data.frame: 6 × 14\n",
       "\\begin{tabular}{r|llllllllllllll}\n",
       "  & user\\_id & condition & timeSubmitted & secondsTaken & id & rumour & code & evidence & warning & reshared & clickedWarning & timestamp & posterGender & posterId\\\\\n",
       "  & <dbl> & <chr> & <chr> & <int> & <dbl> & <chr> & <chr> & <chr> & <chr> & <int> & <chr> & <int> & <chr> & <chr>\\\\\n",
       "\\hline\n",
       "\t1 & -3.349881e+18 & treatment & 2021-06-03 09:50:15.953000+00:00 & 120 & 1.283849e+18 & R1 & neutral   & high & False & 0 & False &  3 & male   & RnJlZGVyaWNrIFdvb2RodHRwczovL3JhbmRvbXVzZXIubWUvYXBpL3BvcnRyYWl0cy90aHVtYi9tZW4vMTkuanBn    \\\\\n",
       "\t2 & -3.349881e+18 & treatment & 2021-06-03 09:50:15.953000+00:00 & 120 & 1.283767e+18 & R1 & neutral   & high & False & 0 & False &  4 & female & S2F0aWUgTXVycGh5aHR0cHM6Ly9yYW5kb211c2VyLm1lL2FwaS9wb3J0cmFpdHMvdGh1bWIvd29tZW4vNjQuanBn    \\\\\n",
       "\t3 & -3.349881e+18 & treatment & 2021-06-03 09:50:15.953000+00:00 & 120 & 1.283508e+18 & R1 & denies    & high & True  & 0 & False & 11 & male   & R2FyeSBIb3BraW5zaHR0cHM6Ly9yYW5kb211c2VyLm1lL2FwaS9wb3J0cmFpdHMvdGh1bWIvbWVuLzc4LmpwZw==    \\\\\n",
       "\t4 & -3.349881e+18 & treatment & 2021-06-03 09:50:15.953000+00:00 & 120 & 1.283371e+18 & R1 & affirms   & high & False & 0 & False & 11 & female & V2lsbGllIENsYXJraHR0cHM6Ly9yYW5kb211c2VyLm1lL2FwaS9wb3J0cmFpdHMvdGh1bWIvd29tZW4vNy5qcGc=    \\\\\n",
       "\t5 & -3.349881e+18 & treatment & 2021-06-03 09:50:15.953000+00:00 & 120 & 1.283538e+18 & R1 & affirms   & high & False & 1 & False & 13 & female & TWVsaW5kYSBCYXJyZXR0aHR0cHM6Ly9yYW5kb211c2VyLm1lL2FwaS9wb3J0cmFpdHMvdGh1bWIvd29tZW4vNjIuanBn\\\\\n",
       "\t6 & -3.349881e+18 & treatment & 2021-06-03 09:50:15.953000+00:00 & 120 & 1.283492e+18 & R1 & questions & high & False & 1 & False & 14 & male   & TG9ubmllIE1pbGVzaHR0cHM6Ly9yYW5kb211c2VyLm1lL2FwaS9wb3J0cmFpdHMvdGh1bWIvbWVuLzEwLmpwZw==    \\\\\n",
       "\\end{tabular}\n"
      ],
      "text/markdown": [
       "\n",
       "A data.frame: 6 × 14\n",
       "\n",
       "| <!--/--> | user_id &lt;dbl&gt; | condition &lt;chr&gt; | timeSubmitted &lt;chr&gt; | secondsTaken &lt;int&gt; | id &lt;dbl&gt; | rumour &lt;chr&gt; | code &lt;chr&gt; | evidence &lt;chr&gt; | warning &lt;chr&gt; | reshared &lt;int&gt; | clickedWarning &lt;chr&gt; | timestamp &lt;int&gt; | posterGender &lt;chr&gt; | posterId &lt;chr&gt; |\n",
       "|---|---|---|---|---|---|---|---|---|---|---|---|---|---|---|\n",
       "| 1 | -3.349881e+18 | treatment | 2021-06-03 09:50:15.953000+00:00 | 120 | 1.283849e+18 | R1 | neutral   | high | False | 0 | False |  3 | male   | RnJlZGVyaWNrIFdvb2RodHRwczovL3JhbmRvbXVzZXIubWUvYXBpL3BvcnRyYWl0cy90aHVtYi9tZW4vMTkuanBn     |\n",
       "| 2 | -3.349881e+18 | treatment | 2021-06-03 09:50:15.953000+00:00 | 120 | 1.283767e+18 | R1 | neutral   | high | False | 0 | False |  4 | female | S2F0aWUgTXVycGh5aHR0cHM6Ly9yYW5kb211c2VyLm1lL2FwaS9wb3J0cmFpdHMvdGh1bWIvd29tZW4vNjQuanBn     |\n",
       "| 3 | -3.349881e+18 | treatment | 2021-06-03 09:50:15.953000+00:00 | 120 | 1.283508e+18 | R1 | denies    | high | True  | 0 | False | 11 | male   | R2FyeSBIb3BraW5zaHR0cHM6Ly9yYW5kb211c2VyLm1lL2FwaS9wb3J0cmFpdHMvdGh1bWIvbWVuLzc4LmpwZw==     |\n",
       "| 4 | -3.349881e+18 | treatment | 2021-06-03 09:50:15.953000+00:00 | 120 | 1.283371e+18 | R1 | affirms   | high | False | 0 | False | 11 | female | V2lsbGllIENsYXJraHR0cHM6Ly9yYW5kb211c2VyLm1lL2FwaS9wb3J0cmFpdHMvdGh1bWIvd29tZW4vNy5qcGc=     |\n",
       "| 5 | -3.349881e+18 | treatment | 2021-06-03 09:50:15.953000+00:00 | 120 | 1.283538e+18 | R1 | affirms   | high | False | 1 | False | 13 | female | TWVsaW5kYSBCYXJyZXR0aHR0cHM6Ly9yYW5kb211c2VyLm1lL2FwaS9wb3J0cmFpdHMvdGh1bWIvd29tZW4vNjIuanBn |\n",
       "| 6 | -3.349881e+18 | treatment | 2021-06-03 09:50:15.953000+00:00 | 120 | 1.283492e+18 | R1 | questions | high | False | 1 | False | 14 | male   | TG9ubmllIE1pbGVzaHR0cHM6Ly9yYW5kb211c2VyLm1lL2FwaS9wb3J0cmFpdHMvdGh1bWIvbWVuLzEwLmpwZw==     |\n",
       "\n"
      ],
      "text/plain": [
       "  user_id       condition timeSubmitted                    secondsTaken\n",
       "1 -3.349881e+18 treatment 2021-06-03 09:50:15.953000+00:00 120         \n",
       "2 -3.349881e+18 treatment 2021-06-03 09:50:15.953000+00:00 120         \n",
       "3 -3.349881e+18 treatment 2021-06-03 09:50:15.953000+00:00 120         \n",
       "4 -3.349881e+18 treatment 2021-06-03 09:50:15.953000+00:00 120         \n",
       "5 -3.349881e+18 treatment 2021-06-03 09:50:15.953000+00:00 120         \n",
       "6 -3.349881e+18 treatment 2021-06-03 09:50:15.953000+00:00 120         \n",
       "  id           rumour code      evidence warning reshared clickedWarning\n",
       "1 1.283849e+18 R1     neutral   high     False   0        False         \n",
       "2 1.283767e+18 R1     neutral   high     False   0        False         \n",
       "3 1.283508e+18 R1     denies    high     True    0        False         \n",
       "4 1.283371e+18 R1     affirms   high     False   0        False         \n",
       "5 1.283538e+18 R1     affirms   high     False   1        False         \n",
       "6 1.283492e+18 R1     questions high     False   1        False         \n",
       "  timestamp posterGender\n",
       "1  3        male        \n",
       "2  4        female      \n",
       "3 11        male        \n",
       "4 11        female      \n",
       "5 13        female      \n",
       "6 14        male        \n",
       "  posterId                                                                                    \n",
       "1 RnJlZGVyaWNrIFdvb2RodHRwczovL3JhbmRvbXVzZXIubWUvYXBpL3BvcnRyYWl0cy90aHVtYi9tZW4vMTkuanBn    \n",
       "2 S2F0aWUgTXVycGh5aHR0cHM6Ly9yYW5kb211c2VyLm1lL2FwaS9wb3J0cmFpdHMvdGh1bWIvd29tZW4vNjQuanBn    \n",
       "3 R2FyeSBIb3BraW5zaHR0cHM6Ly9yYW5kb211c2VyLm1lL2FwaS9wb3J0cmFpdHMvdGh1bWIvbWVuLzc4LmpwZw==    \n",
       "4 V2lsbGllIENsYXJraHR0cHM6Ly9yYW5kb211c2VyLm1lL2FwaS9wb3J0cmFpdHMvdGh1bWIvd29tZW4vNy5qcGc=    \n",
       "5 TWVsaW5kYSBCYXJyZXR0aHR0cHM6Ly9yYW5kb211c2VyLm1lL2FwaS9wb3J0cmFpdHMvdGh1bWIvd29tZW4vNjIuanBn\n",
       "6 TG9ubmllIE1pbGVzaHR0cHM6Ly9yYW5kb211c2VyLm1lL2FwaS9wb3J0cmFpdHMvdGh1bWIvbWVuLzEwLmpwZw==    "
      ]
     },
     "metadata": {},
     "output_type": "display_data"
    }
   ],
   "source": [
    "library(lme4)\n",
    "library(AER)\n",
    "library(dplyr)\n",
    "library(purrr)\n",
    "library(magrittr)\n",
    "library(ggplot2)\n",
    "require(ggiraph)\n",
    "require(plyr)\n",
    "require(moonBook)   # for use of data radial\n",
    "require(GGally)\n",
    "require(reshape2)\n",
    "require(compiler)\n",
    "require(parallel)\n",
    "require(boot)\n",
    "require(lattice)\n",
    "\n",
    "data <- read.csv(\"../../data/processed/60b37265a9f60881975de69e-rumour-results.csv\")\n",
    "data$reshared <- as.integer(as.logical(data$reshared))\n",
    "head(data)"
   ]
  },
  {
   "cell_type": "markdown",
   "id": "4adbc5d2-6f9f-4ea9-a45c-c3e05180a733",
   "metadata": {},
   "source": [
    "### Logistic regression\n",
    "\n",
    "Alt add an interaction between warning and evidence (if we expect there to be different effects for putting a cred indicator on a post denying a high evidence rumour vs affirming a low evidence rumour.\n",
    "\n",
    "* $RQ_1$: How does temporal proximity affect sharing behaviour during protest demonstrations?\n",
    "* $RQ_2$: How do source attributes like the poster's gender affect sharing behaviour during protest demonstrations?"
   ]
  },
  {
   "cell_type": "code",
   "execution_count": 4,
   "id": "6649a776-9b3a-46ec-95a7-9e17b1cbe6ac",
   "metadata": {},
   "outputs": [
    {
     "name": "stderr",
     "output_type": "stream",
     "text": [
      "boundary (singular) fit: see ?isSingular\n",
      "\n"
     ]
    },
    {
     "data": {
      "text/plain": [
       "Generalized linear mixed model fit by maximum likelihood (Laplace\n",
       "  Approximation) [glmerMod]\n",
       " Family: binomial  ( logit )\n",
       "Formula: reshared ~ posterGender + timestamp + warning + code * evidence +  \n",
       "    (condition | user_id) + (1 | posterId) + (1 | id)\n",
       "   Data: data\n",
       "Control: glmerControl(optimizer = \"bobyqa\", optCtrl = list(maxfun = 2e+05))\n",
       "\n",
       "     AIC      BIC   logLik deviance df.resid \n",
       "  2968.5   3068.4  -1468.2   2936.5     3792 \n",
       "\n",
       "Scaled residuals: \n",
       "    Min      1Q  Median      3Q     Max \n",
       "-2.2285 -0.4181 -0.2488 -0.1198  7.5927 \n",
       "\n",
       "Random effects:\n",
       " Groups   Name               Variance  Std.Dev.  Corr \n",
       " posterId (Intercept)        5.196e-15 7.209e-08      \n",
       " id       (Intercept)        6.945e-01 8.334e-01      \n",
       " user_id  (Intercept)        1.379e+00 1.174e+00      \n",
       "          conditiontreatment 1.640e+00 1.281e+00 -0.56\n",
       "Number of obs: 3808, groups:  posterId, 3808; id, 167; user_id, 68\n",
       "\n",
       "Fixed effects:\n",
       "                           Estimate Std. Error z value Pr(>|z|)    \n",
       "(Intercept)               -1.457922   0.276077  -5.281 1.29e-07 ***\n",
       "posterGendermale           0.055377   0.098780   0.561 0.575065    \n",
       "timestamp                 -0.026537   0.002979  -8.908  < 2e-16 ***\n",
       "warningTrue               -0.592804   0.229133  -2.587 0.009677 ** \n",
       "codedenies                -0.695834   0.310937  -2.238 0.025230 *  \n",
       "codeneutral               -0.054276   0.342659  -0.158 0.874144    \n",
       "codequestions              1.295132   0.355250   3.646 0.000267 ***\n",
       "evidencelow               -0.322394   0.289194  -1.115 0.264936    \n",
       "codedenies:evidencelow     1.992224   0.456218   4.367 1.26e-05 ***\n",
       "codeneutral:evidencelow    0.393214   0.491129   0.801 0.423344    \n",
       "codequestions:evidencelow -0.763887   0.558873  -1.367 0.171677    \n",
       "---\n",
       "Signif. codes:  0 ‘***’ 0.001 ‘**’ 0.01 ‘*’ 0.05 ‘.’ 0.1 ‘ ’ 1\n",
       "\n",
       "Correlation of Fixed Effects:\n",
       "            (Intr) pstrGn tmstmp wrnngT coddns cdntrl cdqstn evdncl cddns:\n",
       "postrGndrml -0.185                                                        \n",
       "timestamp   -0.257 -0.016                                                 \n",
       "warningTrue  0.014 -0.002  0.036                                          \n",
       "codedenies  -0.519  0.005  0.004 -0.245                                   \n",
       "codeneutral -0.467  0.002 -0.007  0.000  0.420                            \n",
       "codequestns -0.454  0.005 -0.036 -0.008  0.402  0.366                     \n",
       "evidencelow -0.559  0.009 -0.010 -0.258  0.561  0.450  0.434              \n",
       "cddns:vdncl  0.354  0.000 -0.020  0.326 -0.725 -0.287 -0.272 -0.679       \n",
       "cdntrl:vdnc  0.327  0.002  0.010  0.153 -0.330 -0.697 -0.256 -0.589  0.399\n",
       "cdqstns:vdn  0.289 -0.001  0.017  0.137 -0.291 -0.233 -0.635 -0.518  0.351\n",
       "            cdntr:\n",
       "postrGndrml       \n",
       "timestamp         \n",
       "warningTrue       \n",
       "codedenies        \n",
       "codeneutral       \n",
       "codequestns       \n",
       "evidencelow       \n",
       "cddns:vdncl       \n",
       "cdntrl:vdnc       \n",
       "cdqstns:vdn  0.305\n",
       "optimizer (bobyqa) convergence code: 0 (OK)\n",
       "boundary (singular) fit: see ?isSingular\n"
      ]
     },
     "metadata": {},
     "output_type": "display_data"
    }
   ],
   "source": [
    "md <- glmer(reshared ~ posterGender + timestamp + warning + code * evidence + (condition | user_id) + (1 | posterId) + (1 | id),\n",
    "            data = data,\n",
    "            family = binomial, \n",
    "            control=glmerControl(optimizer=\"bobyqa\",optCtrl=list(maxfun=2e5))\n",
    "           )\n",
    "summary(md)"
   ]
  },
  {
   "cell_type": "code",
   "execution_count": null,
   "id": "937b1729-d559-4773-b29c-1235110a1c7a",
   "metadata": {},
   "outputs": [],
   "source": []
  }
 ],
 "metadata": {
  "kernelspec": {
   "display_name": "R",
   "language": "R",
   "name": "r"
  },
  "language_info": {
   "codemirror_mode": "r",
   "file_extension": ".r",
   "mimetype": "text/x-r-source",
   "name": "R",
   "pygments_lexer": "r",
   "version": "4.0.3"
  }
 },
 "nbformat": 4,
 "nbformat_minor": 5
}
