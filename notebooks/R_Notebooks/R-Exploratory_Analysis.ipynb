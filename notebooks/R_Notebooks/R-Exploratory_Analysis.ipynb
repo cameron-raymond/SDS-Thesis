{
 "cells": [
  {
   "cell_type": "markdown",
   "id": "5bdfba21-a0b7-41b8-bf0f-c9c2c97f1cd1",
   "metadata": {},
   "source": [
    "# Exploratory Analysis\n",
    "\n",
    "* $RQ_1$: How does temporal proximity affect sharing behaviour during protest demonstrations?\n",
    "* $RQ_2$: How do source attributes like the poster's gender affect sharing behaviour during protest demonstrations?\n",
    "* $RQ_3$: Is there evidence of a \"backfire effect\" where misleading posts that *don't* have a credibility indicator are assumed to be true and more likely to be reshared.\n",
    "* ~~$RQ_4$: Does the treatment effectiveness vary by political affiliation?~~~"
   ]
  },
  {
   "cell_type": "code",
   "execution_count": 1,
   "id": "3d6d0972-cde5-4472-85f7-4fd2f78ee803",
   "metadata": {},
   "outputs": [
    {
     "name": "stderr",
     "output_type": "stream",
     "text": [
      "Loading required package: Matrix\n",
      "\n",
      "\n",
      "Attaching package: ‘parameters’\n",
      "\n",
      "\n",
      "The following objects are masked from ‘package:e1071’:\n",
      "\n",
      "    kurtosis, skewness\n",
      "\n",
      "\n"
     ]
    },
    {
     "data": {
      "text/html": [
       "<table>\n",
       "<caption>A data.frame: 6 × 14</caption>\n",
       "<thead>\n",
       "\t<tr><th></th><th scope=col>user_id</th><th scope=col>condition</th><th scope=col>timeSubmitted</th><th scope=col>secondsTaken</th><th scope=col>id</th><th scope=col>rumour</th><th scope=col>code</th><th scope=col>evidence</th><th scope=col>warning</th><th scope=col>reshared</th><th scope=col>clickedWarning</th><th scope=col>timestamp</th><th scope=col>posterGender</th><th scope=col>posterId</th></tr>\n",
       "\t<tr><th></th><th scope=col>&lt;dbl&gt;</th><th scope=col>&lt;chr&gt;</th><th scope=col>&lt;chr&gt;</th><th scope=col>&lt;int&gt;</th><th scope=col>&lt;dbl&gt;</th><th scope=col>&lt;chr&gt;</th><th scope=col>&lt;fct&gt;</th><th scope=col>&lt;fct&gt;</th><th scope=col>&lt;chr&gt;</th><th scope=col>&lt;int&gt;</th><th scope=col>&lt;chr&gt;</th><th scope=col>&lt;int&gt;</th><th scope=col>&lt;chr&gt;</th><th scope=col>&lt;chr&gt;</th></tr>\n",
       "</thead>\n",
       "<tbody>\n",
       "\t<tr><th scope=row>1</th><td>8.434486e+18</td><td>treatment</td><td>2021-06-03 09:50:15.953000+00:00</td><td>120</td><td>1.283849e+18</td><td>R1</td><td>neutral  </td><td>high</td><td>False</td><td>0</td><td>False</td><td> 3</td><td>male  </td><td>RnJlZGVyaWNrIFdvb2RodHRwczovL3JhbmRvbXVzZXIubWUvYXBpL3BvcnRyYWl0cy90aHVtYi9tZW4vMTkuanBn    </td></tr>\n",
       "\t<tr><th scope=row>2</th><td>8.434486e+18</td><td>treatment</td><td>2021-06-03 09:50:15.953000+00:00</td><td>120</td><td>1.283767e+18</td><td>R1</td><td>neutral  </td><td>high</td><td>False</td><td>0</td><td>False</td><td> 4</td><td>female</td><td>S2F0aWUgTXVycGh5aHR0cHM6Ly9yYW5kb211c2VyLm1lL2FwaS9wb3J0cmFpdHMvdGh1bWIvd29tZW4vNjQuanBn    </td></tr>\n",
       "\t<tr><th scope=row>3</th><td>8.434486e+18</td><td>treatment</td><td>2021-06-03 09:50:15.953000+00:00</td><td>120</td><td>1.283508e+18</td><td>R1</td><td>denies   </td><td>high</td><td>True </td><td>0</td><td>False</td><td>11</td><td>male  </td><td>R2FyeSBIb3BraW5zaHR0cHM6Ly9yYW5kb211c2VyLm1lL2FwaS9wb3J0cmFpdHMvdGh1bWIvbWVuLzc4LmpwZw==    </td></tr>\n",
       "\t<tr><th scope=row>4</th><td>8.434486e+18</td><td>treatment</td><td>2021-06-03 09:50:15.953000+00:00</td><td>120</td><td>1.283371e+18</td><td>R1</td><td>affirms  </td><td>high</td><td>False</td><td>0</td><td>False</td><td>11</td><td>female</td><td>V2lsbGllIENsYXJraHR0cHM6Ly9yYW5kb211c2VyLm1lL2FwaS9wb3J0cmFpdHMvdGh1bWIvd29tZW4vNy5qcGc=    </td></tr>\n",
       "\t<tr><th scope=row>5</th><td>8.434486e+18</td><td>treatment</td><td>2021-06-03 09:50:15.953000+00:00</td><td>120</td><td>1.283538e+18</td><td>R1</td><td>affirms  </td><td>high</td><td>False</td><td>1</td><td>False</td><td>13</td><td>female</td><td>TWVsaW5kYSBCYXJyZXR0aHR0cHM6Ly9yYW5kb211c2VyLm1lL2FwaS9wb3J0cmFpdHMvdGh1bWIvd29tZW4vNjIuanBn</td></tr>\n",
       "\t<tr><th scope=row>6</th><td>8.434486e+18</td><td>treatment</td><td>2021-06-03 09:50:15.953000+00:00</td><td>120</td><td>1.283492e+18</td><td>R1</td><td>questions</td><td>high</td><td>False</td><td>1</td><td>False</td><td>14</td><td>male  </td><td>TG9ubmllIE1pbGVzaHR0cHM6Ly9yYW5kb211c2VyLm1lL2FwaS9wb3J0cmFpdHMvdGh1bWIvbWVuLzEwLmpwZw==    </td></tr>\n",
       "</tbody>\n",
       "</table>\n"
      ],
      "text/latex": [
       "A data.frame: 6 × 14\n",
       "\\begin{tabular}{r|llllllllllllll}\n",
       "  & user\\_id & condition & timeSubmitted & secondsTaken & id & rumour & code & evidence & warning & reshared & clickedWarning & timestamp & posterGender & posterId\\\\\n",
       "  & <dbl> & <chr> & <chr> & <int> & <dbl> & <chr> & <fct> & <fct> & <chr> & <int> & <chr> & <int> & <chr> & <chr>\\\\\n",
       "\\hline\n",
       "\t1 & 8.434486e+18 & treatment & 2021-06-03 09:50:15.953000+00:00 & 120 & 1.283849e+18 & R1 & neutral   & high & False & 0 & False &  3 & male   & RnJlZGVyaWNrIFdvb2RodHRwczovL3JhbmRvbXVzZXIubWUvYXBpL3BvcnRyYWl0cy90aHVtYi9tZW4vMTkuanBn    \\\\\n",
       "\t2 & 8.434486e+18 & treatment & 2021-06-03 09:50:15.953000+00:00 & 120 & 1.283767e+18 & R1 & neutral   & high & False & 0 & False &  4 & female & S2F0aWUgTXVycGh5aHR0cHM6Ly9yYW5kb211c2VyLm1lL2FwaS9wb3J0cmFpdHMvdGh1bWIvd29tZW4vNjQuanBn    \\\\\n",
       "\t3 & 8.434486e+18 & treatment & 2021-06-03 09:50:15.953000+00:00 & 120 & 1.283508e+18 & R1 & denies    & high & True  & 0 & False & 11 & male   & R2FyeSBIb3BraW5zaHR0cHM6Ly9yYW5kb211c2VyLm1lL2FwaS9wb3J0cmFpdHMvdGh1bWIvbWVuLzc4LmpwZw==    \\\\\n",
       "\t4 & 8.434486e+18 & treatment & 2021-06-03 09:50:15.953000+00:00 & 120 & 1.283371e+18 & R1 & affirms   & high & False & 0 & False & 11 & female & V2lsbGllIENsYXJraHR0cHM6Ly9yYW5kb211c2VyLm1lL2FwaS9wb3J0cmFpdHMvdGh1bWIvd29tZW4vNy5qcGc=    \\\\\n",
       "\t5 & 8.434486e+18 & treatment & 2021-06-03 09:50:15.953000+00:00 & 120 & 1.283538e+18 & R1 & affirms   & high & False & 1 & False & 13 & female & TWVsaW5kYSBCYXJyZXR0aHR0cHM6Ly9yYW5kb211c2VyLm1lL2FwaS9wb3J0cmFpdHMvdGh1bWIvd29tZW4vNjIuanBn\\\\\n",
       "\t6 & 8.434486e+18 & treatment & 2021-06-03 09:50:15.953000+00:00 & 120 & 1.283492e+18 & R1 & questions & high & False & 1 & False & 14 & male   & TG9ubmllIE1pbGVzaHR0cHM6Ly9yYW5kb211c2VyLm1lL2FwaS9wb3J0cmFpdHMvdGh1bWIvbWVuLzEwLmpwZw==    \\\\\n",
       "\\end{tabular}\n"
      ],
      "text/markdown": [
       "\n",
       "A data.frame: 6 × 14\n",
       "\n",
       "| <!--/--> | user_id &lt;dbl&gt; | condition &lt;chr&gt; | timeSubmitted &lt;chr&gt; | secondsTaken &lt;int&gt; | id &lt;dbl&gt; | rumour &lt;chr&gt; | code &lt;fct&gt; | evidence &lt;fct&gt; | warning &lt;chr&gt; | reshared &lt;int&gt; | clickedWarning &lt;chr&gt; | timestamp &lt;int&gt; | posterGender &lt;chr&gt; | posterId &lt;chr&gt; |\n",
       "|---|---|---|---|---|---|---|---|---|---|---|---|---|---|---|\n",
       "| 1 | 8.434486e+18 | treatment | 2021-06-03 09:50:15.953000+00:00 | 120 | 1.283849e+18 | R1 | neutral   | high | False | 0 | False |  3 | male   | RnJlZGVyaWNrIFdvb2RodHRwczovL3JhbmRvbXVzZXIubWUvYXBpL3BvcnRyYWl0cy90aHVtYi9tZW4vMTkuanBn     |\n",
       "| 2 | 8.434486e+18 | treatment | 2021-06-03 09:50:15.953000+00:00 | 120 | 1.283767e+18 | R1 | neutral   | high | False | 0 | False |  4 | female | S2F0aWUgTXVycGh5aHR0cHM6Ly9yYW5kb211c2VyLm1lL2FwaS9wb3J0cmFpdHMvdGh1bWIvd29tZW4vNjQuanBn     |\n",
       "| 3 | 8.434486e+18 | treatment | 2021-06-03 09:50:15.953000+00:00 | 120 | 1.283508e+18 | R1 | denies    | high | True  | 0 | False | 11 | male   | R2FyeSBIb3BraW5zaHR0cHM6Ly9yYW5kb211c2VyLm1lL2FwaS9wb3J0cmFpdHMvdGh1bWIvbWVuLzc4LmpwZw==     |\n",
       "| 4 | 8.434486e+18 | treatment | 2021-06-03 09:50:15.953000+00:00 | 120 | 1.283371e+18 | R1 | affirms   | high | False | 0 | False | 11 | female | V2lsbGllIENsYXJraHR0cHM6Ly9yYW5kb211c2VyLm1lL2FwaS9wb3J0cmFpdHMvdGh1bWIvd29tZW4vNy5qcGc=     |\n",
       "| 5 | 8.434486e+18 | treatment | 2021-06-03 09:50:15.953000+00:00 | 120 | 1.283538e+18 | R1 | affirms   | high | False | 1 | False | 13 | female | TWVsaW5kYSBCYXJyZXR0aHR0cHM6Ly9yYW5kb211c2VyLm1lL2FwaS9wb3J0cmFpdHMvdGh1bWIvd29tZW4vNjIuanBn |\n",
       "| 6 | 8.434486e+18 | treatment | 2021-06-03 09:50:15.953000+00:00 | 120 | 1.283492e+18 | R1 | questions | high | False | 1 | False | 14 | male   | TG9ubmllIE1pbGVzaHR0cHM6Ly9yYW5kb211c2VyLm1lL2FwaS9wb3J0cmFpdHMvdGh1bWIvbWVuLzEwLmpwZw==     |\n",
       "\n"
      ],
      "text/plain": [
       "  user_id      condition timeSubmitted                    secondsTaken\n",
       "1 8.434486e+18 treatment 2021-06-03 09:50:15.953000+00:00 120         \n",
       "2 8.434486e+18 treatment 2021-06-03 09:50:15.953000+00:00 120         \n",
       "3 8.434486e+18 treatment 2021-06-03 09:50:15.953000+00:00 120         \n",
       "4 8.434486e+18 treatment 2021-06-03 09:50:15.953000+00:00 120         \n",
       "5 8.434486e+18 treatment 2021-06-03 09:50:15.953000+00:00 120         \n",
       "6 8.434486e+18 treatment 2021-06-03 09:50:15.953000+00:00 120         \n",
       "  id           rumour code      evidence warning reshared clickedWarning\n",
       "1 1.283849e+18 R1     neutral   high     False   0        False         \n",
       "2 1.283767e+18 R1     neutral   high     False   0        False         \n",
       "3 1.283508e+18 R1     denies    high     True    0        False         \n",
       "4 1.283371e+18 R1     affirms   high     False   0        False         \n",
       "5 1.283538e+18 R1     affirms   high     False   1        False         \n",
       "6 1.283492e+18 R1     questions high     False   1        False         \n",
       "  timestamp posterGender\n",
       "1  3        male        \n",
       "2  4        female      \n",
       "3 11        male        \n",
       "4 11        female      \n",
       "5 13        female      \n",
       "6 14        male        \n",
       "  posterId                                                                                    \n",
       "1 RnJlZGVyaWNrIFdvb2RodHRwczovL3JhbmRvbXVzZXIubWUvYXBpL3BvcnRyYWl0cy90aHVtYi9tZW4vMTkuanBn    \n",
       "2 S2F0aWUgTXVycGh5aHR0cHM6Ly9yYW5kb211c2VyLm1lL2FwaS9wb3J0cmFpdHMvdGh1bWIvd29tZW4vNjQuanBn    \n",
       "3 R2FyeSBIb3BraW5zaHR0cHM6Ly9yYW5kb211c2VyLm1lL2FwaS9wb3J0cmFpdHMvdGh1bWIvbWVuLzc4LmpwZw==    \n",
       "4 V2lsbGllIENsYXJraHR0cHM6Ly9yYW5kb211c2VyLm1lL2FwaS9wb3J0cmFpdHMvdGh1bWIvd29tZW4vNy5qcGc=    \n",
       "5 TWVsaW5kYSBCYXJyZXR0aHR0cHM6Ly9yYW5kb211c2VyLm1lL2FwaS9wb3J0cmFpdHMvdGh1bWIvd29tZW4vNjIuanBn\n",
       "6 TG9ubmllIE1pbGVzaHR0cHM6Ly9yYW5kb211c2VyLm1lL2FwaS9wb3J0cmFpdHMvdGh1bWIvbWVuLzEwLmpwZw==    "
      ]
     },
     "metadata": {},
     "output_type": "display_data"
    }
   ],
   "source": [
    "library(lme4)\n",
    "library(e1071) \n",
    "library(parameters)\n",
    "\n",
    "data <- read.csv(\"../../data/processed/60b37265a9f60881975de69e-rumour-results.csv\")\n",
    "data$reshared <- as.integer(as.logical(data$reshared))\n",
    "data$code = relevel(as.factor(data$code), ref = \"neutral\") \n",
    "data$evidence = relevel(as.factor(data$evidence), ref = \"low\") \n",
    "head(data)"
   ]
  },
  {
   "cell_type": "markdown",
   "id": "4adbc5d2-6f9f-4ea9-a45c-c3e05180a733",
   "metadata": {},
   "source": [
    "### Binomial Logistic regression\n",
    "\n",
    "Alt add an interaction between warning and evidence (if we expect there to be different effects for putting a cred indicator on a post denying a high evidence rumour vs affirming a low evidence rumour.\n",
    "\n",
    "* $RQ_1$: How does temporal proximity affect sharing behaviour during protest demonstrations?\n",
    "* $RQ_2$: How do source attributes like the poster's gender affect sharing behaviour during protest demonstrations?\n",
    "\n",
    "> Our outcome variable was the intent to share the article corresponding to a headline with friends on social media. Since the outcome variable is a binary choice between the intent to share or not share, we employed Binomial Logistic Regression (BLR). The BLR incorporated participant ID and headline ID as random effects to account for repeated measures for varying items [5, 68]. Our independent variables included the treat- ment, headline category, political affiliation, social media use, and common demographic factors, such as age and gender. (Yaqub)\n",
    "\n",
    "^ I do the same but incorporating the participant ID, source ID, and post ID to account for repeated measures, and to measure the proportion of variance explained by source and post attributes"
   ]
  },
  {
   "cell_type": "code",
   "execution_count": 2,
   "id": "6649a776-9b3a-46ec-95a7-9e17b1cbe6ac",
   "metadata": {},
   "outputs": [
    {
     "name": "stderr",
     "output_type": "stream",
     "text": [
      "boundary (singular) fit: see ?isSingular\n",
      "\n"
     ]
    },
    {
     "data": {
      "text/plain": [
       "Generalized linear mixed model fit by maximum likelihood (Laplace\n",
       "  Approximation) [glmerMod]\n",
       " Family: binomial  ( logit )\n",
       "Formula: reshared ~ posterGender + timestamp + warning + code * evidence +  \n",
       "    (1 | user_id) + (1 | posterId) + (1 | id)\n",
       "   Data: data\n",
       "Control: glmerControl(optimizer = \"bobyqa\", optCtrl = list(maxfun = 2e+05))\n",
       "\n",
       "     AIC      BIC   logLik deviance df.resid \n",
       "  4941.5   5037.2  -2456.7   4913.5     6874 \n",
       "\n",
       "Scaled residuals: \n",
       "    Min      1Q  Median      3Q     Max \n",
       "-3.8943 -0.3932 -0.2287 -0.1070 11.1696 \n",
       "\n",
       "Random effects:\n",
       " Groups   Name        Variance Std.Dev.\n",
       " posterId (Intercept) 0.0000   0.0000  \n",
       " id       (Intercept) 0.6119   0.7823  \n",
       " user_id  (Intercept) 1.9216   1.3862  \n",
       "Number of obs: 6888, groups:  posterId, 6887; id, 167; user_id, 125\n",
       "\n",
       "Fixed effects:\n",
       "                            Estimate Std. Error z value Pr(>|z|)    \n",
       "(Intercept)                -1.854753   0.297322  -6.238 4.43e-10 ***\n",
       "posterGendermale            0.015735   0.076188   0.207  0.83638    \n",
       "timestamp                  -0.023618   0.002301 -10.264  < 2e-16 ***\n",
       "warningTrue                -0.383790   0.167121  -2.296  0.02165 *  \n",
       "codeaffirms                -0.006335   0.305940  -0.021  0.98348    \n",
       "codedenies                  1.064989   0.342379   3.111  0.00187 ** \n",
       "codequestions               0.201003   0.434664   0.462  0.64377    \n",
       "evidencehigh                0.102177   0.346325   0.295  0.76797    \n",
       "codeaffirms:evidencehigh   -0.058942   0.426883  -0.138  0.89018    \n",
       "codedenies:evidencehigh    -1.849770   0.456515  -4.052 5.08e-05 ***\n",
       "codequestions:evidencehigh  0.856350   0.554094   1.545  0.12223    \n",
       "---\n",
       "Signif. codes:  0 ‘***’ 0.001 ‘**’ 0.01 ‘*’ 0.05 ‘.’ 0.1 ‘ ’ 1\n",
       "\n",
       "Correlation of Fixed Effects:\n",
       "            (Intr) pstrGn tmstmp wrnngT cdffrm coddns cdqstn evdnch cdffr:\n",
       "postrGndrml -0.120                                                        \n",
       "timestamp   -0.178 -0.001                                                 \n",
       "warningTrue  0.007 -0.009  0.024                                          \n",
       "codeaffirms -0.734 -0.007 -0.017 -0.206                                   \n",
       "codedenies  -0.659 -0.006 -0.029 -0.005  0.640                            \n",
       "codequestns -0.519 -0.002 -0.013 -0.002  0.504  0.452                     \n",
       "evidencehgh -0.647 -0.003 -0.011 -0.001  0.630  0.564  0.444              \n",
       "cdffrms:vdn  0.525 -0.002  0.015  0.148 -0.716 -0.458 -0.360 -0.811       \n",
       "cddns:vdnch  0.494 -0.001  0.025 -0.130 -0.452 -0.750 -0.339 -0.758  0.596\n",
       "cdqstns:vdn  0.405  0.000 -0.001 -0.002 -0.394 -0.352 -0.783 -0.625  0.506\n",
       "            cddns:\n",
       "postrGndrml       \n",
       "timestamp         \n",
       "warningTrue       \n",
       "codeaffirms       \n",
       "codedenies        \n",
       "codequestns       \n",
       "evidencehgh       \n",
       "cdffrms:vdn       \n",
       "cddns:vdnch       \n",
       "cdqstns:vdn  0.474\n",
       "optimizer (bobyqa) convergence code: 0 (OK)\n",
       "boundary (singular) fit: see ?isSingular\n"
      ]
     },
     "metadata": {},
     "output_type": "display_data"
    }
   ],
   "source": [
    "md <- glmer(reshared ~ posterGender + timestamp + warning + code * evidence + (1 | user_id) + (1 | posterId) + (1 | id),\n",
    "            data = data,\n",
    "            family = binomial, \n",
    "            control=glmerControl(optimizer=\"bobyqa\",optCtrl=list(maxfun=2e5))\n",
    "           )\n",
    "summary(md)"
   ]
  },
  {
   "cell_type": "code",
   "execution_count": 3,
   "id": "9a6987a1-0ec4-48a7-a4a4-023c4d27742c",
   "metadata": {
    "tags": []
   },
   "outputs": [
    {
     "name": "stderr",
     "output_type": "stream",
     "text": [
      "Warning message in hatvalues.merMod(model):\n",
      "“the hat matrix may not make sense for GLMMs”\n"
     ]
    },
    {
     "data": {
      "image/png": "[encoded data removed]",
      "text/plain": [
       "Plot with title “Influential Obs by Cooks distance”"
      ]
     },
     "metadata": {
      "image/png": {
       "height": 420,
       "width": 420
      }
     },
     "output_type": "display_data"
    }
   ],
   "source": [
    "cooksd <- cooks.distance(md)\n",
    "thresh <- 600\n",
    "\n",
    "# Plot the Cook's Distance using the traditional 4/n criterion\n",
    "sample_size <- nrow(data)\n",
    "plot(cooksd, pch=\"*\", cex=2, main=\"Influential Obs by Cooks distance\")  # plot cook's distance\n",
    "abline(h = thresh, col=\"red\")  # add cutoff line\n",
    "text(x=1:length(cooksd)+1, y=cooksd, labels=ifelse(cooksd>thresh, names(cooksd),\"\"), col=\"red\")  # add label"
   ]
  },
  {
   "cell_type": "code",
   "execution_count": 4,
   "id": "d161caaf-943d-42f5-bcf1-a725ba18f805",
   "metadata": {},
   "outputs": [
    {
     "name": "stderr",
     "output_type": "stream",
     "text": [
      "boundary (singular) fit: see ?isSingular\n",
      "\n"
     ]
    },
    {
     "data": {
      "text/plain": [
       "Generalized linear mixed model fit by maximum likelihood (Laplace\n",
       "  Approximation) [glmerMod]\n",
       " Family: binomial  ( logit )\n",
       "Formula: reshared ~ posterGender + timestamp + warning + code * evidence +  \n",
       "    (1 | user_id) + (1 | posterId) + (1 | id)\n",
       "   Data: data\n",
       "Control: glmerControl(optimizer = \"bobyqa\", optCtrl = list(maxfun = 2e+05))\n",
       "\n",
       "     AIC      BIC   logLik deviance df.resid \n",
       "  4941.5   5037.2  -2456.7   4913.5     6874 \n",
       "\n",
       "Scaled residuals: \n",
       "    Min      1Q  Median      3Q     Max \n",
       "-3.8943 -0.3932 -0.2287 -0.1070 11.1696 \n",
       "\n",
       "Random effects:\n",
       " Groups   Name        Variance Std.Dev.\n",
       " posterId (Intercept) 0.0000   0.0000  \n",
       " id       (Intercept) 0.6119   0.7823  \n",
       " user_id  (Intercept) 1.9216   1.3862  \n",
       "Number of obs: 6888, groups:  posterId, 6887; id, 167; user_id, 125\n",
       "\n",
       "Fixed effects:\n",
       "                            Estimate Std. Error z value Pr(>|z|)    \n",
       "(Intercept)                -1.854753   0.297322  -6.238 4.43e-10 ***\n",
       "posterGendermale            0.015735   0.076188   0.207  0.83638    \n",
       "timestamp                  -0.023618   0.002301 -10.264  < 2e-16 ***\n",
       "warningTrue                -0.383790   0.167121  -2.296  0.02165 *  \n",
       "codeaffirms                -0.006335   0.305940  -0.021  0.98348    \n",
       "codedenies                  1.064989   0.342379   3.111  0.00187 ** \n",
       "codequestions               0.201003   0.434664   0.462  0.64377    \n",
       "evidencehigh                0.102177   0.346325   0.295  0.76797    \n",
       "codeaffirms:evidencehigh   -0.058942   0.426883  -0.138  0.89018    \n",
       "codedenies:evidencehigh    -1.849770   0.456515  -4.052 5.08e-05 ***\n",
       "codequestions:evidencehigh  0.856350   0.554094   1.545  0.12223    \n",
       "---\n",
       "Signif. codes:  0 ‘***’ 0.001 ‘**’ 0.01 ‘*’ 0.05 ‘.’ 0.1 ‘ ’ 1\n",
       "\n",
       "Correlation of Fixed Effects:\n",
       "            (Intr) pstrGn tmstmp wrnngT cdffrm coddns cdqstn evdnch cdffr:\n",
       "postrGndrml -0.120                                                        \n",
       "timestamp   -0.178 -0.001                                                 \n",
       "warningTrue  0.007 -0.009  0.024                                          \n",
       "codeaffirms -0.734 -0.007 -0.017 -0.206                                   \n",
       "codedenies  -0.659 -0.006 -0.029 -0.005  0.640                            \n",
       "codequestns -0.519 -0.002 -0.013 -0.002  0.504  0.452                     \n",
       "evidencehgh -0.647 -0.003 -0.011 -0.001  0.630  0.564  0.444              \n",
       "cdffrms:vdn  0.525 -0.002  0.015  0.148 -0.716 -0.458 -0.360 -0.811       \n",
       "cddns:vdnch  0.494 -0.001  0.025 -0.130 -0.452 -0.750 -0.339 -0.758  0.596\n",
       "cdqstns:vdn  0.405  0.000 -0.001 -0.002 -0.394 -0.352 -0.783 -0.625  0.506\n",
       "            cddns:\n",
       "postrGndrml       \n",
       "timestamp         \n",
       "warningTrue       \n",
       "codeaffirms       \n",
       "codedenies        \n",
       "codequestns       \n",
       "evidencehgh       \n",
       "cdffrms:vdn       \n",
       "cddns:vdnch       \n",
       "cdqstns:vdn  0.474\n",
       "optimizer (bobyqa) convergence code: 0 (OK)\n",
       "boundary (singular) fit: see ?isSingular\n"
      ]
     },
     "metadata": {},
     "output_type": "display_data"
    }
   ],
   "source": [
    "md.cooksRemoved <- glmer(reshared ~ posterGender + timestamp + warning + code * evidence + (1 | user_id) + (1 | posterId) + (1 | id),\n",
    "            data = data,\n",
    "            family = binomial, \n",
    "            control=glmerControl(optimizer=\"bobyqa\",optCtrl=list(maxfun=2e5)),\n",
    "            subset = cooksd<=thresh)\n",
    "summary(md)"
   ]
  },
  {
   "cell_type": "code",
   "execution_count": 14,
   "id": "0c4490eb-58c2-4aa6-b9b8-fedeea964c82",
   "metadata": {},
   "outputs": [
    {
     "name": "stderr",
     "output_type": "stream",
     "text": [
      "boundary (singular) fit: see ?isSingular\n",
      "\n"
     ]
    },
    {
     "data": {
      "text/plain": [
       "Generalized linear mixed model fit by maximum likelihood (Laplace\n",
       "  Approximation) [glmerMod]\n",
       " Family: binomial  ( logit )\n",
       "Formula: reshared ~ posterGender + timestamp + warning + code * evidence +  \n",
       "    (1 | user_id) + (1 | posterId) + (1 | id)\n",
       "   Data: data\n",
       "Control: glmerControl(optimizer = \"bobyqa\", optCtrl = list(maxfun = 2e+05))\n",
       "\n",
       "     AIC      BIC   logLik deviance df.resid \n",
       "  4941.5   5037.2  -2456.7   4913.5     6874 \n",
       "\n",
       "Scaled residuals: \n",
       "    Min      1Q  Median      3Q     Max \n",
       "-3.8943 -0.3932 -0.2287 -0.1070 11.1696 \n",
       "\n",
       "Random effects:\n",
       " Groups   Name        Variance Std.Dev.\n",
       " posterId (Intercept) 0.0000   0.0000  \n",
       " id       (Intercept) 0.6119   0.7823  \n",
       " user_id  (Intercept) 1.9216   1.3862  \n",
       "Number of obs: 6888, groups:  posterId, 6887; id, 167; user_id, 125\n",
       "\n",
       "Fixed effects:\n",
       "                            Estimate Std. Error z value Pr(>|z|)    \n",
       "(Intercept)                -1.854753   0.297322  -6.238 4.43e-10 ***\n",
       "posterGendermale            0.015735   0.076188   0.207  0.83638    \n",
       "timestamp                  -0.023618   0.002301 -10.264  < 2e-16 ***\n",
       "warningTrue                -0.383790   0.167121  -2.296  0.02165 *  \n",
       "codeaffirms                -0.006335   0.305940  -0.021  0.98348    \n",
       "codedenies                  1.064989   0.342379   3.111  0.00187 ** \n",
       "codequestions               0.201003   0.434664   0.462  0.64377    \n",
       "evidencehigh                0.102177   0.346325   0.295  0.76797    \n",
       "codeaffirms:evidencehigh   -0.058942   0.426883  -0.138  0.89018    \n",
       "codedenies:evidencehigh    -1.849770   0.456515  -4.052 5.08e-05 ***\n",
       "codequestions:evidencehigh  0.856350   0.554094   1.545  0.12223    \n",
       "---\n",
       "Signif. codes:  0 ‘***’ 0.001 ‘**’ 0.01 ‘*’ 0.05 ‘.’ 0.1 ‘ ’ 1\n",
       "\n",
       "Correlation of Fixed Effects:\n",
       "            (Intr) pstrGn tmstmp wrnngT cdffrm coddns cdqstn evdnch cdffr:\n",
       "postrGndrml -0.120                                                        \n",
       "timestamp   -0.178 -0.001                                                 \n",
       "warningTrue  0.007 -0.009  0.024                                          \n",
       "codeaffirms -0.734 -0.007 -0.017 -0.206                                   \n",
       "codedenies  -0.659 -0.006 -0.029 -0.005  0.640                            \n",
       "codequestns -0.519 -0.002 -0.013 -0.002  0.504  0.452                     \n",
       "evidencehgh -0.647 -0.003 -0.011 -0.001  0.630  0.564  0.444              \n",
       "cdffrms:vdn  0.525 -0.002  0.015  0.148 -0.716 -0.458 -0.360 -0.811       \n",
       "cddns:vdnch  0.494 -0.001  0.025 -0.130 -0.452 -0.750 -0.339 -0.758  0.596\n",
       "cdqstns:vdn  0.405  0.000 -0.001 -0.002 -0.394 -0.352 -0.783 -0.625  0.506\n",
       "            cddns:\n",
       "postrGndrml       \n",
       "timestamp         \n",
       "warningTrue       \n",
       "codeaffirms       \n",
       "codedenies        \n",
       "codequestns       \n",
       "evidencehgh       \n",
       "cdffrms:vdn       \n",
       "cddns:vdnch       \n",
       "cdqstns:vdn  0.474\n",
       "optimizer (bobyqa) convergence code: 0 (OK)\n",
       "boundary (singular) fit: see ?isSingular\n"
      ]
     },
     "metadata": {},
     "output_type": "display_data"
    }
   ],
   "source": [
    "md.treatEffect <- glmer(reshared ~ posterGender + timestamp + warning + code * evidence + (1 + condition | user_id) + (1 | posterId) + (1 | id),\n",
    "            data = data,\n",
    "            family = binomial, \n",
    "            control=glmerControl(optimizer=\"bobyqa\",optCtrl=list(maxfun=2e5)))\n",
    "summary(md)"
   ]
  },
  {
   "cell_type": "code",
   "execution_count": 15,
   "id": "e7ed2434-f344-4304-83bc-71dd3b7a4a5c",
   "metadata": {},
   "outputs": [
    {
     "data": {
      "text/html": [
       "<table>\n",
       "<caption>A anova: 2 × 8</caption>\n",
       "<thead>\n",
       "\t<tr><th></th><th scope=col>npar</th><th scope=col>AIC</th><th scope=col>BIC</th><th scope=col>logLik</th><th scope=col>deviance</th><th scope=col>Chisq</th><th scope=col>Df</th><th scope=col>Pr(&gt;Chisq)</th></tr>\n",
       "\t<tr><th></th><th scope=col>&lt;dbl&gt;</th><th scope=col>&lt;dbl&gt;</th><th scope=col>&lt;dbl&gt;</th><th scope=col>&lt;dbl&gt;</th><th scope=col>&lt;dbl&gt;</th><th scope=col>&lt;dbl&gt;</th><th scope=col>&lt;dbl&gt;</th><th scope=col>&lt;dbl&gt;</th></tr>\n",
       "</thead>\n",
       "<tbody>\n",
       "\t<tr><th scope=row>md</th><td>14</td><td>4941.479</td><td>5037.204</td><td>-2456.739</td><td>4913.479</td><td>       NA</td><td>NA</td><td>       NA</td></tr>\n",
       "\t<tr><th scope=row>md.treatEffect</th><td>16</td><td>4945.338</td><td>5054.738</td><td>-2456.669</td><td>4913.338</td><td>0.1407973</td><td> 2</td><td>0.9320222</td></tr>\n",
       "</tbody>\n",
       "</table>\n"
      ],
      "text/latex": [
       "A anova: 2 × 8\n",
       "\\begin{tabular}{r|llllllll}\n",
       "  & npar & AIC & BIC & logLik & deviance & Chisq & Df & Pr(>Chisq)\\\\\n",
       "  & <dbl> & <dbl> & <dbl> & <dbl> & <dbl> & <dbl> & <dbl> & <dbl>\\\\\n",
       "\\hline\n",
       "\tmd & 14 & 4941.479 & 5037.204 & -2456.739 & 4913.479 &        NA & NA &        NA\\\\\n",
       "\tmd.treatEffect & 16 & 4945.338 & 5054.738 & -2456.669 & 4913.338 & 0.1407973 &  2 & 0.9320222\\\\\n",
       "\\end{tabular}\n"
      ],
      "text/markdown": [
       "\n",
       "A anova: 2 × 8\n",
       "\n",
       "| <!--/--> | npar &lt;dbl&gt; | AIC &lt;dbl&gt; | BIC &lt;dbl&gt; | logLik &lt;dbl&gt; | deviance &lt;dbl&gt; | Chisq &lt;dbl&gt; | Df &lt;dbl&gt; | Pr(&gt;Chisq) &lt;dbl&gt; |\n",
       "|---|---|---|---|---|---|---|---|---|\n",
       "| md | 14 | 4941.479 | 5037.204 | -2456.739 | 4913.479 |        NA | NA |        NA |\n",
       "| md.treatEffect | 16 | 4945.338 | 5054.738 | -2456.669 | 4913.338 | 0.1407973 |  2 | 0.9320222 |\n",
       "\n"
      ],
      "text/plain": [
       "               npar AIC      BIC      logLik    deviance Chisq     Df\n",
       "md             14   4941.479 5037.204 -2456.739 4913.479        NA NA\n",
       "md.treatEffect 16   4945.338 5054.738 -2456.669 4913.338 0.1407973  2\n",
       "               Pr(>Chisq)\n",
       "md                    NA \n",
       "md.treatEffect 0.9320222 "
      ]
     },
     "metadata": {},
     "output_type": "display_data"
    },
    {
     "data": {
      "text/plain": [
       "NULL"
      ]
     },
     "metadata": {},
     "output_type": "display_data"
    }
   ],
   "source": [
    "anova(md,md.treatEffect)"
   ]
  },
  {
   "cell_type": "code",
   "execution_count": null,
   "id": "7e1c5b3d-fd53-4693-8c9c-ffa2995fede2",
   "metadata": {},
   "outputs": [],
   "source": []
  }
 ],
 "metadata": {
  "kernelspec": {
   "display_name": "R",
   "language": "R",
   "name": "r"
  },
  "language_info": {
   "codemirror_mode": "r",
   "file_extension": ".r",
   "mimetype": "text/x-r-source",
   "name": "R",
   "pygments_lexer": "r",
   "version": "4.0.3"
  }
 },
 "nbformat": 4,
 "nbformat_minor": 5
}
