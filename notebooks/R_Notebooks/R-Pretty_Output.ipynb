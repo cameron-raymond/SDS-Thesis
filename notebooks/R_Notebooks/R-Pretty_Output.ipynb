{
 "cells": [
  {
   "cell_type": "markdown",
   "id": "17595804-f145-4c6a-8fa5-b574f03e484f",
   "metadata": {},
   "source": [
    "# Pretty output\n",
    "\n",
    "Once you've settled on models, this is for printing them out for latex"
   ]
  },
  {
   "cell_type": "code",
   "execution_count": 10,
   "id": "ae9acb5f-0b76-4fa4-b94f-e2482cb8fa7f",
   "metadata": {},
   "outputs": [],
   "source": [
    "library(lme4)\n",
    "library(e1071) \n",
    "library(parameters) \n",
    "library(stargazer)\n",
    "options(scipen = 100)\n",
    "\n",
    "data <- read.csv(\"../../data/processed/60b37265a9f60881975de69e-reshare_rates.csv\")\n",
    "data$condition = as.factor(data$condition)\n",
    "data$evidence = as.factor(data$evidence)\n",
    "data$educationLevel = as.factor(data$educationLevel)\n",
    "data$politicalAffiliation = as.factor(data$politicalAffiliation)\n",
    "data$attendsProtests = as.factor(data$attendsProtests)"
   ]
  },
  {
   "cell_type": "markdown",
   "id": "e9575f9d-7cc5-4af4-bc1b-0abc059ad0ca",
   "metadata": {},
   "source": [
    "# Confirmatory Analyses"
   ]
  },
  {
   "cell_type": "code",
   "execution_count": 2,
   "id": "599f4775-319c-43c2-ba91-62e42bd10e1c",
   "metadata": {},
   "outputs": [],
   "source": [
    "md.affirms = lmer(sqrt(Affirms) ~ evidence * condition + (1 |user_id), data = data)\n",
    "md.denies = lmer(sqrt(Denies) ~ evidence * condition + (1 |user_id), \n",
    "                 data = data)"
   ]
  },
  {
   "cell_type": "code",
   "execution_count": 3,
   "id": "514e2ddc-6866-4ff0-8b82-492b30f09989",
   "metadata": {},
   "outputs": [
    {
     "name": "stdout",
     "output_type": "stream",
     "text": [
      "\n",
      "Linear mixed-effects model demonstrating the effect of treatment on the affirmation and denial rate of rumours. Parameter standard errors are reported in parentheses.\n",
      "======================================================\n",
      "                           Dependent variable:        \n",
      "                    ----------------------------------\n",
      "                    Affirmation Rate (p Denial Rate (p\n",
      "                            (1)              (2)      \n",
      "------------------------------------------------------\n",
      "Constant                 0.324***          0.185***   \n",
      "                          (0.037)          (0.032)    \n",
      "                                                      \n",
      "(A) Low Evidence          -0.034           0.301***   \n",
      "                          (0.038)          (0.044)    \n",
      "                                                      \n",
      "(B) Treatment              0.022            0.052     \n",
      "                          (0.054)          (0.047)    \n",
      "                                                      \n",
      "(A) X (B)                 -0.056            0.008     \n",
      "                          (0.055)          (0.062)    \n",
      "                                                      \n",
      "------------------------------------------------------\n",
      "Observations                202              202      \n",
      "Log Likelihood            -15.080           2.994     \n",
      "Akaike Inf. Crit.         42.160            6.012     \n",
      "Bayesian Inf. Crit.       62.010            25.862    \n",
      "======================================================\n",
      "                           *p<0.1; **p<0.05; ***p<0.01\n"
     ]
    }
   ],
   "source": [
    "stargazer(md.affirms,\n",
    "          md.denies,\n",
    "          align=TRUE,\n",
    "          type = \"text\",\n",
    "          order = c(4, 1, 2, 3),\n",
    "          covariate.labels = c(\"Constant\",\"(A) Low Evidence\", \"(B) Treatment\", \"(A) X (B)\"),\n",
    "          dep.var.labels   = c('Affirmation Rate ($p^a_R$)', \"Denial Rate ($p^d_R$)\"),\n",
    "          title=\"Linear mixed-effects model demonstrating the effect of treatment on the affirmation and denial rate of rumours. Parameter standard errors are reported in parentheses.\",\n",
    "          notes.label = \"\")"
   ]
  },
  {
   "cell_type": "code",
   "execution_count": 4,
   "id": "f26489f7-cfd3-4591-90ad-654742966ac6",
   "metadata": {},
   "outputs": [
    {
     "name": "stdout",
     "output_type": "stream",
     "text": [
      "\n",
      "% Table created by stargazer v.5.2.2 by Marek Hlavac, Harvard University. E-mail: hlavac at fas.harvard.edu\n",
      "% Date and time: Wed, Jun 23, 2021 - 13:33:28\n",
      "% Requires LaTeX packages: dcolumn \n",
      "\\begin{table}[!htbp] \\centering \n",
      "  \\caption{Linear mixed-effects model demonstrating the effect of treatment on the affirmation and denial rate of rumours. Parameter standard errors are reported in parentheses.} \n",
      "  \\label{} \n",
      "\\begin{tabular}{@{\\extracolsep{5pt}}lD{.}{.}{-3} D{.}{.}{-3} } \n",
      "\\\\[-1.8ex]\\hline \n",
      "\\hline \\\\[-1.8ex] \n",
      " & \\multicolumn{2}{c}{\\textit{Dependent variable:}} \\\\ \n",
      "\\cline{2-3} \n",
      "\\\\[-1.8ex] & \\multicolumn{1}{c}{Affirmation Rate ($p^a_R$)} & \\multicolumn{1}{c}{Denial Rate ($p^d_R$)} \\\\ \n",
      "\\\\[-1.8ex] & \\multicolumn{1}{c}{(1)} & \\multicolumn{1}{c}{(2)}\\\\ \n",
      "\\hline \\\\[-1.8ex] \n",
      " Constant & 0.324^{***} & 0.185^{***} \\\\ \n",
      "  & (0.037) & (0.032) \\\\ \n",
      "  & & \\\\ \n",
      " (A) Low Evidence & -0.034 & 0.301^{***} \\\\ \n",
      "  & (0.038) & (0.044) \\\\ \n",
      "  & & \\\\ \n",
      " (B) Treatment & 0.022 & 0.052 \\\\ \n",
      "  & (0.054) & (0.047) \\\\ \n",
      "  & & \\\\ \n",
      " (A) X (B) & -0.056 & 0.008 \\\\ \n",
      "  & (0.055) & (0.062) \\\\ \n",
      "  & & \\\\ \n",
      "\\hline \\\\[-1.8ex] \n",
      "Observations & \\multicolumn{1}{c}{202} & \\multicolumn{1}{c}{202} \\\\ \n",
      "Log Likelihood & \\multicolumn{1}{c}{-15.080} & \\multicolumn{1}{c}{2.994} \\\\ \n",
      "Akaike Inf. Crit. & \\multicolumn{1}{c}{42.160} & \\multicolumn{1}{c}{6.012} \\\\ \n",
      "Bayesian Inf. Crit. & \\multicolumn{1}{c}{62.010} & \\multicolumn{1}{c}{25.862} \\\\ \n",
      "\\hline \n",
      "\\hline \\\\[-1.8ex] \n",
      "\\multicolumn{3}{r}{$^{*}$p$<$0.1; $^{**}$p$<$0.05; $^{***}$p$<$0.01} \\\\ \n",
      "\\end{tabular} \n",
      "\\end{table} \n"
     ]
    }
   ],
   "source": [
    "stargazer(md.affirms,\n",
    "          md.denies,\n",
    "          align=TRUE,\n",
    "          order = c(4, 1, 2, 3),\n",
    "          covariate.labels = c(\"Constant\",\"(A) Low Evidence\", \"(B) Treatment\", \"(A) X (B)\"),\n",
    "          dep.var.labels   = c('Affirmation Rate ($p^a_R$)', \"Denial Rate ($p^d_R$)\"),\n",
    "          title=\"Linear mixed-effects model demonstrating the effect of treatment on the affirmation and denial rate of rumours. Parameter standard errors are reported in parentheses.\",\n",
    "          notes.label = \"\")"
   ]
  },
  {
   "cell_type": "markdown",
   "id": "56243278-7fc6-407f-bfa7-7f7177f93fd0",
   "metadata": {},
   "source": [
    "## Accuracy Saliency\n",
    "\n"
   ]
  },
  {
   "cell_type": "code",
   "execution_count": 5,
   "id": "738cf54d-8b99-4222-a19a-5e70d8a95f2c",
   "metadata": {},
   "outputs": [
    {
     "name": "stdout",
     "output_type": "stream",
     "text": [
      "\n",
      "Linear mixed-effects model demonstrating the effect of treatment and perceived rumour veracity on a rumour's affirmation rate. Parameter standard errors are reported in parentheses.\n",
      "=================================================\n",
      "                              Dependent variable:\n",
      "                              -------------------\n",
      "                              Affirmation Rate (p\n",
      "-------------------------------------------------\n",
      "Constant                           0.287***      \n",
      "                                    (0.053)      \n",
      "                                                 \n",
      "Low Evidence                       -0.070***     \n",
      "                                    (0.026)      \n",
      "                                                 \n",
      "(B) Treatment                      -0.151**      \n",
      "                                    (0.074)      \n",
      "                                                 \n",
      "(C) Perceived Rumour Veracity        0.011       \n",
      "                                    (0.008)      \n",
      "                                                 \n",
      "(B) X (C)                          0.032***      \n",
      "                                    (0.012)      \n",
      "                                                 \n",
      "-------------------------------------------------\n",
      "Observations                          199        \n",
      "Log Likelihood                      -8.799       \n",
      "Akaike Inf. Crit.                   31.598       \n",
      "Bayesian Inf. Crit.                 54.651       \n",
      "=================================================\n",
      "                      *p<0.1; **p<0.05; ***p<0.01\n"
     ]
    }
   ],
   "source": [
    "md.accSal = lmer(sqrt(Affirms) ~ condition * veracityEstimate + evidence + (1 |user_id), data = data)\n",
    "stargazer(md.accSal,\n",
    "          type = \"text\",\n",
    "          title=\"Linear mixed-effects model demonstrating the effect of treatment and perceived rumour veracity on a rumour's affirmation rate. Parameter standard errors are reported in parentheses.\",\n",
    "          order = c(5, 3, 1, 2,4),\n",
    "          dep.var.labels   = c(\"Affirmation Rate ($p^a_R$)\"),\n",
    "          covariate.labels = c(\"Constant\",\"Low Evidence\", \"(B) Treatment\", \"(C) Perceived Rumour Veracity\", \"(B) X (C)\"),\n",
    "          notes.label = \"\",\n",
    "          align=TRUE)"
   ]
  },
  {
   "cell_type": "code",
   "execution_count": 6,
   "id": "3e3aeabb-94c0-437b-9541-3c8ad424c946",
   "metadata": {},
   "outputs": [
    {
     "name": "stdout",
     "output_type": "stream",
     "text": [
      "\n",
      "% Table created by stargazer v.5.2.2 by Marek Hlavac, Harvard University. E-mail: hlavac at fas.harvard.edu\n",
      "% Date and time: Wed, Jun 23, 2021 - 13:33:28\n",
      "% Requires LaTeX packages: dcolumn \n",
      "\\begin{table}[!htbp] \\centering \n",
      "  \\caption{Linear mixed-effects model demonstrating the effect of treatment and perceived rumour veracity on a rumour's affirmation rate. Parameter standard errors are reported in parentheses.} \n",
      "  \\label{} \n",
      "\\begin{tabular}{@{\\extracolsep{5pt}}lD{.}{.}{-3} } \n",
      "\\\\[-1.8ex]\\hline \n",
      "\\hline \\\\[-1.8ex] \n",
      " & \\multicolumn{1}{c}{\\textit{Dependent variable:}} \\\\ \n",
      "\\cline{2-2} \n",
      "\\\\[-1.8ex] & \\multicolumn{1}{c}{Affirmation Rate ($p^a_R$)} \\\\ \n",
      "\\hline \\\\[-1.8ex] \n",
      " Constant & 0.287^{***} \\\\ \n",
      "  & (0.053) \\\\ \n",
      "  & \\\\ \n",
      " Low Evidence & -0.070^{***} \\\\ \n",
      "  & (0.026) \\\\ \n",
      "  & \\\\ \n",
      " (B) Treatment & -0.151^{**} \\\\ \n",
      "  & (0.074) \\\\ \n",
      "  & \\\\ \n",
      " (C) Perceived Rumour Veracity & 0.011 \\\\ \n",
      "  & (0.008) \\\\ \n",
      "  & \\\\ \n",
      " (B) X (C) & 0.032^{***} \\\\ \n",
      "  & (0.012) \\\\ \n",
      "  & \\\\ \n",
      "\\hline \\\\[-1.8ex] \n",
      "Observations & \\multicolumn{1}{c}{199} \\\\ \n",
      "Log Likelihood & \\multicolumn{1}{c}{-8.799} \\\\ \n",
      "Akaike Inf. Crit. & \\multicolumn{1}{c}{31.598} \\\\ \n",
      "Bayesian Inf. Crit. & \\multicolumn{1}{c}{54.651} \\\\ \n",
      "\\hline \n",
      "\\hline \\\\[-1.8ex] \n",
      "\\multicolumn{2}{r}{$^{*}$p$<$0.1; $^{**}$p$<$0.05; $^{***}$p$<$0.01} \\\\ \n",
      "\\end{tabular} \n",
      "\\end{table} \n"
     ]
    }
   ],
   "source": [
    "stargazer(md.accSal,\n",
    "          title=\"Linear mixed-effects model demonstrating the effect of treatment and perceived rumour veracity on a rumour's affirmation rate. Parameter standard errors are reported in parentheses.\",\n",
    "          order = c(5, 3, 1, 2,4),\n",
    "          dep.var.labels   = c(\"Affirmation Rate ($p^a_R$)\"),\n",
    "          covariate.labels = c(\"Constant\",\"Low Evidence\", \"(B) Treatment\", \"(C) Perceived Rumour Veracity\", \"(B) X (C)\"),\n",
    "          notes.label = \"\",\n",
    "          align=TRUE)"
   ]
  },
  {
   "cell_type": "markdown",
   "id": "711e2b20-20e9-4cd2-9337-78e5345f4cc6",
   "metadata": {},
   "source": [
    "# Exploratory Analyses\n",
    "\n",
    "The outcome variable was the decision to reshare a given post. Since the outcome variable is a binary choice between the choice to reshare or not reshare (56 observations per participant), I employed Binomial Logistic Regression (BLR). The BLR incorporated the participant ID and post ID (unique ID from the Twitter API) as random-effects to account for repeated measures for varying items. Whether the post is misleading, defined as affirming the low evidence rumour or denying the high evidence rumour, the source gender (male vs. female profile image), and timestamp randomly assigned to each post are included as fixed-effects. Similar to Pennycook (implied truth), the control condition is used as the baseline and tests for a warning effect (or, potentially, a backfire effect if the warning hurts rather than helps) with a Warned dummy that indicates the post being in the warning treatment and having a warning, and tests for an implied truth effect with an Untagged dummy that indicates a post being in the warning treatment and not having a warning."
   ]
  },
  {
   "cell_type": "code",
   "execution_count": 7,
   "id": "717d93b7-8d74-4754-be59-11448cd333b9",
   "metadata": {},
   "outputs": [],
   "source": [
    "post.data <- read.csv(\"../../data/processed/60b37265a9f60881975de69e-rumour-results.csv\")\n",
    "post.data$reshared <- as.integer(as.logical(post.data$reshared))\n",
    "post.data$code = relevel(as.factor(post.data$code), ref = \"neutral\") \n",
    "post.data$evidence = relevel(as.factor(post.data$evidence), ref = \"high\") \n",
    "post.data$misleading = relevel(as.factor(post.data$misleading), ref = \"False\") \n",
    "\n",
    "post.md <- glmer(reshared ~ posterGender + timestamp + warned + untagged * misleading + (1 | user_id) + (1 | id),\n",
    "            data = post.data,\n",
    "            family = binomial, \n",
    "            control=glmerControl(optimizer=\"bobyqa\",optCtrl=list(maxfun=2e5))\n",
    "           )"
   ]
  },
  {
   "cell_type": "code",
   "execution_count": 8,
   "id": "a80e050b-dd89-4eb8-a293-2a9c557dcddf",
   "metadata": {},
   "outputs": [
    {
     "name": "stdout",
     "output_type": "stream",
     "text": [
      "\n",
      "BLR mixed-effects model demonstrating the effect of post attributes and the 'implied truth effect' on resharing odds. Parameter standard errors are reported in parentheses.\n",
      "=======================================\n",
      "                    Dependent variable:\n",
      "                    -------------------\n",
      "                         Reshared?     \n",
      "---------------------------------------\n",
      "Constant                 -1.131***     \n",
      "                          (0.195)      \n",
      "                                       \n",
      "Warned                    -0.141       \n",
      "                          (0.255)      \n",
      "                                       \n",
      "(D) Misleading           -0.784***     \n",
      "                          (0.188)      \n",
      "                                       \n",
      "(E) Untagged               0.134       \n",
      "                          (0.215)      \n",
      "                                       \n",
      "(D) X (E)                 0.453*       \n",
      "                          (0.249)      \n",
      "                                       \n",
      "Male                       0.011       \n",
      "                          (0.076)      \n",
      "                                       \n",
      "Timestamp                -0.023***     \n",
      "                          (0.002)      \n",
      "                                       \n",
      "---------------------------------------\n",
      "Observations               5,992       \n",
      "Log Likelihood          -2,416.299     \n",
      "Akaike Inf. Crit.        4,850.599     \n",
      "Bayesian Inf. Crit.      4,910.882     \n",
      "=======================================\n",
      "            *p<0.1; **p<0.05; ***p<0.01\n"
     ]
    }
   ],
   "source": [
    "stargazer(post.md,\n",
    "          type = \"text\",\n",
    "          order = c(7,3,5,4,6,5,1,2),\n",
    "          title=\"BLR mixed-effects model demonstrating the effect of post attributes and the 'implied truth effect' on resharing odds. Parameter standard errors are reported in parentheses.\",\n",
    "          dep.var.labels   = c(\"Reshared?\"),\n",
    "          covariate.labels = c(\"Constant\",\n",
    "                               \"Warned\",\n",
    "                               \"(D) Misleading\", \n",
    "                               \"(E) Untagged\", \n",
    "                               \"(D) X (E)\", \n",
    "                               \"Male\",\n",
    "                               \"Timestamp\"),\n",
    "          notes.label = \"\",\n",
    "          align=TRUE)"
   ]
  },
  {
   "cell_type": "code",
   "execution_count": 9,
   "id": "a45b81fe-0bac-4664-9211-1d25076e42b3",
   "metadata": {},
   "outputs": [
    {
     "name": "stdout",
     "output_type": "stream",
     "text": [
      "\n",
      "% Table created by stargazer v.5.2.2 by Marek Hlavac, Harvard University. E-mail: hlavac at fas.harvard.edu\n",
      "% Date and time: Wed, Jun 23, 2021 - 13:33:42\n",
      "% Requires LaTeX packages: dcolumn \n",
      "\\begin{table}[!htbp] \\centering \n",
      "  \\caption{BLR mixed-effects model demonstrating the effect of post attributes and the 'implied truth effect' on resharing odds. Parameter standard errors are reported in parentheses} \n",
      "  \\label{} \n",
      "\\begin{tabular}{@{\\extracolsep{5pt}}lD{.}{.}{-3} } \n",
      "\\\\[-1.8ex]\\hline \n",
      "\\hline \\\\[-1.8ex] \n",
      " & \\multicolumn{1}{c}{\\textit{Dependent variable:}} \\\\ \n",
      "\\cline{2-2} \n",
      "\\\\[-1.8ex] & \\multicolumn{1}{c}{Reshared?} \\\\ \n",
      "\\hline \\\\[-1.8ex] \n",
      " Constant & -1.131^{***} \\\\ \n",
      "  & (0.195) \\\\ \n",
      "  & \\\\ \n",
      " Warned & -0.141 \\\\ \n",
      "  & (0.255) \\\\ \n",
      "  & \\\\ \n",
      " (D) Misleading & -0.784^{***} \\\\ \n",
      "  & (0.188) \\\\ \n",
      "  & \\\\ \n",
      " (E) Untagged & 0.134 \\\\ \n",
      "  & (0.215) \\\\ \n",
      "  & \\\\ \n",
      " (D) X (E) & 0.453^{*} \\\\ \n",
      "  & (0.249) \\\\ \n",
      "  & \\\\ \n",
      " Male & 0.011 \\\\ \n",
      "  & (0.076) \\\\ \n",
      "  & \\\\ \n",
      " Timestamp & -0.023^{***} \\\\ \n",
      "  & (0.002) \\\\ \n",
      "  & \\\\ \n",
      "\\hline \\\\[-1.8ex] \n",
      "Observations & \\multicolumn{1}{c}{5,992} \\\\ \n",
      "Log Likelihood & \\multicolumn{1}{c}{-2,416.299} \\\\ \n",
      "Akaike Inf. Crit. & \\multicolumn{1}{c}{4,850.599} \\\\ \n",
      "Bayesian Inf. Crit. & \\multicolumn{1}{c}{4,910.882} \\\\ \n",
      "\\hline \n",
      "\\hline \\\\[-1.8ex] \n",
      "\\multicolumn{2}{r}{$^{*}$p$<$0.1; $^{**}$p$<$0.05; $^{***}$p$<$0.01} \\\\ \n",
      "\\end{tabular} \n",
      "\\end{table} \n"
     ]
    }
   ],
   "source": [
    "stargazer(post.md,\n",
    "          order = c(7,3,5,4,6,5,1,2),\n",
    "          title=\"BLR mixed-effects model demonstrating the effect of post attributes and the 'implied truth effect' on resharing odds. Parameter standard errors are reported in parentheses\",\n",
    "          dep.var.labels   = c(\"Reshared?\"),\n",
    "          covariate.labels = c(\"Constant\",\n",
    "                               \"Warned\",\n",
    "                               \"(D) Misleading\", \n",
    "                               \"(E) Untagged\", \n",
    "                               \"(D) X (E)\", \n",
    "                               \"Male\",\n",
    "                               \"Timestamp\"),\n",
    "          notes.label = \"\",\n",
    "          align=TRUE)"
   ]
  },
  {
   "cell_type": "code",
   "execution_count": null,
   "id": "965d18ba-39b7-4ab2-9b4f-7fd5c03d8ca8",
   "metadata": {},
   "outputs": [],
   "source": []
  }
 ],
 "metadata": {
  "kernelspec": {
   "display_name": "R",
   "language": "R",
   "name": "r"
  },
  "language_info": {
   "codemirror_mode": "r",
   "file_extension": ".r",
   "mimetype": "text/x-r-source",
   "name": "R",
   "pygments_lexer": "r",
   "version": "4.0.3"
  }
 },
 "nbformat": 4,
 "nbformat_minor": 5
}
