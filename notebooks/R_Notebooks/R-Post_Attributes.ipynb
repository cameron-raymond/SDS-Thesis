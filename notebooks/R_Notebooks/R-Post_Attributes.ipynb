{
 "cells": [
  {
   "cell_type": "markdown",
   "id": "5bdfba21-a0b7-41b8-bf0f-c9c2c97f1cd1",
   "metadata": {},
   "source": [
    "# Exploratory Analysis\n",
    "\n",
    "* $RQ_1$: How does temporal proximity affect sharing behaviour during protest demonstrations?\n",
    "* $RQ_2$: How do source attributes like the poster's gender affect sharing behaviour during protest demonstrations?\n",
    "* $RQ_3$: Is there evidence of a \"backfire effect\" where misleading posts that *don't* have a credibility indicator are assumed to be true and more likely to be reshared."
   ]
  },
  {
   "cell_type": "code",
   "execution_count": 29,
   "id": "3d6d0972-cde5-4472-85f7-4fd2f78ee803",
   "metadata": {},
   "outputs": [
    {
     "data": {
      "text/html": [
       "<table>\n",
       "<caption>A data.frame: 6 × 16</caption>\n",
       "<thead>\n",
       "\t<tr><th></th><th scope=col>user_id</th><th scope=col>condition</th><th scope=col>timeSubmitted</th><th scope=col>secondsTaken</th><th scope=col>id</th><th scope=col>rumour</th><th scope=col>code</th><th scope=col>evidence</th><th scope=col>warning</th><th scope=col>reshared</th><th scope=col>clickedWarning</th><th scope=col>timestamp</th><th scope=col>posterGender</th><th scope=col>posterId</th><th scope=col>misleading</th><th scope=col>untagged</th></tr>\n",
       "\t<tr><th></th><th scope=col>&lt;dbl&gt;</th><th scope=col>&lt;chr&gt;</th><th scope=col>&lt;chr&gt;</th><th scope=col>&lt;int&gt;</th><th scope=col>&lt;dbl&gt;</th><th scope=col>&lt;chr&gt;</th><th scope=col>&lt;fct&gt;</th><th scope=col>&lt;fct&gt;</th><th scope=col>&lt;chr&gt;</th><th scope=col>&lt;int&gt;</th><th scope=col>&lt;chr&gt;</th><th scope=col>&lt;int&gt;</th><th scope=col>&lt;chr&gt;</th><th scope=col>&lt;chr&gt;</th><th scope=col>&lt;chr&gt;</th><th scope=col>&lt;chr&gt;</th></tr>\n",
       "</thead>\n",
       "<tbody>\n",
       "\t<tr><th scope=row>1</th><td>6.444755e+18</td><td>treatment</td><td>2021-06-03 09:50:15.953000+00:00</td><td>120</td><td>1.283849e+18</td><td>R1</td><td>neutral  </td><td>high</td><td>False</td><td>0</td><td>False</td><td> 3</td><td>male  </td><td>RnJlZGVyaWNrIFdvb2RodHRwczovL3JhbmRvbXVzZXIubWUvYXBpL3BvcnRyYWl0cy90aHVtYi9tZW4vMTkuanBn    </td><td>False</td><td>False</td></tr>\n",
       "\t<tr><th scope=row>2</th><td>6.444755e+18</td><td>treatment</td><td>2021-06-03 09:50:15.953000+00:00</td><td>120</td><td>1.283767e+18</td><td>R1</td><td>neutral  </td><td>high</td><td>False</td><td>0</td><td>False</td><td> 4</td><td>female</td><td>S2F0aWUgTXVycGh5aHR0cHM6Ly9yYW5kb211c2VyLm1lL2FwaS9wb3J0cmFpdHMvdGh1bWIvd29tZW4vNjQuanBn    </td><td>False</td><td>False</td></tr>\n",
       "\t<tr><th scope=row>3</th><td>6.444755e+18</td><td>treatment</td><td>2021-06-03 09:50:15.953000+00:00</td><td>120</td><td>1.283508e+18</td><td>R1</td><td>denies   </td><td>high</td><td>True </td><td>0</td><td>False</td><td>11</td><td>male  </td><td>R2FyeSBIb3BraW5zaHR0cHM6Ly9yYW5kb211c2VyLm1lL2FwaS9wb3J0cmFpdHMvdGh1bWIvbWVuLzc4LmpwZw==    </td><td>True </td><td>False</td></tr>\n",
       "\t<tr><th scope=row>4</th><td>6.444755e+18</td><td>treatment</td><td>2021-06-03 09:50:15.953000+00:00</td><td>120</td><td>1.283371e+18</td><td>R1</td><td>affirms  </td><td>high</td><td>False</td><td>0</td><td>False</td><td>11</td><td>female</td><td>V2lsbGllIENsYXJraHR0cHM6Ly9yYW5kb211c2VyLm1lL2FwaS9wb3J0cmFpdHMvdGh1bWIvd29tZW4vNy5qcGc=    </td><td>False</td><td>False</td></tr>\n",
       "\t<tr><th scope=row>5</th><td>6.444755e+18</td><td>treatment</td><td>2021-06-03 09:50:15.953000+00:00</td><td>120</td><td>1.283538e+18</td><td>R1</td><td>affirms  </td><td>high</td><td>False</td><td>1</td><td>False</td><td>13</td><td>female</td><td>TWVsaW5kYSBCYXJyZXR0aHR0cHM6Ly9yYW5kb211c2VyLm1lL2FwaS9wb3J0cmFpdHMvdGh1bWIvd29tZW4vNjIuanBn</td><td>False</td><td>False</td></tr>\n",
       "\t<tr><th scope=row>6</th><td>6.444755e+18</td><td>treatment</td><td>2021-06-03 09:50:15.953000+00:00</td><td>120</td><td>1.283492e+18</td><td>R1</td><td>questions</td><td>high</td><td>False</td><td>1</td><td>False</td><td>14</td><td>male  </td><td>TG9ubmllIE1pbGVzaHR0cHM6Ly9yYW5kb211c2VyLm1lL2FwaS9wb3J0cmFpdHMvdGh1bWIvbWVuLzEwLmpwZw==    </td><td>False</td><td>False</td></tr>\n",
       "</tbody>\n",
       "</table>\n"
      ],
      "text/latex": [
       "A data.frame: 6 × 16\n",
       "\\begin{tabular}{r|llllllllllllllll}\n",
       "  & user\\_id & condition & timeSubmitted & secondsTaken & id & rumour & code & evidence & warning & reshared & clickedWarning & timestamp & posterGender & posterId & misleading & untagged\\\\\n",
       "  & <dbl> & <chr> & <chr> & <int> & <dbl> & <chr> & <fct> & <fct> & <chr> & <int> & <chr> & <int> & <chr> & <chr> & <chr> & <chr>\\\\\n",
       "\\hline\n",
       "\t1 & 6.444755e+18 & treatment & 2021-06-03 09:50:15.953000+00:00 & 120 & 1.283849e+18 & R1 & neutral   & high & False & 0 & False &  3 & male   & RnJlZGVyaWNrIFdvb2RodHRwczovL3JhbmRvbXVzZXIubWUvYXBpL3BvcnRyYWl0cy90aHVtYi9tZW4vMTkuanBn     & False & False\\\\\n",
       "\t2 & 6.444755e+18 & treatment & 2021-06-03 09:50:15.953000+00:00 & 120 & 1.283767e+18 & R1 & neutral   & high & False & 0 & False &  4 & female & S2F0aWUgTXVycGh5aHR0cHM6Ly9yYW5kb211c2VyLm1lL2FwaS9wb3J0cmFpdHMvdGh1bWIvd29tZW4vNjQuanBn     & False & False\\\\\n",
       "\t3 & 6.444755e+18 & treatment & 2021-06-03 09:50:15.953000+00:00 & 120 & 1.283508e+18 & R1 & denies    & high & True  & 0 & False & 11 & male   & R2FyeSBIb3BraW5zaHR0cHM6Ly9yYW5kb211c2VyLm1lL2FwaS9wb3J0cmFpdHMvdGh1bWIvbWVuLzc4LmpwZw==     & True  & False\\\\\n",
       "\t4 & 6.444755e+18 & treatment & 2021-06-03 09:50:15.953000+00:00 & 120 & 1.283371e+18 & R1 & affirms   & high & False & 0 & False & 11 & female & V2lsbGllIENsYXJraHR0cHM6Ly9yYW5kb211c2VyLm1lL2FwaS9wb3J0cmFpdHMvdGh1bWIvd29tZW4vNy5qcGc=     & False & False\\\\\n",
       "\t5 & 6.444755e+18 & treatment & 2021-06-03 09:50:15.953000+00:00 & 120 & 1.283538e+18 & R1 & affirms   & high & False & 1 & False & 13 & female & TWVsaW5kYSBCYXJyZXR0aHR0cHM6Ly9yYW5kb211c2VyLm1lL2FwaS9wb3J0cmFpdHMvdGh1bWIvd29tZW4vNjIuanBn & False & False\\\\\n",
       "\t6 & 6.444755e+18 & treatment & 2021-06-03 09:50:15.953000+00:00 & 120 & 1.283492e+18 & R1 & questions & high & False & 1 & False & 14 & male   & TG9ubmllIE1pbGVzaHR0cHM6Ly9yYW5kb211c2VyLm1lL2FwaS9wb3J0cmFpdHMvdGh1bWIvbWVuLzEwLmpwZw==     & False & False\\\\\n",
       "\\end{tabular}\n"
      ],
      "text/markdown": [
       "\n",
       "A data.frame: 6 × 16\n",
       "\n",
       "| <!--/--> | user_id &lt;dbl&gt; | condition &lt;chr&gt; | timeSubmitted &lt;chr&gt; | secondsTaken &lt;int&gt; | id &lt;dbl&gt; | rumour &lt;chr&gt; | code &lt;fct&gt; | evidence &lt;fct&gt; | warning &lt;chr&gt; | reshared &lt;int&gt; | clickedWarning &lt;chr&gt; | timestamp &lt;int&gt; | posterGender &lt;chr&gt; | posterId &lt;chr&gt; | misleading &lt;chr&gt; | untagged &lt;chr&gt; |\n",
       "|---|---|---|---|---|---|---|---|---|---|---|---|---|---|---|---|---|\n",
       "| 1 | 6.444755e+18 | treatment | 2021-06-03 09:50:15.953000+00:00 | 120 | 1.283849e+18 | R1 | neutral   | high | False | 0 | False |  3 | male   | RnJlZGVyaWNrIFdvb2RodHRwczovL3JhbmRvbXVzZXIubWUvYXBpL3BvcnRyYWl0cy90aHVtYi9tZW4vMTkuanBn     | False | False |\n",
       "| 2 | 6.444755e+18 | treatment | 2021-06-03 09:50:15.953000+00:00 | 120 | 1.283767e+18 | R1 | neutral   | high | False | 0 | False |  4 | female | S2F0aWUgTXVycGh5aHR0cHM6Ly9yYW5kb211c2VyLm1lL2FwaS9wb3J0cmFpdHMvdGh1bWIvd29tZW4vNjQuanBn     | False | False |\n",
       "| 3 | 6.444755e+18 | treatment | 2021-06-03 09:50:15.953000+00:00 | 120 | 1.283508e+18 | R1 | denies    | high | True  | 0 | False | 11 | male   | R2FyeSBIb3BraW5zaHR0cHM6Ly9yYW5kb211c2VyLm1lL2FwaS9wb3J0cmFpdHMvdGh1bWIvbWVuLzc4LmpwZw==     | True  | False |\n",
       "| 4 | 6.444755e+18 | treatment | 2021-06-03 09:50:15.953000+00:00 | 120 | 1.283371e+18 | R1 | affirms   | high | False | 0 | False | 11 | female | V2lsbGllIENsYXJraHR0cHM6Ly9yYW5kb211c2VyLm1lL2FwaS9wb3J0cmFpdHMvdGh1bWIvd29tZW4vNy5qcGc=     | False | False |\n",
       "| 5 | 6.444755e+18 | treatment | 2021-06-03 09:50:15.953000+00:00 | 120 | 1.283538e+18 | R1 | affirms   | high | False | 1 | False | 13 | female | TWVsaW5kYSBCYXJyZXR0aHR0cHM6Ly9yYW5kb211c2VyLm1lL2FwaS9wb3J0cmFpdHMvdGh1bWIvd29tZW4vNjIuanBn | False | False |\n",
       "| 6 | 6.444755e+18 | treatment | 2021-06-03 09:50:15.953000+00:00 | 120 | 1.283492e+18 | R1 | questions | high | False | 1 | False | 14 | male   | TG9ubmllIE1pbGVzaHR0cHM6Ly9yYW5kb211c2VyLm1lL2FwaS9wb3J0cmFpdHMvdGh1bWIvbWVuLzEwLmpwZw==     | False | False |\n",
       "\n"
      ],
      "text/plain": [
       "  user_id      condition timeSubmitted                    secondsTaken\n",
       "1 6.444755e+18 treatment 2021-06-03 09:50:15.953000+00:00 120         \n",
       "2 6.444755e+18 treatment 2021-06-03 09:50:15.953000+00:00 120         \n",
       "3 6.444755e+18 treatment 2021-06-03 09:50:15.953000+00:00 120         \n",
       "4 6.444755e+18 treatment 2021-06-03 09:50:15.953000+00:00 120         \n",
       "5 6.444755e+18 treatment 2021-06-03 09:50:15.953000+00:00 120         \n",
       "6 6.444755e+18 treatment 2021-06-03 09:50:15.953000+00:00 120         \n",
       "  id           rumour code      evidence warning reshared clickedWarning\n",
       "1 1.283849e+18 R1     neutral   high     False   0        False         \n",
       "2 1.283767e+18 R1     neutral   high     False   0        False         \n",
       "3 1.283508e+18 R1     denies    high     True    0        False         \n",
       "4 1.283371e+18 R1     affirms   high     False   0        False         \n",
       "5 1.283538e+18 R1     affirms   high     False   1        False         \n",
       "6 1.283492e+18 R1     questions high     False   1        False         \n",
       "  timestamp posterGender\n",
       "1  3        male        \n",
       "2  4        female      \n",
       "3 11        male        \n",
       "4 11        female      \n",
       "5 13        female      \n",
       "6 14        male        \n",
       "  posterId                                                                                    \n",
       "1 RnJlZGVyaWNrIFdvb2RodHRwczovL3JhbmRvbXVzZXIubWUvYXBpL3BvcnRyYWl0cy90aHVtYi9tZW4vMTkuanBn    \n",
       "2 S2F0aWUgTXVycGh5aHR0cHM6Ly9yYW5kb211c2VyLm1lL2FwaS9wb3J0cmFpdHMvdGh1bWIvd29tZW4vNjQuanBn    \n",
       "3 R2FyeSBIb3BraW5zaHR0cHM6Ly9yYW5kb211c2VyLm1lL2FwaS9wb3J0cmFpdHMvdGh1bWIvbWVuLzc4LmpwZw==    \n",
       "4 V2lsbGllIENsYXJraHR0cHM6Ly9yYW5kb211c2VyLm1lL2FwaS9wb3J0cmFpdHMvdGh1bWIvd29tZW4vNy5qcGc=    \n",
       "5 TWVsaW5kYSBCYXJyZXR0aHR0cHM6Ly9yYW5kb211c2VyLm1lL2FwaS9wb3J0cmFpdHMvdGh1bWIvd29tZW4vNjIuanBn\n",
       "6 TG9ubmllIE1pbGVzaHR0cHM6Ly9yYW5kb211c2VyLm1lL2FwaS9wb3J0cmFpdHMvdGh1bWIvbWVuLzEwLmpwZw==    \n",
       "  misleading untagged\n",
       "1 False      False   \n",
       "2 False      False   \n",
       "3 True       False   \n",
       "4 False      False   \n",
       "5 False      False   \n",
       "6 False      False   "
      ]
     },
     "metadata": {},
     "output_type": "display_data"
    }
   ],
   "source": [
    "library(lme4)\n",
    "library(e1071) \n",
    "library(parameters)\n",
    "\n",
    "data <- read.csv(\"../../data/processed/60b37265a9f60881975de69e-rumour-results.csv\")\n",
    "data$reshared <- as.integer(as.logical(data$reshared))\n",
    "data$code = relevel(as.factor(data$code), ref = \"neutral\") \n",
    "data$evidence = relevel(as.factor(data$evidence), ref = \"high\") \n",
    "head(data)"
   ]
  },
  {
   "cell_type": "markdown",
   "id": "4adbc5d2-6f9f-4ea9-a45c-c3e05180a733",
   "metadata": {},
   "source": [
    "### Binomial Logistic regression\n",
    "\n",
    "Alt add an interaction between warning and evidence (if we expect there to be different effects for putting a cred indicator on a post denying a high evidence rumour vs affirming a low evidence rumour.\n",
    "\n",
    "* $RQ_1$: How does temporal proximity affect sharing behaviour during protest demonstrations?\n",
    "* $RQ_2$: How do source attributes like the poster's gender affect sharing behaviour during protest demonstrations?\n",
    "* $RQ_3$: Is there evidence of a \"backfire effect\" where misleading posts that *don't* have a credibility indicator are assumed to be true and more likely to be reshared.\n",
    "\n",
    "> Our outcome variable was the intent to share the article corresponding to a headline with friends on social media. Since the outcome variable is a binary choice between the intent to share or not share, we employed Binomial Logistic Regression (BLR). The BLR incorporated participant ID and headline ID as random effects to account for repeated measures for varying items [5, 68]. Our independent variables included the treatment, headline category, political affiliation, social media use, and common demographic factors, such as age and gender. (Yaqub)\n",
    "\n",
    "\n",
    "What I write:\n",
    "\n",
    "> The outcome variable was the decision to share the post discussing one of the two rumours in the mock social media environment. Since the outcome variable is a binary choice between the choice to share or not share (56 observations per participant), I employed Binomial Logistic Regression (BLR). The BLR incorporated the participant ID and post ID (unique ID from the Twitter API) as random effects to account for repeated measures for varying items and to measure the proportion of variance explained by post attributes. Our independent variables included the post's evidence level (high/low), the post's coding (affirms/denies/neutral/questions) and their interaction. In addition, I included the ''source gender'' and timestamp randomly assigned to each post. Similar to Pennycook (implied truth), I additionally include whether the post had a credibility indicator attached to it whether the post went ``untagged'' indicating that it was misleading but did not have a warning.\n"
   ]
  },
  {
   "cell_type": "code",
   "execution_count": 30,
   "id": "6649a776-9b3a-46ec-95a7-9e17b1cbe6ac",
   "metadata": {},
   "outputs": [
    {
     "data": {
      "text/plain": [
       "Generalized linear mixed model fit by maximum likelihood (Laplace\n",
       "  Approximation) [glmerMod]\n",
       " Family: binomial  ( logit )\n",
       "Formula: reshared ~ posterGender + timestamp + warning + code * evidence +  \n",
       "    untagged + (1 | user_id) + (1 | id)\n",
       "   Data: data\n",
       "Control: glmerControl(optimizer = \"bobyqa\", optCtrl = list(maxfun = 2e+05))\n",
       "\n",
       "     AIC      BIC   logLik deviance df.resid \n",
       "  4938.0   5033.7  -2455.0   4910.0     6874 \n",
       "\n",
       "Scaled residuals: \n",
       "    Min      1Q  Median      3Q     Max \n",
       "-3.8314 -0.3941 -0.2286 -0.1063 11.6068 \n",
       "\n",
       "Random effects:\n",
       " Groups  Name        Variance Std.Dev.\n",
       " id      (Intercept) 0.6139   0.7835  \n",
       " user_id (Intercept) 1.9114   1.3825  \n",
       "Number of obs: 6888, groups:  id, 167; user_id, 125\n",
       "\n",
       "Fixed effects:\n",
       "                           Estimate Std. Error z value Pr(>|z|)    \n",
       "(Intercept)               -1.744585   0.274022  -6.367 1.93e-10 ***\n",
       "posterGendermale           0.014123   0.076206   0.185  0.85297    \n",
       "timestamp                 -0.023806   0.002306 -10.324  < 2e-16 ***\n",
       "warningTrue               -0.253429   0.180794  -1.402  0.16099    \n",
       "codeaffirms               -0.065352   0.298341  -0.219  0.82661    \n",
       "codedenies                -0.892038   0.307709  -2.899  0.00374 ** \n",
       "codequestions              1.056254   0.345213   3.060  0.00222 ** \n",
       "evidencelow               -0.102181   0.346580  -0.295  0.76813    \n",
       "untaggedTrue               0.487225   0.248456   1.961  0.04988 *  \n",
       "codeaffirms:evidencelow   -0.047558   0.431027  -0.110  0.91214    \n",
       "codedenies:evidencelow     1.956608   0.460604   4.248 2.16e-05 ***\n",
       "codequestions:evidencelow -0.855251   0.554607  -1.542  0.12305    \n",
       "---\n",
       "Signif. codes:  0 ‘***’ 0.001 ‘**’ 0.01 ‘*’ 0.05 ‘.’ 0.1 ‘ ’ 1\n",
       "\n",
       "Correlation of Fixed Effects:\n",
       "            (Intr) pstrGn tmstmp wrnngT cdffrm coddns cdqstn evdncl untggT\n",
       "postrGndrml -0.134                                                        \n",
       "timestamp   -0.207 -0.001                                                 \n",
       "warningTrue  0.010 -0.013  0.005                                          \n",
       "codeaffirms -0.652 -0.010  0.004  0.000                                   \n",
       "codedenies  -0.632 -0.005  0.013 -0.255  0.580                            \n",
       "codequestns -0.566 -0.002 -0.019 -0.005  0.518  0.501                     \n",
       "evidencelow -0.562  0.003  0.011  0.001  0.514  0.498  0.444              \n",
       "untaggedTru  0.015 -0.011 -0.050  0.392  0.000 -0.191 -0.001  0.000       \n",
       "cdffrms:vdn  0.450  0.004 -0.009 -0.186 -0.691 -0.347 -0.356 -0.803 -0.134\n",
       "cddns:vdncl  0.421 -0.001 -0.030  0.167 -0.386 -0.668 -0.331 -0.752  0.128\n",
       "cdqstns:vdn  0.350  0.000  0.001  0.002 -0.321 -0.312 -0.620 -0.624  0.001\n",
       "            cdffr: cddns:\n",
       "postrGndrml              \n",
       "timestamp                \n",
       "warningTrue              \n",
       "codeaffirms              \n",
       "codedenies               \n",
       "codequestns              \n",
       "evidencelow              \n",
       "untaggedTru              \n",
       "cdffrms:vdn              \n",
       "cddns:vdncl  0.569       \n",
       "cdqstns:vdn  0.502  0.470"
      ]
     },
     "metadata": {},
     "output_type": "display_data"
    }
   ],
   "source": [
    "md <- glmer(reshared ~ posterGender + timestamp + warning + code * evidence + untagged + (1 | user_id) + (1 | id),\n",
    "            data = data,\n",
    "            family = binomial, \n",
    "            control=glmerControl(optimizer=\"bobyqa\",optCtrl=list(maxfun=2e5))\n",
    "           )\n",
    "summary(md)"
   ]
  },
  {
   "cell_type": "code",
   "execution_count": null,
   "id": "7e1c5b3d-fd53-4693-8c9c-ffa2995fede2",
   "metadata": {},
   "outputs": [],
   "source": []
  }
 ],
 "metadata": {
  "kernelspec": {
   "display_name": "R",
   "language": "R",
   "name": "r"
  },
  "language_info": {
   "codemirror_mode": "r",
   "file_extension": ".r",
   "mimetype": "text/x-r-source",
   "name": "R",
   "pygments_lexer": "r",
   "version": "4.0.3"
  }
 },
 "nbformat": 4,
 "nbformat_minor": 5
}
