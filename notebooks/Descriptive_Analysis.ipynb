{
 "cells": [
  {
   "cell_type": "markdown",
   "id": "engaged-match",
   "metadata": {},
   "source": [
    "# Descriptive Analyses\n",
    "\n",
    "Intro tables to give context to the data"
   ]
  },
  {
   "cell_type": "code",
   "execution_count": 1,
   "id": "ddda4bc5-fcbd-4b7f-b18d-548ee9e4574a",
   "metadata": {},
   "outputs": [],
   "source": [
    "import pandas as pd\n",
    "import numpy as np\n",
    "import seaborn as sns\n",
    "import matplotlib.pyplot as plt\n",
    "\n",
    "sns.set_style(\"whitegrid\",{'axes.spines.left' : False,\n",
    "                           'axes.spines.right': False,\n",
    "                           'axes.spines.top': False,\n",
    "                           'grid.linestyle': ':'})\n",
    "sns.set_context(\"talk\")\n",
    "\n",
    "STUDY_ID =\"60b37265a9f60881975de69e\"\n"
   ]
  },
  {
   "cell_type": "code",
   "execution_count": 25,
   "id": "a20278f1-9825-4845-8d12-edaed8f297ef",
   "metadata": {},
   "outputs": [
    {
     "name": "stdout",
     "output_type": "stream",
     "text": [
      "Shape: 197x49\n"
     ]
    },
    {
     "name": "stderr",
     "output_type": "stream",
     "text": [
      "/Users/cameron/.local/share/virtualenvs/code-3gDjSy3u/lib/python3.9/site-packages/ipykernel/ipkernel.py:283: DeprecationWarning: `should_run_async` will not call `transform_cell` automatically in the future. Please pass the result to `transformed_cell` argument and any exception that happen during thetransform in `preprocessing_exc_tuple` in IPython 7.17 and above.\n",
      "  and should_run_async(code)\n"
     ]
    }
   ],
   "source": [
    "participants = pd.read_csv(f\"../data/processed/{STUDY_ID}-participants.csv\")\n",
    "posts = pd.read_csv(f\"../data/processed/{STUDY_ID}-rumour-results.csv\")\n",
    "reshare_rates = pd.read_csv(f\"../data/processed/{STUDY_ID}-reshare_rates.csv\")\n",
    "post_study = pd.read_csv(f\"../data/processed/{STUDY_ID}-post-study-responses.csv\")\n",
    "print(\"Shape: {}x{}\".format(*reshare_rates.shape))"
   ]
  },
  {
   "cell_type": "markdown",
   "id": "automated-washington",
   "metadata": {},
   "source": [
    "## Initial Tables\n",
    "\n",
    "1. Participant statistics\n",
    "2. Experiment descriptive statistics\n",
    "\n",
    "### Participant statistics"
   ]
  },
  {
   "cell_type": "code",
   "execution_count": 3,
   "id": "returning-limitation",
   "metadata": {},
   "outputs": [
    {
     "data": {
      "text/html": [
       "<div>\n",
       "<style scoped>\n",
       "    .dataframe tbody tr th:only-of-type {\n",
       "        vertical-align: middle;\n",
       "    }\n",
       "\n",
       "    .dataframe tbody tr th {\n",
       "        vertical-align: top;\n",
       "    }\n",
       "\n",
       "    .dataframe thead th {\n",
       "        text-align: right;\n",
       "    }\n",
       "</style>\n",
       "<table border=\"1\" class=\"dataframe\">\n",
       "  <thead>\n",
       "    <tr style=\"text-align: right;\">\n",
       "      <th></th>\n",
       "      <th></th>\n",
       "      <th>Missing</th>\n",
       "      <th>Overall</th>\n",
       "    </tr>\n",
       "  </thead>\n",
       "  <tbody>\n",
       "    <tr>\n",
       "      <th>n</th>\n",
       "      <th></th>\n",
       "      <td></td>\n",
       "      <td>101</td>\n",
       "    </tr>\n",
       "    <tr>\n",
       "      <th rowspan=\"6\" valign=\"top\">educationLevel, n (%)</th>\n",
       "      <th>communityCollege</th>\n",
       "      <td>0</td>\n",
       "      <td>14 (13.9)</td>\n",
       "    </tr>\n",
       "    <tr>\n",
       "      <th>doctorate</th>\n",
       "      <td></td>\n",
       "      <td>1 (1.0)</td>\n",
       "    </tr>\n",
       "    <tr>\n",
       "      <th>graduateSchool</th>\n",
       "      <td></td>\n",
       "      <td>14 (13.9)</td>\n",
       "    </tr>\n",
       "    <tr>\n",
       "      <th>highSchool</th>\n",
       "      <td></td>\n",
       "      <td>20 (19.8)</td>\n",
       "    </tr>\n",
       "    <tr>\n",
       "      <th>none</th>\n",
       "      <td></td>\n",
       "      <td>1 (1.0)</td>\n",
       "    </tr>\n",
       "    <tr>\n",
       "      <th>undergrad</th>\n",
       "      <td></td>\n",
       "      <td>51 (50.5)</td>\n",
       "    </tr>\n",
       "    <tr>\n",
       "      <th rowspan=\"6\" valign=\"top\">politicalAffiliation, n (%)</th>\n",
       "      <th>centre</th>\n",
       "      <td>0</td>\n",
       "      <td>13 (12.9)</td>\n",
       "    </tr>\n",
       "    <tr>\n",
       "      <th>centreLeft</th>\n",
       "      <td></td>\n",
       "      <td>35 (34.7)</td>\n",
       "    </tr>\n",
       "    <tr>\n",
       "      <th>centreRight</th>\n",
       "      <td></td>\n",
       "      <td>12 (11.9)</td>\n",
       "    </tr>\n",
       "    <tr>\n",
       "      <th>left</th>\n",
       "      <td></td>\n",
       "      <td>26 (25.7)</td>\n",
       "    </tr>\n",
       "    <tr>\n",
       "      <th>none</th>\n",
       "      <td></td>\n",
       "      <td>11 (10.9)</td>\n",
       "    </tr>\n",
       "    <tr>\n",
       "      <th>right</th>\n",
       "      <td></td>\n",
       "      <td>4 (4.0)</td>\n",
       "    </tr>\n",
       "    <tr>\n",
       "      <th>attendsProtests, mean (SD)</th>\n",
       "      <th></th>\n",
       "      <td>6</td>\n",
       "      <td>0.1 (0.4)</td>\n",
       "    </tr>\n",
       "    <tr>\n",
       "      <th>age, mean (SD)</th>\n",
       "      <th></th>\n",
       "      <td>0</td>\n",
       "      <td>31.3 (11.3)</td>\n",
       "    </tr>\n",
       "    <tr>\n",
       "      <th rowspan=\"2\" valign=\"top\">gender_man, n (%)</th>\n",
       "      <th>0</th>\n",
       "      <td>0</td>\n",
       "      <td>53 (52.5)</td>\n",
       "    </tr>\n",
       "    <tr>\n",
       "      <th>1</th>\n",
       "      <td></td>\n",
       "      <td>48 (47.5)</td>\n",
       "    </tr>\n",
       "    <tr>\n",
       "      <th rowspan=\"2\" valign=\"top\">gender_nonBinary, n (%)</th>\n",
       "      <th>0</th>\n",
       "      <td>0</td>\n",
       "      <td>99 (98.0)</td>\n",
       "    </tr>\n",
       "    <tr>\n",
       "      <th>1</th>\n",
       "      <td></td>\n",
       "      <td>2 (2.0)</td>\n",
       "    </tr>\n",
       "    <tr>\n",
       "      <th rowspan=\"2\" valign=\"top\">gender_woman, n (%)</th>\n",
       "      <th>0</th>\n",
       "      <td>0</td>\n",
       "      <td>50 (49.5)</td>\n",
       "    </tr>\n",
       "    <tr>\n",
       "      <th>1</th>\n",
       "      <td></td>\n",
       "      <td>51 (50.5)</td>\n",
       "    </tr>\n",
       "    <tr>\n",
       "      <th>affiliatedMovements_ women's equity (not \"Gender\"), mean (SD)</th>\n",
       "      <th></th>\n",
       "      <td>0</td>\n",
       "      <td>0.0 (0.0)</td>\n",
       "    </tr>\n",
       "    <tr>\n",
       "      <th>affiliatedMovements_Animal Welfare, mean (SD)</th>\n",
       "      <th></th>\n",
       "      <td>0</td>\n",
       "      <td>0.0 (0.1)</td>\n",
       "    </tr>\n",
       "    <tr>\n",
       "      <th>affiliatedMovements_Anti-Extradition Law Amendment Bill Movement, mean (SD)</th>\n",
       "      <th></th>\n",
       "      <td>0</td>\n",
       "      <td>0.0 (0.0)</td>\n",
       "    </tr>\n",
       "    <tr>\n",
       "      <th>affiliatedMovements_Change animal cruelty laws , mean (SD)</th>\n",
       "      <th></th>\n",
       "      <td>0</td>\n",
       "      <td>0.0 (0.1)</td>\n",
       "    </tr>\n",
       "    <tr>\n",
       "      <th>affiliatedMovements_LGB rights (none of that other alphabet-soup nonsense), mean (SD)</th>\n",
       "      <th></th>\n",
       "      <td>0</td>\n",
       "      <td>0.0 (0.0)</td>\n",
       "    </tr>\n",
       "    <tr>\n",
       "      <th>affiliatedMovements_Pro-choice, mean (SD)</th>\n",
       "      <th></th>\n",
       "      <td>0</td>\n",
       "      <td>0.0 (0.0)</td>\n",
       "    </tr>\n",
       "    <tr>\n",
       "      <th>affiliatedMovements_Socioeconomic inequalities (healthcare retirement...), mean (SD)</th>\n",
       "      <th></th>\n",
       "      <td>0</td>\n",
       "      <td>0.0 (0.1)</td>\n",
       "    </tr>\n",
       "    <tr>\n",
       "      <th>affiliatedMovements_climate, mean (SD)</th>\n",
       "      <th></th>\n",
       "      <td>0</td>\n",
       "      <td>0.8 (0.4)</td>\n",
       "    </tr>\n",
       "    <tr>\n",
       "      <th>affiliatedMovements_free apartheid of Palestinians , mean (SD)</th>\n",
       "      <th></th>\n",
       "      <td>0</td>\n",
       "      <td>0.0 (0.0)</td>\n",
       "    </tr>\n",
       "    <tr>\n",
       "      <th>affiliatedMovements_freeSpeech, mean (SD)</th>\n",
       "      <th></th>\n",
       "      <td>0</td>\n",
       "      <td>0.6 (0.5)</td>\n",
       "    </tr>\n",
       "    <tr>\n",
       "      <th rowspan=\"2\" valign=\"top\">affiliatedMovements_gender, n (%)</th>\n",
       "      <th>0</th>\n",
       "      <td>0</td>\n",
       "      <td>22 (21.8)</td>\n",
       "    </tr>\n",
       "    <tr>\n",
       "      <th>1</th>\n",
       "      <td></td>\n",
       "      <td>79 (78.2)</td>\n",
       "    </tr>\n",
       "    <tr>\n",
       "      <th>affiliatedMovements_indigenous, mean (SD)</th>\n",
       "      <th></th>\n",
       "      <td>0</td>\n",
       "      <td>0.6 (0.5)</td>\n",
       "    </tr>\n",
       "    <tr>\n",
       "      <th>affiliatedMovements_labour, mean (SD)</th>\n",
       "      <th></th>\n",
       "      <td>0</td>\n",
       "      <td>0.6 (0.5)</td>\n",
       "    </tr>\n",
       "    <tr>\n",
       "      <th>affiliatedMovements_lgbtqa, mean (SD)</th>\n",
       "      <th></th>\n",
       "      <td>0</td>\n",
       "      <td>0.6 (0.5)</td>\n",
       "    </tr>\n",
       "    <tr>\n",
       "      <th>affiliatedMovements_none, mean (SD)</th>\n",
       "      <th></th>\n",
       "      <td>0</td>\n",
       "      <td>0.0 (0.1)</td>\n",
       "    </tr>\n",
       "    <tr>\n",
       "      <th>affiliatedMovements_race, mean (SD)</th>\n",
       "      <th></th>\n",
       "      <td>0</td>\n",
       "      <td>0.9 (0.3)</td>\n",
       "    </tr>\n",
       "    <tr>\n",
       "      <th>affiliatedMovements_religion, mean (SD)</th>\n",
       "      <th></th>\n",
       "      <td>0</td>\n",
       "      <td>0.4 (0.5)</td>\n",
       "    </tr>\n",
       "    <tr>\n",
       "      <th>affiliatedMovements_smallGov, mean (SD)</th>\n",
       "      <th></th>\n",
       "      <td>0</td>\n",
       "      <td>0.2 (0.4)</td>\n",
       "    </tr>\n",
       "    <tr>\n",
       "      <th>socialMedias_ WhatsApp, mean (SD)</th>\n",
       "      <th></th>\n",
       "      <td>0</td>\n",
       "      <td>0.0 (0.1)</td>\n",
       "    </tr>\n",
       "    <tr>\n",
       "      <th>socialMedias_Clubhouse, mean (SD)</th>\n",
       "      <th></th>\n",
       "      <td>0</td>\n",
       "      <td>0.0 (0.1)</td>\n",
       "    </tr>\n",
       "    <tr>\n",
       "      <th>socialMedias_Discord, mean (SD)</th>\n",
       "      <th></th>\n",
       "      <td>0</td>\n",
       "      <td>0.0 (0.0)</td>\n",
       "    </tr>\n",
       "    <tr>\n",
       "      <th>socialMedias_Linkedin, mean (SD)</th>\n",
       "      <th></th>\n",
       "      <td>0</td>\n",
       "      <td>0.0 (0.0)</td>\n",
       "    </tr>\n",
       "    <tr>\n",
       "      <th>socialMedias_None, mean (SD)</th>\n",
       "      <th></th>\n",
       "      <td>0</td>\n",
       "      <td>0.0 (0.0)</td>\n",
       "    </tr>\n",
       "    <tr>\n",
       "      <th>socialMedias_Telegram, mean (SD)</th>\n",
       "      <th></th>\n",
       "      <td>0</td>\n",
       "      <td>0.0 (0.1)</td>\n",
       "    </tr>\n",
       "    <tr>\n",
       "      <th>socialMedias_Tumblr, mean (SD)</th>\n",
       "      <th></th>\n",
       "      <td>0</td>\n",
       "      <td>0.0 (0.1)</td>\n",
       "    </tr>\n",
       "    <tr>\n",
       "      <th>socialMedias_Whatsapp, mean (SD)</th>\n",
       "      <th></th>\n",
       "      <td>0</td>\n",
       "      <td>0.0 (0.0)</td>\n",
       "    </tr>\n",
       "    <tr>\n",
       "      <th>socialMedias_facebook, mean (SD)</th>\n",
       "      <th></th>\n",
       "      <td>0</td>\n",
       "      <td>0.7 (0.4)</td>\n",
       "    </tr>\n",
       "    <tr>\n",
       "      <th>socialMedias_instagram, mean (SD)</th>\n",
       "      <th></th>\n",
       "      <td>0</td>\n",
       "      <td>0.8 (0.4)</td>\n",
       "    </tr>\n",
       "    <tr>\n",
       "      <th>socialMedias_reddit, mean (SD)</th>\n",
       "      <th></th>\n",
       "      <td>0</td>\n",
       "      <td>0.7 (0.5)</td>\n",
       "    </tr>\n",
       "    <tr>\n",
       "      <th>socialMedias_snapchat, mean (SD)</th>\n",
       "      <th></th>\n",
       "      <td>0</td>\n",
       "      <td>0.4 (0.5)</td>\n",
       "    </tr>\n",
       "    <tr>\n",
       "      <th>socialMedias_tiktok, mean (SD)</th>\n",
       "      <th></th>\n",
       "      <td>0</td>\n",
       "      <td>0.4 (0.5)</td>\n",
       "    </tr>\n",
       "    <tr>\n",
       "      <th>socialMedias_twitter, mean (SD)</th>\n",
       "      <th></th>\n",
       "      <td>0</td>\n",
       "      <td>0.5 (0.5)</td>\n",
       "    </tr>\n",
       "  </tbody>\n",
       "</table>\n",
       "</div><br />"
      ],
      "text/plain": [
       "                                                                                                       Missing      Overall\n",
       "n                                                                                                                       101\n",
       "educationLevel, n (%)                                                                 communityCollege       0    14 (13.9)\n",
       "                                                                                      doctorate                     1 (1.0)\n",
       "                                                                                      graduateSchool              14 (13.9)\n",
       "                                                                                      highSchool                  20 (19.8)\n",
       "                                                                                      none                          1 (1.0)\n",
       "                                                                                      undergrad                   51 (50.5)\n",
       "politicalAffiliation, n (%)                                                           centre                 0    13 (12.9)\n",
       "                                                                                      centreLeft                  35 (34.7)\n",
       "                                                                                      centreRight                 12 (11.9)\n",
       "                                                                                      left                        26 (25.7)\n",
       "                                                                                      none                        11 (10.9)\n",
       "                                                                                      right                         4 (4.0)\n",
       "attendsProtests, mean (SD)                                                                                   6    0.1 (0.4)\n",
       "age, mean (SD)                                                                                               0  31.3 (11.3)\n",
       "gender_man, n (%)                                                                     0                      0    53 (52.5)\n",
       "                                                                                      1                           48 (47.5)\n",
       "gender_nonBinary, n (%)                                                               0                      0    99 (98.0)\n",
       "                                                                                      1                             2 (2.0)\n",
       "gender_woman, n (%)                                                                   0                      0    50 (49.5)\n",
       "                                                                                      1                           51 (50.5)\n",
       "affiliatedMovements_ women's equity (not \"Gender\"), mean (SD)                                                0    0.0 (0.0)\n",
       "affiliatedMovements_Animal Welfare, mean (SD)                                                                0    0.0 (0.1)\n",
       "affiliatedMovements_Anti-Extradition Law Amendment Bill Movement, mean (SD)                                  0    0.0 (0.0)\n",
       "affiliatedMovements_Change animal cruelty laws , mean (SD)                                                   0    0.0 (0.1)\n",
       "affiliatedMovements_LGB rights (none of that other alphabet-soup nonsense), mean (SD)                        0    0.0 (0.0)\n",
       "affiliatedMovements_Pro-choice, mean (SD)                                                                    0    0.0 (0.0)\n",
       "affiliatedMovements_Socioeconomic inequalities (healthcare retirement...), mean (SD)                         0    0.0 (0.1)\n",
       "affiliatedMovements_climate, mean (SD)                                                                       0    0.8 (0.4)\n",
       "affiliatedMovements_free apartheid of Palestinians , mean (SD)                                               0    0.0 (0.0)\n",
       "affiliatedMovements_freeSpeech, mean (SD)                                                                    0    0.6 (0.5)\n",
       "affiliatedMovements_gender, n (%)                                                     0                      0    22 (21.8)\n",
       "                                                                                      1                           79 (78.2)\n",
       "affiliatedMovements_indigenous, mean (SD)                                                                    0    0.6 (0.5)\n",
       "affiliatedMovements_labour, mean (SD)                                                                        0    0.6 (0.5)\n",
       "affiliatedMovements_lgbtqa, mean (SD)                                                                        0    0.6 (0.5)\n",
       "affiliatedMovements_none, mean (SD)                                                                          0    0.0 (0.1)\n",
       "affiliatedMovements_race, mean (SD)                                                                          0    0.9 (0.3)\n",
       "affiliatedMovements_religion, mean (SD)                                                                      0    0.4 (0.5)\n",
       "affiliatedMovements_smallGov, mean (SD)                                                                      0    0.2 (0.4)\n",
       "socialMedias_ WhatsApp, mean (SD)                                                                            0    0.0 (0.1)\n",
       "socialMedias_Clubhouse, mean (SD)                                                                            0    0.0 (0.1)\n",
       "socialMedias_Discord, mean (SD)                                                                              0    0.0 (0.0)\n",
       "socialMedias_Linkedin, mean (SD)                                                                             0    0.0 (0.0)\n",
       "socialMedias_None, mean (SD)                                                                                 0    0.0 (0.0)\n",
       "socialMedias_Telegram, mean (SD)                                                                             0    0.0 (0.1)\n",
       "socialMedias_Tumblr, mean (SD)                                                                               0    0.0 (0.1)\n",
       "socialMedias_Whatsapp, mean (SD)                                                                             0    0.0 (0.0)\n",
       "socialMedias_facebook, mean (SD)                                                                             0    0.7 (0.4)\n",
       "socialMedias_instagram, mean (SD)                                                                            0    0.8 (0.4)\n",
       "socialMedias_reddit, mean (SD)                                                                               0    0.7 (0.5)\n",
       "socialMedias_snapchat, mean (SD)                                                                             0    0.4 (0.5)\n",
       "socialMedias_tiktok, mean (SD)                                                                               0    0.4 (0.5)\n",
       "socialMedias_twitter, mean (SD)                                                                              0    0.5 (0.5)"
      ]
     },
     "execution_count": 3,
     "metadata": {},
     "output_type": "execute_result"
    }
   ],
   "source": [
    "from tableone import TableOne\n",
    "categorical = [\"educationLevel\",\"politicalAffiliation\"] + [col for col in participants.columns if \"gender\" in col]\n",
    "table_one = TableOne(participants.reset_index().drop([\"user_id\",\"timeSubmitted\",\"consent\"],\n",
    "                                                     axis=1),\n",
    "                                                     categorical = categorical)\n",
    "table_one"
   ]
  },
  {
   "cell_type": "markdown",
   "id": "certified-continent",
   "metadata": {},
   "source": [
    "### Experiment descriptive statistics"
   ]
  },
  {
   "cell_type": "code",
   "execution_count": 4,
   "id": "focused-inspiration",
   "metadata": {},
   "outputs": [
    {
     "name": "stderr",
     "output_type": "stream",
     "text": [
      "/Users/cameron/.local/share/virtualenvs/code-3gDjSy3u/lib/python3.9/site-packages/ipykernel/ipkernel.py:283: DeprecationWarning: `should_run_async` will not call `transform_cell` automatically in the future. Please pass the result to `transformed_cell` argument and any exception that happen during thetransform in `preprocessing_exc_tuple` in IPython 7.17 and above.\n",
      "  and should_run_async(code)\n"
     ]
    },
    {
     "data": {
      "text/html": [
       "<div>\n",
       "<style scoped>\n",
       "    .dataframe tbody tr th:only-of-type {\n",
       "        vertical-align: middle;\n",
       "    }\n",
       "\n",
       "    .dataframe tbody tr th {\n",
       "        vertical-align: top;\n",
       "    }\n",
       "\n",
       "    .dataframe thead tr th {\n",
       "        text-align: left;\n",
       "    }\n",
       "</style>\n",
       "<table border=\"1\" class=\"dataframe\">\n",
       "  <thead>\n",
       "    <tr>\n",
       "      <th></th>\n",
       "      <th></th>\n",
       "      <th colspan=\"5\" halign=\"left\">Grouped by condition</th>\n",
       "    </tr>\n",
       "    <tr>\n",
       "      <th></th>\n",
       "      <th></th>\n",
       "      <th>Missing</th>\n",
       "      <th>Overall</th>\n",
       "      <th>control</th>\n",
       "      <th>treatment</th>\n",
       "      <th>P-Value</th>\n",
       "    </tr>\n",
       "  </thead>\n",
       "  <tbody>\n",
       "    <tr>\n",
       "      <th>n</th>\n",
       "      <th></th>\n",
       "      <td></td>\n",
       "      <td>5600</td>\n",
       "      <td>3248</td>\n",
       "      <td>2352</td>\n",
       "      <td></td>\n",
       "    </tr>\n",
       "    <tr>\n",
       "      <th>secondsTaken, mean (SD)</th>\n",
       "      <th></th>\n",
       "      <td>0</td>\n",
       "      <td>103.0 (25.6)</td>\n",
       "      <td>98.8 (26.6)</td>\n",
       "      <td>108.8 (22.9)</td>\n",
       "      <td>&lt;0.001</td>\n",
       "    </tr>\n",
       "    <tr>\n",
       "      <th rowspan=\"2\" valign=\"top\">warning, n (%)</th>\n",
       "      <th>False</th>\n",
       "      <td>0</td>\n",
       "      <td>4928 (88.0)</td>\n",
       "      <td>3248 (100.0)</td>\n",
       "      <td>1680 (71.4)</td>\n",
       "      <td>&lt;0.001</td>\n",
       "    </tr>\n",
       "    <tr>\n",
       "      <th>True</th>\n",
       "      <td></td>\n",
       "      <td>672 (12.0)</td>\n",
       "      <td></td>\n",
       "      <td>672 (28.6)</td>\n",
       "      <td></td>\n",
       "    </tr>\n",
       "    <tr>\n",
       "      <th rowspan=\"2\" valign=\"top\">reshared, n (%)</th>\n",
       "      <th>False</th>\n",
       "      <td>0</td>\n",
       "      <td>4747 (84.8)</td>\n",
       "      <td>2780 (85.6)</td>\n",
       "      <td>1967 (83.6)</td>\n",
       "      <td>0.048</td>\n",
       "    </tr>\n",
       "    <tr>\n",
       "      <th>True</th>\n",
       "      <td></td>\n",
       "      <td>853 (15.2)</td>\n",
       "      <td>468 (14.4)</td>\n",
       "      <td>385 (16.4)</td>\n",
       "      <td></td>\n",
       "    </tr>\n",
       "    <tr>\n",
       "      <th rowspan=\"2\" valign=\"top\">clickedWarning, n (%)</th>\n",
       "      <th>False</th>\n",
       "      <td>0</td>\n",
       "      <td>5585 (99.7)</td>\n",
       "      <td>3248 (100.0)</td>\n",
       "      <td>2337 (99.4)</td>\n",
       "      <td>&lt;0.001</td>\n",
       "    </tr>\n",
       "    <tr>\n",
       "      <th>True</th>\n",
       "      <td></td>\n",
       "      <td>15 (0.3)</td>\n",
       "      <td></td>\n",
       "      <td>15 (0.6)</td>\n",
       "      <td></td>\n",
       "    </tr>\n",
       "    <tr>\n",
       "      <th>timestamp, mean (SD)</th>\n",
       "      <th></th>\n",
       "      <td>0</td>\n",
       "      <td>30.1 (17.0)</td>\n",
       "      <td>30.3 (17.0)</td>\n",
       "      <td>29.8 (17.0)</td>\n",
       "      <td>0.335</td>\n",
       "    </tr>\n",
       "    <tr>\n",
       "      <th rowspan=\"2\" valign=\"top\">posterGender, n (%)</th>\n",
       "      <th>female</th>\n",
       "      <td>0</td>\n",
       "      <td>2772 (49.5)</td>\n",
       "      <td>1568 (48.3)</td>\n",
       "      <td>1204 (51.2)</td>\n",
       "      <td>0.034</td>\n",
       "    </tr>\n",
       "    <tr>\n",
       "      <th>male</th>\n",
       "      <td></td>\n",
       "      <td>2828 (50.5)</td>\n",
       "      <td>1680 (51.7)</td>\n",
       "      <td>1148 (48.8)</td>\n",
       "      <td></td>\n",
       "    </tr>\n",
       "  </tbody>\n",
       "</table>\n",
       "</div><br />"
      ],
      "text/plain": [
       "                               Grouped by condition                                                  \n",
       "                                            Missing       Overall       control     treatment P-Value\n",
       "n                                                            5600          3248          2352        \n",
       "secondsTaken, mean (SD)                           0  103.0 (25.6)   98.8 (26.6)  108.8 (22.9)  <0.001\n",
       "warning, n (%)          False                     0   4928 (88.0)  3248 (100.0)   1680 (71.4)  <0.001\n",
       "                        True                           672 (12.0)                  672 (28.6)        \n",
       "reshared, n (%)         False                     0   4747 (84.8)   2780 (85.6)   1967 (83.6)   0.048\n",
       "                        True                           853 (15.2)    468 (14.4)    385 (16.4)        \n",
       "clickedWarning, n (%)   False                     0   5585 (99.7)  3248 (100.0)   2337 (99.4)  <0.001\n",
       "                        True                             15 (0.3)                    15 (0.6)        \n",
       "timestamp, mean (SD)                              0   30.1 (17.0)   30.3 (17.0)   29.8 (17.0)   0.335\n",
       "posterGender, n (%)     female                    0   2772 (49.5)   1568 (48.3)   1204 (51.2)   0.034\n",
       "                        male                          2828 (50.5)   1680 (51.7)   1148 (48.8)        "
      ]
     },
     "execution_count": 4,
     "metadata": {},
     "output_type": "execute_result"
    }
   ],
   "source": [
    "table_two = TableOne(posts.reset_index().drop([\"user_id\",\"timeSubmitted\",\"rumour\",\"evidence\",\"code\",\"posterId\",\"id\"],\n",
    "                                              axis=1),\n",
    "                     groupby=[\"condition\",\"evidence\"],\n",
    "                     pval=True)\n",
    "table_two"
   ]
  },
  {
   "cell_type": "code",
   "execution_count": 5,
   "id": "executed-circulation",
   "metadata": {},
   "outputs": [
    {
     "name": "stderr",
     "output_type": "stream",
     "text": [
      "/Users/cameron/.local/share/virtualenvs/code-3gDjSy3u/lib/python3.9/site-packages/ipykernel/ipkernel.py:283: DeprecationWarning: `should_run_async` will not call `transform_cell` automatically in the future. Please pass the result to `transformed_cell` argument and any exception that happen during thetransform in `preprocessing_exc_tuple` in IPython 7.17 and above.\n",
      "  and should_run_async(code)\n"
     ]
    },
    {
     "data": {
      "text/html": [
       "<div>\n",
       "<style scoped>\n",
       "    .dataframe tbody tr th:only-of-type {\n",
       "        vertical-align: middle;\n",
       "    }\n",
       "\n",
       "    .dataframe tbody tr th {\n",
       "        vertical-align: top;\n",
       "    }\n",
       "\n",
       "    .dataframe thead th {\n",
       "        text-align: right;\n",
       "    }\n",
       "</style>\n",
       "<table border=\"1\" class=\"dataframe\">\n",
       "  <thead>\n",
       "    <tr style=\"text-align: right;\">\n",
       "      <th>condition</th>\n",
       "      <th>Control</th>\n",
       "      <th>Treatment</th>\n",
       "    </tr>\n",
       "    <tr>\n",
       "      <th>evidence</th>\n",
       "      <th></th>\n",
       "      <th></th>\n",
       "    </tr>\n",
       "  </thead>\n",
       "  <tbody>\n",
       "    <tr>\n",
       "      <th>High</th>\n",
       "      <td>0.135088</td>\n",
       "      <td>0.140000</td>\n",
       "    </tr>\n",
       "    <tr>\n",
       "      <th>Low</th>\n",
       "      <td>0.115517</td>\n",
       "      <td>0.095238</td>\n",
       "    </tr>\n",
       "  </tbody>\n",
       "</table>\n",
       "</div>"
      ],
      "text/plain": [
       "condition   Control  Treatment\n",
       "evidence                      \n",
       "High       0.135088   0.140000\n",
       "Low        0.115517   0.095238"
      ]
     },
     "execution_count": 5,
     "metadata": {},
     "output_type": "execute_result"
    }
   ],
   "source": [
    "table_three = pd.pivot_table(reshare_rates,index=\"evidence\",columns=\"condition\",values=\"Affirms\")\n",
    "table_three"
   ]
  },
  {
   "cell_type": "code",
   "execution_count": 6,
   "id": "4b447871-387a-4d18-b73d-422dcabe2587",
   "metadata": {},
   "outputs": [
    {
     "name": "stderr",
     "output_type": "stream",
     "text": [
      "/Users/cameron/.local/share/virtualenvs/code-3gDjSy3u/lib/python3.9/site-packages/ipykernel/ipkernel.py:283: DeprecationWarning: `should_run_async` will not call `transform_cell` automatically in the future. Please pass the result to `transformed_cell` argument and any exception that happen during thetransform in `preprocessing_exc_tuple` in IPython 7.17 and above.\n",
      "  and should_run_async(code)\n"
     ]
    },
    {
     "data": {
      "text/html": [
       "<div>\n",
       "<style scoped>\n",
       "    .dataframe tbody tr th:only-of-type {\n",
       "        vertical-align: middle;\n",
       "    }\n",
       "\n",
       "    .dataframe tbody tr th {\n",
       "        vertical-align: top;\n",
       "    }\n",
       "\n",
       "    .dataframe thead th {\n",
       "        text-align: right;\n",
       "    }\n",
       "</style>\n",
       "<table border=\"1\" class=\"dataframe\">\n",
       "  <thead>\n",
       "    <tr style=\"text-align: right;\">\n",
       "      <th>condition</th>\n",
       "      <th>Control</th>\n",
       "      <th>Treatment</th>\n",
       "    </tr>\n",
       "    <tr>\n",
       "      <th>evidence</th>\n",
       "      <th></th>\n",
       "      <th></th>\n",
       "    </tr>\n",
       "  </thead>\n",
       "  <tbody>\n",
       "    <tr>\n",
       "      <th>High</th>\n",
       "      <td>0.063158</td>\n",
       "      <td>0.090000</td>\n",
       "    </tr>\n",
       "    <tr>\n",
       "      <th>Low</th>\n",
       "      <td>0.220690</td>\n",
       "      <td>0.304762</td>\n",
       "    </tr>\n",
       "  </tbody>\n",
       "</table>\n",
       "</div>"
      ],
      "text/plain": [
       "condition   Control  Treatment\n",
       "evidence                      \n",
       "High       0.063158   0.090000\n",
       "Low        0.220690   0.304762"
      ]
     },
     "execution_count": 6,
     "metadata": {},
     "output_type": "execute_result"
    }
   ],
   "source": [
    "table_four = pd.pivot_table(reshare_rates,index=\"evidence\",columns=\"condition\",values=\"Denies\")\n",
    "table_four"
   ]
  },
  {
   "cell_type": "code",
   "execution_count": 7,
   "id": "d4fd133c-ba8d-4090-ba3e-5b6ed7e5ce6e",
   "metadata": {},
   "outputs": [
    {
     "name": "stderr",
     "output_type": "stream",
     "text": [
      "/Users/cameron/.local/share/virtualenvs/code-3gDjSy3u/lib/python3.9/site-packages/ipykernel/ipkernel.py:283: DeprecationWarning: `should_run_async` will not call `transform_cell` automatically in the future. Please pass the result to `transformed_cell` argument and any exception that happen during thetransform in `preprocessing_exc_tuple` in IPython 7.17 and above.\n",
      "  and should_run_async(code)\n"
     ]
    },
    {
     "data": {
      "text/html": [
       "<div>\n",
       "<style scoped>\n",
       "    .dataframe tbody tr th:only-of-type {\n",
       "        vertical-align: middle;\n",
       "    }\n",
       "\n",
       "    .dataframe tbody tr th {\n",
       "        vertical-align: top;\n",
       "    }\n",
       "\n",
       "    .dataframe thead tr th {\n",
       "        text-align: left;\n",
       "    }\n",
       "</style>\n",
       "<table border=\"1\" class=\"dataframe\">\n",
       "  <thead>\n",
       "    <tr>\n",
       "      <th>condition</th>\n",
       "      <th colspan=\"2\" halign=\"left\">Control</th>\n",
       "      <th colspan=\"2\" halign=\"left\">Treatment</th>\n",
       "    </tr>\n",
       "    <tr>\n",
       "      <th>evidence</th>\n",
       "      <th>High</th>\n",
       "      <th>Low</th>\n",
       "      <th>High</th>\n",
       "      <th>Low</th>\n",
       "    </tr>\n",
       "  </thead>\n",
       "  <tbody>\n",
       "    <tr>\n",
       "      <th>Affirms</th>\n",
       "      <td>0.135088</td>\n",
       "      <td>0.115517</td>\n",
       "      <td>0.14</td>\n",
       "      <td>0.095238</td>\n",
       "    </tr>\n",
       "    <tr>\n",
       "      <th>Denies</th>\n",
       "      <td>0.063158</td>\n",
       "      <td>0.220690</td>\n",
       "      <td>0.09</td>\n",
       "      <td>0.304762</td>\n",
       "    </tr>\n",
       "  </tbody>\n",
       "</table>\n",
       "</div>"
      ],
      "text/plain": [
       "condition   Control           Treatment          \n",
       "evidence       High       Low      High       Low\n",
       "Affirms    0.135088  0.115517      0.14  0.095238\n",
       "Denies     0.063158  0.220690      0.09  0.304762"
      ]
     },
     "execution_count": 7,
     "metadata": {},
     "output_type": "execute_result"
    }
   ],
   "source": [
    "table_five = reshare_rates.groupby([\"condition\",\"evidence\"])[[\"Affirms\",\n",
    "                                                 \"Denies\",\n",
    "                                                 ]].mean().T\n",
    "table_five"
   ]
  },
  {
   "cell_type": "markdown",
   "id": "6a973ab2-6b60-4dfe-99c6-0a519ce5826d",
   "metadata": {},
   "source": [
    "### Other Basic Questions\n",
    "\n",
    "1. How frequently do users click on the warning?\n",
    "\n",
    "#### How frequently do users click on the warning?"
   ]
  },
  {
   "cell_type": "code",
   "execution_count": 8,
   "id": "ee0a4099-eacb-4fca-826f-1eed2fdef4ca",
   "metadata": {},
   "outputs": [
    {
     "name": "stdout",
     "output_type": "stream",
     "text": [
      "20.93% (9/43) of participants clicked a warning\n"
     ]
    },
    {
     "name": "stderr",
     "output_type": "stream",
     "text": [
      "/Users/cameron/.local/share/virtualenvs/code-3gDjSy3u/lib/python3.9/site-packages/ipykernel/ipkernel.py:283: DeprecationWarning: `should_run_async` will not call `transform_cell` automatically in the future. Please pass the result to `transformed_cell` argument and any exception that happen during thetransform in `preprocessing_exc_tuple` in IPython 7.17 and above.\n",
      "  and should_run_async(code)\n"
     ]
    }
   ],
   "source": [
    "treat = posts[(posts[\"condition\"]=='treatment') & posts[\"warning\"]].reset_index()\n",
    "num_treat = len(treat[\"user_id\"].unique())\n",
    "clicked_warning = treat[treat[\"clickedWarning\"]]\n",
    "num_clicked = len(clicked_warning[\"user_id\"].unique())\n",
    "print(f\"{100*(num_clicked/num_treat):.2f}% ({num_clicked}/{num_treat}) of participants clicked a warning\")\n"
   ]
  },
  {
   "cell_type": "code",
   "execution_count": 9,
   "id": "06bbbb6a-399d-47ef-b3a7-ca6db03b192e",
   "metadata": {},
   "outputs": [
    {
     "name": "stdout",
     "output_type": "stream",
     "text": [
      "Credibility indicators were only clicked on 2.23% (15/672) of the time\n"
     ]
    },
    {
     "name": "stderr",
     "output_type": "stream",
     "text": [
      "/Users/cameron/.local/share/virtualenvs/code-3gDjSy3u/lib/python3.9/site-packages/ipykernel/ipkernel.py:283: DeprecationWarning: `should_run_async` will not call `transform_cell` automatically in the future. Please pass the result to `transformed_cell` argument and any exception that happen during thetransform in `preprocessing_exc_tuple` in IPython 7.17 and above.\n",
      "  and should_run_async(code)\n"
     ]
    }
   ],
   "source": [
    "print(f\"Credibility indicators were only clicked on {100*len(clicked_warning)/len(treat):.2f}% ({len(clicked_warning)}/{len(treat)}) of the time\")"
   ]
  },
  {
   "cell_type": "markdown",
   "id": "furnished-exchange",
   "metadata": {},
   "source": [
    "## Sample Visualizations"
   ]
  },
  {
   "cell_type": "markdown",
   "id": "registered-crazy",
   "metadata": {},
   "source": [
    "## Hypotheses\n",
    "\n",
    "\n",
    "The presence of credibility indicators in the system will:\n",
    "\n",
    "- $H_1$: *decrease* the *affirmation rate* for rumours with lower evidence levels.\n",
    "- $H_2$: *increase* the *denial rate* for rumours with lower evidence levels.\n",
    "- $H_3$: *increase* the *affirmation rate* for rumours with higher evidence levels.\n",
    "- $H_4$: *decrease* the *denial rate* for rumours with higher evidence levels.\n",
    "\n",
    "**Some visualizations**"
   ]
  },
  {
   "cell_type": "code",
   "execution_count": 10,
   "id": "434e8606-420b-45e5-842d-9e05ef2a7fd3",
   "metadata": {},
   "outputs": [
    {
     "name": "stderr",
     "output_type": "stream",
     "text": [
      "/Users/cameron/.local/share/virtualenvs/code-3gDjSy3u/lib/python3.9/site-packages/ipykernel/ipkernel.py:283: DeprecationWarning: `should_run_async` will not call `transform_cell` automatically in the future. Please pass the result to `transformed_cell` argument and any exception that happen during thetransform in `preprocessing_exc_tuple` in IPython 7.17 and above.\n",
      "  and should_run_async(code)\n"
     ]
    }
   ],
   "source": [
    "melted = reshare_rates.melt(id_vars=reshare_rates.columns[:-5],\n",
    "                            value_vars=reshare_rates.columns[-5:-1],\n",
    "                            var_name='code', \n",
    "                            value_name='reshared')\n",
    "sorting_dict = {'Control': 0, \n",
    "                'Treatment': 1, \n",
    "                'Affirms': 0,\n",
    "                'Denies': 1,\n",
    "                'Neutral': 2,\n",
    "                'Questions': 3,\n",
    "                'High': 0,\n",
    "                'Low': 1}\n",
    "melted = melted.sort_values(by=['condition','code','evidence'],key=lambda x: x.map(sorting_dict))\n",
    "af_di = melted[melted[\"code\"].isin([\"Affirms\",\"Denies\"])]"
   ]
  },
  {
   "cell_type": "code",
   "execution_count": 11,
   "id": "d826fcab-6b02-42e8-b857-30cf350eeacd",
   "metadata": {},
   "outputs": [
    {
     "name": "stderr",
     "output_type": "stream",
     "text": [
      "/Users/cameron/.local/share/virtualenvs/code-3gDjSy3u/lib/python3.9/site-packages/ipykernel/ipkernel.py:283: DeprecationWarning: `should_run_async` will not call `transform_cell` automatically in the future. Please pass the result to `transformed_cell` argument and any exception that happen during thetransform in `preprocessing_exc_tuple` in IPython 7.17 and above.\n",
      "  and should_run_async(code)\n"
     ]
    },
    {
     "data": {
      "image/png": "[encoded data removed]",
      "text/plain": [
       "<Figure size 854.525x720 with 4 Axes>"
      ]
     },
     "metadata": {},
     "output_type": "display_data"
    }
   ],
   "source": [
    "g = sns.displot(data=af_di, \n",
    "            x=\"reshared\",\n",
    "            hue=\"condition\",\n",
    "            col=\"evidence\",\n",
    "            row=\"code\",\n",
    "            bw_adjust=1.8,\n",
    "            facet_kws={\"margin_titles\":True},\n",
    "            kind=\"kde\")\n",
    "g.set_titles(col_template=\"{col_name}\", row_template=\"{row_name} Rumour\")\n",
    "g.set_axis_labels(x_var=\"Reshare Rate\")\n",
    "sns.despine(left=True)\n",
    "g.fig.savefig(\"../figures/descriptive_analysis/reshare_rate-hist.pdf\")"
   ]
  },
  {
   "cell_type": "code",
   "execution_count": 12,
   "id": "supreme-preparation",
   "metadata": {},
   "outputs": [
    {
     "name": "stderr",
     "output_type": "stream",
     "text": [
      "/Users/cameron/.local/share/virtualenvs/code-3gDjSy3u/lib/python3.9/site-packages/ipykernel/ipkernel.py:283: DeprecationWarning: `should_run_async` will not call `transform_cell` automatically in the future. Please pass the result to `transformed_cell` argument and any exception that happen during thetransform in `preprocessing_exc_tuple` in IPython 7.17 and above.\n",
      "  and should_run_async(code)\n"
     ]
    },
    {
     "data": {
      "image/png": "[encoded data removed]",
      "text/plain": [
       "<Figure size 813.525x360 with 2 Axes>"
      ]
     },
     "metadata": {},
     "output_type": "display_data"
    }
   ],
   "source": [
    "g = sns.catplot(data=af_di, \n",
    "            x=\"condition\",\n",
    "            y=\"reshared\",\n",
    "            hue=\"evidence\",\n",
    "            col=\"code\",\n",
    "            col_wrap=2,\n",
    "            margin_titles=True,\n",
    "            kind=\"point\")\n",
    "g.set_titles(col_template=\"{col_name} Rumour\",)\n",
    "g.set_axis_labels(y_var=\"Reshare Rate\",x_var=\"\")\n",
    "g._legend.set_title(\"Evidence\")\n",
    "sns.despine(left=True)\n",
    "g.savefig(\"../figures/descriptive_analysis/reshare_rate-point_plot.pdf\")"
   ]
  },
  {
   "cell_type": "markdown",
   "id": "487b7a0c-4af4-4aac-9ff6-40fea5025e45",
   "metadata": {},
   "source": [
    "**For seeing how to describe this plot. Look at Pennycook's Nature article.**"
   ]
  },
  {
   "cell_type": "code",
   "execution_count": 13,
   "id": "d5dfedba-2dcd-4c39-b1d2-f8b86e878eb8",
   "metadata": {},
   "outputs": [
    {
     "name": "stderr",
     "output_type": "stream",
     "text": [
      "/Users/cameron/.local/share/virtualenvs/code-3gDjSy3u/lib/python3.9/site-packages/ipykernel/ipkernel.py:283: DeprecationWarning: `should_run_async` will not call `transform_cell` automatically in the future. Please pass the result to `transformed_cell` argument and any exception that happen during thetransform in `preprocessing_exc_tuple` in IPython 7.17 and above.\n",
      "  and should_run_async(code)\n"
     ]
    },
    {
     "data": {
      "image/png": "[encoded data removed]",
      "text/plain": [
       "<Figure size 854.525x360 with 2 Axes>"
      ]
     },
     "metadata": {},
     "output_type": "display_data"
    }
   ],
   "source": [
    "g = sns.catplot(data=af_di, \n",
    "            x=\"evidence\",\n",
    "            y=\"reshared\",\n",
    "            hue=\"condition\",\n",
    "            col=\"code\",\n",
    "            col_wrap=2,\n",
    "            capsize=.1,\n",
    "            margin_titles=True,\n",
    "            kind=\"bar\")\n",
    "g.set_titles(col_template=\"{col_name} Rumour\",)\n",
    "g.set_axis_labels(y_var=\"Reshare Rate\",x_var=\"Rumour Evidence Level\")\n",
    "g._legend.set_title(\"\")\n",
    "sns.despine(left=True)\n",
    "g.savefig(\"../figures/descriptive_analysis/reshare_rate-bar_plot.pdf\")"
   ]
  },
  {
   "cell_type": "code",
   "execution_count": 48,
   "id": "0814a025-63ee-4983-9740-c2606a63dd51",
   "metadata": {},
   "outputs": [
    {
     "name": "stderr",
     "output_type": "stream",
     "text": [
      "/Users/cameron/.local/share/virtualenvs/code-3gDjSy3u/lib/python3.9/site-packages/ipykernel/ipkernel.py:283: DeprecationWarning: `should_run_async` will not call `transform_cell` automatically in the future. Please pass the result to `transformed_cell` argument and any exception that happen during thetransform in `preprocessing_exc_tuple` in IPython 7.17 and above.\n",
      "  and should_run_async(code)\n"
     ]
    },
    {
     "data": {
      "image/png": "[encoded data removed]",
      "text/plain": [
       "<Figure size 432x288 with 1 Axes>"
      ]
     },
     "metadata": {},
     "output_type": "display_data"
    }
   ],
   "source": [
    "post_study[\"condition\"] = np.where(post_study[\"interventionFactor\"] == \"control\",'Control','Treatment')\n",
    "estimates = post_study.melt(id_vars=[\"user_id\",\"condition\"],\n",
    "                            value_vars=[\"veracityR1\",\"veracityR2\"],\n",
    "                            var_name='Rumour', \n",
    "                            value_name='Veracity Estimation')\n",
    "estimates[\"Evidence\"] = np.where(estimates['Rumour'] == 'veracityR1','High','Low')\n",
    "g = sns.barplot(data=estimates, \n",
    "            x=\"Evidence\",\n",
    "            y=\"Veracity Estimation\",\n",
    "            hue=\"condition\",\n",
    "            capsize=.1)\n",
    "g.set(ylabel=\"Veracity Estimation\",xlabel=\"Rumour Evidence Level\")\n",
    "plt.legend(title='')\n",
    "sns.despine(left=True)"
   ]
  },
  {
   "cell_type": "code",
   "execution_count": 15,
   "id": "29e56d8f-26ad-476e-ae01-b28630b07669",
   "metadata": {},
   "outputs": [
    {
     "name": "stderr",
     "output_type": "stream",
     "text": [
      "/Users/cameron/.local/share/virtualenvs/code-3gDjSy3u/lib/python3.9/site-packages/ipykernel/ipkernel.py:283: DeprecationWarning: `should_run_async` will not call `transform_cell` automatically in the future. Please pass the result to `transformed_cell` argument and any exception that happen during thetransform in `preprocessing_exc_tuple` in IPython 7.17 and above.\n",
      "  and should_run_async(code)\n",
      "<ipython-input-15-825e831a2fab>:1: FutureWarning: This dataframe has a column name that matches the 'value_name' column name of the resulting Dataframe. In the future this will raise an error, please set the 'value_name' parameter of DataFrame.melt to a unique name.\n",
      "  rumour_prop = reshare_rates.melt(id_vars=reshare_rates.columns[:-5],\n"
     ]
    },
    {
     "data": {
      "text/plain": [
       "<matplotlib.legend.Legend at 0x12a196af0>"
      ]
     },
     "execution_count": 15,
     "metadata": {},
     "output_type": "execute_result"
    },
    {
     "data": {
      "image/png": "[encoded data removed]",
      "text/plain": [
       "<Figure size 432x288 with 1 Axes>"
      ]
     },
     "metadata": {},
     "output_type": "display_data"
    }
   ],
   "source": [
    "rumour_prop = reshare_rates.melt(id_vars=reshare_rates.columns[:-5],\n",
    "                            value_vars=\"rumour_proportion\",\n",
    "                            var_name='code', \n",
    "                            value_name='rumour_proportion')\n",
    "g = sns.barplot(data=rumour_prop, \n",
    "            x=\"evidence\",\n",
    "            y=\"rumour_proportion\",\n",
    "            hue=\"condition\",\n",
    "            capsize=.1)\n",
    "g.set(ylabel=\"Reshare Rate\",xlabel=\"Condition\")\n",
    "plt.legend(title='')"
   ]
  },
  {
   "cell_type": "markdown",
   "id": "digital-insert",
   "metadata": {},
   "source": [
    "**DISREGARD FROM HERE ON OUT**\n",
    "\n",
    "*old statistical analyses that need to be refactored and moved to the system analysis script*"
   ]
  },
  {
   "cell_type": "markdown",
   "id": "talented-windows",
   "metadata": {},
   "source": [
    "### $H_1$"
   ]
  },
  {
   "cell_type": "code",
   "execution_count": 16,
   "id": "middle-angola",
   "metadata": {},
   "outputs": [
    {
     "name": "stderr",
     "output_type": "stream",
     "text": [
      "/Users/cameron/.local/share/virtualenvs/code-3gDjSy3u/lib/python3.9/site-packages/ipykernel/ipkernel.py:283: DeprecationWarning: `should_run_async` will not call `transform_cell` automatically in the future. Please pass the result to `transformed_cell` argument and any exception that happen during thetransform in `preprocessing_exc_tuple` in IPython 7.17 and above.\n",
      "  and should_run_async(code)\n",
      "/Users/cameron/.local/share/virtualenvs/code-3gDjSy3u/lib/python3.9/site-packages/patsy/constraint.py:13: DeprecationWarning: Using or importing the ABCs from 'collections' instead of from 'collections.abc' is deprecated since Python 3.3, and in 3.10 it will stop working\n",
      "  from collections import Mapping\n"
     ]
    },
    {
     "data": {
      "text/html": [
       "<table class=\"simpletable\">\n",
       "<caption>OLS Regression Results</caption>\n",
       "<tr>\n",
       "  <th>Dep. Variable:</th>         <td>Affirms</td>     <th>  R-squared:         </th> <td>   0.010</td>\n",
       "</tr>\n",
       "<tr>\n",
       "  <th>Model:</th>                   <td>OLS</td>       <th>  Adj. R-squared:    </th> <td>  -0.005</td>\n",
       "</tr>\n",
       "<tr>\n",
       "  <th>Method:</th>             <td>Least Squares</td>  <th>  F-statistic:       </th> <td>  0.6806</td>\n",
       "</tr>\n",
       "<tr>\n",
       "  <th>Date:</th>             <td>Sat, 05 Jun 2021</td> <th>  Prob (F-statistic):</th>  <td> 0.565</td> \n",
       "</tr>\n",
       "<tr>\n",
       "  <th>Time:</th>                 <td>12:40:07</td>     <th>  Log-Likelihood:    </th> <td>  78.077</td>\n",
       "</tr>\n",
       "<tr>\n",
       "  <th>No. Observations:</th>      <td>   197</td>      <th>  AIC:               </th> <td>  -148.2</td>\n",
       "</tr>\n",
       "<tr>\n",
       "  <th>Df Residuals:</th>          <td>   193</td>      <th>  BIC:               </th> <td>  -135.0</td>\n",
       "</tr>\n",
       "<tr>\n",
       "  <th>Df Model:</th>              <td>     3</td>      <th>                     </th>     <td> </td>   \n",
       "</tr>\n",
       "<tr>\n",
       "  <th>Covariance Type:</th>      <td>nonrobust</td>    <th>                     </th>     <td> </td>   \n",
       "</tr>\n",
       "</table>\n",
       "<table class=\"simpletable\">\n",
       "<tr>\n",
       "                        <td></td>                          <th>coef</th>     <th>std err</th>      <th>t</th>      <th>P>|t|</th>  <th>[0.025</th>    <th>0.975]</th>  \n",
       "</tr>\n",
       "<tr>\n",
       "  <th>Intercept</th>                                    <td>    0.1351</td> <td>    0.022</td> <td>    6.201</td> <td> 0.000</td> <td>    0.092</td> <td>    0.178</td>\n",
       "</tr>\n",
       "<tr>\n",
       "  <th>C(condition)[T.Treatment]</th>                    <td>    0.0049</td> <td>    0.034</td> <td>    0.145</td> <td> 0.885</td> <td>   -0.062</td> <td>    0.072</td>\n",
       "</tr>\n",
       "<tr>\n",
       "  <th>C(evidence)[T.Low]</th>                           <td>   -0.0196</td> <td>    0.031</td> <td>   -0.638</td> <td> 0.524</td> <td>   -0.080</td> <td>    0.041</td>\n",
       "</tr>\n",
       "<tr>\n",
       "  <th>C(condition)[T.Treatment]:C(evidence)[T.Low]</th> <td>   -0.0252</td> <td>    0.048</td> <td>   -0.530</td> <td> 0.597</td> <td>   -0.119</td> <td>    0.069</td>\n",
       "</tr>\n",
       "</table>\n",
       "<table class=\"simpletable\">\n",
       "<tr>\n",
       "  <th>Omnibus:</th>       <td>49.630</td> <th>  Durbin-Watson:     </th> <td>   1.366</td>\n",
       "</tr>\n",
       "<tr>\n",
       "  <th>Prob(Omnibus):</th> <td> 0.000</td> <th>  Jarque-Bera (JB):  </th> <td>  78.732</td>\n",
       "</tr>\n",
       "<tr>\n",
       "  <th>Skew:</th>          <td> 1.421</td> <th>  Prob(JB):          </th> <td>8.01e-18</td>\n",
       "</tr>\n",
       "<tr>\n",
       "  <th>Kurtosis:</th>      <td> 4.229</td> <th>  Cond. No.          </th> <td>    6.51</td>\n",
       "</tr>\n",
       "</table><br/><br/>Notes:<br/>[1] Standard Errors assume that the covariance matrix of the errors is correctly specified."
      ],
      "text/plain": [
       "<class 'statsmodels.iolib.summary.Summary'>\n",
       "\"\"\"\n",
       "                            OLS Regression Results                            \n",
       "==============================================================================\n",
       "Dep. Variable:                Affirms   R-squared:                       0.010\n",
       "Model:                            OLS   Adj. R-squared:                 -0.005\n",
       "Method:                 Least Squares   F-statistic:                    0.6806\n",
       "Date:                Sat, 05 Jun 2021   Prob (F-statistic):              0.565\n",
       "Time:                        12:40:07   Log-Likelihood:                 78.077\n",
       "No. Observations:                 197   AIC:                            -148.2\n",
       "Df Residuals:                     193   BIC:                            -135.0\n",
       "Df Model:                           3                                         \n",
       "Covariance Type:            nonrobust                                         \n",
       "================================================================================================================\n",
       "                                                   coef    std err          t      P>|t|      [0.025      0.975]\n",
       "----------------------------------------------------------------------------------------------------------------\n",
       "Intercept                                        0.1351      0.022      6.201      0.000       0.092       0.178\n",
       "C(condition)[T.Treatment]                        0.0049      0.034      0.145      0.885      -0.062       0.072\n",
       "C(evidence)[T.Low]                              -0.0196      0.031     -0.638      0.524      -0.080       0.041\n",
       "C(condition)[T.Treatment]:C(evidence)[T.Low]    -0.0252      0.048     -0.530      0.597      -0.119       0.069\n",
       "==============================================================================\n",
       "Omnibus:                       49.630   Durbin-Watson:                   1.366\n",
       "Prob(Omnibus):                  0.000   Jarque-Bera (JB):               78.732\n",
       "Skew:                           1.421   Prob(JB):                     8.01e-18\n",
       "Kurtosis:                       4.229   Cond. No.                         6.51\n",
       "==============================================================================\n",
       "\n",
       "Notes:\n",
       "[1] Standard Errors assume that the covariance matrix of the errors is correctly specified.\n",
       "\"\"\""
      ]
     },
     "execution_count": 16,
     "metadata": {},
     "output_type": "execute_result"
    }
   ],
   "source": [
    "import statsmodels.api as sm\n",
    "import statsmodels.formula.api as smf\n",
    "# Add a random effect for the participant ID since there are repeated measures\n",
    "\n",
    "md = smf.ols(f\"Affirms ~ C(condition)*C(evidence)\",#\" + (1 | user_id) + age + C(educationLevel) + {affil_columns} + {sm_cols} + {gender_cols} + (1|PROLIFIC_ID)\",\n",
    "             reshare_rates).fit()\n",
    "md.summary()"
   ]
  },
  {
   "cell_type": "code",
   "execution_count": 17,
   "id": "fatal-reservoir",
   "metadata": {},
   "outputs": [
    {
     "name": "stderr",
     "output_type": "stream",
     "text": [
      "/Users/cameron/.local/share/virtualenvs/code-3gDjSy3u/lib/python3.9/site-packages/ipykernel/ipkernel.py:283: DeprecationWarning: `should_run_async` will not call `transform_cell` automatically in the future. Please pass the result to `transformed_cell` argument and any exception that happen during thetransform in `preprocessing_exc_tuple` in IPython 7.17 and above.\n",
      "  and should_run_async(code)\n"
     ]
    },
    {
     "data": {
      "text/html": [
       "<div>\n",
       "<style scoped>\n",
       "    .dataframe tbody tr th:only-of-type {\n",
       "        vertical-align: middle;\n",
       "    }\n",
       "\n",
       "    .dataframe tbody tr th {\n",
       "        vertical-align: top;\n",
       "    }\n",
       "\n",
       "    .dataframe thead th {\n",
       "        text-align: right;\n",
       "    }\n",
       "</style>\n",
       "<table border=\"1\" class=\"dataframe\">\n",
       "  <thead>\n",
       "    <tr style=\"text-align: right;\">\n",
       "      <th></th>\n",
       "      <th>sum_sq</th>\n",
       "      <th>df</th>\n",
       "      <th>F</th>\n",
       "      <th>PR(&gt;F)</th>\n",
       "    </tr>\n",
       "  </thead>\n",
       "  <tbody>\n",
       "    <tr>\n",
       "      <th>C(condition)</th>\n",
       "      <td>0.002994</td>\n",
       "      <td>1.0</td>\n",
       "      <td>0.110664</td>\n",
       "      <td>0.739750</td>\n",
       "    </tr>\n",
       "    <tr>\n",
       "      <th>C(evidence)</th>\n",
       "      <td>0.044469</td>\n",
       "      <td>1.0</td>\n",
       "      <td>1.643874</td>\n",
       "      <td>0.201333</td>\n",
       "    </tr>\n",
       "    <tr>\n",
       "      <th>C(condition):C(evidence)</th>\n",
       "      <td>0.007591</td>\n",
       "      <td>1.0</td>\n",
       "      <td>0.280632</td>\n",
       "      <td>0.596896</td>\n",
       "    </tr>\n",
       "    <tr>\n",
       "      <th>Residual</th>\n",
       "      <td>5.220907</td>\n",
       "      <td>193.0</td>\n",
       "      <td>NaN</td>\n",
       "      <td>NaN</td>\n",
       "    </tr>\n",
       "  </tbody>\n",
       "</table>\n",
       "</div>"
      ],
      "text/plain": [
       "                            sum_sq     df         F    PR(>F)\n",
       "C(condition)              0.002994    1.0  0.110664  0.739750\n",
       "C(evidence)               0.044469    1.0  1.643874  0.201333\n",
       "C(condition):C(evidence)  0.007591    1.0  0.280632  0.596896\n",
       "Residual                  5.220907  193.0       NaN       NaN"
      ]
     },
     "execution_count": 17,
     "metadata": {},
     "output_type": "execute_result"
    }
   ],
   "source": [
    "table = sm.stats.anova_lm(md, typ=2) # Type 2 Anova DataFrame\n",
    "table"
   ]
  },
  {
   "cell_type": "code",
   "execution_count": 18,
   "id": "herbal-walker",
   "metadata": {},
   "outputs": [
    {
     "name": "stderr",
     "output_type": "stream",
     "text": [
      "/Users/cameron/.local/share/virtualenvs/code-3gDjSy3u/lib/python3.9/site-packages/ipykernel/ipkernel.py:283: DeprecationWarning: `should_run_async` will not call `transform_cell` automatically in the future. Please pass the result to `transformed_cell` argument and any exception that happen during thetransform in `preprocessing_exc_tuple` in IPython 7.17 and above.\n",
      "  and should_run_async(code)\n"
     ]
    },
    {
     "data": {
      "text/html": [
       "<table class=\"simpletable\">\n",
       "<tr>\n",
       "       <td>Model:</td>       <td>MixedLM</td> <td>Dependent Variable:</td> <td>Affirms</td>\n",
       "</tr>\n",
       "<tr>\n",
       "  <td>No. Observations:</td>   <td>197</td>         <td>Method:</td>        <td>REML</td>  \n",
       "</tr>\n",
       "<tr>\n",
       "     <td>No. Groups:</td>      <td>100</td>         <td>Scale:</td>        <td>0.0126</td> \n",
       "</tr>\n",
       "<tr>\n",
       "  <td>Min. group size:</td>     <td>1</td>      <td>Log-Likelihood:</td>   <td>82.7476</td>\n",
       "</tr>\n",
       "<tr>\n",
       "  <td>Max. group size:</td>     <td>2</td>        <td>Converged:</td>        <td>Yes</td>  \n",
       "</tr>\n",
       "<tr>\n",
       "  <td>Mean group size:</td>    <td>2.0</td>            <td></td>              <td></td>    \n",
       "</tr>\n",
       "</table>\n",
       "<table class=\"simpletable\">\n",
       "<tr>\n",
       "                        <td></td>                        <th>Coef.</th> <th>Std.Err.</th>    <th>z</th>   <th>P>|z|</th> <th>[0.025</th> <th>0.975]</th>\n",
       "</tr>\n",
       "<tr>\n",
       "  <th>Intercept</th>                                     <td>0.135</td>   <td>0.022</td>   <td>6.216</td> <td>0.000</td>  <td>0.092</td>  <td>0.177</td>\n",
       "</tr>\n",
       "<tr>\n",
       "  <th>C(condition)[T.Treatment]</th>                     <td>0.008</td>   <td>0.034</td>   <td>0.233</td> <td>0.816</td> <td>-0.058</td>  <td>0.074</td>\n",
       "</tr>\n",
       "<tr>\n",
       "  <th>C(evidence)[T.Low]</th>                           <td>-0.019</td>   <td>0.021</td>  <td>-0.924</td> <td>0.355</td> <td>-0.061</td>  <td>0.022</td>\n",
       "</tr>\n",
       "<tr>\n",
       "  <th>C(condition)[T.Treatment]:C(evidence)[T.Low]</th> <td>-0.028</td>   <td>0.033</td>  <td>-0.861</td> <td>0.389</td> <td>-0.092</td>  <td>0.036</td>\n",
       "</tr>\n",
       "<tr>\n",
       "  <th>Group Var</th>                                     <td>0.014</td>   <td>0.037</td>     <td></td>      <td></td>       <td></td>       <td></td>   \n",
       "</tr>\n",
       "</table>"
      ],
      "text/plain": [
       "<class 'statsmodels.iolib.summary2.Summary'>\n",
       "\"\"\"\n",
       "                         Mixed Linear Model Regression Results\n",
       "=======================================================================================\n",
       "Model:                        MixedLM            Dependent Variable:            Affirms\n",
       "No. Observations:             197                Method:                        REML   \n",
       "No. Groups:                   100                Scale:                         0.0126 \n",
       "Min. group size:              1                  Log-Likelihood:                82.7476\n",
       "Max. group size:              2                  Converged:                     Yes    \n",
       "Mean group size:              2.0                                                      \n",
       "---------------------------------------------------------------------------------------\n",
       "                                             Coef.  Std.Err.   z    P>|z| [0.025 0.975]\n",
       "---------------------------------------------------------------------------------------\n",
       "Intercept                                     0.135    0.022  6.216 0.000  0.092  0.177\n",
       "C(condition)[T.Treatment]                     0.008    0.034  0.233 0.816 -0.058  0.074\n",
       "C(evidence)[T.Low]                           -0.019    0.021 -0.924 0.355 -0.061  0.022\n",
       "C(condition)[T.Treatment]:C(evidence)[T.Low] -0.028    0.033 -0.861 0.389 -0.092  0.036\n",
       "Group Var                                     0.014    0.037                           \n",
       "=======================================================================================\n",
       "\n",
       "\"\"\""
      ]
     },
     "execution_count": 18,
     "metadata": {},
     "output_type": "execute_result"
    }
   ],
   "source": [
    "md2 = smf.mixedlm(f\"Affirms ~ C(condition)*C(evidence)\",#\"+ age + C(educationLevel) + {affil_columns} + {sm_cols} + {gender_cols} + (1|PROLIFIC_ID)\",\n",
    "                     reshare_rates,\n",
    "                     groups=reshare_rates[\"user_id\"]).fit()\n",
    "md2.summary()"
   ]
  },
  {
   "cell_type": "code",
   "execution_count": null,
   "id": "7ad29522-ac87-443d-8bc2-febc65efbb2d",
   "metadata": {},
   "outputs": [],
   "source": []
  }
 ],
 "metadata": {
  "kernelspec": {
   "display_name": "Python (Thesis)",
   "language": "python",
   "name": "python3"
  },
  "language_info": {
   "codemirror_mode": {
    "name": "ipython",
    "version": 3
   },
   "file_extension": ".py",
   "mimetype": "text/x-python",
   "name": "python",
   "nbconvert_exporter": "python",
   "pygments_lexer": "ipython3",
   "version": "3.9.0"
  }
 },
 "nbformat": 4,
 "nbformat_minor": 5
}
