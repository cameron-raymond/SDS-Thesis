{
 "cells": [
  {
   "cell_type": "markdown",
   "id": "engaged-match",
   "metadata": {},
   "source": [
    "# Descriptive Analyses\n",
    "\n",
    "Intro tables to give context to the data"
   ]
  },
  {
   "cell_type": "code",
   "execution_count": 1,
   "id": "ddda4bc5-fcbd-4b7f-b18d-548ee9e4574a",
   "metadata": {},
   "outputs": [],
   "source": [
    "import pandas as pd\n",
    "import numpy as np\n",
    "import seaborn as sns\n",
    "import matplotlib.pyplot as plt\n",
    "\n",
    "sns.set_style(\"whitegrid\",{'axes.spines.left' : False,\n",
    "                           'axes.spines.right': False,\n",
    "                           'axes.spines.top': False,\n",
    "                           'grid.linestyle': ':'})\n",
    "sns.set_context(\"talk\")\n",
    "\n",
    "STUDY_ID =\"60b37265a9f60881975de69e\"\n"
   ]
  },
  {
   "cell_type": "code",
   "execution_count": 2,
   "id": "a20278f1-9825-4845-8d12-edaed8f297ef",
   "metadata": {},
   "outputs": [
    {
     "name": "stdout",
     "output_type": "stream",
     "text": [
      "Shape: 202x54\n"
     ]
    }
   ],
   "source": [
    "participants = pd.read_csv(f\"../data/processed/{STUDY_ID}-participants.csv\")\n",
    "posts = pd.read_csv(f\"../data/processed/{STUDY_ID}-rumour-results.csv\")\n",
    "reshare_rates = pd.read_csv(f\"../data/processed/{STUDY_ID}-reshare_rates.csv\")\n",
    "post_study = pd.read_csv(f\"../data/processed/{STUDY_ID}-post-study-responses.csv\")\n",
    "print(\"Shape: {}x{}\".format(*reshare_rates.shape))"
   ]
  },
  {
   "cell_type": "markdown",
   "id": "automated-washington",
   "metadata": {},
   "source": [
    "## Initial Tables\n",
    "\n",
    "1. Participant statistics\n",
    "2. Experiment descriptive statistics\n",
    "\n",
    "### Participant statistics"
   ]
  },
  {
   "cell_type": "code",
   "execution_count": 3,
   "id": "returning-limitation",
   "metadata": {},
   "outputs": [
    {
     "data": {
      "text/html": [
       "<div>\n",
       "<style scoped>\n",
       "    .dataframe tbody tr th:only-of-type {\n",
       "        vertical-align: middle;\n",
       "    }\n",
       "\n",
       "    .dataframe tbody tr th {\n",
       "        vertical-align: top;\n",
       "    }\n",
       "\n",
       "    .dataframe thead th {\n",
       "        text-align: right;\n",
       "    }\n",
       "</style>\n",
       "<table border=\"1\" class=\"dataframe\">\n",
       "  <thead>\n",
       "    <tr style=\"text-align: right;\">\n",
       "      <th></th>\n",
       "      <th></th>\n",
       "      <th>Missing</th>\n",
       "      <th>Overall</th>\n",
       "    </tr>\n",
       "  </thead>\n",
       "  <tbody>\n",
       "    <tr>\n",
       "      <th>n</th>\n",
       "      <th></th>\n",
       "      <td></td>\n",
       "      <td>124</td>\n",
       "    </tr>\n",
       "    <tr>\n",
       "      <th>index, mean (SD)</th>\n",
       "      <th></th>\n",
       "      <td>0</td>\n",
       "      <td>61.5 (35.9)</td>\n",
       "    </tr>\n",
       "    <tr>\n",
       "      <th rowspan=\"3\" valign=\"top\">educationLevel, n (%)</th>\n",
       "      <th>communityCollege</th>\n",
       "      <td>0</td>\n",
       "      <td>17 (13.7)</td>\n",
       "    </tr>\n",
       "    <tr>\n",
       "      <th>doctorate</th>\n",
       "      <td></td>\n",
       "      <td>2 (1.6)</td>\n",
       "    </tr>\n",
       "    <tr>\n",
       "      <th>graduateSchool</th>\n",
       "      <td></td>\n",
       "      <td>20 (16.1)</td>\n",
       "    </tr>\n",
       "    <tr>\n",
       "      <th>...</th>\n",
       "      <th>...</th>\n",
       "      <td>...</td>\n",
       "      <td>...</td>\n",
       "    </tr>\n",
       "    <tr>\n",
       "      <th>socialMedias_reddit, mean (SD)</th>\n",
       "      <th></th>\n",
       "      <td>0</td>\n",
       "      <td>0.7 (0.5)</td>\n",
       "    </tr>\n",
       "    <tr>\n",
       "      <th>socialMedias_snapchat, mean (SD)</th>\n",
       "      <th></th>\n",
       "      <td>0</td>\n",
       "      <td>0.4 (0.5)</td>\n",
       "    </tr>\n",
       "    <tr>\n",
       "      <th>socialMedias_tiktok, mean (SD)</th>\n",
       "      <th></th>\n",
       "      <td>0</td>\n",
       "      <td>0.4 (0.5)</td>\n",
       "    </tr>\n",
       "    <tr>\n",
       "      <th>socialMedias_tumblr, mean (SD)</th>\n",
       "      <th></th>\n",
       "      <td>0</td>\n",
       "      <td>0.0 (0.0)</td>\n",
       "    </tr>\n",
       "    <tr>\n",
       "      <th>socialMedias_twitter, mean (SD)</th>\n",
       "      <th></th>\n",
       "      <td>0</td>\n",
       "      <td>0.5 (0.5)</td>\n",
       "    </tr>\n",
       "  </tbody>\n",
       "</table>\n",
       "<p>61 rows × 2 columns</p>\n",
       "</div><br />"
      ],
      "text/plain": [
       "                                                                                                       Missing      Overall\n",
       "n                                                                                                                       124\n",
       "index, mean (SD)                                                                                             0  61.5 (35.9)\n",
       "educationLevel, n (%)                                                                 communityCollege       0    17 (13.7)\n",
       "                                                                                      doctorate                     2 (1.6)\n",
       "                                                                                      graduateSchool              20 (16.1)\n",
       "                                                                                      highSchool                  25 (20.2)\n",
       "                                                                                      none                          2 (1.6)\n",
       "                                                                                      undergrad                   58 (46.8)\n",
       "politicalAffiliation, n (%)                                                           centre                 0    16 (12.9)\n",
       "                                                                                      centreLeft                  39 (31.5)\n",
       "                                                                                      centreRight                 14 (11.3)\n",
       "                                                                                      left                        33 (26.6)\n",
       "                                                                                      none                        14 (11.3)\n",
       "                                                                                      right                         8 (6.5)\n",
       "attendsProtests, n (%)                                                                False                  8    97 (83.6)\n",
       "                                                                                      True                        19 (16.4)\n",
       "age, mean (SD)                                                                                               0  32.0 (12.4)\n",
       "gender_man, n (%)                                                                     0                      0    69 (55.6)\n",
       "                                                                                      1                           55 (44.4)\n",
       "gender_nonBinary, n (%)                                                               0                      0   120 (96.8)\n",
       "                                                                                      1                             4 (3.2)\n",
       "gender_woman, n (%)                                                                   0                      0    59 (47.6)\n",
       "                                                                                      1                           65 (52.4)\n",
       "affiliatedMovements_ Land Back, mean (SD)                                                                    0    0.0 (0.0)\n",
       "affiliatedMovements_ women's equity (not \"Gender\"), mean (SD)                                                0    0.0 (0.0)\n",
       "affiliatedMovements_Animal Welfare, mean (SD)                                                                0    0.0 (0.1)\n",
       "affiliatedMovements_Animal rights, mean (SD)                                                                 0    0.0 (0.1)\n",
       "affiliatedMovements_Anti-Extradition Law Amendment Bill Movement, mean (SD)                                  0    0.0 (0.0)\n",
       "affiliatedMovements_Change animal cruelty laws , mean (SD)                                                   0    0.0 (0.1)\n",
       "affiliatedMovements_Environmental, mean (SD)                                                                 0    0.0 (0.0)\n",
       "affiliatedMovements_LGB rights (none of that other alphabet-soup nonsense), mean (SD)                        0    0.0 (0.0)\n",
       "affiliatedMovements_Pro-choice, mean (SD)                                                                    0    0.0 (0.0)\n",
       "affiliatedMovements_Socioeconomic inequalities (healthcare retirement...), mean (SD)                         0    0.0 (0.1)\n",
       "affiliatedMovements_Stop AAPI Hate, mean (SD)                                                                0    0.0 (0.0)\n",
       "affiliatedMovements_climate, mean (SD)                                                                       0    0.8 (0.4)\n",
       "affiliatedMovements_free apartheid of Palestinians , mean (SD)                                               0    0.0 (0.0)\n",
       "affiliatedMovements_freeSpeech, mean (SD)                                                                    0    0.6 (0.5)\n",
       "affiliatedMovements_gender, n (%)                                                     0                      0    32 (25.8)\n",
       "                                                                                      1                           92 (74.2)\n",
       "affiliatedMovements_indigenous, mean (SD)                                                                    0    0.5 (0.5)\n",
       "affiliatedMovements_labour, mean (SD)                                                                        0    0.5 (0.5)\n",
       "affiliatedMovements_lgbtqa, mean (SD)                                                                        0    0.6 (0.5)\n",
       "affiliatedMovements_none, mean (SD)                                                                          0    0.0 (0.1)\n",
       "affiliatedMovements_race, mean (SD)                                                                          0    0.8 (0.4)\n",
       "affiliatedMovements_religion, mean (SD)                                                                      0    0.4 (0.5)\n",
       "affiliatedMovements_smallGov, mean (SD)                                                                      0    0.2 (0.4)\n",
       "socialMedias_ WhatsApp, mean (SD)                                                                            0    0.0 (0.1)\n",
       "socialMedias_Clubhouse, mean (SD)                                                                            0    0.0 (0.1)\n",
       "socialMedias_Discord, mean (SD)                                                                              0    0.0 (0.0)\n",
       "socialMedias_Linkedin, mean (SD)                                                                             0    0.0 (0.0)\n",
       "socialMedias_None, mean (SD)                                                                                 0    0.0 (0.0)\n",
       "socialMedias_Telegram, mean (SD)                                                                             0    0.0 (0.1)\n",
       "socialMedias_Tumblr, mean (SD)                                                                               0    0.0 (0.1)\n",
       "socialMedias_Whatsapp, mean (SD)                                                                             0    0.0 (0.0)\n",
       "socialMedias_facebook, mean (SD)                                                                             0    0.8 (0.4)\n",
       "socialMedias_instagram, mean (SD)                                                                            0    0.8 (0.4)\n",
       "socialMedias_reddit, mean (SD)                                                                               0    0.7 (0.5)\n",
       "socialMedias_snapchat, mean (SD)                                                                             0    0.4 (0.5)\n",
       "socialMedias_tiktok, mean (SD)                                                                               0    0.4 (0.5)\n",
       "socialMedias_tumblr, mean (SD)                                                                               0    0.0 (0.0)\n",
       "socialMedias_twitter, mean (SD)                                                                              0    0.5 (0.5)"
      ]
     },
     "execution_count": 3,
     "metadata": {},
     "output_type": "execute_result"
    }
   ],
   "source": [
    "from tableone import TableOne\n",
    "categorical = [\"educationLevel\",\"politicalAffiliation\",\"attendsProtests\"] + [col for col in participants.columns if \"gender\" in col]\n",
    "table_one = TableOne(participants.reset_index().drop([\"user_id\",\"timeSubmitted\",\"consent\"],\n",
    "                                                     axis=1),\n",
    "                                                     categorical = categorical)\n",
    "table_one"
   ]
  },
  {
   "cell_type": "markdown",
   "id": "certified-continent",
   "metadata": {},
   "source": [
    "### Experiment descriptive statistics"
   ]
  },
  {
   "cell_type": "code",
   "execution_count": 4,
   "id": "focused-inspiration",
   "metadata": {},
   "outputs": [
    {
     "name": "stderr",
     "output_type": "stream",
     "text": [
      "/Users/cameron/.local/share/virtualenvs/code-3gDjSy3u/lib/python3.9/site-packages/ipykernel/ipkernel.py:283: DeprecationWarning: `should_run_async` will not call `transform_cell` automatically in the future. Please pass the result to `transformed_cell` argument and any exception that happen during thetransform in `preprocessing_exc_tuple` in IPython 7.17 and above.\n",
      "  and should_run_async(code)\n"
     ]
    },
    {
     "data": {
      "text/html": [
       "<div>\n",
       "<style scoped>\n",
       "    .dataframe tbody tr th:only-of-type {\n",
       "        vertical-align: middle;\n",
       "    }\n",
       "\n",
       "    .dataframe tbody tr th {\n",
       "        vertical-align: top;\n",
       "    }\n",
       "\n",
       "    .dataframe thead tr th {\n",
       "        text-align: left;\n",
       "    }\n",
       "</style>\n",
       "<table border=\"1\" class=\"dataframe\">\n",
       "  <thead>\n",
       "    <tr>\n",
       "      <th></th>\n",
       "      <th></th>\n",
       "      <th colspan=\"5\" halign=\"left\">Grouped by condition</th>\n",
       "    </tr>\n",
       "    <tr>\n",
       "      <th></th>\n",
       "      <th></th>\n",
       "      <th>Missing</th>\n",
       "      <th>Overall</th>\n",
       "      <th>control</th>\n",
       "      <th>treatment</th>\n",
       "      <th>P-Value</th>\n",
       "    </tr>\n",
       "  </thead>\n",
       "  <tbody>\n",
       "    <tr>\n",
       "      <th>n</th>\n",
       "      <th></th>\n",
       "      <td></td>\n",
       "      <td>6888</td>\n",
       "      <td>3696</td>\n",
       "      <td>3192</td>\n",
       "      <td></td>\n",
       "    </tr>\n",
       "    <tr>\n",
       "      <th>secondsTaken, mean (SD)</th>\n",
       "      <th></th>\n",
       "      <td>0</td>\n",
       "      <td>102.1 (26.3)</td>\n",
       "      <td>99.5 (26.5)</td>\n",
       "      <td>105.2 (25.7)</td>\n",
       "      <td>&lt;0.001</td>\n",
       "    </tr>\n",
       "    <tr>\n",
       "      <th rowspan=\"2\" valign=\"top\">warning, n (%)</th>\n",
       "      <th>False</th>\n",
       "      <td>0</td>\n",
       "      <td>5976 (86.8)</td>\n",
       "      <td>3696 (100.0)</td>\n",
       "      <td>2280 (71.4)</td>\n",
       "      <td>&lt;0.001</td>\n",
       "    </tr>\n",
       "    <tr>\n",
       "      <th>True</th>\n",
       "      <td></td>\n",
       "      <td>912 (13.2)</td>\n",
       "      <td></td>\n",
       "      <td>912 (28.6)</td>\n",
       "      <td></td>\n",
       "    </tr>\n",
       "    <tr>\n",
       "      <th rowspan=\"2\" valign=\"top\">reshared, n (%)</th>\n",
       "      <th>False</th>\n",
       "      <td>0</td>\n",
       "      <td>5772 (83.8)</td>\n",
       "      <td>3161 (85.5)</td>\n",
       "      <td>2611 (81.8)</td>\n",
       "      <td>&lt;0.001</td>\n",
       "    </tr>\n",
       "    <tr>\n",
       "      <th>True</th>\n",
       "      <td></td>\n",
       "      <td>1116 (16.2)</td>\n",
       "      <td>535 (14.5)</td>\n",
       "      <td>581 (18.2)</td>\n",
       "      <td></td>\n",
       "    </tr>\n",
       "    <tr>\n",
       "      <th rowspan=\"2\" valign=\"top\">clickedWarning, n (%)</th>\n",
       "      <th>False</th>\n",
       "      <td>0</td>\n",
       "      <td>6859 (99.6)</td>\n",
       "      <td>3696 (100.0)</td>\n",
       "      <td>3163 (99.1)</td>\n",
       "      <td>&lt;0.001</td>\n",
       "    </tr>\n",
       "    <tr>\n",
       "      <th>True</th>\n",
       "      <td></td>\n",
       "      <td>29 (0.4)</td>\n",
       "      <td></td>\n",
       "      <td>29 (0.9)</td>\n",
       "      <td></td>\n",
       "    </tr>\n",
       "    <tr>\n",
       "      <th>timestamp, mean (SD)</th>\n",
       "      <th></th>\n",
       "      <td>0</td>\n",
       "      <td>30.1 (17.1)</td>\n",
       "      <td>30.3 (17.1)</td>\n",
       "      <td>29.9 (17.0)</td>\n",
       "      <td>0.344</td>\n",
       "    </tr>\n",
       "    <tr>\n",
       "      <th rowspan=\"2\" valign=\"top\">posterGender, n (%)</th>\n",
       "      <th>female</th>\n",
       "      <td>0</td>\n",
       "      <td>3435 (49.9)</td>\n",
       "      <td>1788 (48.4)</td>\n",
       "      <td>1647 (51.6)</td>\n",
       "      <td>0.008</td>\n",
       "    </tr>\n",
       "    <tr>\n",
       "      <th>male</th>\n",
       "      <td></td>\n",
       "      <td>3453 (50.1)</td>\n",
       "      <td>1908 (51.6)</td>\n",
       "      <td>1545 (48.4)</td>\n",
       "      <td></td>\n",
       "    </tr>\n",
       "  </tbody>\n",
       "</table>\n",
       "</div><br />"
      ],
      "text/plain": [
       "                               Grouped by condition                                                  \n",
       "                                            Missing       Overall       control     treatment P-Value\n",
       "n                                                            6888          3696          3192        \n",
       "secondsTaken, mean (SD)                           0  102.1 (26.3)   99.5 (26.5)  105.2 (25.7)  <0.001\n",
       "warning, n (%)          False                     0   5976 (86.8)  3696 (100.0)   2280 (71.4)  <0.001\n",
       "                        True                           912 (13.2)                  912 (28.6)        \n",
       "reshared, n (%)         False                     0   5772 (83.8)   3161 (85.5)   2611 (81.8)  <0.001\n",
       "                        True                          1116 (16.2)    535 (14.5)    581 (18.2)        \n",
       "clickedWarning, n (%)   False                     0   6859 (99.6)  3696 (100.0)   3163 (99.1)  <0.001\n",
       "                        True                             29 (0.4)                    29 (0.9)        \n",
       "timestamp, mean (SD)                              0   30.1 (17.1)   30.3 (17.1)   29.9 (17.0)   0.344\n",
       "posterGender, n (%)     female                    0   3435 (49.9)   1788 (48.4)   1647 (51.6)   0.008\n",
       "                        male                          3453 (50.1)   1908 (51.6)   1545 (48.4)        "
      ]
     },
     "execution_count": 4,
     "metadata": {},
     "output_type": "execute_result"
    }
   ],
   "source": [
    "table_two = TableOne(posts.drop([\"user_id\",\"timeSubmitted\",\"rumour\",\"evidence\",\"code\",\"posterId\",\"id\"],\n",
    "                                              axis=1),\n",
    "                     groupby=[\"condition\",\"evidence\"],\n",
    "                     pval=True)\n",
    "table_two"
   ]
  },
  {
   "cell_type": "code",
   "execution_count": 5,
   "id": "executed-circulation",
   "metadata": {},
   "outputs": [
    {
     "name": "stderr",
     "output_type": "stream",
     "text": [
      "/Users/cameron/.local/share/virtualenvs/code-3gDjSy3u/lib/python3.9/site-packages/ipykernel/ipkernel.py:283: DeprecationWarning: `should_run_async` will not call `transform_cell` automatically in the future. Please pass the result to `transformed_cell` argument and any exception that happen during thetransform in `preprocessing_exc_tuple` in IPython 7.17 and above.\n",
      "  and should_run_async(code)\n"
     ]
    },
    {
     "data": {
      "text/html": [
       "<div>\n",
       "<style scoped>\n",
       "    .dataframe tbody tr th:only-of-type {\n",
       "        vertical-align: middle;\n",
       "    }\n",
       "\n",
       "    .dataframe tbody tr th {\n",
       "        vertical-align: top;\n",
       "    }\n",
       "\n",
       "    .dataframe thead th {\n",
       "        text-align: right;\n",
       "    }\n",
       "</style>\n",
       "<table border=\"1\" class=\"dataframe\">\n",
       "  <thead>\n",
       "    <tr style=\"text-align: right;\">\n",
       "      <th>condition</th>\n",
       "      <th>Control</th>\n",
       "      <th>Treatment</th>\n",
       "    </tr>\n",
       "    <tr>\n",
       "      <th>evidence</th>\n",
       "      <th></th>\n",
       "      <th></th>\n",
       "    </tr>\n",
       "  </thead>\n",
       "  <tbody>\n",
       "    <tr>\n",
       "      <th>High</th>\n",
       "      <td>0.17600</td>\n",
       "      <td>0.185106</td>\n",
       "    </tr>\n",
       "    <tr>\n",
       "      <th>Low</th>\n",
       "      <td>0.15283</td>\n",
       "      <td>0.136538</td>\n",
       "    </tr>\n",
       "  </tbody>\n",
       "</table>\n",
       "</div>"
      ],
      "text/plain": [
       "condition  Control  Treatment\n",
       "evidence                     \n",
       "High       0.17600   0.185106\n",
       "Low        0.15283   0.136538"
      ]
     },
     "execution_count": 5,
     "metadata": {},
     "output_type": "execute_result"
    }
   ],
   "source": [
    "table_three = pd.pivot_table(reshare_rates,index=\"evidence\",columns=\"condition\",values=\"Affirms\")\n",
    "table_three"
   ]
  },
  {
   "cell_type": "code",
   "execution_count": 6,
   "id": "4b447871-387a-4d18-b73d-422dcabe2587",
   "metadata": {},
   "outputs": [
    {
     "name": "stderr",
     "output_type": "stream",
     "text": [
      "/Users/cameron/.local/share/virtualenvs/code-3gDjSy3u/lib/python3.9/site-packages/ipykernel/ipkernel.py:283: DeprecationWarning: `should_run_async` will not call `transform_cell` automatically in the future. Please pass the result to `transformed_cell` argument and any exception that happen during thetransform in `preprocessing_exc_tuple` in IPython 7.17 and above.\n",
      "  and should_run_async(code)\n"
     ]
    },
    {
     "data": {
      "text/html": [
       "<div>\n",
       "<style scoped>\n",
       "    .dataframe tbody tr th:only-of-type {\n",
       "        vertical-align: middle;\n",
       "    }\n",
       "\n",
       "    .dataframe tbody tr th {\n",
       "        vertical-align: top;\n",
       "    }\n",
       "\n",
       "    .dataframe thead th {\n",
       "        text-align: right;\n",
       "    }\n",
       "</style>\n",
       "<table border=\"1\" class=\"dataframe\">\n",
       "  <thead>\n",
       "    <tr style=\"text-align: right;\">\n",
       "      <th>condition</th>\n",
       "      <th>Control</th>\n",
       "      <th>Treatment</th>\n",
       "    </tr>\n",
       "    <tr>\n",
       "      <th>evidence</th>\n",
       "      <th></th>\n",
       "      <th></th>\n",
       "    </tr>\n",
       "  </thead>\n",
       "  <tbody>\n",
       "    <tr>\n",
       "      <th>High</th>\n",
       "      <td>0.082000</td>\n",
       "      <td>0.114894</td>\n",
       "    </tr>\n",
       "    <tr>\n",
       "      <th>Low</th>\n",
       "      <td>0.284906</td>\n",
       "      <td>0.350000</td>\n",
       "    </tr>\n",
       "  </tbody>\n",
       "</table>\n",
       "</div>"
      ],
      "text/plain": [
       "condition   Control  Treatment\n",
       "evidence                      \n",
       "High       0.082000   0.114894\n",
       "Low        0.284906   0.350000"
      ]
     },
     "execution_count": 6,
     "metadata": {},
     "output_type": "execute_result"
    }
   ],
   "source": [
    "table_four = pd.pivot_table(reshare_rates,index=\"evidence\",columns=\"condition\",values=\"Denies\")\n",
    "table_four"
   ]
  },
  {
   "cell_type": "code",
   "execution_count": 7,
   "id": "d4fd133c-ba8d-4090-ba3e-5b6ed7e5ce6e",
   "metadata": {},
   "outputs": [
    {
     "name": "stderr",
     "output_type": "stream",
     "text": [
      "/Users/cameron/.local/share/virtualenvs/code-3gDjSy3u/lib/python3.9/site-packages/ipykernel/ipkernel.py:283: DeprecationWarning: `should_run_async` will not call `transform_cell` automatically in the future. Please pass the result to `transformed_cell` argument and any exception that happen during thetransform in `preprocessing_exc_tuple` in IPython 7.17 and above.\n",
      "  and should_run_async(code)\n"
     ]
    },
    {
     "data": {
      "text/html": [
       "<div>\n",
       "<style scoped>\n",
       "    .dataframe tbody tr th:only-of-type {\n",
       "        vertical-align: middle;\n",
       "    }\n",
       "\n",
       "    .dataframe tbody tr th {\n",
       "        vertical-align: top;\n",
       "    }\n",
       "\n",
       "    .dataframe thead tr th {\n",
       "        text-align: left;\n",
       "    }\n",
       "</style>\n",
       "<table border=\"1\" class=\"dataframe\">\n",
       "  <thead>\n",
       "    <tr>\n",
       "      <th>condition</th>\n",
       "      <th colspan=\"2\" halign=\"left\">Control</th>\n",
       "      <th colspan=\"2\" halign=\"left\">Treatment</th>\n",
       "    </tr>\n",
       "    <tr>\n",
       "      <th>evidence</th>\n",
       "      <th>High</th>\n",
       "      <th>Low</th>\n",
       "      <th>High</th>\n",
       "      <th>Low</th>\n",
       "    </tr>\n",
       "  </thead>\n",
       "  <tbody>\n",
       "    <tr>\n",
       "      <th>Affirms</th>\n",
       "      <td>0.176</td>\n",
       "      <td>0.152830</td>\n",
       "      <td>0.185106</td>\n",
       "      <td>0.136538</td>\n",
       "    </tr>\n",
       "    <tr>\n",
       "      <th>Denies</th>\n",
       "      <td>0.082</td>\n",
       "      <td>0.284906</td>\n",
       "      <td>0.114894</td>\n",
       "      <td>0.350000</td>\n",
       "    </tr>\n",
       "  </tbody>\n",
       "</table>\n",
       "</div>"
      ],
      "text/plain": [
       "condition Control           Treatment          \n",
       "evidence     High       Low      High       Low\n",
       "Affirms     0.176  0.152830  0.185106  0.136538\n",
       "Denies      0.082  0.284906  0.114894  0.350000"
      ]
     },
     "execution_count": 7,
     "metadata": {},
     "output_type": "execute_result"
    }
   ],
   "source": [
    "table_five = reshare_rates.groupby([\"condition\",\"evidence\"])[[\"Affirms\",\n",
    "                                                 \"Denies\",\n",
    "                                                 ]].mean().T\n",
    "table_five"
   ]
  },
  {
   "cell_type": "markdown",
   "id": "6a973ab2-6b60-4dfe-99c6-0a519ce5826d",
   "metadata": {},
   "source": [
    "### Other Basic Questions\n",
    "\n",
    "1. How frequently do users click on the warning?\n",
    "\n",
    "#### How frequently do users click on the warning?"
   ]
  },
  {
   "cell_type": "code",
   "execution_count": 8,
   "id": "ee0a4099-eacb-4fca-826f-1eed2fdef4ca",
   "metadata": {},
   "outputs": [
    {
     "name": "stdout",
     "output_type": "stream",
     "text": [
      "22.41% (13/58) of participants in the treatment condition clicked a warning\n"
     ]
    },
    {
     "name": "stderr",
     "output_type": "stream",
     "text": [
      "/Users/cameron/.local/share/virtualenvs/code-3gDjSy3u/lib/python3.9/site-packages/ipykernel/ipkernel.py:283: DeprecationWarning: `should_run_async` will not call `transform_cell` automatically in the future. Please pass the result to `transformed_cell` argument and any exception that happen during thetransform in `preprocessing_exc_tuple` in IPython 7.17 and above.\n",
      "  and should_run_async(code)\n"
     ]
    }
   ],
   "source": [
    "treat = posts[(posts[\"condition\"]=='treatment') & posts[\"warning\"]].reset_index()\n",
    "num_treat = len(treat[\"user_id\"].unique())\n",
    "clicked_warning = treat[treat[\"clickedWarning\"]]\n",
    "num_clicked = len(clicked_warning[\"user_id\"].unique())\n",
    "print(f\"{100*(num_clicked/num_treat):.2f}% ({num_clicked}/{num_treat}) of participants in the treatment condition clicked a warning\")\n"
   ]
  },
  {
   "cell_type": "code",
   "execution_count": 9,
   "id": "06bbbb6a-399d-47ef-b3a7-ca6db03b192e",
   "metadata": {},
   "outputs": [
    {
     "name": "stdout",
     "output_type": "stream",
     "text": [
      "Credibility indicators were only clicked on 3.18% (29/912) of the time\n"
     ]
    },
    {
     "name": "stderr",
     "output_type": "stream",
     "text": [
      "/Users/cameron/.local/share/virtualenvs/code-3gDjSy3u/lib/python3.9/site-packages/ipykernel/ipkernel.py:283: DeprecationWarning: `should_run_async` will not call `transform_cell` automatically in the future. Please pass the result to `transformed_cell` argument and any exception that happen during thetransform in `preprocessing_exc_tuple` in IPython 7.17 and above.\n",
      "  and should_run_async(code)\n"
     ]
    }
   ],
   "source": [
    "print(f\"Credibility indicators were only clicked on {100*len(clicked_warning)/len(treat):.2f}% ({len(clicked_warning)}/{len(treat)}) of the time\")"
   ]
  },
  {
   "cell_type": "markdown",
   "id": "furnished-exchange",
   "metadata": {},
   "source": [
    "## Sample Visualizations"
   ]
  },
  {
   "cell_type": "markdown",
   "id": "registered-crazy",
   "metadata": {},
   "source": [
    "## Hypotheses\n",
    "\n",
    "\n",
    "The presence of credibility indicators in the system will:\n",
    "\n",
    "- $H_1$: *decrease* the *affirmation rate* for rumours with lower evidence levels.\n",
    "- $H_2$: *increase* the *denial rate* for rumours with lower evidence levels.\n",
    "- $H_3$: *increase* the *affirmation rate* for rumours with higher evidence levels.\n",
    "- $H_4$: *decrease* the *denial rate* for rumours with higher evidence levels.\n",
    "\n",
    "**Some visualizations**"
   ]
  },
  {
   "cell_type": "code",
   "execution_count": 10,
   "id": "434e8606-420b-45e5-842d-9e05ef2a7fd3",
   "metadata": {},
   "outputs": [
    {
     "name": "stderr",
     "output_type": "stream",
     "text": [
      "/Users/cameron/.local/share/virtualenvs/code-3gDjSy3u/lib/python3.9/site-packages/ipykernel/ipkernel.py:283: DeprecationWarning: `should_run_async` will not call `transform_cell` automatically in the future. Please pass the result to `transformed_cell` argument and any exception that happen during thetransform in `preprocessing_exc_tuple` in IPython 7.17 and above.\n",
      "  and should_run_async(code)\n"
     ]
    }
   ],
   "source": [
    "melted = reshare_rates.melt(id_vars=reshare_rates.columns[:-5],\n",
    "                            value_vars=reshare_rates.columns[-5:-1],\n",
    "                            var_name='code', \n",
    "                            value_name='reshared')\n",
    "sorting_dict = {'Control': 0, \n",
    "                'Treatment': 1, \n",
    "                'Affirms': 0,\n",
    "                'Denies': 1,\n",
    "                'Neutral': 2,\n",
    "                'Questions': 3,\n",
    "                'High': 0,\n",
    "                'Low': 1}\n",
    "melted = melted.sort_values(by=['condition','code','evidence'],key=lambda x: x.map(sorting_dict))\n",
    "af_di = melted[melted[\"code\"].isin([\"Affirms\",\"Denies\"])]"
   ]
  },
  {
   "cell_type": "code",
   "execution_count": 11,
   "id": "d826fcab-6b02-42e8-b857-30cf350eeacd",
   "metadata": {},
   "outputs": [
    {
     "name": "stderr",
     "output_type": "stream",
     "text": [
      "/Users/cameron/.local/share/virtualenvs/code-3gDjSy3u/lib/python3.9/site-packages/ipykernel/ipkernel.py:283: DeprecationWarning: `should_run_async` will not call `transform_cell` automatically in the future. Please pass the result to `transformed_cell` argument and any exception that happen during thetransform in `preprocessing_exc_tuple` in IPython 7.17 and above.\n",
      "  and should_run_async(code)\n"
     ]
    },
    {
     "data": {
      "image/png": "[encoded data removed]",
      "text/plain": [
       "<Figure size 854.525x720 with 4 Axes>"
      ]
     },
     "metadata": {},
     "output_type": "display_data"
    }
   ],
   "source": [
    "g = sns.displot(data=af_di, \n",
    "            x=\"reshared\",\n",
    "            hue=\"condition\",\n",
    "            col=\"evidence\",\n",
    "            row=\"code\",\n",
    "            bw_adjust=1.8,\n",
    "            facet_kws={\"margin_titles\":True},\n",
    "            kind=\"kde\")\n",
    "g.set_titles(col_template=\"{col_name}\", row_template=\"{row_name} Rumour\")\n",
    "g.set_axis_labels(x_var=\"Reshare Rate\")\n",
    "sns.despine(left=True)\n",
    "g.fig.savefig(\"../figures/descriptive_analysis/reshare_rate-hist.pdf\")"
   ]
  },
  {
   "cell_type": "code",
   "execution_count": 12,
   "id": "supreme-preparation",
   "metadata": {},
   "outputs": [
    {
     "name": "stderr",
     "output_type": "stream",
     "text": [
      "/Users/cameron/.local/share/virtualenvs/code-3gDjSy3u/lib/python3.9/site-packages/ipykernel/ipkernel.py:283: DeprecationWarning: `should_run_async` will not call `transform_cell` automatically in the future. Please pass the result to `transformed_cell` argument and any exception that happen during thetransform in `preprocessing_exc_tuple` in IPython 7.17 and above.\n",
      "  and should_run_async(code)\n"
     ]
    },
    {
     "data": {
      "image/png": "[encoded data removed]",
      "text/plain": [
       "<Figure size 813.525x360 with 2 Axes>"
      ]
     },
     "metadata": {},
     "output_type": "display_data"
    }
   ],
   "source": [
    "g = sns.catplot(data=af_di, \n",
    "            x=\"condition\",\n",
    "            y=\"reshared\",\n",
    "            hue=\"evidence\",\n",
    "            col=\"code\",\n",
    "            col_wrap=2,\n",
    "            margin_titles=True,\n",
    "            kind=\"point\")\n",
    "g.set_titles(col_template=\"{col_name} Rumour\",)\n",
    "g.set_axis_labels(y_var=\"Reshare Rate\",x_var=\"\")\n",
    "g._legend.set_title(\"Evidence\")\n",
    "sns.despine(left=True)\n",
    "g.savefig(\"../figures/descriptive_analysis/reshare_rate-point_plot.pdf\")"
   ]
  },
  {
   "cell_type": "markdown",
   "id": "487b7a0c-4af4-4aac-9ff6-40fea5025e45",
   "metadata": {},
   "source": [
    "**For seeing how to describe this plot. Look at Pennycook's Nature article.**"
   ]
  },
  {
   "cell_type": "code",
   "execution_count": 13,
   "id": "d5dfedba-2dcd-4c39-b1d2-f8b86e878eb8",
   "metadata": {},
   "outputs": [
    {
     "name": "stderr",
     "output_type": "stream",
     "text": [
      "/Users/cameron/.local/share/virtualenvs/code-3gDjSy3u/lib/python3.9/site-packages/ipykernel/ipkernel.py:283: DeprecationWarning: `should_run_async` will not call `transform_cell` automatically in the future. Please pass the result to `transformed_cell` argument and any exception that happen during thetransform in `preprocessing_exc_tuple` in IPython 7.17 and above.\n",
      "  and should_run_async(code)\n"
     ]
    },
    {
     "data": {
      "image/png": "[encoded data removed]",
      "text/plain": [
       "<Figure size 854.525x360 with 2 Axes>"
      ]
     },
     "metadata": {},
     "output_type": "display_data"
    }
   ],
   "source": [
    "g = sns.catplot(data=af_di, \n",
    "            x=\"evidence\",\n",
    "            y=\"reshared\",\n",
    "            hue=\"condition\",\n",
    "            col=\"code\",\n",
    "            col_wrap=2,\n",
    "            capsize=.1,\n",
    "            margin_titles=True,\n",
    "            kind=\"bar\")\n",
    "g.set_titles(col_template=\"{col_name} Rumour\",)\n",
    "g.set_axis_labels(y_var=\"Reshare Rate\",x_var=\"Rumour Evidence Level\")\n",
    "g._legend.set_title(\"\")\n",
    "sns.despine(left=True)\n",
    "g.savefig(\"../figures/descriptive_analysis/reshare_rate-bar_plot.pdf\")"
   ]
  },
  {
   "cell_type": "code",
   "execution_count": 14,
   "id": "0814a025-63ee-4983-9740-c2606a63dd51",
   "metadata": {},
   "outputs": [
    {
     "name": "stderr",
     "output_type": "stream",
     "text": [
      "/Users/cameron/.local/share/virtualenvs/code-3gDjSy3u/lib/python3.9/site-packages/ipykernel/ipkernel.py:283: DeprecationWarning: `should_run_async` will not call `transform_cell` automatically in the future. Please pass the result to `transformed_cell` argument and any exception that happen during thetransform in `preprocessing_exc_tuple` in IPython 7.17 and above.\n",
      "  and should_run_async(code)\n"
     ]
    },
    {
     "data": {
      "image/png": "[encoded data removed]",
      "text/plain": [
       "<Figure size 432x288 with 1 Axes>"
      ]
     },
     "metadata": {},
     "output_type": "display_data"
    }
   ],
   "source": [
    "g = sns.barplot(data=reshare_rates, \n",
    "            x=\"evidence\",\n",
    "            y=\"veracityEstimate\",\n",
    "            hue=\"condition\",\n",
    "            capsize=.1)\n",
    "g.set(ylabel=\"Veracity Estimation\",xlabel=\"Rumour Evidence Level\")\n",
    "plt.legend(title='')\n",
    "sns.despine(left=True)"
   ]
  },
  {
   "cell_type": "markdown",
   "id": "digital-insert",
   "metadata": {},
   "source": [
    "**DISREGARD FROM HERE ON OUT**\n",
    "\n",
    "*old statistical analyses that need to be refactored and moved to the system analysis script*"
   ]
  },
  {
   "cell_type": "markdown",
   "id": "talented-windows",
   "metadata": {},
   "source": [
    "### $H_1$"
   ]
  },
  {
   "cell_type": "code",
   "execution_count": 15,
   "id": "middle-angola",
   "metadata": {},
   "outputs": [
    {
     "name": "stderr",
     "output_type": "stream",
     "text": [
      "/Users/cameron/.local/share/virtualenvs/code-3gDjSy3u/lib/python3.9/site-packages/ipykernel/ipkernel.py:283: DeprecationWarning: `should_run_async` will not call `transform_cell` automatically in the future. Please pass the result to `transformed_cell` argument and any exception that happen during thetransform in `preprocessing_exc_tuple` in IPython 7.17 and above.\n",
      "  and should_run_async(code)\n",
      "/Users/cameron/.local/share/virtualenvs/code-3gDjSy3u/lib/python3.9/site-packages/patsy/constraint.py:13: DeprecationWarning: Using or importing the ABCs from 'collections' instead of from 'collections.abc' is deprecated since Python 3.3, and in 3.10 it will stop working\n",
      "  from collections import Mapping\n"
     ]
    },
    {
     "data": {
      "text/html": [
       "<table class=\"simpletable\">\n",
       "<caption>OLS Regression Results</caption>\n",
       "<tr>\n",
       "  <th>Dep. Variable:</th>         <td>Affirms</td>     <th>  R-squared:         </th> <td>   0.010</td>\n",
       "</tr>\n",
       "<tr>\n",
       "  <th>Model:</th>                   <td>OLS</td>       <th>  Adj. R-squared:    </th> <td>  -0.005</td>\n",
       "</tr>\n",
       "<tr>\n",
       "  <th>Method:</th>             <td>Least Squares</td>  <th>  F-statistic:       </th> <td>  0.6750</td>\n",
       "</tr>\n",
       "<tr>\n",
       "  <th>Date:</th>             <td>Fri, 11 Jun 2021</td> <th>  Prob (F-statistic):</th>  <td> 0.568</td> \n",
       "</tr>\n",
       "<tr>\n",
       "  <th>Time:</th>                 <td>12:43:08</td>     <th>  Log-Likelihood:    </th> <td>  50.924</td>\n",
       "</tr>\n",
       "<tr>\n",
       "  <th>No. Observations:</th>      <td>   202</td>      <th>  AIC:               </th> <td>  -93.85</td>\n",
       "</tr>\n",
       "<tr>\n",
       "  <th>Df Residuals:</th>          <td>   198</td>      <th>  BIC:               </th> <td>  -80.61</td>\n",
       "</tr>\n",
       "<tr>\n",
       "  <th>Df Model:</th>              <td>     3</td>      <th>                     </th>     <td> </td>   \n",
       "</tr>\n",
       "<tr>\n",
       "  <th>Covariance Type:</th>      <td>nonrobust</td>    <th>                     </th>     <td> </td>   \n",
       "</tr>\n",
       "</table>\n",
       "<table class=\"simpletable\">\n",
       "<tr>\n",
       "                        <td></td>                          <th>coef</th>     <th>std err</th>      <th>t</th>      <th>P>|t|</th>  <th>[0.025</th>    <th>0.975]</th>  \n",
       "</tr>\n",
       "<tr>\n",
       "  <th>Intercept</th>                                    <td>    0.1760</td> <td>    0.027</td> <td>    6.552</td> <td> 0.000</td> <td>    0.123</td> <td>    0.229</td>\n",
       "</tr>\n",
       "<tr>\n",
       "  <th>C(condition)[T.Treatment]</th>                    <td>    0.0091</td> <td>    0.039</td> <td>    0.236</td> <td> 0.814</td> <td>   -0.067</td> <td>    0.085</td>\n",
       "</tr>\n",
       "<tr>\n",
       "  <th>C(evidence)[T.Low]</th>                           <td>   -0.0232</td> <td>    0.037</td> <td>   -0.619</td> <td> 0.537</td> <td>   -0.097</td> <td>    0.051</td>\n",
       "</tr>\n",
       "<tr>\n",
       "  <th>C(condition)[T.Treatment]:C(evidence)[T.Low]</th> <td>   -0.0254</td> <td>    0.054</td> <td>   -0.475</td> <td> 0.636</td> <td>   -0.131</td> <td>    0.080</td>\n",
       "</tr>\n",
       "</table>\n",
       "<table class=\"simpletable\">\n",
       "<tr>\n",
       "  <th>Omnibus:</th>       <td>48.869</td> <th>  Durbin-Watson:     </th> <td>   1.617</td>\n",
       "</tr>\n",
       "<tr>\n",
       "  <th>Prob(Omnibus):</th> <td> 0.000</td> <th>  Jarque-Bera (JB):  </th> <td>  77.385</td>\n",
       "</tr>\n",
       "<tr>\n",
       "  <th>Skew:</th>          <td> 1.347</td> <th>  Prob(JB):          </th> <td>1.57e-17</td>\n",
       "</tr>\n",
       "<tr>\n",
       "  <th>Kurtosis:</th>      <td> 4.391</td> <th>  Cond. No.          </th> <td>    6.92</td>\n",
       "</tr>\n",
       "</table><br/><br/>Notes:<br/>[1] Standard Errors assume that the covariance matrix of the errors is correctly specified."
      ],
      "text/plain": [
       "<class 'statsmodels.iolib.summary.Summary'>\n",
       "\"\"\"\n",
       "                            OLS Regression Results                            \n",
       "==============================================================================\n",
       "Dep. Variable:                Affirms   R-squared:                       0.010\n",
       "Model:                            OLS   Adj. R-squared:                 -0.005\n",
       "Method:                 Least Squares   F-statistic:                    0.6750\n",
       "Date:                Fri, 11 Jun 2021   Prob (F-statistic):              0.568\n",
       "Time:                        12:43:08   Log-Likelihood:                 50.924\n",
       "No. Observations:                 202   AIC:                            -93.85\n",
       "Df Residuals:                     198   BIC:                            -80.61\n",
       "Df Model:                           3                                         \n",
       "Covariance Type:            nonrobust                                         \n",
       "================================================================================================================\n",
       "                                                   coef    std err          t      P>|t|      [0.025      0.975]\n",
       "----------------------------------------------------------------------------------------------------------------\n",
       "Intercept                                        0.1760      0.027      6.552      0.000       0.123       0.229\n",
       "C(condition)[T.Treatment]                        0.0091      0.039      0.236      0.814      -0.067       0.085\n",
       "C(evidence)[T.Low]                              -0.0232      0.037     -0.619      0.537      -0.097       0.051\n",
       "C(condition)[T.Treatment]:C(evidence)[T.Low]    -0.0254      0.054     -0.475      0.636      -0.131       0.080\n",
       "==============================================================================\n",
       "Omnibus:                       48.869   Durbin-Watson:                   1.617\n",
       "Prob(Omnibus):                  0.000   Jarque-Bera (JB):               77.385\n",
       "Skew:                           1.347   Prob(JB):                     1.57e-17\n",
       "Kurtosis:                       4.391   Cond. No.                         6.92\n",
       "==============================================================================\n",
       "\n",
       "Notes:\n",
       "[1] Standard Errors assume that the covariance matrix of the errors is correctly specified.\n",
       "\"\"\""
      ]
     },
     "execution_count": 15,
     "metadata": {},
     "output_type": "execute_result"
    }
   ],
   "source": [
    "import statsmodels.api as sm\n",
    "import statsmodels.formula.api as smf\n",
    "# Add a random effect for the participant ID since there are repeated measures\n",
    "\n",
    "md = smf.ols(f\"Affirms ~ C(condition)*C(evidence)\",#\" + (1 | user_id) + age + C(educationLevel) + {affil_columns} + {sm_cols} + {gender_cols} + (1|PROLIFIC_ID)\",\n",
    "             reshare_rates).fit()\n",
    "md.summary()"
   ]
  },
  {
   "cell_type": "code",
   "execution_count": 16,
   "id": "fatal-reservoir",
   "metadata": {},
   "outputs": [
    {
     "name": "stderr",
     "output_type": "stream",
     "text": [
      "/Users/cameron/.local/share/virtualenvs/code-3gDjSy3u/lib/python3.9/site-packages/ipykernel/ipkernel.py:283: DeprecationWarning: `should_run_async` will not call `transform_cell` automatically in the future. Please pass the result to `transformed_cell` argument and any exception that happen during thetransform in `preprocessing_exc_tuple` in IPython 7.17 and above.\n",
      "  and should_run_async(code)\n"
     ]
    },
    {
     "data": {
      "text/html": [
       "<div>\n",
       "<style scoped>\n",
       "    .dataframe tbody tr th:only-of-type {\n",
       "        vertical-align: middle;\n",
       "    }\n",
       "\n",
       "    .dataframe tbody tr th {\n",
       "        vertical-align: top;\n",
       "    }\n",
       "\n",
       "    .dataframe thead th {\n",
       "        text-align: right;\n",
       "    }\n",
       "</style>\n",
       "<table border=\"1\" class=\"dataframe\">\n",
       "  <thead>\n",
       "    <tr style=\"text-align: right;\">\n",
       "      <th></th>\n",
       "      <th>sum_sq</th>\n",
       "      <th>df</th>\n",
       "      <th>F</th>\n",
       "      <th>PR(&gt;F)</th>\n",
       "    </tr>\n",
       "  </thead>\n",
       "  <tbody>\n",
       "    <tr>\n",
       "      <th>C(condition)</th>\n",
       "      <td>0.000849</td>\n",
       "      <td>1.0</td>\n",
       "      <td>0.023530</td>\n",
       "      <td>0.878242</td>\n",
       "    </tr>\n",
       "    <tr>\n",
       "      <th>C(evidence)</th>\n",
       "      <td>0.063918</td>\n",
       "      <td>1.0</td>\n",
       "      <td>1.771654</td>\n",
       "      <td>0.184708</td>\n",
       "    </tr>\n",
       "    <tr>\n",
       "      <th>C(condition):C(evidence)</th>\n",
       "      <td>0.008127</td>\n",
       "      <td>1.0</td>\n",
       "      <td>0.225256</td>\n",
       "      <td>0.635587</td>\n",
       "    </tr>\n",
       "    <tr>\n",
       "      <th>Residual</th>\n",
       "      <td>7.143427</td>\n",
       "      <td>198.0</td>\n",
       "      <td>NaN</td>\n",
       "      <td>NaN</td>\n",
       "    </tr>\n",
       "  </tbody>\n",
       "</table>\n",
       "</div>"
      ],
      "text/plain": [
       "                            sum_sq     df         F    PR(>F)\n",
       "C(condition)              0.000849    1.0  0.023530  0.878242\n",
       "C(evidence)               0.063918    1.0  1.771654  0.184708\n",
       "C(condition):C(evidence)  0.008127    1.0  0.225256  0.635587\n",
       "Residual                  7.143427  198.0       NaN       NaN"
      ]
     },
     "execution_count": 16,
     "metadata": {},
     "output_type": "execute_result"
    }
   ],
   "source": [
    "table = sm.stats.anova_lm(md, typ=2) # Type 2 Anova DataFrame\n",
    "table"
   ]
  },
  {
   "cell_type": "code",
   "execution_count": 17,
   "id": "herbal-walker",
   "metadata": {},
   "outputs": [
    {
     "name": "stderr",
     "output_type": "stream",
     "text": [
      "/Users/cameron/.local/share/virtualenvs/code-3gDjSy3u/lib/python3.9/site-packages/ipykernel/ipkernel.py:283: DeprecationWarning: `should_run_async` will not call `transform_cell` automatically in the future. Please pass the result to `transformed_cell` argument and any exception that happen during thetransform in `preprocessing_exc_tuple` in IPython 7.17 and above.\n",
      "  and should_run_async(code)\n"
     ]
    },
    {
     "data": {
      "text/html": [
       "<table class=\"simpletable\">\n",
       "<tr>\n",
       "       <td>Model:</td>       <td>MixedLM</td> <td>Dependent Variable:</td> <td>Affirms</td>\n",
       "</tr>\n",
       "<tr>\n",
       "  <td>No. Observations:</td>   <td>202</td>         <td>Method:</td>        <td>REML</td>  \n",
       "</tr>\n",
       "<tr>\n",
       "     <td>No. Groups:</td>      <td>109</td>         <td>Scale:</td>        <td>0.0194</td> \n",
       "</tr>\n",
       "<tr>\n",
       "  <td>Min. group size:</td>     <td>1</td>      <td>Log-Likelihood:</td>   <td>51.2700</td>\n",
       "</tr>\n",
       "<tr>\n",
       "  <td>Max. group size:</td>     <td>2</td>        <td>Converged:</td>        <td>Yes</td>  \n",
       "</tr>\n",
       "<tr>\n",
       "  <td>Mean group size:</td>    <td>1.9</td>            <td></td>              <td></td>    \n",
       "</tr>\n",
       "</table>\n",
       "<table class=\"simpletable\">\n",
       "<tr>\n",
       "                        <td></td>                        <th>Coef.</th> <th>Std.Err.</th>    <th>z</th>   <th>P>|z|</th> <th>[0.025</th> <th>0.975]</th>\n",
       "</tr>\n",
       "<tr>\n",
       "  <th>Intercept</th>                                     <td>0.175</td>   <td>0.027</td>   <td>6.603</td> <td>0.000</td>  <td>0.123</td>  <td>0.227</td>\n",
       "</tr>\n",
       "<tr>\n",
       "  <th>C(condition)[T.Treatment]</th>                     <td>0.011</td>   <td>0.038</td>   <td>0.300</td> <td>0.764</td> <td>-0.063</td>  <td>0.086</td>\n",
       "</tr>\n",
       "<tr>\n",
       "  <th>C(evidence)[T.Low]</th>                           <td>-0.020</td>   <td>0.028</td>  <td>-0.728</td> <td>0.467</td> <td>-0.075</td>  <td>0.034</td>\n",
       "</tr>\n",
       "<tr>\n",
       "  <th>C(condition)[T.Treatment]:C(evidence)[T.Low]</th> <td>-0.033</td>   <td>0.040</td>  <td>-0.829</td> <td>0.407</td> <td>-0.112</td>  <td>0.045</td>\n",
       "</tr>\n",
       "<tr>\n",
       "  <th>Group Var</th>                                     <td>0.017</td>   <td>0.039</td>     <td></td>      <td></td>       <td></td>       <td></td>   \n",
       "</tr>\n",
       "</table>"
      ],
      "text/plain": [
       "<class 'statsmodels.iolib.summary2.Summary'>\n",
       "\"\"\"\n",
       "                         Mixed Linear Model Regression Results\n",
       "=======================================================================================\n",
       "Model:                        MixedLM            Dependent Variable:            Affirms\n",
       "No. Observations:             202                Method:                        REML   \n",
       "No. Groups:                   109                Scale:                         0.0194 \n",
       "Min. group size:              1                  Log-Likelihood:                51.2700\n",
       "Max. group size:              2                  Converged:                     Yes    \n",
       "Mean group size:              1.9                                                      \n",
       "---------------------------------------------------------------------------------------\n",
       "                                             Coef.  Std.Err.   z    P>|z| [0.025 0.975]\n",
       "---------------------------------------------------------------------------------------\n",
       "Intercept                                     0.175    0.027  6.603 0.000  0.123  0.227\n",
       "C(condition)[T.Treatment]                     0.011    0.038  0.300 0.764 -0.063  0.086\n",
       "C(evidence)[T.Low]                           -0.020    0.028 -0.728 0.467 -0.075  0.034\n",
       "C(condition)[T.Treatment]:C(evidence)[T.Low] -0.033    0.040 -0.829 0.407 -0.112  0.045\n",
       "Group Var                                     0.017    0.039                           \n",
       "=======================================================================================\n",
       "\n",
       "\"\"\""
      ]
     },
     "execution_count": 17,
     "metadata": {},
     "output_type": "execute_result"
    }
   ],
   "source": [
    "md2 = smf.mixedlm(f\"Affirms ~ C(condition)*C(evidence)\",#\"+ age + C(educationLevel) + {affil_columns} + {sm_cols} + {gender_cols} + (1|PROLIFIC_ID)\",\n",
    "                     reshare_rates,\n",
    "                     groups=reshare_rates[\"user_id\"]).fit()\n",
    "md2.summary()"
   ]
  },
  {
   "cell_type": "code",
   "execution_count": null,
   "id": "7ad29522-ac87-443d-8bc2-febc65efbb2d",
   "metadata": {},
   "outputs": [],
   "source": []
  }
 ],
 "metadata": {
  "kernelspec": {
   "display_name": "Python (Thesis)",
   "language": "python",
   "name": "python3"
  },
  "language_info": {
   "codemirror_mode": {
    "name": "ipython",
    "version": 3
   },
   "file_extension": ".py",
   "mimetype": "text/x-python",
   "name": "python",
   "nbconvert_exporter": "python",
   "pygments_lexer": "ipython3",
   "version": "3.9.0"
  }
 },
 "nbformat": 4,
 "nbformat_minor": 5
}
