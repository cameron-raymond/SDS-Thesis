{
 "cells": [
  {
   "cell_type": "markdown",
   "id": "improving-profile",
   "metadata": {},
   "source": [
    "# Exploratory Analyses\n",
    "\n",
    "1. Hypothesis: Temporal proximity will be associated with more resharing.\n"
   ]
  },
  {
   "cell_type": "code",
   "execution_count": null,
   "id": "related-model",
   "metadata": {},
   "outputs": [],
   "source": []
  }
 ],
 "metadata": {
  "kernelspec": {
   "display_name": "Python (Thesis)",
   "language": "python",
   "name": "python3"
  },
  "language_info": {
   "codemirror_mode": {
    "name": "ipython",
    "version": 3
   },
   "file_extension": ".py",
   "mimetype": "text/x-python",
   "name": "python",
   "nbconvert_exporter": "python",
   "pygments_lexer": "ipython3",
   "version": "3.9.0"
  }
 },
 "nbformat": 4,
 "nbformat_minor": 5
}
