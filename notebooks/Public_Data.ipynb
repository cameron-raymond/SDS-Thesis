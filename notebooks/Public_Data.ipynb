{
 "cells": [
  {
   "cell_type": "code",
   "execution_count": 1,
   "id": "8913410d-6084-4b00-afa3-27eb3b803976",
   "metadata": {},
   "outputs": [],
   "source": [
    "import pandas as pd\n",
    "import numpy as np\n",
    "\n",
    "STUDY_ID =\"60b37265a9f60881975de69e\"\n"
   ]
  },
  {
   "cell_type": "code",
   "execution_count": 2,
   "id": "0503f7d5-565b-4a8f-95cc-19832db98628",
   "metadata": {},
   "outputs": [
    {
     "name": "stdout",
     "output_type": "stream",
     "text": [
      "Shape: 107x36\n",
      "Shape: 202x43\n"
     ]
    }
   ],
   "source": [
    "participants = pd.read_csv(f\"../data/processed/{STUDY_ID}-participants.csv\")\n",
    "print(\"Shape: {}x{}\".format(*participants.shape))\n",
    "posts = pd.read_csv(f\"../data/processed/{STUDY_ID}-rumour-results.csv\")\n",
    "reshare_rates = pd.read_csv(f\"../data/processed/{STUDY_ID}-reshare_rates.csv\")\n",
    "post_study = pd.read_csv(f\"../data/processed/{STUDY_ID}-post-study-responses.csv\")\n",
    "print(\"Shape: {}x{}\".format(*reshare_rates.shape))"
   ]
  },
  {
   "cell_type": "code",
   "execution_count": 3,
   "id": "68993a91-5f7b-438a-8bd0-b1ec696a3a91",
   "metadata": {},
   "outputs": [
    {
     "name": "stdout",
     "output_type": "stream",
     "text": [
      "Shape: 107x37\n"
     ]
    }
   ],
   "source": [
    "treat = posts[[\"user_id\",\"condition\"]].set_index(\"user_id\")[\"condition\"].to_dict()\n",
    "participants[\"condition\"] = participants[\"user_id\"].map(treat)\n",
    "print(\"Shape: {}x{}\".format(*participants.shape))"
   ]
  },
  {
   "cell_type": "code",
   "execution_count": 4,
   "id": "854a90c8-77db-4ce7-971c-99068be9139d",
   "metadata": {},
   "outputs": [
    {
     "name": "stdout",
     "output_type": "stream",
     "text": [
      "Shape: 102x37\n",
      "Shape: 5712x17\n",
      "Shape: 193x43\n",
      "Shape: 107x9\n"
     ]
    }
   ],
   "source": [
    "cant_share = post_study[post_study[\"canShareData\"]==False][\"user_id\"]\n",
    "final_participants = participants[~participants[\"user_id\"].isin(cant_share)]\n",
    "print(\"Shape: {}x{}\".format(*final_participants.shape))\n",
    "final_posts = posts[~posts[\"user_id\"].isin(cant_share)]\n",
    "print(\"Shape: {}x{}\".format(*final_posts.shape))\n",
    "final_reshare_rates = reshare_rates[~reshare_rates[\"user_id\"].isin(cant_share)]\n",
    "print(\"Shape: {}x{}\".format(*final_reshare_rates.shape))\n",
    "final_post_study = post_study[~post_study[\"user_id\"].isin(cant_share)]\n",
    "print(\"Shape: {}x{}\".format(*post_study.shape))"
   ]
  },
  {
   "cell_type": "code",
   "execution_count": 5,
   "id": "49c7b25b-bbcc-4401-8728-033121b685fc",
   "metadata": {},
   "outputs": [],
   "source": [
    "final_participants.to_csv(f\"../data/public/Participant Data.csv\",index=False)\n",
    "final_posts.to_csv(f\"../data/public/Post-Level Responses.csv\",index=False)\n",
    "final_reshare_rates.to_csv(f\"../data/public/System-Level Data.csv\",index=False)\n",
    "final_post_study.to_csv(f\"../data/public/Post-Study Questionnaire.csv\",index=False)"
   ]
  },
  {
   "cell_type": "code",
   "execution_count": null,
   "id": "1b22c9ee-8816-4395-bd4f-ed9a39c05a1c",
   "metadata": {},
   "outputs": [],
   "source": []
  }
 ],
 "metadata": {
  "kernelspec": {
   "display_name": "Python (Thesis)",
   "language": "python",
   "name": "thesis"
  },
  "language_info": {
   "codemirror_mode": {
    "name": "ipython",
    "version": 3
   },
   "file_extension": ".py",
   "mimetype": "text/x-python",
   "name": "python",
   "nbconvert_exporter": "python",
   "pygments_lexer": "ipython3",
   "version": "3.9.0"
  }
 },
 "nbformat": 4,
 "nbformat_minor": 5
}
