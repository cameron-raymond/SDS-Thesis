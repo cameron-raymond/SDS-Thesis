{
 "cells": [
  {
   "cell_type": "markdown",
   "id": "bedc1cef-9a06-446c-9097-fe23c5509b89",
   "metadata": {},
   "source": [
    "# Content Analysis Analysis\n",
    "\n",
    "1. Basic stats re the qualitative coding"
   ]
  },
  {
   "cell_type": "code",
   "execution_count": 1,
   "id": "adc2ccaf-c4e8-4926-8e9d-82d543cb3491",
   "metadata": {},
   "outputs": [],
   "source": [
    "from tqdm.auto import tqdm \n",
    "from glob import glob\n",
    "import matplotlib.pyplot as plt\n",
    "import seaborn as sns\n",
    "import pandas as pd\n",
    "import numpy as np\n",
    "import json\n",
    "import os\n",
    "\n",
    "sns.set_style(\"whitegrid\",{'axes.spines.left' : False,\n",
    "                           'axes.spines.right': False,\n",
    "                           'axes.spines.top': False,\n",
    "                           'grid.linestyle': ':'})\n",
    "sns.set_context(\"talk\")"
   ]
  },
  {
   "cell_type": "markdown",
   "id": "b770d729-a935-455a-8544-b966f9682f1c",
   "metadata": {},
   "source": [
    "## Cohen’s Kappa\n",
    "\n",
    "> After collecting the twitter threads for each rumour, I coded each tweet according to whether it affirms, denies, is neutral towards, or questions the rumour, with a fith category for irrelvant tweets or tweets that would not have sufficient context to be understood by the experiment's participants. After coding the rumour dataset twice, with a week in between each coding session, I achieved a high degree of internal consitency (Cohen's $\\kappa=0.768$). Conflicting codes were resolved in a third coding session and tweets coded as irrelevant ($N=1377$) were discarded -- leaving 167 remaining tweets to be used in the experimental environment.\n",
    "\n",
    "Coding reliability\n",
    "\n",
    "Used for measuring the internal reliability of categorical data.\n",
    "\n",
    "See [cohen_kappa_score](https://scikit-learn.org/stable/modules/generated/sklearn.metrics.cohen_kappa_score.html) for code, [Measuring Agreement: Kappa](https://www.sheffield.ac.uk/polopoly_fs/1.885169!/file/88_Kappa.pdf) for overview, and [Guidelines for Reporting Reliability and Agreement Studies (GRRAS)were proposed](https://www.acilci.net/wp-content/uploads/2014/02/Guidelines-for-reporting-reliability-and-agreement-studies-GRRAS-were-proposed.pdf) for an indepth look.\n"
   ]
  },
  {
   "cell_type": "code",
   "execution_count": 2,
   "id": "cd791b80-d302-4dbd-80b7-a87f6165ffab",
   "metadata": {},
   "outputs": [
    {
     "data": {
      "text/plain": [
       "0.7683841783558454"
      ]
     },
     "execution_count": 2,
     "metadata": {},
     "output_type": "execute_result"
    }
   ],
   "source": [
    "from sklearn.metrics import cohen_kappa_score\n",
    "coded = {\n",
    "    'kidnapping': glob(\"../data/processed/coded-kidnapping-*.csv\"),\n",
    "    'contact_tracing': glob(\"../data/processed/coded-contact_tracing-*.csv\")\n",
    "}\n",
    "codes1,codes2 = np.array([]),np.array([])\n",
    "for key,fps in coded.items():\n",
    "    assert len(fps) == 2, \"Extra filepaths (requires 2)\"\n",
    "    df1,df2 = (pd.read_csv(fp) for fp in fps)\n",
    "    new_codes1,new_codes2 = df1['code'].to_numpy(),df2['code'].to_numpy()\n",
    "    codes1 = np.concatenate((codes1, new_codes1))\n",
    "    codes2 = np.concatenate((codes2, new_codes2))\n",
    "\n",
    "cohen_kappa_score(codes1,codes2)"
   ]
  },
  {
   "cell_type": "markdown",
   "id": "d5ac4318-d2ac-439d-8b2e-caec67f44202",
   "metadata": {},
   "source": [
    "### Drop Irrelevant Tweets"
   ]
  },
  {
   "cell_type": "code",
   "execution_count": 4,
   "id": "0e2f836b-a3b5-4f3c-bb98-c8967236bba3",
   "metadata": {},
   "outputs": [],
   "source": [
    "codebook = {\n",
    "    0: \"Irrelevant/Spam\",\n",
    "    1: \"Affirms\",\n",
    "    2: \"Denies\",\n",
    "    3: \"Neutral\",\n",
    "    4: \"Questions\",\n",
    "    'R1': \"Kidnapping Rumour (R1, High Evidence)\",\n",
    "    'R2': \"Contact Tracing Rumour (R2, Low Evidence)\",\n",
    "}\n",
    "\n",
    "evidence = {\n",
    "    'R1': \"High\",\n",
    "    'R2': \"Low\"\n",
    "}"
   ]
  },
  {
   "cell_type": "code",
   "execution_count": 5,
   "id": "7bf31bf6-0f9b-4ec3-a25a-bb036ab3989e",
   "metadata": {},
   "outputs": [
    {
     "name": "stdout",
     "output_type": "stream",
     "text": [
      "1544x12\n"
     ]
    }
   ],
   "source": [
    "csvs = glob(\"../data/processed/FINAL-*.csv\")\n",
    "frames = [pd.read_csv(fp) for fp in csvs]\n",
    "coded_tweets = pd.concat(frames, axis=0, ignore_index=True)\n",
    "coded_tweets['rumour_label'] = coded_tweets['rumour'].map(codebook)\n",
    "coded_tweets['code_label'] = coded_tweets['final_code'].map(codebook)\n",
    "coded_tweets['evidence'] = coded_tweets['rumour'].map(evidence)\n",
    "print(\"{}x{}\".format(*coded_tweets.shape))\n",
    "og_len = len(coded_tweets)"
   ]
  },
  {
   "cell_type": "code",
   "execution_count": 6,
   "id": "a6b32a53-8faf-4929-88ce-ffe57cf2effa",
   "metadata": {},
   "outputs": [
    {
     "name": "stdout",
     "output_type": "stream",
     "text": [
      "Drop 1377 of 1544 tweets. 167 relevant tweets remaining.\n"
     ]
    }
   ],
   "source": [
    "coded_tweets = coded_tweets[coded_tweets['final_code'] > 0]\n",
    "print(f\"Drop {og_len-len(coded_tweets)} of {og_len} tweets. {len(coded_tweets)} relevant tweets remaining.\")"
   ]
  },
  {
   "cell_type": "markdown",
   "id": "c2a89538-dfbf-4833-878c-b29538a35afe",
   "metadata": {},
   "source": [
    "## Reshare rates"
   ]
  },
  {
   "cell_type": "code",
   "execution_count": 7,
   "id": "7a2e203a-98aa-4191-84a5-bb3345e875b2",
   "metadata": {},
   "outputs": [
    {
     "name": "stdout",
     "output_type": "stream",
     "text": [
      "167x12\n"
     ]
    },
    {
     "data": {
      "text/html": [
       "<div>\n",
       "<style scoped>\n",
       "    .dataframe tbody tr th:only-of-type {\n",
       "        vertical-align: middle;\n",
       "    }\n",
       "\n",
       "    .dataframe tbody tr th {\n",
       "        vertical-align: top;\n",
       "    }\n",
       "\n",
       "    .dataframe thead tr th {\n",
       "        text-align: left;\n",
       "    }\n",
       "</style>\n",
       "<table border=\"1\" class=\"dataframe\">\n",
       "  <thead>\n",
       "    <tr>\n",
       "      <th></th>\n",
       "      <th></th>\n",
       "      <th colspan=\"4\" halign=\"left\">Grouped by rumour_label</th>\n",
       "    </tr>\n",
       "    <tr>\n",
       "      <th></th>\n",
       "      <th></th>\n",
       "      <th>Missing</th>\n",
       "      <th>Overall</th>\n",
       "      <th>Contact Tracing Rumour (R2, Low Evidence)</th>\n",
       "      <th>Kidnapping Rumour (R1, High Evidence)</th>\n",
       "    </tr>\n",
       "  </thead>\n",
       "  <tbody>\n",
       "    <tr>\n",
       "      <th>n</th>\n",
       "      <th></th>\n",
       "      <td></td>\n",
       "      <td>167</td>\n",
       "      <td>81</td>\n",
       "      <td>86</td>\n",
       "    </tr>\n",
       "    <tr>\n",
       "      <th rowspan=\"4\" valign=\"top\">code_label, n (%)</th>\n",
       "      <th>Affirms</th>\n",
       "      <td>0</td>\n",
       "      <td>70 (41.9)</td>\n",
       "      <td>47 (58.0)</td>\n",
       "      <td>23 (26.7)</td>\n",
       "    </tr>\n",
       "    <tr>\n",
       "      <th>Denies</th>\n",
       "      <td></td>\n",
       "      <td>46 (27.5)</td>\n",
       "      <td>14 (17.3)</td>\n",
       "      <td>32 (37.2)</td>\n",
       "    </tr>\n",
       "    <tr>\n",
       "      <th>Neutral</th>\n",
       "      <td></td>\n",
       "      <td>33 (19.8)</td>\n",
       "      <td>14 (17.3)</td>\n",
       "      <td>19 (22.1)</td>\n",
       "    </tr>\n",
       "    <tr>\n",
       "      <th>Questions</th>\n",
       "      <td></td>\n",
       "      <td>18 (10.8)</td>\n",
       "      <td>6 (7.4)</td>\n",
       "      <td>12 (14.0)</td>\n",
       "    </tr>\n",
       "  </tbody>\n",
       "</table>\n",
       "</div><br />"
      ],
      "text/plain": [
       "                            Grouped by rumour_label                                                                                           \n",
       "                                            Missing    Overall Contact Tracing Rumour (R2, Low Evidence) Kidnapping Rumour (R1, High Evidence)\n",
       "n                                                          167                                        81                                    86\n",
       "code_label, n (%) Affirms                         0  70 (41.9)                                 47 (58.0)                             23 (26.7)\n",
       "                  Denies                             46 (27.5)                                 14 (17.3)                             32 (37.2)\n",
       "                  Neutral                            33 (19.8)                                 14 (17.3)                             19 (22.1)\n",
       "                  Questions                          18 (10.8)                                   6 (7.4)                             12 (14.0)"
      ]
     },
     "execution_count": 7,
     "metadata": {},
     "output_type": "execute_result"
    }
   ],
   "source": [
    "from tableone import TableOne\n",
    "columns = ['code_label']\n",
    "categorical = ['code_label']\n",
    "groupby = 'rumour_label'\n",
    "print(\"{}x{}\".format(*coded_tweets.shape))\n",
    "tabletwo = TableOne(coded_tweets, \n",
    "                   columns=columns, \n",
    "                   categorical=categorical,\n",
    "                   groupby=groupby)\n",
    "tabletwo\n",
    "# print(tabletwo.tabulate(tablefmt=\"latex\"))"
   ]
  },
  {
   "cell_type": "markdown",
   "id": "2e4ae879-012d-49a9-beaf-28ea604080f7",
   "metadata": {},
   "source": [
    "## Visualizations\n",
    "\n",
    "* Number of tweets = $N_R$\n",
    "* Number of affirmations = $n^a_R$\n",
    "* Number of denials = $n^d_R$\n",
    "* Number of neutral = $n^n_R$\n",
    "* Number of questions = $n^q_R$\n",
    "\n",
    "\n",
    "* Affirmation rate = $\\frac{n^a_R}{N_R}$\n",
    "* Denial rate = $\\frac{n^d_R}{N_R}$\n",
    "* Neutral rate = $\\frac{n^n_R}{N_R}$\n",
    "* Question rate = $\\frac{n^q_R}{N_R}$"
   ]
  },
  {
   "cell_type": "code",
   "execution_count": 8,
   "id": "83abf634-0cf7-49ed-b5bb-b35891338bde",
   "metadata": {},
   "outputs": [
    {
     "name": "stderr",
     "output_type": "stream",
     "text": [
      "/Users/cameron/.local/share/virtualenvs/code-3gDjSy3u/lib/python3.9/site-packages/ipykernel/ipkernel.py:283: DeprecationWarning: `should_run_async` will not call `transform_cell` automatically in the future. Please pass the result to `transformed_cell` argument and any exception that happen during thetransform in `preprocessing_exc_tuple` in IPython 7.17 and above.\n",
      "  and should_run_async(code)\n"
     ]
    },
    {
     "data": {
      "image/png": "[encoded data removed]",
      "text/plain": [
       "<Figure size 747.775x360 with 1 Axes>"
      ]
     },
     "metadata": {},
     "output_type": "display_data"
    }
   ],
   "source": [
    "group_cols = [\"rumour_label\",\"code_label\"]\n",
    "# Get counts\n",
    "reshare_rates = coded_tweets.groupby(group_cols)[['id']].count().rename({'id':'rate'},axis=1)\n",
    "# convert to percentages\n",
    "reshare_rates = reshare_rates.groupby(level=0).apply(lambda  x: x / float(x.sum())).reset_index()\n",
    "\n",
    "from  matplotlib.ticker import PercentFormatter\n",
    "g = sns.catplot(data=reshare_rates,\n",
    "                kind=\"bar\",\n",
    "                x=\"code_label\", \n",
    "                y=\"rate\", \n",
    "                hue=\"rumour_label\",\n",
    "                ci=\"sd\"\n",
    "               )\n",
    "for ax in g.axes.flat:\n",
    "    ax.yaxis.set_major_formatter(PercentFormatter(1))\n",
    "g.despine(left=True)\n",
    "g.set_axis_labels(\"\", \"Reshare Rate\")\n",
    "g.legend.set_title(\"\")\n",
    "g.savefig(\"../visualizations/reshare_rates.pdf\")"
   ]
  },
  {
   "cell_type": "code",
   "execution_count": null,
   "id": "c3fe8999-e856-40eb-8d57-83cd2e03ab21",
   "metadata": {},
   "outputs": [],
   "source": []
  }
 ],
 "metadata": {
  "kernelspec": {
   "display_name": "Python (Thesis)",
   "language": "python",
   "name": "python3"
  },
  "language_info": {
   "codemirror_mode": {
    "name": "ipython",
    "version": 3
   },
   "file_extension": ".py",
   "mimetype": "text/x-python",
   "name": "python",
   "nbconvert_exporter": "python",
   "pygments_lexer": "ipython3",
   "version": "3.9.0"
  }
 },
 "nbformat": 4,
 "nbformat_minor": 5
}
