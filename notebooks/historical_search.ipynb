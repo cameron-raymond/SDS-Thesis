{
 "cells": [
  {
   "cell_type": "markdown",
   "metadata": {},
   "source": [
    "# Data Mining ⛏\n",
    "\n",
    "**Purpose:** Collect all relevant Tweet's pertaining to the reopening of schools in the COVID-19 pandemic between Jan. 1, 2020 and Sept. 15, 2020.\n",
    "\n",
    "**Twitter Threads**\n",
    "* Thread showing original video of protestor being detained by [federal agents](https://twitter.com/matcha_chai/status/1283328232033411072)\n",
    "* Thread showing video of police saying they're using [contact tracing](https://twitter.com/NBCNews/status/1266758240018276352)\n",
    "\n",
    "**Pipeline:**\n",
    "1.  Connect to Twitter's Search Tweets API (v2), to the `full archive` endpoint using the academic research track\n",
    "2. *for each thread* \n",
    "    1. Take that tweets conversation ID\n",
    "    2. Collect the tweet's entire thread by matching the conversation ID\n",
    "        1. Only collect english tweets with no external links/media that are in direct reply to the original post (deeper tweets are too specific)\n",
    "    3. Store collection of tweets in Pandas dataframe, and only keep relevant features (text, author, *etc.*)\n",
    "    4. Add an extra column that is the cleaned tweet text.\n",
    "    5. Save dataframe to CSV\n",
    "    6. Solve the pandemic"
   ]
  },
  {
   "cell_type": "code",
   "execution_count": 2,
   "metadata": {},
   "outputs": [],
   "source": [
    "from searchtweets import collect_results, gen_request_parameters, load_credentials, ResultStream\n",
    "from tqdm.auto import tqdm \n",
    "import pandas as pd\n",
    "import numpy as np\n",
    "import json\n",
    "import os\n",
    "\n",
    "# Load api credentials\n",
    "search_args = load_credentials(filename=\"./api-secret.yaml\",\n",
    "                               yaml_key=\"search_tweets_v2\",\n",
    "                               env_overwrite=False)\n"
   ]
  },
  {
   "cell_type": "markdown",
   "metadata": {},
   "source": [
    "## 1. Tweet Conversation ID"
   ]
  },
  {
   "cell_type": "code",
   "execution_count": 10,
   "metadata": {},
   "outputs": [],
   "source": [
    "t_details = { \"kidnapping\": \n",
    "             {\"id\": \"R1\",\n",
    "              \"author_id\": \"matcha_chai\",\n",
    "              \"conversation_id\": \"1283328232033411072\",\n",
    "              \"start_time\": \"2020-07-14\",\n",
    "              \"end_time\": \"2020-07-18\"\n",
    "             },\n",
    "             \"contact_tracing\": \n",
    "             {\"id\": \"R2\",\n",
    "              \"author_id\": \"NBCNews\",\n",
    "              \"conversation_id\": \"1266741567961825284\",\n",
    "              \"start_time\": \"2020-05-29\",\n",
    "              \"end_time\": \"2020-06-02\"\n",
    "             },\n",
    "            }\n"
   ]
  },
  {
   "cell_type": "code",
   "execution_count": 11,
   "metadata": {},
   "outputs": [],
   "source": [
    "t_name = 'kidnapping'\n",
    "thread_object = t_details[t_name]"
   ]
  },
  {
   "cell_type": "markdown",
   "metadata": {},
   "source": [
    "## 2. Collect Twitter Thread"
   ]
  },
  {
   "cell_type": "code",
   "execution_count": 12,
   "metadata": {},
   "outputs": [],
   "source": [
    "def build_request(t_obj,**kwargs):\n",
    "    c_id,a_id = t_obj['conversation_id'],t_obj['author_id']\n",
    "    s_time,e_time = t_obj['start_time'],t_obj['end_time']\n",
    "    query = f\"conversation_id:{c_id} to:{a_id} lang:en -has:links -has:media\"\n",
    "    tweet_fields = 'author_id,created_at,conversation_id'\n",
    "    return gen_request_parameters(query,\n",
    "                                  start_time=s_time,\n",
    "                                  end_time=e_time,\n",
    "                                  tweet_fields=tweet_fields)\n",
    "\n",
    "request = build_request(thread_object)"
   ]
  },
  {
   "cell_type": "code",
   "execution_count": 13,
   "metadata": {},
   "outputs": [],
   "source": [
    "def return_tweets(request,name=None,max_requests=1):\n",
    "    fp = \"../data/raw/{}.json\".format(name)\n",
    "    # If we've already made this request just load the data and return\n",
    "    if os.path.isfile(fp):\n",
    "        with open(fp) as fin:\n",
    "            return json.load(fin),name\n",
    "    print(f\"Making request: {name}\")\n",
    "    rs = ResultStream(request_parameters=request,\n",
    "                      max_requests=max_requests,\n",
    "                      max_tweets=10**7,\n",
    "                      **search_args)\n",
    "    tweets = list(rs.stream())\n",
    "    print(f\"Writing {len(tweets)} tweets for request: {name}\")\n",
    "    with open(fp, 'w') as fout:\n",
    "        json.dump(tweets,fout,indent=4)\n",
    "    return tweets,name\n",
    "\n",
    "tweets,f_name = return_tweets(request,t_name,max_requests=200)"
   ]
  },
  {
   "cell_type": "markdown",
   "metadata": {},
   "source": [
    "## 2. To Dataframe"
   ]
  },
  {
   "cell_type": "code",
   "execution_count": 14,
   "metadata": {},
   "outputs": [
    {
     "data": {
      "text/html": [
       "<div>\n",
       "<style scoped>\n",
       "    .dataframe tbody tr th:only-of-type {\n",
       "        vertical-align: middle;\n",
       "    }\n",
       "\n",
       "    .dataframe tbody tr th {\n",
       "        vertical-align: top;\n",
       "    }\n",
       "\n",
       "    .dataframe thead th {\n",
       "        text-align: right;\n",
       "    }\n",
       "</style>\n",
       "<table border=\"1\" class=\"dataframe\">\n",
       "  <thead>\n",
       "    <tr style=\"text-align: right;\">\n",
       "      <th></th>\n",
       "      <th>created_at</th>\n",
       "      <th>author_id</th>\n",
       "      <th>text</th>\n",
       "      <th>rumour</th>\n",
       "    </tr>\n",
       "    <tr>\n",
       "      <th>id</th>\n",
       "      <th></th>\n",
       "      <th></th>\n",
       "      <th></th>\n",
       "      <th></th>\n",
       "    </tr>\n",
       "  </thead>\n",
       "  <tbody>\n",
       "    <tr>\n",
       "      <th>1283331905346142208</th>\n",
       "      <td>2020-07-15 09:25:44+00:00</td>\n",
       "      <td>1315508486</td>\n",
       "      <td>@matcha_chai was there even a plate on the bac...</td>\n",
       "      <td>R1</td>\n",
       "    </tr>\n",
       "    <tr>\n",
       "      <th>1283332603676889089</th>\n",
       "      <td>2020-07-15 09:28:30+00:00</td>\n",
       "      <td>20835728</td>\n",
       "      <td>@matcha_chai Odds are they're DHS.\\n\\n#ThisIsW...</td>\n",
       "      <td>R1</td>\n",
       "    </tr>\n",
       "    <tr>\n",
       "      <th>1283335188643078145</th>\n",
       "      <td>2020-07-15 09:38:46+00:00</td>\n",
       "      <td>1149001506684669952</td>\n",
       "      <td>@matcha_chai @brianorwhatevr Weird AF!!!</td>\n",
       "      <td>R1</td>\n",
       "    </tr>\n",
       "    <tr>\n",
       "      <th>1283336306228031488</th>\n",
       "      <td>2020-07-15 09:43:13+00:00</td>\n",
       "      <td>59222066</td>\n",
       "      <td>@matcha_chai That was so weird and happened so...</td>\n",
       "      <td>R1</td>\n",
       "    </tr>\n",
       "    <tr>\n",
       "      <th>1283337938013569025</th>\n",
       "      <td>2020-07-15 09:49:42+00:00</td>\n",
       "      <td>980888591957045248</td>\n",
       "      <td>@matcha_chai After seeing a video that started...</td>\n",
       "      <td>R1</td>\n",
       "    </tr>\n",
       "  </tbody>\n",
       "</table>\n",
       "</div>"
      ],
      "text/plain": [
       "                                   created_at            author_id  \\\n",
       "id                                                                   \n",
       "1283331905346142208 2020-07-15 09:25:44+00:00           1315508486   \n",
       "1283332603676889089 2020-07-15 09:28:30+00:00             20835728   \n",
       "1283335188643078145 2020-07-15 09:38:46+00:00  1149001506684669952   \n",
       "1283336306228031488 2020-07-15 09:43:13+00:00             59222066   \n",
       "1283337938013569025 2020-07-15 09:49:42+00:00   980888591957045248   \n",
       "\n",
       "                                                                  text rumour  \n",
       "id                                                                             \n",
       "1283331905346142208  @matcha_chai was there even a plate on the bac...     R1  \n",
       "1283332603676889089  @matcha_chai Odds are they're DHS.\\n\\n#ThisIsW...     R1  \n",
       "1283335188643078145           @matcha_chai @brianorwhatevr Weird AF!!!     R1  \n",
       "1283336306228031488  @matcha_chai That was so weird and happened so...     R1  \n",
       "1283337938013569025  @matcha_chai After seeing a video that started...     R1  "
      ]
     },
     "execution_count": 14,
     "metadata": {},
     "output_type": "execute_result"
    }
   ],
   "source": [
    "tweets_df = pd.DataFrame.from_records(tweets).set_index('id')\n",
    "tweets_df = tweets_df.dropna(how='any',\n",
    "                             subset=['text','created_at','author_id'])\n",
    "tweets_df = tweets_df[['created_at','author_id','text']]\n",
    "tweets_df['rumour'] = thread_object['id']\n",
    "tweets_df['created_at'] = pd.to_datetime(tweets_df['created_at'])\n",
    "tweets_df = tweets_df.sort_values('created_at')\n",
    "tweets_df.head()"
   ]
  },
  {
   "cell_type": "markdown",
   "metadata": {},
   "source": [
    "### 2.a Clean Text"
   ]
  },
  {
   "cell_type": "code",
   "execution_count": 15,
   "metadata": {},
   "outputs": [
    {
     "data": {
      "text/html": [
       "<div>\n",
       "<style scoped>\n",
       "    .dataframe tbody tr th:only-of-type {\n",
       "        vertical-align: middle;\n",
       "    }\n",
       "\n",
       "    .dataframe tbody tr th {\n",
       "        vertical-align: top;\n",
       "    }\n",
       "\n",
       "    .dataframe thead th {\n",
       "        text-align: right;\n",
       "    }\n",
       "</style>\n",
       "<table border=\"1\" class=\"dataframe\">\n",
       "  <thead>\n",
       "    <tr style=\"text-align: right;\">\n",
       "      <th></th>\n",
       "      <th>created_at</th>\n",
       "      <th>author_id</th>\n",
       "      <th>text</th>\n",
       "      <th>rumour</th>\n",
       "      <th>clean_text</th>\n",
       "      <th>code</th>\n",
       "    </tr>\n",
       "    <tr>\n",
       "      <th>id</th>\n",
       "      <th></th>\n",
       "      <th></th>\n",
       "      <th></th>\n",
       "      <th></th>\n",
       "      <th></th>\n",
       "      <th></th>\n",
       "    </tr>\n",
       "  </thead>\n",
       "  <tbody>\n",
       "    <tr>\n",
       "      <th>1283331905346142208</th>\n",
       "      <td>2020-07-15 09:25:44+00:00</td>\n",
       "      <td>1315508486</td>\n",
       "      <td>@matcha_chai was there even a plate on the bac...</td>\n",
       "      <td>R1</td>\n",
       "      <td>was there even a plate on the back of the car?</td>\n",
       "      <td>-1</td>\n",
       "    </tr>\n",
       "    <tr>\n",
       "      <th>1283332603676889089</th>\n",
       "      <td>2020-07-15 09:28:30+00:00</td>\n",
       "      <td>20835728</td>\n",
       "      <td>@matcha_chai Odds are they're DHS.\\n\\n#ThisIsW...</td>\n",
       "      <td>R1</td>\n",
       "      <td>Odds are they're DHS.\\n\\n#ThisIsWhatFascismLoo...</td>\n",
       "      <td>-1</td>\n",
       "    </tr>\n",
       "    <tr>\n",
       "      <th>1283335188643078145</th>\n",
       "      <td>2020-07-15 09:38:46+00:00</td>\n",
       "      <td>1149001506684669952</td>\n",
       "      <td>@matcha_chai @brianorwhatevr Weird AF!!!</td>\n",
       "      <td>R1</td>\n",
       "      <td>Weird AF!!!</td>\n",
       "      <td>-1</td>\n",
       "    </tr>\n",
       "    <tr>\n",
       "      <th>1283336306228031488</th>\n",
       "      <td>2020-07-15 09:43:13+00:00</td>\n",
       "      <td>59222066</td>\n",
       "      <td>@matcha_chai That was so weird and happened so...</td>\n",
       "      <td>R1</td>\n",
       "      <td>That was so weird and happened so fast. They d...</td>\n",
       "      <td>-1</td>\n",
       "    </tr>\n",
       "    <tr>\n",
       "      <th>1283337938013569025</th>\n",
       "      <td>2020-07-15 09:49:42+00:00</td>\n",
       "      <td>980888591957045248</td>\n",
       "      <td>@matcha_chai After seeing a video that started...</td>\n",
       "      <td>R1</td>\n",
       "      <td>After seeing a video that started from the beg...</td>\n",
       "      <td>-1</td>\n",
       "    </tr>\n",
       "  </tbody>\n",
       "</table>\n",
       "</div>"
      ],
      "text/plain": [
       "                                   created_at            author_id  \\\n",
       "id                                                                   \n",
       "1283331905346142208 2020-07-15 09:25:44+00:00           1315508486   \n",
       "1283332603676889089 2020-07-15 09:28:30+00:00             20835728   \n",
       "1283335188643078145 2020-07-15 09:38:46+00:00  1149001506684669952   \n",
       "1283336306228031488 2020-07-15 09:43:13+00:00             59222066   \n",
       "1283337938013569025 2020-07-15 09:49:42+00:00   980888591957045248   \n",
       "\n",
       "                                                                  text rumour  \\\n",
       "id                                                                              \n",
       "1283331905346142208  @matcha_chai was there even a plate on the bac...     R1   \n",
       "1283332603676889089  @matcha_chai Odds are they're DHS.\\n\\n#ThisIsW...     R1   \n",
       "1283335188643078145           @matcha_chai @brianorwhatevr Weird AF!!!     R1   \n",
       "1283336306228031488  @matcha_chai That was so weird and happened so...     R1   \n",
       "1283337938013569025  @matcha_chai After seeing a video that started...     R1   \n",
       "\n",
       "                                                            clean_text  code  \n",
       "id                                                                            \n",
       "1283331905346142208     was there even a plate on the back of the car?    -1  \n",
       "1283332603676889089  Odds are they're DHS.\\n\\n#ThisIsWhatFascismLoo...    -1  \n",
       "1283335188643078145                                        Weird AF!!!    -1  \n",
       "1283336306228031488  That was so weird and happened so fast. They d...    -1  \n",
       "1283337938013569025  After seeing a video that started from the beg...    -1  "
      ]
     },
     "execution_count": 15,
     "metadata": {},
     "output_type": "execute_result"
    }
   ],
   "source": [
    "# Remove mentions\n",
    "import html\n",
    "import re\n",
    "import ast\n",
    "def clean_text(text):\n",
    "    #unescape html\n",
    "    text = html.unescape(text)\n",
    "    #remove mentions\n",
    "    text = re.sub(\"@[A-Za-z0-9]\\w+\",\"\",text)\n",
    "    return text.strip()\n",
    "\n",
    "tweets_df['clean_text'] = tweets_df['text'].apply(clean_text)\n",
    "tweets_df['code'] = -1\n",
    "tweets_df.head()"
   ]
  },
  {
   "cell_type": "markdown",
   "metadata": {},
   "source": [
    "## 3. To CSV"
   ]
  },
  {
   "cell_type": "code",
   "execution_count": 16,
   "metadata": {},
   "outputs": [],
   "source": [
    "tweets_df = tweets_df[['created_at','rumour','author_id','text','clean_text','code']]\n",
    "tweets_df.to_csv(\"../data/processed/{}.csv\".format(t_name))"
   ]
  },
  {
   "cell_type": "code",
   "execution_count": null,
   "metadata": {},
   "outputs": [],
   "source": []
  }
 ],
 "metadata": {
  "kernelspec": {
   "display_name": "Python (Thesis)",
   "language": "python",
   "name": "python3"
  },
  "language_info": {
   "codemirror_mode": {
    "name": "ipython",
    "version": 3
   },
   "file_extension": ".py",
   "mimetype": "text/x-python",
   "name": "python",
   "nbconvert_exporter": "python",
   "pygments_lexer": "ipython3",
   "version": "3.9.0"
  }
 },
 "nbformat": 4,
 "nbformat_minor": 4
}
